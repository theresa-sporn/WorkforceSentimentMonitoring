{
 "cells": [
  {
   "cell_type": "code",
   "execution_count": 5,
   "metadata": {},
   "outputs": [],
   "source": [
    "import pandas as pd"
   ]
  },
  {
   "cell_type": "code",
   "execution_count": 38,
   "metadata": {},
   "outputs": [
    {
     "ename": "ImportError",
     "evalue": "cannot import name 'Pipeline' from 'sklearn.compose' (/Users/AlephPei/.pyenv/versions/3.7.7/envs/workforce_sentiment/lib/python3.7/site-packages/sklearn/compose/__init__.py)",
     "output_type": "error",
     "traceback": [
      "\u001b[0;31m---------------------------------------------------------------------------\u001b[0m",
      "\u001b[0;31mImportError\u001b[0m                               Traceback (most recent call last)",
      "\u001b[0;32m<ipython-input-38-a5da8952a010>\u001b[0m in \u001b[0;36m<module>\u001b[0;34m\u001b[0m\n\u001b[1;32m      5\u001b[0m \u001b[0;32mfrom\u001b[0m \u001b[0mWorkforceSentimentMonitoring\u001b[0m\u001b[0;34m.\u001b[0m\u001b[0mencoders\u001b[0m \u001b[0;32mimport\u001b[0m \u001b[0mFeatureEngineer\u001b[0m\u001b[0;34m\u001b[0m\u001b[0;34m\u001b[0m\u001b[0m\n\u001b[1;32m      6\u001b[0m \u001b[0;34m\u001b[0m\u001b[0m\n\u001b[0;32m----> 7\u001b[0;31m \u001b[0;32mfrom\u001b[0m \u001b[0msklearn\u001b[0m\u001b[0;34m.\u001b[0m\u001b[0mcompose\u001b[0m \u001b[0;32mimport\u001b[0m \u001b[0mPipeline\u001b[0m\u001b[0;34m\u001b[0m\u001b[0;34m\u001b[0m\u001b[0m\n\u001b[0m",
      "\u001b[0;31mImportError\u001b[0m: cannot import name 'Pipeline' from 'sklearn.compose' (/Users/AlephPei/.pyenv/versions/3.7.7/envs/workforce_sentiment/lib/python3.7/site-packages/sklearn/compose/__init__.py)"
     ]
    }
   ],
   "source": [
    "from WorkforceSentimentMonitoring.data import get_prepaired_data\n",
    "from WorkforceSentimentMonitoring.encoders import Preprocessor\n",
    "from WorkforceSentimentMonitoring.encoders import EmotionScoresExtractor\n",
    "from WorkforceSentimentMonitoring.encoders import CustomMinMaxScaler\n",
    "from WorkforceSentimentMonitoring.encoders import FeatureEngineer\n",
    "\n",
    "from sklearn.p import Pipeline\n"
   ]
  },
  {
   "cell_type": "code",
   "execution_count": 2,
   "metadata": {},
   "outputs": [],
   "source": [
    "%load_ext autoreload\n",
    "%autoreload 2"
   ]
  },
  {
   "cell_type": "code",
   "execution_count": 4,
   "metadata": {},
   "outputs": [
    {
     "name": "stdout",
     "output_type": "stream",
     "text": [
      "Reading data...\n",
      "Merging data into a single DataFrame...\n",
      "Dropping initial text columns...\n",
      "Identifying entries in other languages...\n"
     ]
    },
    {
     "data": {
      "application/vnd.jupyter.widget-view+json": {
       "model_id": "d9a17439c30142be884349521beb87ac",
       "version_major": 2,
       "version_minor": 0
      },
      "text/plain": [
       "HBox(children=(HTML(value='Dask Apply'), FloatProgress(value=0.0, max=8.0), HTML(value='')))"
      ]
     },
     "metadata": {},
     "output_type": "display_data"
    },
    {
     "name": "stdout",
     "output_type": "stream",
     "text": [
      "\n",
      "Drop 431 entries? [y] / n\n",
      "\n",
      "Dropping 431 entries...\n",
      "Splitting train and test...\n",
      "Encoding targets...\n",
      "Done!\n"
     ]
    }
   ],
   "source": [
    "X_train, X_test, y_train, y_test = get_prepaired_data()"
   ]
  },
  {
   "cell_type": "code",
   "execution_count": 9,
   "metadata": {},
   "outputs": [],
   "source": [
    "preprocessor = Preprocessor()\n",
    "X_train = preprocessor.fit_transform(X_train)\n",
    "X_test = preprocessor.transform(X_test)"
   ]
  },
  {
   "cell_type": "code",
   "execution_count": 13,
   "metadata": {},
   "outputs": [
    {
     "name": "stderr",
     "output_type": "stream",
     "text": [
      "100%|██████████| 36668/36668 [01:02<00:00, 589.17it/s]\n",
      "100%|██████████| 15716/15716 [00:26<00:00, 593.07it/s]\n"
     ]
    }
   ],
   "source": [
    "emo_extractor = EmotionScoresExtractor()\n",
    "X_train = emo_extractor.fit_transform(X_train)\n",
    "emo_extractor = EmotionScoresExtractor()\n",
    "X_test = emo_extractor.fit_transform(X_test)"
   ]
  },
  {
   "cell_type": "code",
   "execution_count": 16,
   "metadata": {},
   "outputs": [],
   "source": [
    "scaler = CustomMinMaxScaler()\n",
    "X_train = scaler.fit_transform(X_train)\n",
    "X_test = scaler.transform(X_test)"
   ]
  },
  {
   "cell_type": "code",
   "execution_count": 36,
   "metadata": {},
   "outputs": [],
   "source": [
    "engineer = FeatureEngineer()\n",
    "X_train = engineer.fit_transform(X_train)"
   ]
  },
  {
   "cell_type": "code",
   "execution_count": 37,
   "metadata": {},
   "outputs": [
    {
     "data": {
      "text/html": [
       "<div>\n",
       "<style scoped>\n",
       "    .dataframe tbody tr th:only-of-type {\n",
       "        vertical-align: middle;\n",
       "    }\n",
       "\n",
       "    .dataframe tbody tr th {\n",
       "        vertical-align: top;\n",
       "    }\n",
       "\n",
       "    .dataframe thead th {\n",
       "        text-align: right;\n",
       "    }\n",
       "</style>\n",
       "<table border=\"1\" class=\"dataframe\">\n",
       "  <thead>\n",
       "    <tr style=\"text-align: right;\">\n",
       "      <th></th>\n",
       "      <th>review</th>\n",
       "      <th>length</th>\n",
       "      <th>anger_score</th>\n",
       "      <th>anticipation_score</th>\n",
       "      <th>disgust_score</th>\n",
       "      <th>fear_score</th>\n",
       "      <th>joy_score</th>\n",
       "      <th>sadness_score</th>\n",
       "      <th>surprise_score</th>\n",
       "      <th>trust_score</th>\n",
       "      <th>subjectivity_review</th>\n",
       "      <th>polarity_review</th>\n",
       "    </tr>\n",
       "  </thead>\n",
       "  <tbody>\n",
       "    <tr>\n",
       "      <th>0</th>\n",
       "      <td>review at apple you will meet some of the most...</td>\n",
       "      <td>0.007648</td>\n",
       "      <td>0.000000</td>\n",
       "      <td>0.000000</td>\n",
       "      <td>0.000000</td>\n",
       "      <td>0.000000</td>\n",
       "      <td>0.092231</td>\n",
       "      <td>0.000000</td>\n",
       "      <td>0.237910</td>\n",
       "      <td>0.000000</td>\n",
       "      <td>0.611310</td>\n",
       "      <td>0.385714</td>\n",
       "    </tr>\n",
       "    <tr>\n",
       "      <th>1</th>\n",
       "      <td>amazing best company in the world there are ab...</td>\n",
       "      <td>0.001055</td>\n",
       "      <td>0.000000</td>\n",
       "      <td>0.000000</td>\n",
       "      <td>0.000000</td>\n",
       "      <td>0.000000</td>\n",
       "      <td>0.000000</td>\n",
       "      <td>0.000000</td>\n",
       "      <td>0.000000</td>\n",
       "      <td>0.000000</td>\n",
       "      <td>0.700000</td>\n",
       "      <td>0.600000</td>\n",
       "    </tr>\n",
       "    <tr>\n",
       "      <th>2</th>\n",
       "      <td>senior manager operation smart people interest...</td>\n",
       "      <td>0.021361</td>\n",
       "      <td>0.000000</td>\n",
       "      <td>0.201113</td>\n",
       "      <td>0.057583</td>\n",
       "      <td>0.083206</td>\n",
       "      <td>0.150040</td>\n",
       "      <td>0.036093</td>\n",
       "      <td>0.066779</td>\n",
       "      <td>0.164266</td>\n",
       "      <td>0.540377</td>\n",
       "      <td>0.174802</td>\n",
       "    </tr>\n",
       "    <tr>\n",
       "      <th>3</th>\n",
       "      <td>pay well but they own you the pay is good you ...</td>\n",
       "      <td>0.010285</td>\n",
       "      <td>0.000000</td>\n",
       "      <td>0.464431</td>\n",
       "      <td>0.000000</td>\n",
       "      <td>0.000000</td>\n",
       "      <td>0.237933</td>\n",
       "      <td>0.046479</td>\n",
       "      <td>0.145582</td>\n",
       "      <td>0.107076</td>\n",
       "      <td>0.534776</td>\n",
       "      <td>0.247258</td>\n",
       "    </tr>\n",
       "    <tr>\n",
       "      <th>4</th>\n",
       "      <td>great pay benefit but the pay for an entry lev...</td>\n",
       "      <td>0.033755</td>\n",
       "      <td>0.122394</td>\n",
       "      <td>0.086545</td>\n",
       "      <td>0.000000</td>\n",
       "      <td>0.053487</td>\n",
       "      <td>0.121497</td>\n",
       "      <td>0.137045</td>\n",
       "      <td>0.008245</td>\n",
       "      <td>0.288837</td>\n",
       "      <td>0.524580</td>\n",
       "      <td>0.231863</td>\n",
       "    </tr>\n",
       "    <tr>\n",
       "      <th>...</th>\n",
       "      <td>...</td>\n",
       "      <td>...</td>\n",
       "      <td>...</td>\n",
       "      <td>...</td>\n",
       "      <td>...</td>\n",
       "      <td>...</td>\n",
       "      <td>...</td>\n",
       "      <td>...</td>\n",
       "      <td>...</td>\n",
       "      <td>...</td>\n",
       "      <td>...</td>\n",
       "      <td>...</td>\n",
       "    </tr>\n",
       "    <tr>\n",
       "      <th>36663</th>\n",
       "      <td>at home advisor love the people management is ...</td>\n",
       "      <td>0.006857</td>\n",
       "      <td>0.013411</td>\n",
       "      <td>0.000000</td>\n",
       "      <td>0.000000</td>\n",
       "      <td>0.074641</td>\n",
       "      <td>0.485499</td>\n",
       "      <td>0.000000</td>\n",
       "      <td>0.000000</td>\n",
       "      <td>0.178611</td>\n",
       "      <td>0.783333</td>\n",
       "      <td>0.266667</td>\n",
       "    </tr>\n",
       "    <tr>\n",
       "      <th>36664</th>\n",
       "      <td>need longer break and lunch good pay benefit a...</td>\n",
       "      <td>0.003692</td>\n",
       "      <td>0.000000</td>\n",
       "      <td>0.167541</td>\n",
       "      <td>0.000000</td>\n",
       "      <td>0.000000</td>\n",
       "      <td>0.144773</td>\n",
       "      <td>0.000000</td>\n",
       "      <td>0.227597</td>\n",
       "      <td>0.090964</td>\n",
       "      <td>0.433333</td>\n",
       "      <td>0.216667</td>\n",
       "    </tr>\n",
       "    <tr>\n",
       "      <th>36665</th>\n",
       "      <td>senior escalation engineer amazing package mer...</td>\n",
       "      <td>0.005538</td>\n",
       "      <td>0.000000</td>\n",
       "      <td>0.303007</td>\n",
       "      <td>0.000000</td>\n",
       "      <td>0.000000</td>\n",
       "      <td>0.368046</td>\n",
       "      <td>0.029116</td>\n",
       "      <td>0.112620</td>\n",
       "      <td>0.365320</td>\n",
       "      <td>0.650000</td>\n",
       "      <td>0.150000</td>\n",
       "    </tr>\n",
       "    <tr>\n",
       "      <th>36666</th>\n",
       "      <td>fine get paid job security ok all about fast n...</td>\n",
       "      <td>0.003692</td>\n",
       "      <td>0.041655</td>\n",
       "      <td>0.122823</td>\n",
       "      <td>0.018566</td>\n",
       "      <td>0.022375</td>\n",
       "      <td>0.116205</td>\n",
       "      <td>0.018090</td>\n",
       "      <td>0.074265</td>\n",
       "      <td>0.306324</td>\n",
       "      <td>0.475000</td>\n",
       "      <td>0.329167</td>\n",
       "    </tr>\n",
       "    <tr>\n",
       "      <th>36667</th>\n",
       "      <td>operation technician short work week and hr da...</td>\n",
       "      <td>0.010021</td>\n",
       "      <td>0.000000</td>\n",
       "      <td>0.224067</td>\n",
       "      <td>0.000000</td>\n",
       "      <td>0.047338</td>\n",
       "      <td>0.379442</td>\n",
       "      <td>0.138011</td>\n",
       "      <td>0.031023</td>\n",
       "      <td>0.157968</td>\n",
       "      <td>0.483889</td>\n",
       "      <td>0.177778</td>\n",
       "    </tr>\n",
       "  </tbody>\n",
       "</table>\n",
       "<p>36668 rows × 12 columns</p>\n",
       "</div>"
      ],
      "text/plain": [
       "                                                  review    length  anger_score  ...  trust_score  subjectivity_review  polarity_review\n",
       "0      review at apple you will meet some of the most...  0.007648     0.000000  ...     0.000000             0.611310         0.385714\n",
       "1      amazing best company in the world there are ab...  0.001055     0.000000  ...     0.000000             0.700000         0.600000\n",
       "2      senior manager operation smart people interest...  0.021361     0.000000  ...     0.164266             0.540377         0.174802\n",
       "3      pay well but they own you the pay is good you ...  0.010285     0.000000  ...     0.107076             0.534776         0.247258\n",
       "4      great pay benefit but the pay for an entry lev...  0.033755     0.122394  ...     0.288837             0.524580         0.231863\n",
       "...                                                  ...       ...          ...  ...          ...                  ...              ...\n",
       "36663  at home advisor love the people management is ...  0.006857     0.013411  ...     0.178611             0.783333         0.266667\n",
       "36664  need longer break and lunch good pay benefit a...  0.003692     0.000000  ...     0.090964             0.433333         0.216667\n",
       "36665  senior escalation engineer amazing package mer...  0.005538     0.000000  ...     0.365320             0.650000         0.150000\n",
       "36666  fine get paid job security ok all about fast n...  0.003692     0.041655  ...     0.306324             0.475000         0.329167\n",
       "36667  operation technician short work week and hr da...  0.010021     0.000000  ...     0.157968             0.483889         0.177778\n",
       "\n",
       "[36668 rows x 12 columns]"
      ]
     },
     "execution_count": 37,
     "metadata": {},
     "output_type": "execute_result"
    }
   ],
   "source": [
    "X_train"
   ]
  },
  {
   "cell_type": "code",
   "execution_count": 34,
   "metadata": {},
   "outputs": [],
   "source": [
    "pipeline = Pipeline([\n",
    "    ('preprocessor', Preprocessor()),\n",
    "    ('emo_extractor', EmotionScoresExtractor()),\n",
    "    ('scaler', CustomMinMaxScaler()),\n",
    "    ('engineer', FeatureEngineer())\n",
    "])\n"
   ]
  }
 ],
 "metadata": {
  "kernelspec": {
   "display_name": "Python 3",
   "language": "python",
   "name": "python3"
  },
  "language_info": {
   "codemirror_mode": {
    "name": "ipython",
    "version": 3
   },
   "file_extension": ".py",
   "mimetype": "text/x-python",
   "name": "python",
   "nbconvert_exporter": "python",
   "pygments_lexer": "ipython3",
   "version": "3.7.7"
  },
  "toc": {
   "base_numbering": 1,
   "nav_menu": {},
   "number_sections": true,
   "sideBar": true,
   "skip_h1_title": false,
   "title_cell": "Table of Contents",
   "title_sidebar": "Contents",
   "toc_cell": false,
   "toc_position": {},
   "toc_section_display": true,
   "toc_window_display": false
  }
 },
 "nbformat": 4,
 "nbformat_minor": 4
}
