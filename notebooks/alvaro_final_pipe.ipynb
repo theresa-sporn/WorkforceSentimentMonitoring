{
 "cells": [
  {
   "cell_type": "code",
   "execution_count": 94,
   "metadata": {},
   "outputs": [],
   "source": [
    "import pandas as pd\n",
    "from tqdm import tqdm\n",
    "from sklearn.compose import ColumnTransformer\n",
    "from sklearn.feature_extraction.text import TfidfVectorizer\n",
    "from sklearn.naive_bayes import MultinomialNB\n",
    "from scipy.stats import loguniform, uniform\n",
    "from sklearn.model_selection import RandomizedSearchCV\n",
    "import os"
   ]
  },
  {
   "cell_type": "code",
   "execution_count": 95,
   "metadata": {},
   "outputs": [],
   "source": [
    "from WorkforceSentimentMonitoring.data import get_prepaired_data\n",
    "from WorkforceSentimentMonitoring.encoders import Preprocessor\n",
    "from WorkforceSentimentMonitoring.encoders import EmotionScoresExtractor\n",
    "from WorkforceSentimentMonitoring.encoders import CustomMinMaxScaler\n",
    "from WorkforceSentimentMonitoring.encoders import FeatureEngineer\n",
    "\n",
    "from sklearn.pipeline import Pipeline\n",
    "import joblib"
   ]
  },
  {
   "cell_type": "code",
   "execution_count": 2,
   "metadata": {},
   "outputs": [],
   "source": [
    "%load_ext autoreload\n",
    "%autoreload 2"
   ]
  },
  {
   "cell_type": "code",
   "execution_count": 4,
   "metadata": {},
   "outputs": [
    {
     "name": "stdout",
     "output_type": "stream",
     "text": [
      "Reading data...\n",
      "Merging data into a single DataFrame...\n",
      "Dropping initial text columns...\n",
      "Identifying entries in other languages...\n"
     ]
    },
    {
     "data": {
      "application/vnd.jupyter.widget-view+json": {
       "model_id": "d9a17439c30142be884349521beb87ac",
       "version_major": 2,
       "version_minor": 0
      },
      "text/plain": [
       "HBox(children=(HTML(value='Dask Apply'), FloatProgress(value=0.0, max=8.0), HTML(value='')))"
      ]
     },
     "metadata": {},
     "output_type": "display_data"
    },
    {
     "name": "stdout",
     "output_type": "stream",
     "text": [
      "\n",
      "Drop 431 entries? [y] / n\n",
      "\n",
      "Dropping 431 entries...\n",
      "Splitting train and test...\n",
      "Encoding targets...\n",
      "Done!\n"
     ]
    }
   ],
   "source": [
    "X_train, X_test, y_train, y_test = get_prepaired_data()"
   ]
  },
  {
   "cell_type": "code",
   "execution_count": 9,
   "metadata": {},
   "outputs": [],
   "source": [
    "preprocessor = Preprocessor()\n",
    "X_train = preprocessor.fit_transform(X_train)\n",
    "X_test = preprocessor.transform(X_test)"
   ]
  },
  {
   "cell_type": "code",
   "execution_count": 13,
   "metadata": {},
   "outputs": [
    {
     "name": "stderr",
     "output_type": "stream",
     "text": [
      "100%|██████████| 36668/36668 [01:02<00:00, 589.17it/s]\n",
      "100%|██████████| 15716/15716 [00:26<00:00, 593.07it/s]\n"
     ]
    }
   ],
   "source": [
    "emo_extractor = EmotionScoresExtractor()\n",
    "X_train = emo_extractor.fit_transform(X_train)\n",
    "emo_extractor = EmotionScoresExtractor()\n",
    "X_test = emo_extractor.fit_transform(X_test)"
   ]
  },
  {
   "cell_type": "code",
   "execution_count": 16,
   "metadata": {},
   "outputs": [],
   "source": [
    "scaler = CustomMinMaxScaler()\n",
    "X_train = scaler.fit_transform(X_train)\n",
    "X_test = scaler.transform(X_test)"
   ]
  },
  {
   "cell_type": "code",
   "execution_count": 36,
   "metadata": {},
   "outputs": [],
   "source": [
    "engineer = FeatureEngineer()\n",
    "X_train = engineer.fit_transform(X_train)"
   ]
  },
  {
   "cell_type": "code",
   "execution_count": 37,
   "metadata": {},
   "outputs": [
    {
     "data": {
      "text/html": [
       "<div>\n",
       "<style scoped>\n",
       "    .dataframe tbody tr th:only-of-type {\n",
       "        vertical-align: middle;\n",
       "    }\n",
       "\n",
       "    .dataframe tbody tr th {\n",
       "        vertical-align: top;\n",
       "    }\n",
       "\n",
       "    .dataframe thead th {\n",
       "        text-align: right;\n",
       "    }\n",
       "</style>\n",
       "<table border=\"1\" class=\"dataframe\">\n",
       "  <thead>\n",
       "    <tr style=\"text-align: right;\">\n",
       "      <th></th>\n",
       "      <th>review</th>\n",
       "      <th>length</th>\n",
       "      <th>anger_score</th>\n",
       "      <th>anticipation_score</th>\n",
       "      <th>disgust_score</th>\n",
       "      <th>fear_score</th>\n",
       "      <th>joy_score</th>\n",
       "      <th>sadness_score</th>\n",
       "      <th>surprise_score</th>\n",
       "      <th>trust_score</th>\n",
       "      <th>subjectivity_review</th>\n",
       "      <th>polarity_review</th>\n",
       "    </tr>\n",
       "  </thead>\n",
       "  <tbody>\n",
       "    <tr>\n",
       "      <th>0</th>\n",
       "      <td>review at apple you will meet some of the most...</td>\n",
       "      <td>0.007648</td>\n",
       "      <td>0.000000</td>\n",
       "      <td>0.000000</td>\n",
       "      <td>0.000000</td>\n",
       "      <td>0.000000</td>\n",
       "      <td>0.092231</td>\n",
       "      <td>0.000000</td>\n",
       "      <td>0.237910</td>\n",
       "      <td>0.000000</td>\n",
       "      <td>0.611310</td>\n",
       "      <td>0.385714</td>\n",
       "    </tr>\n",
       "    <tr>\n",
       "      <th>1</th>\n",
       "      <td>amazing best company in the world there are ab...</td>\n",
       "      <td>0.001055</td>\n",
       "      <td>0.000000</td>\n",
       "      <td>0.000000</td>\n",
       "      <td>0.000000</td>\n",
       "      <td>0.000000</td>\n",
       "      <td>0.000000</td>\n",
       "      <td>0.000000</td>\n",
       "      <td>0.000000</td>\n",
       "      <td>0.000000</td>\n",
       "      <td>0.700000</td>\n",
       "      <td>0.600000</td>\n",
       "    </tr>\n",
       "    <tr>\n",
       "      <th>2</th>\n",
       "      <td>senior manager operation smart people interest...</td>\n",
       "      <td>0.021361</td>\n",
       "      <td>0.000000</td>\n",
       "      <td>0.201113</td>\n",
       "      <td>0.057583</td>\n",
       "      <td>0.083206</td>\n",
       "      <td>0.150040</td>\n",
       "      <td>0.036093</td>\n",
       "      <td>0.066779</td>\n",
       "      <td>0.164266</td>\n",
       "      <td>0.540377</td>\n",
       "      <td>0.174802</td>\n",
       "    </tr>\n",
       "    <tr>\n",
       "      <th>3</th>\n",
       "      <td>pay well but they own you the pay is good you ...</td>\n",
       "      <td>0.010285</td>\n",
       "      <td>0.000000</td>\n",
       "      <td>0.464431</td>\n",
       "      <td>0.000000</td>\n",
       "      <td>0.000000</td>\n",
       "      <td>0.237933</td>\n",
       "      <td>0.046479</td>\n",
       "      <td>0.145582</td>\n",
       "      <td>0.107076</td>\n",
       "      <td>0.534776</td>\n",
       "      <td>0.247258</td>\n",
       "    </tr>\n",
       "    <tr>\n",
       "      <th>4</th>\n",
       "      <td>great pay benefit but the pay for an entry lev...</td>\n",
       "      <td>0.033755</td>\n",
       "      <td>0.122394</td>\n",
       "      <td>0.086545</td>\n",
       "      <td>0.000000</td>\n",
       "      <td>0.053487</td>\n",
       "      <td>0.121497</td>\n",
       "      <td>0.137045</td>\n",
       "      <td>0.008245</td>\n",
       "      <td>0.288837</td>\n",
       "      <td>0.524580</td>\n",
       "      <td>0.231863</td>\n",
       "    </tr>\n",
       "    <tr>\n",
       "      <th>...</th>\n",
       "      <td>...</td>\n",
       "      <td>...</td>\n",
       "      <td>...</td>\n",
       "      <td>...</td>\n",
       "      <td>...</td>\n",
       "      <td>...</td>\n",
       "      <td>...</td>\n",
       "      <td>...</td>\n",
       "      <td>...</td>\n",
       "      <td>...</td>\n",
       "      <td>...</td>\n",
       "      <td>...</td>\n",
       "    </tr>\n",
       "    <tr>\n",
       "      <th>36663</th>\n",
       "      <td>at home advisor love the people management is ...</td>\n",
       "      <td>0.006857</td>\n",
       "      <td>0.013411</td>\n",
       "      <td>0.000000</td>\n",
       "      <td>0.000000</td>\n",
       "      <td>0.074641</td>\n",
       "      <td>0.485499</td>\n",
       "      <td>0.000000</td>\n",
       "      <td>0.000000</td>\n",
       "      <td>0.178611</td>\n",
       "      <td>0.783333</td>\n",
       "      <td>0.266667</td>\n",
       "    </tr>\n",
       "    <tr>\n",
       "      <th>36664</th>\n",
       "      <td>need longer break and lunch good pay benefit a...</td>\n",
       "      <td>0.003692</td>\n",
       "      <td>0.000000</td>\n",
       "      <td>0.167541</td>\n",
       "      <td>0.000000</td>\n",
       "      <td>0.000000</td>\n",
       "      <td>0.144773</td>\n",
       "      <td>0.000000</td>\n",
       "      <td>0.227597</td>\n",
       "      <td>0.090964</td>\n",
       "      <td>0.433333</td>\n",
       "      <td>0.216667</td>\n",
       "    </tr>\n",
       "    <tr>\n",
       "      <th>36665</th>\n",
       "      <td>senior escalation engineer amazing package mer...</td>\n",
       "      <td>0.005538</td>\n",
       "      <td>0.000000</td>\n",
       "      <td>0.303007</td>\n",
       "      <td>0.000000</td>\n",
       "      <td>0.000000</td>\n",
       "      <td>0.368046</td>\n",
       "      <td>0.029116</td>\n",
       "      <td>0.112620</td>\n",
       "      <td>0.365320</td>\n",
       "      <td>0.650000</td>\n",
       "      <td>0.150000</td>\n",
       "    </tr>\n",
       "    <tr>\n",
       "      <th>36666</th>\n",
       "      <td>fine get paid job security ok all about fast n...</td>\n",
       "      <td>0.003692</td>\n",
       "      <td>0.041655</td>\n",
       "      <td>0.122823</td>\n",
       "      <td>0.018566</td>\n",
       "      <td>0.022375</td>\n",
       "      <td>0.116205</td>\n",
       "      <td>0.018090</td>\n",
       "      <td>0.074265</td>\n",
       "      <td>0.306324</td>\n",
       "      <td>0.475000</td>\n",
       "      <td>0.329167</td>\n",
       "    </tr>\n",
       "    <tr>\n",
       "      <th>36667</th>\n",
       "      <td>operation technician short work week and hr da...</td>\n",
       "      <td>0.010021</td>\n",
       "      <td>0.000000</td>\n",
       "      <td>0.224067</td>\n",
       "      <td>0.000000</td>\n",
       "      <td>0.047338</td>\n",
       "      <td>0.379442</td>\n",
       "      <td>0.138011</td>\n",
       "      <td>0.031023</td>\n",
       "      <td>0.157968</td>\n",
       "      <td>0.483889</td>\n",
       "      <td>0.177778</td>\n",
       "    </tr>\n",
       "  </tbody>\n",
       "</table>\n",
       "<p>36668 rows × 12 columns</p>\n",
       "</div>"
      ],
      "text/plain": [
       "                                                  review    length  anger_score  ...  trust_score  subjectivity_review  polarity_review\n",
       "0      review at apple you will meet some of the most...  0.007648     0.000000  ...     0.000000             0.611310         0.385714\n",
       "1      amazing best company in the world there are ab...  0.001055     0.000000  ...     0.000000             0.700000         0.600000\n",
       "2      senior manager operation smart people interest...  0.021361     0.000000  ...     0.164266             0.540377         0.174802\n",
       "3      pay well but they own you the pay is good you ...  0.010285     0.000000  ...     0.107076             0.534776         0.247258\n",
       "4      great pay benefit but the pay for an entry lev...  0.033755     0.122394  ...     0.288837             0.524580         0.231863\n",
       "...                                                  ...       ...          ...  ...          ...                  ...              ...\n",
       "36663  at home advisor love the people management is ...  0.006857     0.013411  ...     0.178611             0.783333         0.266667\n",
       "36664  need longer break and lunch good pay benefit a...  0.003692     0.000000  ...     0.090964             0.433333         0.216667\n",
       "36665  senior escalation engineer amazing package mer...  0.005538     0.000000  ...     0.365320             0.650000         0.150000\n",
       "36666  fine get paid job security ok all about fast n...  0.003692     0.041655  ...     0.306324             0.475000         0.329167\n",
       "36667  operation technician short work week and hr da...  0.010021     0.000000  ...     0.157968             0.483889         0.177778\n",
       "\n",
       "[36668 rows x 12 columns]"
      ]
     },
     "execution_count": 37,
     "metadata": {},
     "output_type": "execute_result"
    }
   ],
   "source": [
    "X_train"
   ]
  },
  {
   "cell_type": "code",
   "execution_count": 100,
   "metadata": {},
   "outputs": [
    {
     "data": {
      "text/plain": [
       "['final_pipe.joblib']"
      ]
     },
     "execution_count": 100,
     "metadata": {},
     "output_type": "execute_result"
    }
   ],
   "source": [
    "pipeline = Pipeline([\n",
    "    ('preprocessor', Preprocessor()),\n",
    "    ('emo_extractor', EmotionScoresExtractor()),\n",
    "    ('scaler', CustomMinMaxScaler()),\n",
    "    ('engineer', FeatureEngineer())\n",
    "])\n",
    "joblib.dump(pipeline, 'final_pipe.joblib')"
   ]
  },
  {
   "cell_type": "code",
   "execution_count": 42,
   "metadata": {},
   "outputs": [],
   "source": [
    "from WorkforceSentimentMonitoring.trainer import MultiNBFeaturesExtractor"
   ]
  },
  {
   "cell_type": "code",
   "execution_count": 43,
   "metadata": {},
   "outputs": [
    {
     "name": "stderr",
     "output_type": "stream",
     "text": [
      "/Users/AlephPei/.pyenv/versions/3.7.7/envs/workforce_sentiment/lib/python3.7/site-packages/sklearn/compose/_column_transformer.py:440: FutureWarning: Given feature/column names or counts do not match the ones for the data given during fit. This will fail from v0.24.\n",
      "  FutureWarning)\n"
     ]
    }
   ],
   "source": [
    "nb_extractor = MultiNBFeaturesExtractor()\n",
    "tmp = nb_extractor.fit_transform(X_train)"
   ]
  },
  {
   "cell_type": "code",
   "execution_count": 72,
   "metadata": {},
   "outputs": [
    {
     "data": {
      "text/html": [
       "<div>\n",
       "<style scoped>\n",
       "    .dataframe tbody tr th:only-of-type {\n",
       "        vertical-align: middle;\n",
       "    }\n",
       "\n",
       "    .dataframe tbody tr th {\n",
       "        vertical-align: top;\n",
       "    }\n",
       "\n",
       "    .dataframe thead th {\n",
       "        text-align: right;\n",
       "    }\n",
       "</style>\n",
       "<table border=\"1\" class=\"dataframe\">\n",
       "  <thead>\n",
       "    <tr style=\"text-align: right;\">\n",
       "      <th></th>\n",
       "      <th>review</th>\n",
       "      <th>length</th>\n",
       "      <th>anger_score</th>\n",
       "      <th>anticipation_score</th>\n",
       "      <th>disgust_score</th>\n",
       "      <th>fear_score</th>\n",
       "      <th>joy_score</th>\n",
       "      <th>sadness_score</th>\n",
       "      <th>surprise_score</th>\n",
       "      <th>trust_score</th>\n",
       "      <th>subjectivity_review</th>\n",
       "      <th>polarity_review</th>\n",
       "      <th>work-balance_nb</th>\n",
       "      <th>culture-values_nb</th>\n",
       "      <th>career-opportunities_nb</th>\n",
       "      <th>comp-benefits_nb</th>\n",
       "      <th>senior-mgmt_nb</th>\n",
       "      <th>overall_nb</th>\n",
       "    </tr>\n",
       "  </thead>\n",
       "  <tbody>\n",
       "    <tr>\n",
       "      <th>0</th>\n",
       "      <td>review at apple you will meet some of the most...</td>\n",
       "      <td>0.007648</td>\n",
       "      <td>0.000000</td>\n",
       "      <td>0.000000</td>\n",
       "      <td>0.000000</td>\n",
       "      <td>0.000000</td>\n",
       "      <td>0.092231</td>\n",
       "      <td>0.000000</td>\n",
       "      <td>0.237910</td>\n",
       "      <td>0.000000</td>\n",
       "      <td>0.611310</td>\n",
       "      <td>0.385714</td>\n",
       "      <td>0</td>\n",
       "      <td>1</td>\n",
       "      <td>1</td>\n",
       "      <td>1</td>\n",
       "      <td>0</td>\n",
       "      <td>0</td>\n",
       "    </tr>\n",
       "    <tr>\n",
       "      <th>1</th>\n",
       "      <td>amazing best company in the world there are ab...</td>\n",
       "      <td>0.001055</td>\n",
       "      <td>0.000000</td>\n",
       "      <td>0.000000</td>\n",
       "      <td>0.000000</td>\n",
       "      <td>0.000000</td>\n",
       "      <td>0.000000</td>\n",
       "      <td>0.000000</td>\n",
       "      <td>0.000000</td>\n",
       "      <td>0.000000</td>\n",
       "      <td>0.700000</td>\n",
       "      <td>0.600000</td>\n",
       "      <td>1</td>\n",
       "      <td>1</td>\n",
       "      <td>1</td>\n",
       "      <td>1</td>\n",
       "      <td>1</td>\n",
       "      <td>1</td>\n",
       "    </tr>\n",
       "    <tr>\n",
       "      <th>2</th>\n",
       "      <td>senior manager operation smart people interest...</td>\n",
       "      <td>0.021361</td>\n",
       "      <td>0.000000</td>\n",
       "      <td>0.201113</td>\n",
       "      <td>0.057583</td>\n",
       "      <td>0.083206</td>\n",
       "      <td>0.150040</td>\n",
       "      <td>0.036093</td>\n",
       "      <td>0.066779</td>\n",
       "      <td>0.164266</td>\n",
       "      <td>0.540377</td>\n",
       "      <td>0.174802</td>\n",
       "      <td>1</td>\n",
       "      <td>1</td>\n",
       "      <td>1</td>\n",
       "      <td>1</td>\n",
       "      <td>1</td>\n",
       "      <td>1</td>\n",
       "    </tr>\n",
       "    <tr>\n",
       "      <th>3</th>\n",
       "      <td>pay well but they own you the pay is good you ...</td>\n",
       "      <td>0.010285</td>\n",
       "      <td>0.000000</td>\n",
       "      <td>0.464431</td>\n",
       "      <td>0.000000</td>\n",
       "      <td>0.000000</td>\n",
       "      <td>0.237933</td>\n",
       "      <td>0.046479</td>\n",
       "      <td>0.145582</td>\n",
       "      <td>0.107076</td>\n",
       "      <td>0.534776</td>\n",
       "      <td>0.247258</td>\n",
       "      <td>0</td>\n",
       "      <td>1</td>\n",
       "      <td>1</td>\n",
       "      <td>1</td>\n",
       "      <td>1</td>\n",
       "      <td>1</td>\n",
       "    </tr>\n",
       "    <tr>\n",
       "      <th>4</th>\n",
       "      <td>great pay benefit but the pay for an entry lev...</td>\n",
       "      <td>0.033755</td>\n",
       "      <td>0.122394</td>\n",
       "      <td>0.086545</td>\n",
       "      <td>0.000000</td>\n",
       "      <td>0.053487</td>\n",
       "      <td>0.121497</td>\n",
       "      <td>0.137045</td>\n",
       "      <td>0.008245</td>\n",
       "      <td>0.288837</td>\n",
       "      <td>0.524580</td>\n",
       "      <td>0.231863</td>\n",
       "      <td>0</td>\n",
       "      <td>0</td>\n",
       "      <td>0</td>\n",
       "      <td>1</td>\n",
       "      <td>0</td>\n",
       "      <td>0</td>\n",
       "    </tr>\n",
       "    <tr>\n",
       "      <th>...</th>\n",
       "      <td>...</td>\n",
       "      <td>...</td>\n",
       "      <td>...</td>\n",
       "      <td>...</td>\n",
       "      <td>...</td>\n",
       "      <td>...</td>\n",
       "      <td>...</td>\n",
       "      <td>...</td>\n",
       "      <td>...</td>\n",
       "      <td>...</td>\n",
       "      <td>...</td>\n",
       "      <td>...</td>\n",
       "      <td>...</td>\n",
       "      <td>...</td>\n",
       "      <td>...</td>\n",
       "      <td>...</td>\n",
       "      <td>...</td>\n",
       "      <td>...</td>\n",
       "    </tr>\n",
       "    <tr>\n",
       "      <th>36663</th>\n",
       "      <td>at home advisor love the people management is ...</td>\n",
       "      <td>0.006857</td>\n",
       "      <td>0.013411</td>\n",
       "      <td>0.000000</td>\n",
       "      <td>0.000000</td>\n",
       "      <td>0.074641</td>\n",
       "      <td>0.485499</td>\n",
       "      <td>0.000000</td>\n",
       "      <td>0.000000</td>\n",
       "      <td>0.178611</td>\n",
       "      <td>0.783333</td>\n",
       "      <td>0.266667</td>\n",
       "      <td>0</td>\n",
       "      <td>1</td>\n",
       "      <td>1</td>\n",
       "      <td>1</td>\n",
       "      <td>1</td>\n",
       "      <td>1</td>\n",
       "    </tr>\n",
       "    <tr>\n",
       "      <th>36664</th>\n",
       "      <td>need longer break and lunch good pay benefit a...</td>\n",
       "      <td>0.003692</td>\n",
       "      <td>0.000000</td>\n",
       "      <td>0.167541</td>\n",
       "      <td>0.000000</td>\n",
       "      <td>0.000000</td>\n",
       "      <td>0.144773</td>\n",
       "      <td>0.000000</td>\n",
       "      <td>0.227597</td>\n",
       "      <td>0.090964</td>\n",
       "      <td>0.433333</td>\n",
       "      <td>0.216667</td>\n",
       "      <td>0</td>\n",
       "      <td>0</td>\n",
       "      <td>0</td>\n",
       "      <td>0</td>\n",
       "      <td>0</td>\n",
       "      <td>0</td>\n",
       "    </tr>\n",
       "    <tr>\n",
       "      <th>36665</th>\n",
       "      <td>senior escalation engineer amazing package mer...</td>\n",
       "      <td>0.005538</td>\n",
       "      <td>0.000000</td>\n",
       "      <td>0.303007</td>\n",
       "      <td>0.000000</td>\n",
       "      <td>0.000000</td>\n",
       "      <td>0.368046</td>\n",
       "      <td>0.029116</td>\n",
       "      <td>0.112620</td>\n",
       "      <td>0.365320</td>\n",
       "      <td>0.650000</td>\n",
       "      <td>0.150000</td>\n",
       "      <td>0</td>\n",
       "      <td>1</td>\n",
       "      <td>1</td>\n",
       "      <td>1</td>\n",
       "      <td>1</td>\n",
       "      <td>0</td>\n",
       "    </tr>\n",
       "    <tr>\n",
       "      <th>36666</th>\n",
       "      <td>fine get paid job security ok all about fast n...</td>\n",
       "      <td>0.003692</td>\n",
       "      <td>0.041655</td>\n",
       "      <td>0.122823</td>\n",
       "      <td>0.018566</td>\n",
       "      <td>0.022375</td>\n",
       "      <td>0.116205</td>\n",
       "      <td>0.018090</td>\n",
       "      <td>0.074265</td>\n",
       "      <td>0.306324</td>\n",
       "      <td>0.475000</td>\n",
       "      <td>0.329167</td>\n",
       "      <td>0</td>\n",
       "      <td>0</td>\n",
       "      <td>0</td>\n",
       "      <td>0</td>\n",
       "      <td>0</td>\n",
       "      <td>0</td>\n",
       "    </tr>\n",
       "    <tr>\n",
       "      <th>36667</th>\n",
       "      <td>operation technician short work week and hr da...</td>\n",
       "      <td>0.010021</td>\n",
       "      <td>0.000000</td>\n",
       "      <td>0.224067</td>\n",
       "      <td>0.000000</td>\n",
       "      <td>0.047338</td>\n",
       "      <td>0.379442</td>\n",
       "      <td>0.138011</td>\n",
       "      <td>0.031023</td>\n",
       "      <td>0.157968</td>\n",
       "      <td>0.483889</td>\n",
       "      <td>0.177778</td>\n",
       "      <td>0</td>\n",
       "      <td>1</td>\n",
       "      <td>1</td>\n",
       "      <td>1</td>\n",
       "      <td>1</td>\n",
       "      <td>1</td>\n",
       "    </tr>\n",
       "  </tbody>\n",
       "</table>\n",
       "<p>36668 rows × 18 columns</p>\n",
       "</div>"
      ],
      "text/plain": [
       "                                                  review    length  anger_score  ...  comp-benefits_nb  senior-mgmt_nb  overall_nb\n",
       "0      review at apple you will meet some of the most...  0.007648     0.000000  ...                 1               0           0\n",
       "1      amazing best company in the world there are ab...  0.001055     0.000000  ...                 1               1           1\n",
       "2      senior manager operation smart people interest...  0.021361     0.000000  ...                 1               1           1\n",
       "3      pay well but they own you the pay is good you ...  0.010285     0.000000  ...                 1               1           1\n",
       "4      great pay benefit but the pay for an entry lev...  0.033755     0.122394  ...                 1               0           0\n",
       "...                                                  ...       ...          ...  ...               ...             ...         ...\n",
       "36663  at home advisor love the people management is ...  0.006857     0.013411  ...                 1               1           1\n",
       "36664  need longer break and lunch good pay benefit a...  0.003692     0.000000  ...                 0               0           0\n",
       "36665  senior escalation engineer amazing package mer...  0.005538     0.000000  ...                 1               1           0\n",
       "36666  fine get paid job security ok all about fast n...  0.003692     0.041655  ...                 0               0           0\n",
       "36667  operation technician short work week and hr da...  0.010021     0.000000  ...                 1               1           1\n",
       "\n",
       "[36668 rows x 18 columns]"
      ]
     },
     "execution_count": 72,
     "metadata": {},
     "output_type": "execute_result"
    }
   ],
   "source": [
    "X_train"
   ]
  },
  {
   "cell_type": "markdown",
   "metadata": {},
   "source": [
    "## Testing Pipe for NB and saving new models"
   ]
  },
  {
   "cell_type": "code",
   "execution_count": 124,
   "metadata": {},
   "outputs": [],
   "source": [
    "def set_pipe_dfidf_nb():\n",
    "    vectorizer = ColumnTransformer([\n",
    "            ('vectorizer' ,TfidfVectorizer(), 'review')\n",
    "        ],\n",
    "        remainder='drop')\n",
    "        \n",
    "    pipe = Pipeline([\n",
    "            ('vectorizer', vectorizer),\n",
    "            ('classifier', MultinomialNB())\n",
    "        ])\n",
    "    return pipe\n",
    "\n",
    "def random_gridsearch_pipe(pipe, X, y, **kwargs):\n",
    "    grid = dict(\n",
    "        vectorizer__vectorizer__analyzer = ['char', 'word'],\n",
    "        vectorizer__vectorizer__ngram_range = [(1,2), (1,3), (1,4), (1,5), (1,6), (1,7)],\n",
    "        vectorizer__vectorizer__max_df = loguniform(0.7, 1.0),\n",
    "        vectorizer__vectorizer__min_df = loguniform(0.001, 0.1),\n",
    "        vectorizer__vectorizer__stop_words = [None, 'english'],\n",
    "        vectorizer__vectorizer__norm = ['l1', 'l2'],\n",
    "        classifier__alpha = loguniform(0.001, 1)  \n",
    "    )\n",
    "    \n",
    "    gridsearch = RandomizedSearchCV(pipe, grid, n_iter=10,\n",
    "                                verbose=1, refit=True,\n",
    "                                scoring='balanced_accuracy', n_jobs=-1)\n",
    "    gridsearch.fit(X, y)\n",
    "    \n",
    "    return gridsearch.best_estimator_\n",
    "\n",
    "def export_joblib(pipe, name):\n",
    "    dirname = os.path.abspath('')\n",
    "    filename = os.path.join(dirname, f'../joblib_files/{name}.joblib')\n",
    "    joblib.dump(pipe, filename)\n",
    "\n",
    "def extract_NB_predictions(X, y, pipe, targets):\n",
    "    for target in tqdm(targets):\n",
    "        pipe.fit(X, y[target])\n",
    "        feature_name = f'{target}_nb'\n",
    "        export_joblib(pipe, feature_name)\n",
    "        X[feature_name] = pipe.predict(X)\n",
    "    return X\n",
    "\n",
    "def iterative_gridsearch_pipe(X, y):\n",
    "    targets = y.columns\n",
    "    for target in tqdm(targets):\n",
    "        pipe = set_pipe_dfidf_nb()\n",
    "        best_estimator = random_gridsearch_pipe(pipe, X, y[target]) \n",
    "        feature_name = f'{target}_nb'\n",
    "        export_joblib(best_estimator, feature_name)\n",
    "        X[feature_name] = best_estimator.predict(X)\n",
    "    return X"
   ]
  },
  {
   "cell_type": "code",
   "execution_count": null,
   "metadata": {},
   "outputs": [
    {
     "name": "stderr",
     "output_type": "stream",
     "text": [
      "  0%|          | 0/6 [00:00<?, ?it/s][Parallel(n_jobs=1)]: Using backend SequentialBackend with 1 concurrent workers.\n"
     ]
    },
    {
     "name": "stdout",
     "output_type": "stream",
     "text": [
      "Fitting 5 folds for each of 10 candidates, totalling 50 fits\n"
     ]
    },
    {
     "name": "stderr",
     "output_type": "stream",
     "text": [
      "[Parallel(n_jobs=1)]: Done  50 out of  50 | elapsed: 29.4min finished\n",
      " 17%|█▋        | 1/6 [29:38<2:28:11, 1778.38s/it][Parallel(n_jobs=1)]: Using backend SequentialBackend with 1 concurrent workers.\n"
     ]
    },
    {
     "name": "stdout",
     "output_type": "stream",
     "text": [
      "Fitting 5 folds for each of 10 candidates, totalling 50 fits\n"
     ]
    },
    {
     "name": "stderr",
     "output_type": "stream",
     "text": [
      "[Parallel(n_jobs=1)]: Done  50 out of  50 | elapsed: 92.0min finished\n",
      " 33%|███▎      | 2/6 [2:04:39<3:17:01, 2955.34s/it][Parallel(n_jobs=1)]: Using backend SequentialBackend with 1 concurrent workers.\n"
     ]
    },
    {
     "name": "stdout",
     "output_type": "stream",
     "text": [
      "Fitting 5 folds for each of 10 candidates, totalling 50 fits\n"
     ]
    },
    {
     "name": "stderr",
     "output_type": "stream",
     "text": [
      "[Parallel(n_jobs=1)]: Done  50 out of  50 | elapsed: 23.5min finished\n",
      " 50%|█████     | 3/6 [2:31:25<2:07:31, 2550.50s/it][Parallel(n_jobs=1)]: Using backend SequentialBackend with 1 concurrent workers.\n"
     ]
    },
    {
     "name": "stdout",
     "output_type": "stream",
     "text": [
      "Fitting 5 folds for each of 10 candidates, totalling 50 fits\n"
     ]
    },
    {
     "name": "stderr",
     "output_type": "stream",
     "text": [
      "[Parallel(n_jobs=1)]: Done  50 out of  50 | elapsed: 35.5min finished\n",
      " 67%|██████▋   | 4/6 [4:40:28<2:16:56, 4108.09s/it][Parallel(n_jobs=1)]: Using backend SequentialBackend with 1 concurrent workers.\n"
     ]
    },
    {
     "name": "stdout",
     "output_type": "stream",
     "text": [
      "Fitting 5 folds for each of 10 candidates, totalling 50 fits\n"
     ]
    },
    {
     "name": "stderr",
     "output_type": "stream",
     "text": [
      "[Parallel(n_jobs=1)]: Done  50 out of  50 | elapsed: 501.1min finished\n",
      " 83%|████████▎ | 5/6 [13:04:38<3:19:10, 11950.71s/it][Parallel(n_jobs=1)]: Using backend SequentialBackend with 1 concurrent workers.\n"
     ]
    },
    {
     "name": "stdout",
     "output_type": "stream",
     "text": [
      "Fitting 5 folds for each of 10 candidates, totalling 50 fits\n"
     ]
    }
   ],
   "source": [
    "X = iterative_gridsearch_pipe(X_train, y_train)"
   ]
  },
  {
   "cell_type": "markdown",
   "metadata": {},
   "source": [
    "## Pipeline testing"
   ]
  },
  {
   "cell_type": "code",
   "execution_count": 129,
   "metadata": {},
   "outputs": [],
   "source": [
    "tmp_pipe = set_pipe_dfidf_nb()"
   ]
  },
  {
   "cell_type": "code",
   "execution_count": 130,
   "metadata": {},
   "outputs": [],
   "source": [
    "X_tmp, y_tmp = X_train.sample(100, random_state=2), y_train.sample(100, random_state=2)"
   ]
  },
  {
   "cell_type": "code",
   "execution_count": 131,
   "metadata": {},
   "outputs": [],
   "source": [
    "X_tmp = X_tmp[['review']]"
   ]
  },
  {
   "cell_type": "code",
   "execution_count": 132,
   "metadata": {},
   "outputs": [
    {
     "data": {
      "text/html": [
       "<div>\n",
       "<style scoped>\n",
       "    .dataframe tbody tr th:only-of-type {\n",
       "        vertical-align: middle;\n",
       "    }\n",
       "\n",
       "    .dataframe tbody tr th {\n",
       "        vertical-align: top;\n",
       "    }\n",
       "\n",
       "    .dataframe thead th {\n",
       "        text-align: right;\n",
       "    }\n",
       "</style>\n",
       "<table border=\"1\" class=\"dataframe\">\n",
       "  <thead>\n",
       "    <tr style=\"text-align: right;\">\n",
       "      <th></th>\n",
       "      <th>review</th>\n",
       "    </tr>\n",
       "  </thead>\n",
       "  <tbody>\n",
       "    <tr>\n",
       "      <th>19852</th>\n",
       "      <td>a a first job out of college it is amazing per...</td>\n",
       "    </tr>\n",
       "    <tr>\n",
       "      <th>14071</th>\n",
       "      <td>learning google better place to learn and have...</td>\n",
       "    </tr>\n",
       "    <tr>\n",
       "      <th>13159</th>\n",
       "      <td>customer service it is big and fantstic compan...</td>\n",
       "    </tr>\n",
       "    <tr>\n",
       "      <th>5308</th>\n",
       "      <td>not for normal people great people to work wit...</td>\n",
       "    </tr>\n",
       "    <tr>\n",
       "      <th>19397</th>\n",
       "      <td>thankful to work at amazon learning opportunit...</td>\n",
       "    </tr>\n",
       "  </tbody>\n",
       "</table>\n",
       "</div>"
      ],
      "text/plain": [
       "                                                  review\n",
       "19852  a a first job out of college it is amazing per...\n",
       "14071  learning google better place to learn and have...\n",
       "13159  customer service it is big and fantstic compan...\n",
       "5308   not for normal people great people to work wit...\n",
       "19397  thankful to work at amazon learning opportunit..."
      ]
     },
     "execution_count": 132,
     "metadata": {},
     "output_type": "execute_result"
    }
   ],
   "source": [
    "X_tmp.head()"
   ]
  },
  {
   "cell_type": "code",
   "execution_count": 133,
   "metadata": {
    "scrolled": true
   },
   "outputs": [
    {
     "name": "stderr",
     "output_type": "stream",
     "text": [
      "\r",
      "  0%|          | 0/6 [00:00<?, ?it/s]"
     ]
    },
    {
     "name": "stdout",
     "output_type": "stream",
     "text": [
      "Fitting 5 folds for each of 10 candidates, totalling 50 fits\n"
     ]
    },
    {
     "name": "stderr",
     "output_type": "stream",
     "text": [
      "[Parallel(n_jobs=-1)]: Using backend LokyBackend with 4 concurrent workers.\n",
      "[Parallel(n_jobs=-1)]: Done  42 tasks      | elapsed:    6.3s\n",
      "[Parallel(n_jobs=-1)]: Done  50 out of  50 | elapsed:    6.6s finished\n",
      " 17%|█▋        | 1/6 [00:07<00:38,  7.70s/it][Parallel(n_jobs=-1)]: Using backend LokyBackend with 4 concurrent workers.\n"
     ]
    },
    {
     "name": "stdout",
     "output_type": "stream",
     "text": [
      "Fitting 5 folds for each of 10 candidates, totalling 50 fits\n"
     ]
    },
    {
     "name": "stderr",
     "output_type": "stream",
     "text": [
      "[Parallel(n_jobs=-1)]: Done  42 tasks      | elapsed:    2.2s\n",
      "[Parallel(n_jobs=-1)]: Done  50 out of  50 | elapsed:    2.4s finished\n",
      " 33%|███▎      | 2/6 [00:10<00:24,  6.18s/it][Parallel(n_jobs=-1)]: Using backend LokyBackend with 4 concurrent workers.\n"
     ]
    },
    {
     "name": "stdout",
     "output_type": "stream",
     "text": [
      "Fitting 5 folds for each of 10 candidates, totalling 50 fits\n"
     ]
    },
    {
     "name": "stderr",
     "output_type": "stream",
     "text": [
      "[Parallel(n_jobs=-1)]: Done  50 out of  50 | elapsed:    3.9s finished\n",
      " 50%|█████     | 3/6 [00:14<00:16,  5.66s/it][Parallel(n_jobs=-1)]: Using backend LokyBackend with 4 concurrent workers.\n"
     ]
    },
    {
     "name": "stdout",
     "output_type": "stream",
     "text": [
      "Fitting 5 folds for each of 10 candidates, totalling 50 fits\n"
     ]
    },
    {
     "name": "stderr",
     "output_type": "stream",
     "text": [
      "[Parallel(n_jobs=-1)]: Done  50 out of  50 | elapsed:    2.9s finished\n",
      " 67%|██████▋   | 4/6 [00:17<00:09,  4.87s/it][Parallel(n_jobs=-1)]: Using backend LokyBackend with 4 concurrent workers.\n"
     ]
    },
    {
     "name": "stdout",
     "output_type": "stream",
     "text": [
      "Fitting 5 folds for each of 10 candidates, totalling 50 fits\n"
     ]
    },
    {
     "name": "stderr",
     "output_type": "stream",
     "text": [
      "[Parallel(n_jobs=-1)]: Done  50 out of  50 | elapsed:    3.9s finished\n",
      " 83%|████████▎ | 5/6 [00:22<00:04,  4.80s/it][Parallel(n_jobs=-1)]: Using backend LokyBackend with 4 concurrent workers.\n"
     ]
    },
    {
     "name": "stdout",
     "output_type": "stream",
     "text": [
      "Fitting 5 folds for each of 10 candidates, totalling 50 fits\n"
     ]
    },
    {
     "name": "stderr",
     "output_type": "stream",
     "text": [
      "[Parallel(n_jobs=-1)]: Done  50 out of  50 | elapsed:    2.9s finished\n",
      "100%|██████████| 6/6 [00:25<00:00,  4.31s/it]\n"
     ]
    }
   ],
   "source": [
    "X = iterative_gridsearch_pipe(X_tmp, y_tmp)"
   ]
  },
  {
   "cell_type": "code",
   "execution_count": 134,
   "metadata": {},
   "outputs": [
    {
     "data": {
      "text/plain": [
       "Pipeline(steps=[('vectorizer',\n",
       "                 ColumnTransformer(transformers=[('vectorizer',\n",
       "                                                  TfidfVectorizer(analyzer='char',\n",
       "                                                                  max_df=0.9922969356692659,\n",
       "                                                                  min_df=0.004481460859411207,\n",
       "                                                                  ngram_range=(1,\n",
       "                                                                               7),\n",
       "                                                                  norm='l1',\n",
       "                                                                  stop_words='english'),\n",
       "                                                  'review')])),\n",
       "                ('classifier', MultinomialNB(alpha=0.0017667011850638827))])"
      ]
     },
     "execution_count": 134,
     "metadata": {},
     "output_type": "execute_result"
    }
   ],
   "source": [
    "best_estimator_tmp"
   ]
  },
  {
   "cell_type": "code",
   "execution_count": 135,
   "metadata": {},
   "outputs": [
    {
     "data": {
      "text/html": [
       "<div>\n",
       "<style scoped>\n",
       "    .dataframe tbody tr th:only-of-type {\n",
       "        vertical-align: middle;\n",
       "    }\n",
       "\n",
       "    .dataframe tbody tr th {\n",
       "        vertical-align: top;\n",
       "    }\n",
       "\n",
       "    .dataframe thead th {\n",
       "        text-align: right;\n",
       "    }\n",
       "</style>\n",
       "<table border=\"1\" class=\"dataframe\">\n",
       "  <thead>\n",
       "    <tr style=\"text-align: right;\">\n",
       "      <th></th>\n",
       "      <th>review</th>\n",
       "      <th>work-balance_nb</th>\n",
       "      <th>culture-values_nb</th>\n",
       "      <th>career-opportunities_nb</th>\n",
       "      <th>comp-benefits_nb</th>\n",
       "      <th>senior-mgmt_nb</th>\n",
       "      <th>overall_nb</th>\n",
       "    </tr>\n",
       "  </thead>\n",
       "  <tbody>\n",
       "    <tr>\n",
       "      <th>19852</th>\n",
       "      <td>a a first job out of college it is amazing per...</td>\n",
       "      <td>1</td>\n",
       "      <td>1</td>\n",
       "      <td>1</td>\n",
       "      <td>1</td>\n",
       "      <td>1</td>\n",
       "      <td>1</td>\n",
       "    </tr>\n",
       "    <tr>\n",
       "      <th>14071</th>\n",
       "      <td>learning google better place to learn and have...</td>\n",
       "      <td>1</td>\n",
       "      <td>1</td>\n",
       "      <td>0</td>\n",
       "      <td>1</td>\n",
       "      <td>1</td>\n",
       "      <td>1</td>\n",
       "    </tr>\n",
       "    <tr>\n",
       "      <th>13159</th>\n",
       "      <td>customer service it is big and fantstic compan...</td>\n",
       "      <td>0</td>\n",
       "      <td>0</td>\n",
       "      <td>0</td>\n",
       "      <td>0</td>\n",
       "      <td>0</td>\n",
       "      <td>0</td>\n",
       "    </tr>\n",
       "    <tr>\n",
       "      <th>5308</th>\n",
       "      <td>not for normal people great people to work wit...</td>\n",
       "      <td>0</td>\n",
       "      <td>0</td>\n",
       "      <td>0</td>\n",
       "      <td>0</td>\n",
       "      <td>0</td>\n",
       "      <td>0</td>\n",
       "    </tr>\n",
       "    <tr>\n",
       "      <th>19397</th>\n",
       "      <td>thankful to work at amazon learning opportunit...</td>\n",
       "      <td>1</td>\n",
       "      <td>1</td>\n",
       "      <td>1</td>\n",
       "      <td>1</td>\n",
       "      <td>1</td>\n",
       "      <td>1</td>\n",
       "    </tr>\n",
       "  </tbody>\n",
       "</table>\n",
       "</div>"
      ],
      "text/plain": [
       "                                                  review  work-balance_nb  culture-values_nb  ...  comp-benefits_nb  senior-mgmt_nb  overall_nb\n",
       "19852  a a first job out of college it is amazing per...                1                  1  ...                 1               1           1\n",
       "14071  learning google better place to learn and have...                1                  1  ...                 1               1           1\n",
       "13159  customer service it is big and fantstic compan...                0                  0  ...                 0               0           0\n",
       "5308   not for normal people great people to work wit...                0                  0  ...                 0               0           0\n",
       "19397  thankful to work at amazon learning opportunit...                1                  1  ...                 1               1           1\n",
       "\n",
       "[5 rows x 7 columns]"
      ]
     },
     "execution_count": 135,
     "metadata": {},
     "output_type": "execute_result"
    }
   ],
   "source": [
    "X.head()"
   ]
  },
  {
   "cell_type": "markdown",
   "metadata": {},
   "source": [
    "## Export models again!! yes"
   ]
  },
  {
   "cell_type": "code",
   "execution_count": 136,
   "metadata": {},
   "outputs": [
    {
     "name": "stderr",
     "output_type": "stream",
     "text": [
      "  0%|          | 0/6 [00:00<?, ?it/s][Parallel(n_jobs=-1)]: Using backend LokyBackend with 4 concurrent workers.\n"
     ]
    },
    {
     "name": "stdout",
     "output_type": "stream",
     "text": [
      "Fitting 5 folds for each of 10 candidates, totalling 50 fits\n"
     ]
    },
    {
     "name": "stderr",
     "output_type": "stream",
     "text": [
      "[Parallel(n_jobs=-1)]: Done  42 tasks      | elapsed: 13.9min\n",
      "[Parallel(n_jobs=-1)]: Done  50 out of  50 | elapsed: 14.7min finished\n",
      " 17%|█▋        | 1/6 [15:59<1:19:56, 959.33s/it][Parallel(n_jobs=-1)]: Using backend LokyBackend with 4 concurrent workers.\n"
     ]
    },
    {
     "name": "stdout",
     "output_type": "stream",
     "text": [
      "Fitting 5 folds for each of 10 candidates, totalling 50 fits\n"
     ]
    },
    {
     "name": "stderr",
     "output_type": "stream",
     "text": [
      "[Parallel(n_jobs=-1)]: Done  42 tasks      | elapsed: 13.1min\n",
      "[Parallel(n_jobs=-1)]: Done  50 out of  50 | elapsed: 13.5min finished\n",
      " 33%|███▎      | 2/6 [32:35<1:04:41, 970.50s/it][Parallel(n_jobs=-1)]: Using backend LokyBackend with 4 concurrent workers.\n"
     ]
    },
    {
     "name": "stdout",
     "output_type": "stream",
     "text": [
      "Fitting 5 folds for each of 10 candidates, totalling 50 fits\n"
     ]
    },
    {
     "name": "stderr",
     "output_type": "stream",
     "text": [
      "[Parallel(n_jobs=-1)]: Done  42 tasks      | elapsed:  9.9min\n",
      "[Parallel(n_jobs=-1)]: Done  50 out of  50 | elapsed: 10.9min finished\n",
      " 50%|█████     | 3/6 [43:50<44:04, 881.61s/it]  [Parallel(n_jobs=-1)]: Using backend LokyBackend with 4 concurrent workers.\n"
     ]
    },
    {
     "name": "stdout",
     "output_type": "stream",
     "text": [
      "Fitting 5 folds for each of 10 candidates, totalling 50 fits\n"
     ]
    },
    {
     "name": "stderr",
     "output_type": "stream",
     "text": [
      "[Parallel(n_jobs=-1)]: Done  42 tasks      | elapsed:  8.9min\n",
      "[Parallel(n_jobs=-1)]: Done  50 out of  50 | elapsed: 10.5min finished\n",
      " 67%|██████▋   | 4/6 [57:13<28:36, 858.21s/it][Parallel(n_jobs=-1)]: Using backend LokyBackend with 4 concurrent workers.\n"
     ]
    },
    {
     "name": "stdout",
     "output_type": "stream",
     "text": [
      "Fitting 5 folds for each of 10 candidates, totalling 50 fits\n"
     ]
    },
    {
     "name": "stderr",
     "output_type": "stream",
     "text": [
      "[Parallel(n_jobs=-1)]: Done  42 tasks      | elapsed: 12.0min\n",
      "[Parallel(n_jobs=-1)]: Done  50 out of  50 | elapsed: 13.7min finished\n",
      " 83%|████████▎ | 5/6 [1:11:11<14:12, 852.22s/it][Parallel(n_jobs=-1)]: Using backend LokyBackend with 4 concurrent workers.\n"
     ]
    },
    {
     "name": "stdout",
     "output_type": "stream",
     "text": [
      "Fitting 5 folds for each of 10 candidates, totalling 50 fits\n"
     ]
    },
    {
     "name": "stderr",
     "output_type": "stream",
     "text": [
      "[Parallel(n_jobs=-1)]: Done  42 tasks      | elapsed:  9.7min\n",
      "[Parallel(n_jobs=-1)]: Done  50 out of  50 | elapsed: 11.8min finished\n",
      "100%|██████████| 6/6 [1:23:55<00:00, 839.18s/it]\n"
     ]
    }
   ],
   "source": [
    "X_train = iterative_gridsearch_pipe(X_train, y_train)"
   ]
  },
  {
   "cell_type": "code",
   "execution_count": null,
   "metadata": {},
   "outputs": [],
   "source": []
  }
 ],
 "metadata": {
  "kernelspec": {
   "display_name": "Python 3",
   "language": "python",
   "name": "python3"
  },
  "language_info": {
   "codemirror_mode": {
    "name": "ipython",
    "version": 3
   },
   "file_extension": ".py",
   "mimetype": "text/x-python",
   "name": "python",
   "nbconvert_exporter": "python",
   "pygments_lexer": "ipython3",
   "version": "3.7.7"
  },
  "toc": {
   "base_numbering": 1,
   "nav_menu": {},
   "number_sections": true,
   "sideBar": true,
   "skip_h1_title": false,
   "title_cell": "Table of Contents",
   "title_sidebar": "Contents",
   "toc_cell": false,
   "toc_position": {},
   "toc_section_display": true,
   "toc_window_display": false
  }
 },
 "nbformat": 4,
 "nbformat_minor": 4
}
