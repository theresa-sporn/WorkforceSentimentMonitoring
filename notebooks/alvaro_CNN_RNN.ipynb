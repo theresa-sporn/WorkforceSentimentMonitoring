{
 "cells": [
  {
   "cell_type": "markdown",
   "metadata": {},
   "source": [
    "# CNN with Embeddings"
   ]
  },
  {
   "cell_type": "markdown",
   "metadata": {},
   "source": [
    "In this notebook I shall attempt to load the word embeddings from 10 different pickle files and feed them into a Convolutional Neural Network."
   ]
  },
  {
   "cell_type": "markdown",
   "metadata": {},
   "source": [
    "## Pseudocode"
   ]
  },
  {
   "cell_type": "markdown",
   "metadata": {},
   "source": [
    "1. Load Pickle files and join into a single DataFrame / np.array\n",
    "\n",
    "2. Define X and y\n",
    "\n",
    "3. Fix dimensionality of the embeddings\n",
    "\n",
    "4. Holdout 75 / 25\n",
    "\n",
    "5. CNN\n",
    "\n",
    "6. RNN"
   ]
  },
  {
   "cell_type": "markdown",
   "metadata": {},
   "source": [
    "# Code"
   ]
  },
  {
   "cell_type": "markdown",
   "metadata": {},
   "source": [
    "## Loading the Pickle files"
   ]
  },
  {
   "cell_type": "code",
   "execution_count": 40,
   "metadata": {},
   "outputs": [],
   "source": [
    "import os\n",
    "import pickle\n",
    "import pandas as pd\n",
    "import numpy as np\n",
    "import re"
   ]
  },
  {
   "cell_type": "code",
   "execution_count": 18,
   "metadata": {},
   "outputs": [],
   "source": [
    "nb_dir = os.path.split(os.path.abspath('__file__'))[0] # path to directory containing all notebooks"
   ]
  },
  {
   "cell_type": "code",
   "execution_count": 22,
   "metadata": {},
   "outputs": [],
   "source": [
    "pickl_dir = os.path.join(nb_dir, '../pickle_files/') # path to directory containing the pickle files"
   ]
  },
  {
   "cell_type": "code",
   "execution_count": 44,
   "metadata": {
    "scrolled": true
   },
   "outputs": [
    {
     "data": {
      "text/plain": [
       "['embeddings_chunk_7.p',\n",
       " 'embeddings_chunk_3.p',\n",
       " 'embeddings_chunk_9.p',\n",
       " 'embeddings_chunk_4.p',\n",
       " 'embeddings_chunk_5.p',\n",
       " 'embeddings_chunk_1.p',\n",
       " 'embeddings_chunk_6.p',\n",
       " 'embeddings_chunk_10.p',\n",
       " 'embeddings_chunk_8.p',\n",
       " 'embeddings_chunk_2.p']"
      ]
     },
     "execution_count": 44,
     "metadata": {},
     "output_type": "execute_result"
    }
   ],
   "source": [
    "# Walk directory and get all chunks, append to list\n",
    "pickl_files = []\n",
    "for root, dirs, files in os.walk(pickl_dir):\n",
    "    for file in files:\n",
    "        if 'chunk' in file: pickl_files.append(file)\n",
    "\n",
    "pickl_files "
   ]
  },
  {
   "cell_type": "code",
   "execution_count": 47,
   "metadata": {},
   "outputs": [
    {
     "data": {
      "text/plain": [
       "['embeddings_chunk_1.p',\n",
       " 'embeddings_chunk_2.p',\n",
       " 'embeddings_chunk_3.p',\n",
       " 'embeddings_chunk_4.p',\n",
       " 'embeddings_chunk_5.p',\n",
       " 'embeddings_chunk_6.p',\n",
       " 'embeddings_chunk_7.p',\n",
       " 'embeddings_chunk_8.p',\n",
       " 'embeddings_chunk_9.p',\n",
       " 'embeddings_chunk_10.p']"
      ]
     },
     "execution_count": 47,
     "metadata": {},
     "output_type": "execute_result"
    }
   ],
   "source": [
    "# Sort files in ascending order\n",
    "pickl_files.sort(key= lambda f: int(re.sub('\\D', '', f)))\n",
    "pickl_files"
   ]
  },
  {
   "cell_type": "code",
   "execution_count": 58,
   "metadata": {},
   "outputs": [],
   "source": [
    "# load pickle files and append content to df\n",
    "df = pd.DataFrame()\n",
    "for file_name in pickl_files:\n",
    "    file = os.path.join(pickl_dir, file_name)\n",
    "    with open(file, 'rb') as f:\n",
    "        chunk = pickle.load(f)\n",
    "        df = pd.concat([df, chunk])\n",
    "    "
   ]
  },
  {
   "cell_type": "code",
   "execution_count": 61,
   "metadata": {
    "scrolled": true
   },
   "outputs": [
    {
     "data": {
      "text/html": [
       "<div>\n",
       "<style scoped>\n",
       "    .dataframe tbody tr th:only-of-type {\n",
       "        vertical-align: middle;\n",
       "    }\n",
       "\n",
       "    .dataframe tbody tr th {\n",
       "        vertical-align: top;\n",
       "    }\n",
       "\n",
       "    .dataframe thead th {\n",
       "        text-align: right;\n",
       "    }\n",
       "</style>\n",
       "<table border=\"1\" class=\"dataframe\">\n",
       "  <thead>\n",
       "    <tr style=\"text-align: right;\">\n",
       "      <th></th>\n",
       "      <th>review</th>\n",
       "      <th>work-balance</th>\n",
       "      <th>culture-values</th>\n",
       "      <th>career-opportunities</th>\n",
       "      <th>comp-benefits</th>\n",
       "      <th>senior-mgmt</th>\n",
       "      <th>overall</th>\n",
       "      <th>embedding</th>\n",
       "    </tr>\n",
       "  </thead>\n",
       "  <tbody>\n",
       "    <tr>\n",
       "      <th>0</th>\n",
       "      <td>Best Company to work for People are smart and ...</td>\n",
       "      <td>4</td>\n",
       "      <td>5</td>\n",
       "      <td>5</td>\n",
       "      <td>4</td>\n",
       "      <td>5</td>\n",
       "      <td>5</td>\n",
       "      <td>[0.0007951423, -0.00014201592, 0.02838342, 0.0...</td>\n",
       "    </tr>\n",
       "    <tr>\n",
       "      <th>1</th>\n",
       "      <td>Moving at the speed of light, burn out is inev...</td>\n",
       "      <td>2</td>\n",
       "      <td>3</td>\n",
       "      <td>3</td>\n",
       "      <td>5</td>\n",
       "      <td>3</td>\n",
       "      <td>5</td>\n",
       "      <td>[-0.002623009, -0.0002024689, 0.0075852484, 0....</td>\n",
       "    </tr>\n",
       "    <tr>\n",
       "      <th>2</th>\n",
       "      <td>Great balance between big-company security and...</td>\n",
       "      <td>5</td>\n",
       "      <td>4</td>\n",
       "      <td>5</td>\n",
       "      <td>5</td>\n",
       "      <td>4</td>\n",
       "      <td>5</td>\n",
       "      <td>[-0.0007960695, -0.00020666199, 0.005231163, 0...</td>\n",
       "    </tr>\n",
       "    <tr>\n",
       "      <th>3</th>\n",
       "      <td>The best place I've worked and also the most d...</td>\n",
       "      <td>2</td>\n",
       "      <td>5</td>\n",
       "      <td>5</td>\n",
       "      <td>4</td>\n",
       "      <td>5</td>\n",
       "      <td>4</td>\n",
       "      <td>[0.0031662765, -0.00019514452, 0.007833832, 0....</td>\n",
       "    </tr>\n",
       "    <tr>\n",
       "      <th>4</th>\n",
       "      <td>Execellent for engineers Impact driven. Best t...</td>\n",
       "      <td>5</td>\n",
       "      <td>5</td>\n",
       "      <td>5</td>\n",
       "      <td>5</td>\n",
       "      <td>5</td>\n",
       "      <td>4</td>\n",
       "      <td>[0.0005778585, -0.0003066622, 0.026118364, 0.0...</td>\n",
       "    </tr>\n",
       "  </tbody>\n",
       "</table>\n",
       "</div>"
      ],
      "text/plain": [
       "                                              review  work-balance  \\\n",
       "0  Best Company to work for People are smart and ...             4   \n",
       "1  Moving at the speed of light, burn out is inev...             2   \n",
       "2  Great balance between big-company security and...             5   \n",
       "3  The best place I've worked and also the most d...             2   \n",
       "4  Execellent for engineers Impact driven. Best t...             5   \n",
       "\n",
       "   culture-values  career-opportunities  comp-benefits  senior-mgmt  overall  \\\n",
       "0               5                     5              4            5        5   \n",
       "1               3                     3              5            3        5   \n",
       "2               4                     5              5            4        5   \n",
       "3               5                     5              4            5        4   \n",
       "4               5                     5              5            5        4   \n",
       "\n",
       "                                           embedding  \n",
       "0  [0.0007951423, -0.00014201592, 0.02838342, 0.0...  \n",
       "1  [-0.002623009, -0.0002024689, 0.0075852484, 0....  \n",
       "2  [-0.0007960695, -0.00020666199, 0.005231163, 0...  \n",
       "3  [0.0031662765, -0.00019514452, 0.007833832, 0....  \n",
       "4  [0.0005778585, -0.0003066622, 0.026118364, 0.0...  "
      ]
     },
     "execution_count": 61,
     "metadata": {},
     "output_type": "execute_result"
    }
   ],
   "source": [
    "df.head()"
   ]
  },
  {
   "cell_type": "code",
   "execution_count": 60,
   "metadata": {},
   "outputs": [
    {
     "data": {
      "text/plain": [
       "(52383, 8)"
      ]
     },
     "execution_count": 60,
     "metadata": {},
     "output_type": "execute_result"
    }
   ],
   "source": [
    "df.shape"
   ]
  },
  {
   "cell_type": "markdown",
   "metadata": {},
   "source": [
    "## Define X and y"
   ]
  },
  {
   "cell_type": "code",
   "execution_count": 161,
   "metadata": {},
   "outputs": [],
   "source": [
    "X = df.embedding\n",
    "y = df.iloc[:, 1:-1]"
   ]
  },
  {
   "cell_type": "code",
   "execution_count": 162,
   "metadata": {},
   "outputs": [
    {
     "data": {
      "text/plain": [
       "0    [0.0007951423, -0.00014201592, 0.02838342, 0.0...\n",
       "1    [-0.002623009, -0.0002024689, 0.0075852484, 0....\n",
       "2    [-0.0007960695, -0.00020666199, 0.005231163, 0...\n",
       "3    [0.0031662765, -0.00019514452, 0.007833832, 0....\n",
       "4    [0.0005778585, -0.0003066622, 0.026118364, 0.0...\n",
       "Name: embedding, dtype: object"
      ]
     },
     "execution_count": 162,
     "metadata": {},
     "output_type": "execute_result"
    }
   ],
   "source": [
    "X.head()"
   ]
  },
  {
   "cell_type": "code",
   "execution_count": 163,
   "metadata": {},
   "outputs": [
    {
     "data": {
      "text/html": [
       "<div>\n",
       "<style scoped>\n",
       "    .dataframe tbody tr th:only-of-type {\n",
       "        vertical-align: middle;\n",
       "    }\n",
       "\n",
       "    .dataframe tbody tr th {\n",
       "        vertical-align: top;\n",
       "    }\n",
       "\n",
       "    .dataframe thead th {\n",
       "        text-align: right;\n",
       "    }\n",
       "</style>\n",
       "<table border=\"1\" class=\"dataframe\">\n",
       "  <thead>\n",
       "    <tr style=\"text-align: right;\">\n",
       "      <th></th>\n",
       "      <th>work-balance</th>\n",
       "      <th>culture-values</th>\n",
       "      <th>career-opportunities</th>\n",
       "      <th>comp-benefits</th>\n",
       "      <th>senior-mgmt</th>\n",
       "      <th>overall</th>\n",
       "    </tr>\n",
       "  </thead>\n",
       "  <tbody>\n",
       "    <tr>\n",
       "      <th>0</th>\n",
       "      <td>4</td>\n",
       "      <td>5</td>\n",
       "      <td>5</td>\n",
       "      <td>4</td>\n",
       "      <td>5</td>\n",
       "      <td>5</td>\n",
       "    </tr>\n",
       "    <tr>\n",
       "      <th>1</th>\n",
       "      <td>2</td>\n",
       "      <td>3</td>\n",
       "      <td>3</td>\n",
       "      <td>5</td>\n",
       "      <td>3</td>\n",
       "      <td>5</td>\n",
       "    </tr>\n",
       "    <tr>\n",
       "      <th>2</th>\n",
       "      <td>5</td>\n",
       "      <td>4</td>\n",
       "      <td>5</td>\n",
       "      <td>5</td>\n",
       "      <td>4</td>\n",
       "      <td>5</td>\n",
       "    </tr>\n",
       "    <tr>\n",
       "      <th>3</th>\n",
       "      <td>2</td>\n",
       "      <td>5</td>\n",
       "      <td>5</td>\n",
       "      <td>4</td>\n",
       "      <td>5</td>\n",
       "      <td>4</td>\n",
       "    </tr>\n",
       "    <tr>\n",
       "      <th>4</th>\n",
       "      <td>5</td>\n",
       "      <td>5</td>\n",
       "      <td>5</td>\n",
       "      <td>5</td>\n",
       "      <td>5</td>\n",
       "      <td>4</td>\n",
       "    </tr>\n",
       "  </tbody>\n",
       "</table>\n",
       "</div>"
      ],
      "text/plain": [
       "   work-balance  culture-values  career-opportunities  comp-benefits  \\\n",
       "0             4               5                     5              4   \n",
       "1             2               3                     3              5   \n",
       "2             5               4                     5              5   \n",
       "3             2               5                     5              4   \n",
       "4             5               5                     5              5   \n",
       "\n",
       "   senior-mgmt  overall  \n",
       "0            5        5  \n",
       "1            3        5  \n",
       "2            4        5  \n",
       "3            5        4  \n",
       "4            5        4  "
      ]
     },
     "execution_count": 163,
     "metadata": {},
     "output_type": "execute_result"
    }
   ],
   "source": [
    "y.head()"
   ]
  },
  {
   "cell_type": "markdown",
   "metadata": {},
   "source": [
    "## Fix dimensionality of the embeddings"
   ]
  },
  {
   "cell_type": "markdown",
   "metadata": {},
   "source": [
    "Tensorflow won't recognise the arrays containing the embeddings, so we have to itereate over each row and append into a new array."
   ]
  },
  {
   "cell_type": "code",
   "execution_count": 164,
   "metadata": {},
   "outputs": [],
   "source": [
    "tmp = np.ndarray((len(X), len(X_train[0])))\n",
    "for i in range(len(X)):\n",
    "    tmp[i] = X[i]"
   ]
  },
  {
   "cell_type": "code",
   "execution_count": 165,
   "metadata": {},
   "outputs": [],
   "source": [
    "X = tmp"
   ]
  },
  {
   "cell_type": "markdown",
   "metadata": {},
   "source": [
    "## Holdout"
   ]
  },
  {
   "cell_type": "code",
   "execution_count": 166,
   "metadata": {},
   "outputs": [],
   "source": [
    "from sklearn.model_selection import train_test_split\n",
    "X_train, X_test, y_train, y_test = train_test_split(X, y, test_size=0.3, random_state=1)"
   ]
  },
  {
   "cell_type": "code",
   "execution_count": 167,
   "metadata": {},
   "outputs": [
    {
     "data": {
      "text/plain": [
       "array([[-3.47699295e-03, -1.55896152e-04, -3.50146252e-03, ...,\n",
       "         1.39729712e-08, -1.59974519e-07, -4.00670171e-02],\n",
       "       [-1.85498246e-03, -3.24994588e-04,  6.27304194e-03, ...,\n",
       "         2.15741256e-08,  1.12282623e-06, -9.88112837e-02],\n",
       "       [ 1.28782750e-03, -2.32360879e-04,  7.08759297e-03, ...,\n",
       "         7.52142526e-08,  6.31478940e-08, -4.04303633e-02],\n",
       "       ...,\n",
       "       [-1.47636477e-02, -1.48427280e-04, -2.40473654e-02, ...,\n",
       "         1.16361267e-08,  1.06964023e-06, -1.47934437e-01],\n",
       "       [ 4.34585987e-03, -3.70991853e-04,  4.20658477e-03, ...,\n",
       "         1.07337232e-08, -9.02294516e-07, -1.62203699e-01],\n",
       "       [-1.82390539e-03, -2.17547364e-04,  2.70146993e-03, ...,\n",
       "         2.97602796e-08, -1.98002795e-07, -1.12039559e-01]])"
      ]
     },
     "execution_count": 167,
     "metadata": {},
     "output_type": "execute_result"
    }
   ],
   "source": [
    "X_train"
   ]
  },
  {
   "cell_type": "code",
   "execution_count": 181,
   "metadata": {},
   "outputs": [
    {
     "data": {
      "text/plain": [
       "(2048,)"
      ]
     },
     "execution_count": 181,
     "metadata": {},
     "output_type": "execute_result"
    }
   ],
   "source": [
    "X_train[0].shape"
   ]
  },
  {
   "cell_type": "code",
   "execution_count": 133,
   "metadata": {},
   "outputs": [],
   "source": [
    "from tensorflow.keras.backend import expand_dims\n",
    "\n",
    "X_train = expand_dims(X_train, -1)\n",
    "X_test = expand_dims(X_test, -1)"
   ]
  },
  {
   "cell_type": "markdown",
   "metadata": {},
   "source": [
    "## Model"
   ]
  },
  {
   "cell_type": "code",
   "execution_count": 192,
   "metadata": {},
   "outputs": [],
   "source": [
    "from tensorflow.keras import models, layers\n",
    "from tensorflow.keras.callbacks import EarlyStopping"
   ]
  },
  {
   "cell_type": "code",
   "execution_count": 196,
   "metadata": {},
   "outputs": [],
   "source": [
    "es = EarlyStopping(patience=10, restore_best_weights=True)"
   ]
  },
  {
   "cell_type": "code",
   "execution_count": 195,
   "metadata": {},
   "outputs": [
    {
     "name": "stdout",
     "output_type": "stream",
     "text": [
      "Epoch 1/100\n",
      "2292/2292 [==============================] - 20s 8ms/step - loss: 2698722.3864 - accuracy: 0.1425 - val_loss: 38379216.0000 - val_accuracy: 0.1542\n",
      "Epoch 2/100\n",
      "2292/2292 [==============================] - 27s 12ms/step - loss: 70731524.4954 - accuracy: 0.1403 - val_loss: 207222656.0000 - val_accuracy: 0.1542\n",
      "Epoch 3/100\n",
      "2292/2292 [==============================] - 23s 10ms/step - loss: 279313997.6973 - accuracy: 0.1436 - val_loss: 545766464.0000 - val_accuracy: 0.1542\n",
      "Epoch 4/100\n",
      "2292/2292 [==============================] - 18s 8ms/step - loss: 666257546.9132 - accuracy: 0.1461 - val_loss: 1052141952.0000 - val_accuracy: 0.1542\n",
      "Epoch 5/100\n",
      "2292/2292 [==============================] - 23s 10ms/step - loss: 1232653053.3485 - accuracy: 0.1492 - val_loss: 1802886144.0000 - val_accuracy: 0.1542\n",
      "Epoch 6/100\n",
      "2292/2292 [==============================] - 19s 8ms/step - loss: 2042793850.4178 - accuracy: 0.1518 - val_loss: 2792986112.0000 - val_accuracy: 0.1542\n",
      "Epoch 7/100\n",
      "2292/2292 [==============================] - 19s 8ms/step - loss: 3087267659.0249 - accuracy: 0.1463 - val_loss: 4006336256.0000 - val_accuracy: 0.1542\n",
      "Epoch 8/100\n",
      "2292/2292 [==============================] - 20s 9ms/step - loss: 4497114208.9071 - accuracy: 0.1499 - val_loss: 5623617536.0000 - val_accuracy: 0.1542\n",
      "Epoch 9/100\n",
      "2292/2292 [==============================] - 18s 8ms/step - loss: 6122412159.7209 - accuracy: 0.1454 - val_loss: 7771993600.0000 - val_accuracy: 0.1542\n",
      "Epoch 10/100\n",
      "2292/2292 [==============================] - 20s 9ms/step - loss: 8379143365.8334 - accuracy: 0.1486 - val_loss: 10034589696.0000 - val_accuracy: 0.1542\n",
      "Epoch 11/100\n",
      "2292/2292 [==============================] - 19s 8ms/step - loss: 10655144528.6071 - accuracy: 0.1496 - val_loss: 12938041344.0000 - val_accuracy: 0.1542\n"
     ]
    }
   ],
   "source": [
    "output_dim = len(y.columns)\n",
    "batch_size = 16\n",
    "model = models.Sequential()\n",
    "model.add(layers.Reshape((1, X[1].size), input_shape = X_train.shape[1:]))\n",
    "model.add(layers.Conv1D(filters=300, kernel_size=1, strides = 5, activation='relu'))\n",
    "model.add(layers.Flatten())\n",
    "model.add(layers.Dense(10, activation='relu'))\n",
    "model.add(layers.Dropout(rate=0.3))\n",
    "model.add(layers.Dense(10, activation='relu'))\n",
    "model.add(layers.Dense(output_dim, activation='softmax'))\n",
    "\n",
    "model.compile(loss='categorical_crossentropy',\n",
    "              optimizer='adam',\n",
    "              metrics=['accuracy'])\n",
    "\n",
    "history = model.fit(X_train, y_train, batch_size=batch_size,\n",
    "          validation_data=(X_test, y_test), epochs=100, callbacks=es)"
   ]
  },
  {
   "cell_type": "code",
   "execution_count": 197,
   "metadata": {},
   "outputs": [
    {
     "data": {
      "image/png": "[encoded data removed]",
      "text/plain": [
       "<Figure size 432x288 with 1 Axes>"
      ]
     },
     "metadata": {
      "needs_background": "light"
     },
     "output_type": "display_data"
    },
    {
     "data": {
      "image/png": "[encoded data removed]",
      "text/plain": [
       "<Figure size 432x288 with 1 Axes>"
      ]
     },
     "metadata": {
      "needs_background": "light"
     },
     "output_type": "display_data"
    }
   ],
   "source": [
    "import matplotlib.pyplot as plt\n",
    "plt.plot(history.history['loss'], label='train')\n",
    "plt.plot(history.history['val_loss'], label='test')\n",
    "plt.title('Loss')\n",
    "plt.legend()\n",
    "plt.show()\n",
    "\n",
    "plt.plot(history.history['accuracy'], label='train')\n",
    "plt.plot(history.history['val_accuracy'], label='test')\n",
    "plt.title('Accuracy')\n",
    "plt.legend()\n",
    "plt.show()"
   ]
  },
  {
   "cell_type": "code",
   "execution_count": 207,
   "metadata": {},
   "outputs": [
    {
     "name": "stdout",
     "output_type": "stream",
     "text": [
      "Epoch 1/100\n",
      "2292/2292 [==============================] - 9s 4ms/step - loss: 2416222647.4288 - accuracy: 0.2402 - val_loss: 75975163904.0000 - val_accuracy: 0.3097\n",
      "Epoch 2/100\n",
      "2292/2292 [==============================] - 8s 3ms/step - loss: 231757959834.2922 - accuracy: 0.3122 - val_loss: 1206653288448.0000 - val_accuracy: 0.3097\n",
      "Epoch 3/100\n",
      "2292/2292 [==============================] - 8s 3ms/step - loss: 1945598794800.6768 - accuracy: 0.3091 - val_loss: 5310099488768.0000 - val_accuracy: 0.3097\n",
      "Epoch 4/100\n",
      "2292/2292 [==============================] - 8s 4ms/step - loss: 7145462922649.5107 - accuracy: 0.3111 - val_loss: 14478680784896.0000 - val_accuracy: 0.3097\n",
      "Epoch 5/100\n",
      "2292/2292 [==============================] - 8s 3ms/step - loss: 18061195992705.7305 - accuracy: 0.3118 - val_loss: 31215461597184.0000 - val_accuracy: 0.3097\n",
      "Epoch 6/100\n",
      "2292/2292 [==============================] - 8s 3ms/step - loss: 38109788534016.7812 - accuracy: 0.3003 - val_loss: 62554105708544.0000 - val_accuracy: 0.3097\n",
      "Epoch 7/100\n",
      "2292/2292 [==============================] - 8s 3ms/step - loss: 73660316830970.5312 - accuracy: 0.2998 - val_loss: 113365267513344.0000 - val_accuracy: 0.3097\n",
      "Epoch 8/100\n",
      "2292/2292 [==============================] - 8s 4ms/step - loss: 129869631786313.1250 - accuracy: 0.2930 - val_loss: 190464334495744.0000 - val_accuracy: 0.3097\n",
      "Epoch 9/100\n",
      "2292/2292 [==============================] - 8s 4ms/step - loss: 215863040909194.0938 - accuracy: 0.2884 - val_loss: 295833589252096.0000 - val_accuracy: 0.3097\n",
      "Epoch 10/100\n",
      "2292/2292 [==============================] - 8s 4ms/step - loss: 330172057680762.5000 - accuracy: 0.2835 - val_loss: 450595991322624.0000 - val_accuracy: 0.3097\n",
      "Epoch 11/100\n",
      "2292/2292 [==============================] - 7s 3ms/step - loss: 497239038264653.5625 - accuracy: 0.2813 - val_loss: 657100065734656.0000 - val_accuracy: 0.3097\n"
     ]
    }
   ],
   "source": [
    "output_dim = len(y.columns)\n",
    "batch_size = 16\n",
    "model = models.Sequential()\n",
    "model.add(layers.Reshape((1, X[1].size), input_shape = X_train.shape[1:]))\n",
    "model.add(layers.Conv1D(filters=50, kernel_size=1, strides = 5, activation='relu'))\n",
    "model.add(layers.Conv1D(filters=30, kernel_size=1, strides = 5, activation='relu'))\n",
    "model.add(layers.Conv1D(filters=20, kernel_size=1, strides = 5, activation='relu'))\n",
    "model.add(layers.Flatten())\n",
    "model.add(layers.Dense(10, activation='relu'))\n",
    "model.add(layers.Dropout(rate=0.3))\n",
    "model.add(layers.Dense(10, activation='relu'))\n",
    "model.add(layers.Dense(output_dim, activation='softmax'))\n",
    "\n",
    "model.compile(loss='categorical_crossentropy',\n",
    "              optimizer='adam',\n",
    "              metrics=['accuracy'])\n",
    "\n",
    "history = model.fit(X_train, y_train, batch_size=batch_size,\n",
    "          validation_data=(X_test, y_test), epochs=100, callbacks=es)"
   ]
  },
  {
   "cell_type": "code",
   "execution_count": 208,
   "metadata": {},
   "outputs": [
    {
     "data": {
      "image/png": "[encoded data removed]",
      "text/plain": [
       "<Figure size 432x288 with 1 Axes>"
      ]
     },
     "metadata": {
      "needs_background": "light"
     },
     "output_type": "display_data"
    },
    {
     "data": {
      "image/png": "[encoded data removed]",
      "text/plain": [
       "<Figure size 432x288 with 1 Axes>"
      ]
     },
     "metadata": {
      "needs_background": "light"
     },
     "output_type": "display_data"
    }
   ],
   "source": [
    "plt.plot(history.history['loss'], label='train')\n",
    "plt.plot(history.history['val_loss'], label='test')\n",
    "plt.title('Loss')\n",
    "plt.legend()\n",
    "plt.show()\n",
    "\n",
    "plt.plot(history.history['accuracy'], label='train')\n",
    "plt.plot(history.history['val_accuracy'], label='test')\n",
    "plt.title('Accuracy')\n",
    "plt.legend()\n",
    "plt.show()"
   ]
  },
  {
   "cell_type": "code",
   "execution_count": 211,
   "metadata": {},
   "outputs": [
    {
     "name": "stdout",
     "output_type": "stream",
     "text": [
      "Epoch 1/100\n",
      "2292/2292 [==============================] - 12s 5ms/step - loss: 549948725658391.4375 - accuracy: 0.3088 - val_loss: 28307096508301312.0000 - val_accuracy: 0.3097\n",
      "Epoch 2/100\n",
      "2292/2292 [==============================] - 10s 5ms/step - loss: 152299258233459456.0000 - accuracy: 0.3147 - val_loss: 1272644027220492288.0000 - val_accuracy: 0.3097\n",
      "Epoch 3/100\n",
      "2292/2292 [==============================] - 11s 5ms/step - loss: 2592993458758530048.0000 - accuracy: 0.3105 - val_loss: 9675204245661417472.0000 - val_accuracy: 0.3097\n",
      "Epoch 4/100\n",
      "2292/2292 [==============================] - 11s 5ms/step - loss: 15107739682156066816.0000 - accuracy: 0.3167 - val_loss: 38827001335095754752.0000 - val_accuracy: 0.3097\n",
      "Epoch 5/100\n",
      "2292/2292 [==============================] - 11s 5ms/step - loss: nan - accuracy: 0.3253 - val_loss: nan - val_accuracy: 0.3677\n",
      "Epoch 6/100\n",
      "2292/2292 [==============================] - 11s 5ms/step - loss: nan - accuracy: 0.3731 - val_loss: nan - val_accuracy: 0.3677\n",
      "Epoch 7/100\n",
      "2292/2292 [==============================] - 10s 5ms/step - loss: nan - accuracy: 0.3706 - val_loss: nan - val_accuracy: 0.3677\n",
      "Epoch 8/100\n",
      "2292/2292 [==============================] - 10s 5ms/step - loss: nan - accuracy: 0.3760 - val_loss: nan - val_accuracy: 0.3677\n",
      "Epoch 9/100\n",
      "2292/2292 [==============================] - 14s 6ms/step - loss: nan - accuracy: 0.3737 - val_loss: nan - val_accuracy: 0.3677\n",
      "Epoch 10/100\n",
      "2292/2292 [==============================] - 19s 8ms/step - loss: nan - accuracy: 0.3720 - val_loss: nan - val_accuracy: 0.3677\n",
      "Epoch 11/100\n",
      "2292/2292 [==============================] - 12s 5ms/step - loss: nan - accuracy: 0.3714 - val_loss: nan - val_accuracy: 0.3677\n"
     ]
    }
   ],
   "source": [
    "output_dim = len(y.columns)\n",
    "batch_size = 16\n",
    "model = models.Sequential()\n",
    "model.add(layers.Reshape((1, X[1].size), input_shape = X_train.shape[1:]))\n",
    "model.add(layers.Conv1D(filters=100, kernel_size=1, strides = 5, activation='relu'))\n",
    "model.add(layers.Conv1D(filters=80, kernel_size=1, strides = 5, activation='relu'))\n",
    "model.add(layers.Conv1D(filters=60, kernel_size=1, strides = 5, activation='relu'))\n",
    "model.add(layers.Conv1D(filters=40, kernel_size=1, strides = 5, activation='relu'))\n",
    "model.add(layers.Conv1D(filters=20, kernel_size=1, strides = 5, activation='relu'))\n",
    "model.add(layers.Flatten())\n",
    "model.add(layers.Dense(10, activation='relu'))\n",
    "model.add(layers.Dropout(rate=0.3))\n",
    "model.add(layers.Dense(10, activation='relu'))\n",
    "model.add(layers.Dense(output_dim, activation='softmax'))\n",
    "\n",
    "model.compile(loss='categorical_crossentropy',\n",
    "              optimizer='adam',\n",
    "              metrics=['accuracy'])\n",
    "\n",
    "history = model.fit(X_train, y_train, batch_size=batch_size,\n",
    "          validation_data=(X_test, y_test), epochs=100, callbacks=es)"
   ]
  },
  {
   "cell_type": "code",
   "execution_count": 212,
   "metadata": {},
   "outputs": [
    {
     "data": {
      "image/png": "[encoded data removed]",
      "text/plain": [
       "<Figure size 432x288 with 1 Axes>"
      ]
     },
     "metadata": {
      "needs_background": "light"
     },
     "output_type": "display_data"
    },
    {
     "data": {
      "image/png": "[encoded data removed]",
      "text/plain": [
       "<Figure size 432x288 with 1 Axes>"
      ]
     },
     "metadata": {
      "needs_background": "light"
     },
     "output_type": "display_data"
    }
   ],
   "source": [
    "plt.plot(history.history['loss'], label='train')\n",
    "plt.plot(history.history['val_loss'], label='test')\n",
    "plt.title('Loss')\n",
    "plt.legend()\n",
    "plt.show()\n",
    "\n",
    "plt.plot(history.history['accuracy'], label='train')\n",
    "plt.plot(history.history['val_accuracy'], label='test')\n",
    "plt.title('Accuracy')\n",
    "plt.legend()\n",
    "plt.show()"
   ]
  },
  {
   "cell_type": "markdown",
   "metadata": {},
   "source": [
    "## RNN"
   ]
  },
  {
   "cell_type": "code",
   "execution_count": 201,
   "metadata": {},
   "outputs": [
    {
     "name": "stdout",
     "output_type": "stream",
     "text": [
      "Epoch 1/100\n",
      "2292/2292 [==============================] - 31s 13ms/step - loss: 11401.2788 - accuracy: 0.1056 - val_loss: 87093.9922 - val_accuracy: 0.0125\n",
      "Epoch 2/100\n",
      "2292/2292 [==============================] - 26s 11ms/step - loss: 127793.3662 - accuracy: 0.0659 - val_loss: 254981.1562 - val_accuracy: 0.0125\n",
      "Epoch 3/100\n",
      "2292/2292 [==============================] - 26s 11ms/step - loss: 299385.9057 - accuracy: 0.0689 - val_loss: 417214.4062 - val_accuracy: 0.0125\n",
      "Epoch 4/100\n",
      "2292/2292 [==============================] - 28s 12ms/step - loss: 458653.1946 - accuracy: 0.0707 - val_loss: 556675.0000 - val_accuracy: 0.1299\n",
      "Epoch 5/100\n",
      "2292/2292 [==============================] - 24s 11ms/step - loss: 595973.7366 - accuracy: 0.0682 - val_loss: 686814.0625 - val_accuracy: 0.1299\n",
      "Epoch 6/100\n",
      "2292/2292 [==============================] - 25s 11ms/step - loss: 727599.0521 - accuracy: 0.0683 - val_loss: 836654.8750 - val_accuracy: 0.1299\n",
      "Epoch 7/100\n",
      "2292/2292 [==============================] - 28s 12ms/step - loss: 875145.3905 - accuracy: 0.0694 - val_loss: 951050.9375 - val_accuracy: 0.1299\n",
      "Epoch 8/100\n",
      "2292/2292 [==============================] - 28s 12ms/step - loss: 972591.4465 - accuracy: 0.0712 - val_loss: 1038859.0625 - val_accuracy: 0.1299\n",
      "Epoch 9/100\n",
      "2292/2292 [==============================] - 25s 11ms/step - loss: 1059535.5191 - accuracy: 0.0728 - val_loss: 1137730.2500 - val_accuracy: 0.1299\n",
      "Epoch 10/100\n",
      "2292/2292 [==============================] - 26s 11ms/step - loss: 1194203.4126 - accuracy: 0.0802 - val_loss: 1271600.7500 - val_accuracy: 0.1299\n",
      "Epoch 11/100\n",
      "2292/2292 [==============================] - 27s 12ms/step - loss: 1342222.9234 - accuracy: 0.0812 - val_loss: 1415045.7500 - val_accuracy: 0.0125\n"
     ]
    }
   ],
   "source": [
    "output_dim = len(y.columns)\n",
    "batch_size = 16\n",
    "model = models.Sequential()\n",
    "model.add(layers.Reshape((1, X[1].size), input_shape = X_train.shape[1:]))\n",
    "model.add(layers.LSTM(128))\n",
    "model.add(layers.Dense(10, activation='relu'))\n",
    "model.add(layers.Dropout(rate=0.3))\n",
    "model.add(layers.Dense(10, activation='relu'))\n",
    "model.add(layers.Dense(output_dim, activation='softmax'))\n",
    "\n",
    "model.compile(loss='categorical_crossentropy',\n",
    "              optimizer='adam',\n",
    "              metrics=['accuracy'])\n",
    "\n",
    "history = model.fit(X_train, y_train, batch_size=batch_size,\n",
    "          validation_data=(X_test, y_test), epochs=100, callbacks=es)"
   ]
  },
  {
   "cell_type": "code",
   "execution_count": 202,
   "metadata": {},
   "outputs": [
    {
     "data": {
      "image/png": "[encoded data removed]",
      "text/plain": [
       "<Figure size 432x288 with 1 Axes>"
      ]
     },
     "metadata": {
      "needs_background": "light"
     },
     "output_type": "display_data"
    },
    {
     "data": {
      "image/png": "[encoded data removed]",
      "text/plain": [
       "<Figure size 432x288 with 1 Axes>"
      ]
     },
     "metadata": {
      "needs_background": "light"
     },
     "output_type": "display_data"
    }
   ],
   "source": [
    "plt.plot(history.history['loss'], label='train')\n",
    "plt.plot(history.history['val_loss'], label='test')\n",
    "plt.title('Loss')\n",
    "plt.legend()\n",
    "plt.show()\n",
    "\n",
    "plt.plot(history.history['accuracy'], label='train')\n",
    "plt.plot(history.history['val_accuracy'], label='test')\n",
    "plt.title('Accuracy')\n",
    "plt.legend()\n",
    "plt.show()"
   ]
  },
  {
   "cell_type": "markdown",
   "metadata": {},
   "source": [
    "## Biderectional RNN"
   ]
  },
  {
   "cell_type": "code",
   "execution_count": 205,
   "metadata": {},
   "outputs": [
    {
     "name": "stdout",
     "output_type": "stream",
     "text": [
      "Epoch 1/100\n",
      "2292/2292 [==============================] - 37s 13ms/step - loss: 19482.3692 - accuracy: 0.0281 - val_loss: 153155.4688 - val_accuracy: 0.0260\n",
      "Epoch 2/100\n",
      "2292/2292 [==============================] - 26s 12ms/step - loss: 223233.8321 - accuracy: 0.0275 - val_loss: 465507.3438 - val_accuracy: 0.0260\n",
      "Epoch 3/100\n",
      "2292/2292 [==============================] - 26s 11ms/step - loss: 560350.5805 - accuracy: 0.0278 - val_loss: 849411.1875 - val_accuracy: 0.0260\n",
      "Epoch 4/100\n",
      "2292/2292 [==============================] - 27s 12ms/step - loss: 959105.5565 - accuracy: 0.0282 - val_loss: 1277241.6250 - val_accuracy: 0.0260\n",
      "Epoch 5/100\n",
      "2292/2292 [==============================] - 28s 12ms/step - loss: 1409940.2508 - accuracy: 0.0273 - val_loss: 1755410.5000 - val_accuracy: 0.0260\n",
      "Epoch 6/100\n",
      "2292/2292 [==============================] - 27s 12ms/step - loss: 1884078.9905 - accuracy: 0.0291 - val_loss: 2258507.0000 - val_accuracy: 0.0260\n",
      "Epoch 7/100\n",
      "2292/2292 [==============================] - 27s 12ms/step - loss: 2377180.2887 - accuracy: 0.0281 - val_loss: 2796200.7500 - val_accuracy: 0.0260\n",
      "Epoch 8/100\n",
      "2292/2292 [==============================] - 27s 12ms/step - loss: 2904876.3811 - accuracy: 0.0272 - val_loss: 3301058.7500 - val_accuracy: 0.0260\n",
      "Epoch 9/100\n",
      "2292/2292 [==============================] - 27s 12ms/step - loss: 3429705.6526 - accuracy: 0.0268 - val_loss: 3786463.0000 - val_accuracy: 0.0260\n",
      "Epoch 10/100\n",
      "2292/2292 [==============================] - 30s 13ms/step - loss: 3942110.7368 - accuracy: 0.0281 - val_loss: 4301258.0000 - val_accuracy: 0.0260\n",
      "Epoch 11/100\n",
      "2292/2292 [==============================] - 27s 12ms/step - loss: 4422635.1264 - accuracy: 0.0279 - val_loss: 4794881.5000 - val_accuracy: 0.0260\n"
     ]
    }
   ],
   "source": [
    "output_dim = len(y.columns)\n",
    "batch_size = 16\n",
    "model = models.Sequential()\n",
    "model.add(layers.Reshape((1, X[1].size), input_shape = X_train.shape[1:]))\n",
    "model.add(layers.Bidirectional(layers.LSTM(64, return_sequences=True)))\n",
    "model.add(layers.Bidirectional(layers.LSTM(32)))\n",
    "model.add(layers.Dense(10, activation='relu'))\n",
    "model.add(layers.Dropout(rate=0.3))\n",
    "model.add(layers.Dense(10, activation='relu'))\n",
    "model.add(layers.Dense(output_dim, activation='softmax'))\n",
    "\n",
    "model.compile(loss='categorical_crossentropy',\n",
    "              optimizer='adam',\n",
    "              metrics=['accuracy'])\n",
    "\n",
    "history = model.fit(X_train, y_train, batch_size=batch_size,\n",
    "          validation_data=(X_test, y_test), epochs=100, callbacks=es)"
   ]
  },
  {
   "cell_type": "code",
   "execution_count": 206,
   "metadata": {},
   "outputs": [
    {
     "data": {
      "image/png": "[encoded data removed]",
      "text/plain": [
       "<Figure size 432x288 with 1 Axes>"
      ]
     },
     "metadata": {
      "needs_background": "light"
     },
     "output_type": "display_data"
    },
    {
     "data": {
      "image/png": "[encoded data removed]",
      "text/plain": [
       "<Figure size 432x288 with 1 Axes>"
      ]
     },
     "metadata": {
      "needs_background": "light"
     },
     "output_type": "display_data"
    }
   ],
   "source": [
    "plt.plot(history.history['loss'], label='train')\n",
    "plt.plot(history.history['val_loss'], label='test')\n",
    "plt.title('Loss')\n",
    "plt.legend()\n",
    "plt.show()\n",
    "\n",
    "plt.plot(history.history['accuracy'], label='train')\n",
    "plt.plot(history.history['val_accuracy'], label='test')\n",
    "plt.title('Accuracy')\n",
    "plt.legend()\n",
    "plt.show()"
   ]
  },
  {
   "cell_type": "markdown",
   "metadata": {},
   "source": [
    "## Simplifying Clases: negative, positve, neutral"
   ]
  },
  {
   "cell_type": "code",
   "execution_count": 217,
   "metadata": {},
   "outputs": [],
   "source": [
    "mapping = {1:0,\n",
    "           2:0,\n",
    "           3:1,\n",
    "           4:2,\n",
    "           5:2}"
   ]
  },
  {
   "cell_type": "code",
   "execution_count": 230,
   "metadata": {},
   "outputs": [],
   "source": [
    "y_encoded = y.copy()\n",
    "for col in y_encoded.columns:\n",
    "    y_encoded[col] = y_encoded[col].map(mapping)"
   ]
  },
  {
   "cell_type": "code",
   "execution_count": 235,
   "metadata": {},
   "outputs": [],
   "source": [
    "X_train, X_test, y_train, y_test = train_test_split(X, y_encoded,\n",
    "                                                    test_size=0.3,\n",
    "                                                    random_state=1)"
   ]
  },
  {
   "cell_type": "code",
   "execution_count": 236,
   "metadata": {},
   "outputs": [
    {
     "name": "stdout",
     "output_type": "stream",
     "text": [
      "Epoch 1/100\n",
      "2292/2292 [==============================] - 13s 5ms/step - loss: 8007573238299.3428 - accuracy: 0.3448 - val_loss: 148915139641344.0000 - val_accuracy: 0.5481\n",
      "Epoch 2/100\n",
      "2292/2292 [==============================] - 11s 5ms/step - loss: 625712675416720.5000 - accuracy: 0.1645 - val_loss: 2384988091711488.0000 - val_accuracy: 0.0900\n",
      "Epoch 3/100\n",
      "2292/2292 [==============================] - 11s 5ms/step - loss: 7194479524931912.0000 - accuracy: 0.1386 - val_loss: 9477288793997312.0000 - val_accuracy: 0.0900\n",
      "Epoch 4/100\n",
      "2292/2292 [==============================] - 10s 4ms/step - loss: 36106832013787952.0000 - accuracy: 0.1289 - val_loss: 27645879850631168.0000 - val_accuracy: 0.5481\n",
      "Epoch 5/100\n",
      "2292/2292 [==============================] - 10s 5ms/step - loss: 114665766837600496.0000 - accuracy: 0.1323 - val_loss: 216336128309985280.0000 - val_accuracy: 0.0944\n",
      "Epoch 6/100\n",
      "2292/2292 [==============================] - 11s 5ms/step - loss: nan - accuracy: 0.2125 - val_loss: nan - val_accuracy: 0.5481\n",
      "Epoch 7/100\n",
      "2292/2292 [==============================] - 11s 5ms/step - loss: nan - accuracy: 0.5514 - val_loss: nan - val_accuracy: 0.5481\n",
      "Epoch 8/100\n",
      "2292/2292 [==============================] - 12s 5ms/step - loss: nan - accuracy: 0.5499 - val_loss: nan - val_accuracy: 0.5481\n",
      "Epoch 9/100\n",
      "2292/2292 [==============================] - 11s 5ms/step - loss: nan - accuracy: 0.5580 - val_loss: nan - val_accuracy: 0.5481\n",
      "Epoch 10/100\n",
      "2292/2292 [==============================] - 15s 7ms/step - loss: nan - accuracy: 0.5504 - val_loss: nan - val_accuracy: 0.5481\n",
      "Epoch 11/100\n",
      "2292/2292 [==============================] - 11s 5ms/step - loss: nan - accuracy: 0.5547 - val_loss: nan - val_accuracy: 0.5481\n"
     ]
    }
   ],
   "source": [
    "output_dim = len(y.columns)\n",
    "batch_size = 16\n",
    "model = models.Sequential()\n",
    "model.add(layers.Reshape((1, X[1].size), input_shape = X_train.shape[1:]))\n",
    "model.add(layers.Conv1D(filters=100, kernel_size=1, strides = 5, activation='relu'))\n",
    "model.add(layers.Conv1D(filters=80, kernel_size=1, strides = 5, activation='relu'))\n",
    "model.add(layers.Conv1D(filters=60, kernel_size=1, strides = 5, activation='relu'))\n",
    "model.add(layers.Conv1D(filters=40, kernel_size=1, strides = 5, activation='relu'))\n",
    "model.add(layers.Conv1D(filters=20, kernel_size=1, strides = 5, activation='relu'))\n",
    "model.add(layers.Flatten())\n",
    "model.add(layers.Dense(10, activation='relu'))\n",
    "model.add(layers.Dropout(rate=0.3))\n",
    "model.add(layers.Dense(10, activation='relu'))\n",
    "model.add(layers.Dense(output_dim, activation='softmax'))\n",
    "\n",
    "model.compile(loss='categorical_crossentropy',\n",
    "              optimizer='adam',\n",
    "              metrics=['accuracy'])\n",
    "\n",
    "history = model.fit(X_train, y_train, batch_size=batch_size,\n",
    "          validation_data=(X_test, y_test), epochs=100, callbacks=es)"
   ]
  },
  {
   "cell_type": "code",
   "execution_count": 237,
   "metadata": {},
   "outputs": [
    {
     "data": {
      "image/png": "[encoded data removed]",
      "text/plain": [
       "<Figure size 432x288 with 1 Axes>"
      ]
     },
     "metadata": {
      "needs_background": "light"
     },
     "output_type": "display_data"
    },
    {
     "data": {
      "image/png": "[encoded data removed]",
      "text/plain": [
       "<Figure size 432x288 with 1 Axes>"
      ]
     },
     "metadata": {
      "needs_background": "light"
     },
     "output_type": "display_data"
    }
   ],
   "source": [
    "plt.plot(history.history['loss'], label='train')\n",
    "plt.plot(history.history['val_loss'], label='test')\n",
    "plt.title('Loss')\n",
    "plt.legend()\n",
    "plt.show()\n",
    "\n",
    "plt.plot(history.history['accuracy'], label='train')\n",
    "plt.plot(history.history['val_accuracy'], label='test')\n",
    "plt.title('Accuracy')\n",
    "plt.legend()\n",
    "plt.show()"
   ]
  },
  {
   "cell_type": "code",
   "execution_count": 238,
   "metadata": {},
   "outputs": [],
   "source": [
    "from sklearn.linear_model import LogisticRegression"
   ]
  },
  {
   "cell_type": "code",
   "execution_count": 239,
   "metadata": {},
   "outputs": [],
   "source": [
    "model = LogisticRegression()\n"
   ]
  },
  {
   "cell_type": "code",
   "execution_count": 245,
   "metadata": {
    "scrolled": true
   },
   "outputs": [],
   "source": [
    "scores_dic = {}\n",
    "for score in y_train.columns:\n",
    "    y_tmp = y_train[score]\n",
    "    model = LogisticRegression(max_iter=5000)\n",
    "    model.fit(X_train, y_tmp, )\n",
    "    scores_dic[f'{score}'] = model.score(X_test, y_test[score])"
   ]
  },
  {
   "cell_type": "code",
   "execution_count": 246,
   "metadata": {},
   "outputs": [
    {
     "data": {
      "text/plain": [
       "{'work-balance': 0.5679923639834553,\n",
       " 'culture-values': 0.6931594018453706,\n",
       " 'career-opportunities': 0.6379255488386891,\n",
       " 'comp-benefits': 0.7160038180082724,\n",
       " 'senior-mgmt': 0.600890868596882,\n",
       " 'overall': 0.5424753420299078}"
      ]
     },
     "execution_count": 246,
     "metadata": {},
     "output_type": "execute_result"
    }
   ],
   "source": [
    "scores_dic"
   ]
  },
  {
   "cell_type": "code",
   "execution_count": null,
   "metadata": {},
   "outputs": [],
   "source": []
  }
 ],
 "metadata": {
  "kernelspec": {
   "display_name": "Python 3",
   "language": "python",
   "name": "python3"
  },
  "language_info": {
   "codemirror_mode": {
    "name": "ipython",
    "version": 3
   },
   "file_extension": ".py",
   "mimetype": "text/x-python",
   "name": "python",
   "nbconvert_exporter": "python",
   "pygments_lexer": "ipython3",
   "version": "3.7.7"
  },
  "toc": {
   "base_numbering": 1,
   "nav_menu": {},
   "number_sections": true,
   "sideBar": true,
   "skip_h1_title": false,
   "title_cell": "Table of Contents",
   "title_sidebar": "Contents",
   "toc_cell": false,
   "toc_position": {},
   "toc_section_display": true,
   "toc_window_display": false
  }
 },
 "nbformat": 4,
 "nbformat_minor": 4
}
