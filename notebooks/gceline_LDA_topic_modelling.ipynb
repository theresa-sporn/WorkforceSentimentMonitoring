{
 "cells": [
  {
   "cell_type": "code",
   "execution_count": 48,
   "metadata": {},
   "outputs": [],
   "source": [
    "import pandas as pd\n",
    "import numpy as np\n",
    "import os\n",
    "\n",
    "from sklearn.feature_extraction.text import CountVectorizer\n",
    "from sklearn.feature_extraction.text import TfidfVectorizer\n",
    "from sklearn.decomposition import LatentDirichletAllocation"
   ]
  },
  {
   "cell_type": "code",
   "execution_count": 49,
   "metadata": {},
   "outputs": [
    {
     "data": {
      "text/html": [
       "<div>\n",
       "<style scoped>\n",
       "    .dataframe tbody tr th:only-of-type {\n",
       "        vertical-align: middle;\n",
       "    }\n",
       "\n",
       "    .dataframe tbody tr th {\n",
       "        vertical-align: top;\n",
       "    }\n",
       "\n",
       "    .dataframe thead th {\n",
       "        text-align: right;\n",
       "    }\n",
       "</style>\n",
       "<table border=\"1\" class=\"dataframe\">\n",
       "  <thead>\n",
       "    <tr style=\"text-align: right;\">\n",
       "      <th></th>\n",
       "      <th>Unnamed: 0</th>\n",
       "      <th>summary</th>\n",
       "      <th>positives</th>\n",
       "      <th>negatives</th>\n",
       "      <th>advice_to_mgmt</th>\n",
       "      <th>review</th>\n",
       "      <th>summary_length</th>\n",
       "      <th>postives_length</th>\n",
       "      <th>negatives_length</th>\n",
       "      <th>advice_length</th>\n",
       "      <th>...</th>\n",
       "      <th>subjectivity_summary</th>\n",
       "      <th>polarity_summary</th>\n",
       "      <th>subjectivity_positives</th>\n",
       "      <th>polarity_positives</th>\n",
       "      <th>subjectivity_negatives</th>\n",
       "      <th>polarity_negatives</th>\n",
       "      <th>subjectivity_advice_to_mgmt</th>\n",
       "      <th>polarity_advice_to_mgmt</th>\n",
       "      <th>subjectivity_review</th>\n",
       "      <th>polarity_review</th>\n",
       "    </tr>\n",
       "  </thead>\n",
       "  <tbody>\n",
       "    <tr>\n",
       "      <th>0</th>\n",
       "      <td>0</td>\n",
       "      <td>good job considering retail</td>\n",
       "      <td>apple good company period pay average working ...</td>\n",
       "      <td>job movement lateral extremely difficult get p...</td>\n",
       "      <td>NaN</td>\n",
       "      <td>good job considering retail apple good company...</td>\n",
       "      <td>31</td>\n",
       "      <td>118</td>\n",
       "      <td>127</td>\n",
       "      <td>0</td>\n",
       "      <td>...</td>\n",
       "      <td>0.6</td>\n",
       "      <td>0.7</td>\n",
       "      <td>0.666667</td>\n",
       "      <td>0.516667</td>\n",
       "      <td>1.0</td>\n",
       "      <td>-0.5</td>\n",
       "      <td>0.0</td>\n",
       "      <td>0.0</td>\n",
       "      <td>0.72</td>\n",
       "      <td>0.35</td>\n",
       "    </tr>\n",
       "  </tbody>\n",
       "</table>\n",
       "<p>1 rows × 51 columns</p>\n",
       "</div>"
      ],
      "text/plain": [
       "   Unnamed: 0                      summary  \\\n",
       "0           0  good job considering retail   \n",
       "\n",
       "                                           positives  \\\n",
       "0  apple good company period pay average working ...   \n",
       "\n",
       "                                           negatives advice_to_mgmt  \\\n",
       "0  job movement lateral extremely difficult get p...            NaN   \n",
       "\n",
       "                                              review  summary_length  \\\n",
       "0  good job considering retail apple good company...              31   \n",
       "\n",
       "   postives_length  negatives_length  advice_length  ...  \\\n",
       "0              118               127              0  ...   \n",
       "\n",
       "   subjectivity_summary  polarity_summary  subjectivity_positives  \\\n",
       "0                   0.6               0.7                0.666667   \n",
       "\n",
       "   polarity_positives  subjectivity_negatives  polarity_negatives  \\\n",
       "0            0.516667                     1.0                -0.5   \n",
       "\n",
       "   subjectivity_advice_to_mgmt  polarity_advice_to_mgmt  subjectivity_review  \\\n",
       "0                          0.0                      0.0                 0.72   \n",
       "\n",
       "   polarity_review  \n",
       "0             0.35  \n",
       "\n",
       "[1 rows x 51 columns]"
      ]
     },
     "execution_count": 49,
     "metadata": {},
     "output_type": "execute_result"
    }
   ],
   "source": [
    "path = os.path.join(os.getcwd(), '../raw_data')\n",
    "\n",
    "data_prep = pd.read_csv(os.path.join(path, 'x_train_preprocessed.csv'))\n",
    "data_prep.head(1)"
   ]
  },
  {
   "cell_type": "code",
   "execution_count": 50,
   "metadata": {},
   "outputs": [
    {
     "data": {
      "text/plain": [
       "(36970, 51)"
      ]
     },
     "execution_count": 50,
     "metadata": {},
     "output_type": "execute_result"
    }
   ],
   "source": [
    "data_prep.shape"
   ]
  },
  {
   "cell_type": "code",
   "execution_count": 51,
   "metadata": {},
   "outputs": [
    {
     "data": {
      "text/plain": [
       "1"
      ]
     },
     "execution_count": 51,
     "metadata": {},
     "output_type": "execute_result"
    }
   ],
   "source": [
    "data_prep.positives.isnull().sum()"
   ]
  },
  {
   "cell_type": "code",
   "execution_count": 66,
   "metadata": {},
   "outputs": [
    {
     "data": {
      "text/plain": [
       "(36969,)"
      ]
     },
     "execution_count": 66,
     "metadata": {},
     "output_type": "execute_result"
    }
   ],
   "source": [
    "# only consider positive reviews and drop nan values\n",
    "\n",
    "positives = data_prep.positives.dropna()\n",
    "positives.shape"
   ]
  },
  {
   "cell_type": "code",
   "execution_count": 67,
   "metadata": {},
   "outputs": [
    {
     "data": {
      "text/plain": [
       "(36961,)"
      ]
     },
     "execution_count": 67,
     "metadata": {},
     "output_type": "execute_result"
    }
   ],
   "source": [
    "# only consider positive reviews and drop nan values\n",
    "\n",
    "negatives = data_prep.negatives.dropna()\n",
    "negatives.shape"
   ]
  },
  {
   "cell_type": "code",
   "execution_count": 68,
   "metadata": {},
   "outputs": [],
   "source": [
    "def print_topics(model, vectorizer):\n",
    "    for idx, topic in enumerate(model.components_):\n",
    "        print(\"Topic %d:\" % (idx))\n",
    "        print([(vectorizer.get_feature_names()[i], topic[i])\n",
    "                        for i in topic.argsort()[:-10 - 1:-1]])"
   ]
  },
  {
   "cell_type": "code",
   "execution_count": 62,
   "metadata": {},
   "outputs": [],
   "source": [
    "vectorizer = TfidfVectorizer?"
   ]
  },
  {
   "cell_type": "code",
   "execution_count": 73,
   "metadata": {},
   "outputs": [
    {
     "name": "stdout",
     "output_type": "stream",
     "text": [
      "Topic 0:\n",
      "[('work life balance', 84.55923675233602), ('great place work', 76.9112851326896), ('good place work', 55.09422466689761), ('great people great', 40.00012606485586), ('good work life', 39.49154530196524), ('great benefit great', 35.35190428131399), ('good work culture', 35.00992921942635), ('good pay benefit', 33.59143616622594), ('great benefit good', 28.81924941469842), ('pay good benefit', 27.460860219935302)]\n",
      "Topic 1:\n",
      "[('work life balance', 126.87544734707062), ('good company work', 53.81035149547692), ('great people work', 48.580069281848466), ('good work life', 45.79489825771784), ('great place work', 36.93007293558399), ('great work life', 31.434475480307626), ('great work environment', 28.76612713196723), ('best company work', 24.616846865810967), ('cutting edge technology', 21.990426643404035), ('life balance great', 19.584447361724262)]\n",
      "Topic 2:\n",
      "[('work life balance', 86.14092101295624), ('great company work', 79.07064292822162), ('life balance good', 34.52053469109267), ('lot smart people', 31.67445955695212), ('good work life', 29.039361654854524), ('fast paced environment', 24.18717910476152), ('great place work', 23.193541315684705), ('best place work', 23.137661584611724), ('pay great benefit', 21.29166545046537), ('good pay great', 20.125346208829537)]\n"
     ]
    }
   ],
   "source": [
    "# topic modelling ngram_range\n",
    "\n",
    "vectorizer = TfidfVectorizer(ngram_range=(3,3)).fit(positives)\n",
    "\n",
    "data_vectorized = vectorizer.transform(positives)\n",
    "\n",
    "lda_model = LatentDirichletAllocation(n_components=3).fit(data_vectorized)\n",
    "\n",
    "print_topics(lda_model, vectorizer)"
   ]
  },
  {
   "cell_type": "code",
   "execution_count": 17,
   "metadata": {},
   "outputs": [],
   "source": [
    "vectorizer = TfidfVectorizer().fit(negatives)\n",
    "\n",
    "data_vectorized = vectorizer.transform(negatives)\n",
    "\n",
    "lda_model = LatentDirichletAllocation(n_components=3).fit(data_vectorized)"
   ]
  },
  {
   "cell_type": "code",
   "execution_count": 18,
   "metadata": {},
   "outputs": [
    {
     "name": "stdout",
     "output_type": "stream",
     "text": [
      "Topic 0:\n",
      "[('company', 523.1112586690413), ('team', 469.1916343365468), ('management', 414.2990293972109), ('politics', 372.25779863126843), ('manager', 337.1728721383093), ('people', 330.8864989131418), ('lot', 323.1838741163528), ('many', 315.6968351369439), ('much', 284.9968356487328), ('process', 277.8235162072491)]\n",
      "Topic 1:\n",
      "[('con', 489.8645780100314), ('work', 458.47627007399683), ('time', 448.03928123033813), ('get', 397.0545462851802), ('hour', 351.77357040958896), ('retail', 321.6281829884793), ('job', 305.16351342619504), ('like', 299.6666636265051), ('pay', 297.8287889658587), ('employee', 291.20788666255737)]\n",
      "Topic 2:\n",
      "[('work', 892.9338593011441), ('life', 692.8542453395337), ('balance', 664.5735827207058), ('hour', 422.5379943765039), ('long', 397.09491612618524), ('think', 359.8470166939037), ('none', 327.5527775281271), ('nothing', 327.4536653903782), ('shift', 230.74631860458894), ('sometimes', 213.1842294580742)]\n"
     ]
    }
   ],
   "source": [
    "print_topics(lda_model, vectorizer)"
   ]
  },
  {
   "cell_type": "code",
   "execution_count": 75,
   "metadata": {},
   "outputs": [
    {
     "name": "stdout",
     "output_type": "stream",
     "text": [
      "Topic 0:\n",
      "[('work life balance', 118.88627776250348), ('none none none', 17.32884322858625), ('poor work life', 16.63333502694975), ('nothing bad say', 16.027715534425244), ('work long hour', 14.669433733247676), ('long working hour', 14.000430162048167), ('life balance great', 13.501928656287465), ('hour short break', 11.92891922210692), ('life balance difficult', 11.436488394066371), ('long hour short', 11.236912206350384)]\n",
      "Topic 1:\n",
      "[('work life balance', 135.24586536698425), ('life balance good', 15.386637705785558), ('great place work', 13.682357530512533), ('good work life', 12.523525886150507), ('pay could better', 12.242547755290836), ('fast paced environment', 11.980782120830556), ('bad work life', 11.97040355949287), ('poor work life', 11.86720298842089), ('life balance challenging', 11.178934727726391), ('long hour foot', 10.871223972017917)]\n",
      "Topic 2:\n",
      "[('work life balance', 145.6577855541382), ('life balance could', 12.599475018083421), ('poor work life', 11.831285408576017), ('nothing come mind', 10.00111311073748), ('hour work life', 9.789040322297813), ('life balance hard', 9.588559559097694), ('long work hour', 9.478863662109626), ('balance could better', 8.735916013189955), ('life balance bad', 8.448950893924604), ('long hour work', 8.225824372518652)]\n"
     ]
    }
   ],
   "source": [
    "vectorizer = TfidfVectorizer(max_df=0.8, ngram_range=(3,3)).fit(negatives) # words that appear most (top 20%) left out\n",
    "\n",
    "data_vectorized = vectorizer.transform(negatives)\n",
    "\n",
    "lda_model = LatentDirichletAllocation(n_components=3).fit(data_vectorized)\n",
    "\n",
    "print_topics(lda_model, vectorizer)"
   ]
  },
  {
   "cell_type": "code",
   "execution_count": 30,
   "metadata": {},
   "outputs": [
    {
     "name": "stderr",
     "output_type": "stream",
     "text": [
      "[nltk_data] Downloading package punkt to\n",
      "[nltk_data]     /Users/celinegianduzzo/nltk_data...\n",
      "[nltk_data]   Package punkt is already up-to-date!\n",
      "[nltk_data] Downloading package averaged_perceptron_tagger to\n",
      "[nltk_data]     /Users/celinegianduzzo/nltk_data...\n",
      "[nltk_data]   Package averaged_perceptron_tagger is already up-to-\n",
      "[nltk_data]       date!\n"
     ]
    }
   ],
   "source": [
    "import nltk\n",
    "from nltk.corpus import stopwords\n",
    "nltk.download('punkt')\n",
    "nltk.download('averaged_perceptron_tagger')\n",
    "import string\n",
    "from nltk import word_tokenize, pos_tag"
   ]
  },
  {
   "cell_type": "code",
   "execution_count": 42,
   "metadata": {},
   "outputs": [],
   "source": [
    "def nouns_adj(text):\n",
    "    '''Given a string of text, tokenize the text and pull out only     the nouns and adjectives.'''\n",
    "    is_noun_adj = lambda pos: pos[:2] == 'NN' or pos[:2] == 'JJ'\n",
    "    tokenized = word_tokenize(text)\n",
    "    nouns_adj = [word for (word, pos) in pos_tag(tokenized) if   is_noun_adj(pos)]\n",
    "    return ' '.join(nouns_adj)"
   ]
  },
  {
   "cell_type": "code",
   "execution_count": 43,
   "metadata": {},
   "outputs": [
    {
     "data": {
      "text/plain": [
       "(36961, 1)"
      ]
     },
     "execution_count": 43,
     "metadata": {},
     "output_type": "execute_result"
    }
   ],
   "source": [
    "data_nouns = pd.DataFrame(negatives.apply(nouns_adj))\n",
    "data_nouns.shape"
   ]
  },
  {
   "cell_type": "code",
   "execution_count": 28,
   "metadata": {},
   "outputs": [
    {
     "data": {
      "text/plain": [
       "0    job movement lateral extremely difficult get p...\n",
       "1    hr protect company employee careful restricted...\n",
       "2    promote work life balance word employee get re...\n",
       "3    work life balance hostile environment reward b...\n",
       "4    hectic schedule u ill learning cutting technology\n",
       "Name: negatives, dtype: object"
      ]
     },
     "execution_count": 28,
     "metadata": {},
     "output_type": "execute_result"
    }
   ],
   "source": [
    "negatives.head()"
   ]
  },
  {
   "cell_type": "code",
   "execution_count": 45,
   "metadata": {},
   "outputs": [
    {
     "name": "stdout",
     "output_type": "stream",
     "text": [
      "Topic 0:\n",
      "[('con', 727.8658970450746), ('nothing', 452.7997946898984), ('none', 378.64948974564885), ('great', 269.93877116775025), ('job', 227.53850929687698), ('pay', 213.56757953385338), ('think', 207.16523952579215), ('good', 204.15977624800027), ('everything', 188.4376859454737), ('amazon', 185.7901002887424)]\n",
      "Topic 1:\n",
      "[('hard', 466.2950537418394), ('retail', 369.24620387123736), ('day', 300.0828275039728), ('environment', 282.58356257810357), ('move', 272.85762557674354), ('get', 272.6180762419799), ('growth', 260.3050997693076), ('team', 251.5581007266434), ('shift', 241.87284130324744), ('job', 236.57301575170746)]\n",
      "Topic 2:\n",
      "[('lot', 614.8280733579328), ('balance', 604.919975322276), ('manager', 451.75786206303104), ('politics', 447.84625733645385), ('much', 412.75712532927827), ('team', 383.9560771664589), ('many', 351.5619811779149), ('employee', 335.3021603408089), ('poor', 288.53397639821236), ('lack', 271.05319243804763)]\n"
     ]
    }
   ],
   "source": [
    "vectorizer = TfidfVectorizer(max_df=0.1).fit(data_nouns.negatives) # words that appear most (top 20%) left out\n",
    "\n",
    "data_vectorized = vectorizer.transform(data_nouns.negatives)\n",
    "\n",
    "lda_model = LatentDirichletAllocation(n_components=3).fit(data_vectorized)\n",
    "\n",
    "print_topics(lda_model, vectorizer)"
   ]
  }
 ],
 "metadata": {
  "kernelspec": {
   "display_name": "Python 3",
   "language": "python",
   "name": "python3"
  },
  "language_info": {
   "codemirror_mode": {
    "name": "ipython",
    "version": 3
   },
   "file_extension": ".py",
   "mimetype": "text/x-python",
   "name": "python",
   "nbconvert_exporter": "python",
   "pygments_lexer": "ipython3",
   "version": "3.7.7"
  },
  "toc": {
   "base_numbering": 1,
   "nav_menu": {},
   "number_sections": true,
   "sideBar": true,
   "skip_h1_title": false,
   "title_cell": "Table of Contents",
   "title_sidebar": "Contents",
   "toc_cell": false,
   "toc_position": {},
   "toc_section_display": true,
   "toc_window_display": false
  }
 },
 "nbformat": 4,
 "nbformat_minor": 4
}
