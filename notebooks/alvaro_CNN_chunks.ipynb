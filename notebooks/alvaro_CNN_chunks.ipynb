{
 "cells": [
  {
   "cell_type": "markdown",
   "metadata": {},
   "source": [
    "# CNN with Embeddings"
   ]
  },
  {
   "cell_type": "markdown",
   "metadata": {},
   "source": [
    "In this notebook I shall attempt to load the word embeddings from 10 different pickle files and feed them into a Convolutional Neural Network."
   ]
  },
  {
   "cell_type": "markdown",
   "metadata": {},
   "source": [
    "## Pseudocode"
   ]
  },
  {
   "cell_type": "markdown",
   "metadata": {},
   "source": [
    "1. Load Pickle files and join into a single DataFrame / np.array\n",
    "\n",
    "2. Fix dimensionality of the arrays\n",
    "\n",
    "3. Holdout 75 / 25\n",
    "\n",
    "4. Train\n",
    "\n",
    "5. Evaluate"
   ]
  },
  {
   "cell_type": "markdown",
   "metadata": {},
   "source": [
    "## Loading the Pickle files"
   ]
  },
  {
   "cell_type": "code",
   "execution_count": 1,
   "metadata": {},
   "outputs": [],
   "source": [
    "import os"
   ]
  },
  {
   "cell_type": "code",
   "execution_count": 18,
   "metadata": {},
   "outputs": [],
   "source": [
    "nb_dir = os.path.split(os.path.abspath('__file__'))[0] # path to directory containing all notebooks"
   ]
  },
  {
   "cell_type": "code",
   "execution_count": 22,
   "metadata": {},
   "outputs": [],
   "source": [
    "pickl_dir = os.path.join(nb_dir, '../pickle_files/') # path to directory containing the pickle files"
   ]
  },
  {
   "cell_type": "code",
   "execution_count": 32,
   "metadata": {},
   "outputs": [
    {
     "name": "stdout",
     "output_type": "stream",
     "text": [
      "embeddings_chunk_7.p\n",
      "embeddings_chunk_3.p\n",
      "embeddings_chunk_9.p\n",
      ".DS_Store\n",
      "embeddings_chunk_4.p\n",
      "embeddings_chunk_5.p\n",
      "embeddings_chunk_1.p\n",
      "reviews_eng.p\n",
      "embeddings_chunk_6.p\n",
      "embeddings_chunk_10.p\n",
      "embeddings_chunk_8.p\n",
      "embeddings_chunk_2.p\n"
     ]
    }
   ],
   "source": [
    "for root, dirs, files in os.walk(pickl_dir):\n",
    "    for file in files:\n",
    "        print(file)"
   ]
  },
  {
   "cell_type": "code",
   "execution_count": null,
   "metadata": {},
   "outputs": [],
   "source": []
  }
 ],
 "metadata": {
  "kernelspec": {
   "display_name": "Python 3",
   "language": "python",
   "name": "python3"
  },
  "language_info": {
   "codemirror_mode": {
    "name": "ipython",
    "version": 3
   },
   "file_extension": ".py",
   "mimetype": "text/x-python",
   "name": "python",
   "nbconvert_exporter": "python",
   "pygments_lexer": "ipython3",
   "version": "3.7.7"
  },
  "toc": {
   "base_numbering": 1,
   "nav_menu": {},
   "number_sections": true,
   "sideBar": true,
   "skip_h1_title": false,
   "title_cell": "Table of Contents",
   "title_sidebar": "Contents",
   "toc_cell": false,
   "toc_position": {},
   "toc_section_display": true,
   "toc_window_display": false
  }
 },
 "nbformat": 4,
 "nbformat_minor": 4
}
