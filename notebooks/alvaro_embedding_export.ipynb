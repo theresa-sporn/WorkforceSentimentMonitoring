{
 "cells": [
  {
   "cell_type": "code",
   "execution_count": 57,
   "metadata": {},
   "outputs": [],
   "source": [
    "import pickle\n",
    "import joblib\n",
    "import pandas as pd\n",
    "import os\n",
    "import numpy as np"
   ]
  },
  {
   "cell_type": "code",
   "execution_count": 43,
   "metadata": {},
   "outputs": [
    {
     "name": "stdout",
     "output_type": "stream",
     "text": [
      "/Users/AlephPei/code/theresa-sporn/WorkforceSentimentMonitoring/notebooks\n",
      "/Users/AlephPei/code/theresa-sporn/WorkforceSentimentMonitoring/notebooks/../pickle_files/reviews_eng.p\n"
     ]
    }
   ],
   "source": [
    "path = os.path.split(os.path.abspath('__file__'))[0]\n",
    "print(path)\n",
    "file = os.path.join(path, '../pickle_files/reviews_eng.p')\n",
    "print(file)\n",
    "with open(file, 'rb'):\n",
    "    df = joblib.load(file)"
   ]
  },
  {
   "cell_type": "code",
   "execution_count": 34,
   "metadata": {},
   "outputs": [],
   "source": [
    "df_list = np.array_split(df, 10)"
   ]
  },
  {
   "cell_type": "code",
   "execution_count": 35,
   "metadata": {},
   "outputs": [
    {
     "data": {
      "text/plain": [
       "10"
      ]
     },
     "execution_count": 35,
     "metadata": {},
     "output_type": "execute_result"
    }
   ],
   "source": [
    "len(df_list)"
   ]
  },
  {
   "cell_type": "code",
   "execution_count": 41,
   "metadata": {},
   "outputs": [
    {
     "name": "stdout",
     "output_type": "stream",
     "text": [
      "1 /Users/AlephPei/code/theresa-sporn/WorkforceSentimentMonitoring/notebooks/../pickle_files/chunk_1.p\n",
      "2 /Users/AlephPei/code/theresa-sporn/WorkforceSentimentMonitoring/notebooks/../pickle_files/chunk_2.p\n",
      "3 /Users/AlephPei/code/theresa-sporn/WorkforceSentimentMonitoring/notebooks/../pickle_files/chunk_3.p\n",
      "4 /Users/AlephPei/code/theresa-sporn/WorkforceSentimentMonitoring/notebooks/../pickle_files/chunk_4.p\n",
      "5 /Users/AlephPei/code/theresa-sporn/WorkforceSentimentMonitoring/notebooks/../pickle_files/chunk_5.p\n",
      "6 /Users/AlephPei/code/theresa-sporn/WorkforceSentimentMonitoring/notebooks/../pickle_files/chunk_6.p\n",
      "7 /Users/AlephPei/code/theresa-sporn/WorkforceSentimentMonitoring/notebooks/../pickle_files/chunk_7.p\n",
      "8 /Users/AlephPei/code/theresa-sporn/WorkforceSentimentMonitoring/notebooks/../pickle_files/chunk_8.p\n",
      "9 /Users/AlephPei/code/theresa-sporn/WorkforceSentimentMonitoring/notebooks/../pickle_files/chunk_9.p\n",
      "10 /Users/AlephPei/code/theresa-sporn/WorkforceSentimentMonitoring/notebooks/../pickle_files/chunk_10.p\n"
     ]
    }
   ],
   "source": [
    "for index, dataframe in enumerate(df_list, 1):\n",
    "    file = os.path.join(path, f'../pickle_files/chunk_{index}.p')\n",
    "    print(index, file)"
   ]
  },
  {
   "cell_type": "code",
   "execution_count": 23,
   "metadata": {},
   "outputs": [],
   "source": [
    "df = df[['review', 'work-balance', 'culture-values', 'career-opportunities',\n",
    "         'comp-benefits', 'senior-mgmt', 'overall']]"
   ]
  },
  {
   "cell_type": "code",
   "execution_count": 26,
   "metadata": {},
   "outputs": [],
   "source": [
    "with open(file, 'wb'):\n",
    "    joblib.dump(df, file)"
   ]
  },
  {
   "cell_type": "code",
   "execution_count": 44,
   "metadata": {},
   "outputs": [],
   "source": [
    "with open(file, 'rb'):\n",
    "    df = joblib.load(file)"
   ]
  },
  {
   "cell_type": "code",
   "execution_count": 47,
   "metadata": {},
   "outputs": [
    {
     "data": {
      "text/html": [
       "<div>\n",
       "<style scoped>\n",
       "    .dataframe tbody tr th:only-of-type {\n",
       "        vertical-align: middle;\n",
       "    }\n",
       "\n",
       "    .dataframe tbody tr th {\n",
       "        vertical-align: top;\n",
       "    }\n",
       "\n",
       "    .dataframe thead th {\n",
       "        text-align: right;\n",
       "    }\n",
       "</style>\n",
       "<table border=\"1\" class=\"dataframe\">\n",
       "  <thead>\n",
       "    <tr style=\"text-align: right;\">\n",
       "      <th></th>\n",
       "      <th>review</th>\n",
       "      <th>work-balance</th>\n",
       "      <th>culture-values</th>\n",
       "      <th>career-opportunities</th>\n",
       "      <th>comp-benefits</th>\n",
       "      <th>senior-mgmt</th>\n",
       "      <th>overall</th>\n",
       "    </tr>\n",
       "  </thead>\n",
       "  <tbody>\n",
       "    <tr>\n",
       "      <th>5239</th>\n",
       "      <td>Great Place to work! Great Culture, lots of pe...</td>\n",
       "      <td>4</td>\n",
       "      <td>5</td>\n",
       "      <td>5</td>\n",
       "      <td>5</td>\n",
       "      <td>4</td>\n",
       "      <td>3</td>\n",
       "    </tr>\n",
       "    <tr>\n",
       "      <th>5240</th>\n",
       "      <td>Fulfillment Associate -- most fun I have had a...</td>\n",
       "      <td>2</td>\n",
       "      <td>5</td>\n",
       "      <td>5</td>\n",
       "      <td>5</td>\n",
       "      <td>4</td>\n",
       "      <td>3</td>\n",
       "    </tr>\n",
       "    <tr>\n",
       "      <th>5241</th>\n",
       "      <td>Scandalous Treatment, Working Conditions and S...</td>\n",
       "      <td>1</td>\n",
       "      <td>1</td>\n",
       "      <td>1</td>\n",
       "      <td>1</td>\n",
       "      <td>1</td>\n",
       "      <td>1</td>\n",
       "    </tr>\n",
       "    <tr>\n",
       "      <th>5242</th>\n",
       "      <td>Hiring/Working Easy Job but can be grueling du...</td>\n",
       "      <td>2</td>\n",
       "      <td>2</td>\n",
       "      <td>2</td>\n",
       "      <td>2</td>\n",
       "      <td>2</td>\n",
       "      <td>2</td>\n",
       "    </tr>\n",
       "    <tr>\n",
       "      <th>5243</th>\n",
       "      <td>5 year employee Great pay for entry level posi...</td>\n",
       "      <td>4</td>\n",
       "      <td>2</td>\n",
       "      <td>4</td>\n",
       "      <td>5</td>\n",
       "      <td>3</td>\n",
       "      <td>4</td>\n",
       "    </tr>\n",
       "    <tr>\n",
       "      <th>...</th>\n",
       "      <td>...</td>\n",
       "      <td>...</td>\n",
       "      <td>...</td>\n",
       "      <td>...</td>\n",
       "      <td>...</td>\n",
       "      <td>...</td>\n",
       "      <td>...</td>\n",
       "    </tr>\n",
       "    <tr>\n",
       "      <th>10473</th>\n",
       "      <td>Best company to work with I have been working ...</td>\n",
       "      <td>5</td>\n",
       "      <td>5</td>\n",
       "      <td>5</td>\n",
       "      <td>5</td>\n",
       "      <td>5</td>\n",
       "      <td>5</td>\n",
       "    </tr>\n",
       "    <tr>\n",
       "      <th>10474</th>\n",
       "      <td>Best workplace i have ever worked Best environ...</td>\n",
       "      <td>5</td>\n",
       "      <td>5</td>\n",
       "      <td>4</td>\n",
       "      <td>5</td>\n",
       "      <td>5</td>\n",
       "      <td>3</td>\n",
       "    </tr>\n",
       "    <tr>\n",
       "      <th>10475</th>\n",
       "      <td>Associate All good, best location with all ame...</td>\n",
       "      <td>4</td>\n",
       "      <td>4</td>\n",
       "      <td>4</td>\n",
       "      <td>4</td>\n",
       "      <td>5</td>\n",
       "      <td>4</td>\n",
       "    </tr>\n",
       "    <tr>\n",
       "      <th>10476</th>\n",
       "      <td>Customer Service Work Culture, Friendly Enviro...</td>\n",
       "      <td>3</td>\n",
       "      <td>4</td>\n",
       "      <td>4</td>\n",
       "      <td>4</td>\n",
       "      <td>3</td>\n",
       "      <td>4</td>\n",
       "    </tr>\n",
       "    <tr>\n",
       "      <th>10477</th>\n",
       "      <td>Warehouse manager Amazon is a great place to w...</td>\n",
       "      <td>4</td>\n",
       "      <td>3</td>\n",
       "      <td>5</td>\n",
       "      <td>4</td>\n",
       "      <td>4</td>\n",
       "      <td>5</td>\n",
       "    </tr>\n",
       "  </tbody>\n",
       "</table>\n",
       "<p>5239 rows × 7 columns</p>\n",
       "</div>"
      ],
      "text/plain": [
       "                                                  review  work-balance  \\\n",
       "5239   Great Place to work! Great Culture, lots of pe...             4   \n",
       "5240   Fulfillment Associate -- most fun I have had a...             2   \n",
       "5241   Scandalous Treatment, Working Conditions and S...             1   \n",
       "5242   Hiring/Working Easy Job but can be grueling du...             2   \n",
       "5243   5 year employee Great pay for entry level posi...             4   \n",
       "...                                                  ...           ...   \n",
       "10473  Best company to work with I have been working ...             5   \n",
       "10474  Best workplace i have ever worked Best environ...             5   \n",
       "10475  Associate All good, best location with all ame...             4   \n",
       "10476  Customer Service Work Culture, Friendly Enviro...             3   \n",
       "10477  Warehouse manager Amazon is a great place to w...             4   \n",
       "\n",
       "       culture-values  career-opportunities  comp-benefits  senior-mgmt  \\\n",
       "5239                5                     5              5            4   \n",
       "5240                5                     5              5            4   \n",
       "5241                1                     1              1            1   \n",
       "5242                2                     2              2            2   \n",
       "5243                2                     4              5            3   \n",
       "...               ...                   ...            ...          ...   \n",
       "10473               5                     5              5            5   \n",
       "10474               5                     4              5            5   \n",
       "10475               4                     4              4            5   \n",
       "10476               4                     4              4            3   \n",
       "10477               3                     5              4            4   \n",
       "\n",
       "       overall  \n",
       "5239         3  \n",
       "5240         3  \n",
       "5241         1  \n",
       "5242         2  \n",
       "5243         4  \n",
       "...        ...  \n",
       "10473        5  \n",
       "10474        3  \n",
       "10475        4  \n",
       "10476        4  \n",
       "10477        5  \n",
       "\n",
       "[5239 rows x 7 columns]"
      ]
     },
     "execution_count": 47,
     "metadata": {},
     "output_type": "execute_result"
    }
   ],
   "source": [
    "df_list[1]"
   ]
  },
  {
   "cell_type": "code",
   "execution_count": 53,
   "metadata": {},
   "outputs": [],
   "source": [
    "from WorkforceSentimentMonitoring.embedding import embedder, embed"
   ]
  },
  {
   "cell_type": "code",
   "execution_count": 59,
   "metadata": {
    "collapsed": true
   },
   "outputs": [
    {
     "data": {
      "application/vnd.jupyter.widget-view+json": {
       "model_id": "f153cc6e097048cd9db161813fc57bd9",
       "version_major": 2,
       "version_minor": 0
      },
      "text/plain": [
       "HBox(children=(HTML(value='Dask Apply'), FloatProgress(value=0.0, max=8.0), HTML(value='')))"
      ]
     },
     "metadata": {},
     "output_type": "display_data"
    },
    {
     "name": "stdout",
     "output_type": "stream",
     "text": [
      "\n"
     ]
    },
    {
     "data": {
      "application/vnd.jupyter.widget-view+json": {
       "model_id": "eee4931c60624694a813037fb3fda933",
       "version_major": 2,
       "version_minor": 0
      },
      "text/plain": [
       "HBox(children=(HTML(value='Dask Apply'), FloatProgress(value=0.0, max=8.0), HTML(value='')))"
      ]
     },
     "metadata": {},
     "output_type": "display_data"
    },
    {
     "name": "stdout",
     "output_type": "stream",
     "text": [
      "\n"
     ]
    },
    {
     "data": {
      "application/vnd.jupyter.widget-view+json": {
       "model_id": "6a9760cae1fc480b89b284b2a956784d",
       "version_major": 2,
       "version_minor": 0
      },
      "text/plain": [
       "HBox(children=(HTML(value='Dask Apply'), FloatProgress(value=0.0, max=8.0), HTML(value='')))"
      ]
     },
     "metadata": {},
     "output_type": "display_data"
    },
    {
     "name": "stdout",
     "output_type": "stream",
     "text": [
      "\n"
     ]
    },
    {
     "data": {
      "application/vnd.jupyter.widget-view+json": {
       "model_id": "0f753fbaad82414897df51b2f9839f83",
       "version_major": 2,
       "version_minor": 0
      },
      "text/plain": [
       "HBox(children=(HTML(value='Dask Apply'), FloatProgress(value=0.0, max=8.0), HTML(value='')))"
      ]
     },
     "metadata": {},
     "output_type": "display_data"
    },
    {
     "name": "stdout",
     "output_type": "stream",
     "text": [
      "\n"
     ]
    },
    {
     "data": {
      "application/vnd.jupyter.widget-view+json": {
       "model_id": "fa1f6489ae47440a97fd831de7e58d47",
       "version_major": 2,
       "version_minor": 0
      },
      "text/plain": [
       "HBox(children=(HTML(value='Dask Apply'), FloatProgress(value=0.0, max=8.0), HTML(value='')))"
      ]
     },
     "metadata": {},
     "output_type": "display_data"
    },
    {
     "name": "stdout",
     "output_type": "stream",
     "text": [
      "\n"
     ]
    },
    {
     "data": {
      "application/vnd.jupyter.widget-view+json": {
       "model_id": "7a5d9884d9ba41399c303454b47d6f72",
       "version_major": 2,
       "version_minor": 0
      },
      "text/plain": [
       "HBox(children=(HTML(value='Dask Apply'), FloatProgress(value=0.0, max=8.0), HTML(value='')))"
      ]
     },
     "metadata": {},
     "output_type": "display_data"
    },
    {
     "name": "stdout",
     "output_type": "stream",
     "text": [
      "\n"
     ]
    },
    {
     "data": {
      "application/vnd.jupyter.widget-view+json": {
       "model_id": "10eb4792dd21418fb977e9cb2c1510e4",
       "version_major": 2,
       "version_minor": 0
      },
      "text/plain": [
       "HBox(children=(HTML(value='Dask Apply'), FloatProgress(value=0.0, max=8.0), HTML(value='')))"
      ]
     },
     "metadata": {},
     "output_type": "display_data"
    },
    {
     "name": "stdout",
     "output_type": "stream",
     "text": [
      "\n"
     ]
    },
    {
     "data": {
      "application/vnd.jupyter.widget-view+json": {
       "model_id": "435f45617c1f4d51b98ed003289c38f9",
       "version_major": 2,
       "version_minor": 0
      },
      "text/plain": [
       "HBox(children=(HTML(value='Dask Apply'), FloatProgress(value=0.0, max=8.0), HTML(value='')))"
      ]
     },
     "metadata": {},
     "output_type": "display_data"
    },
    {
     "name": "stdout",
     "output_type": "stream",
     "text": [
      "\n"
     ]
    },
    {
     "data": {
      "application/vnd.jupyter.widget-view+json": {
       "model_id": "80ba429944e5401c893ff411b889403f",
       "version_major": 2,
       "version_minor": 0
      },
      "text/plain": [
       "HBox(children=(HTML(value='Dask Apply'), FloatProgress(value=0.0, max=8.0), HTML(value='')))"
      ]
     },
     "metadata": {},
     "output_type": "display_data"
    },
    {
     "name": "stdout",
     "output_type": "stream",
     "text": [
      "\n"
     ]
    },
    {
     "data": {
      "application/vnd.jupyter.widget-view+json": {
       "model_id": "74609f07edb34403b0df2fd7adda66a2",
       "version_major": 2,
       "version_minor": 0
      },
      "text/plain": [
       "HBox(children=(HTML(value='Dask Apply'), FloatProgress(value=0.0, max=8.0), HTML(value='')))"
      ]
     },
     "metadata": {},
     "output_type": "display_data"
    },
    {
     "name": "stdout",
     "output_type": "stream",
     "text": [
      "\n"
     ]
    }
   ],
   "source": [
    "for idx, chunk in enumerate(df_list, 1):\n",
    "    file = os.path.join(path, f'../pickle_files/chunk_{idx}.p')\n",
    "    chunk['embedding'] = chunk['review'].swifter.allow_dask_on_strings()\\\n",
    "                         .apply(lambda x: embed(x, embedder))\n",
    "    with open(file, 'wb') as f:\n",
    "        pickle.dump(chunk, f)"
   ]
  },
  {
   "cell_type": "code",
   "execution_count": null,
   "metadata": {},
   "outputs": [],
   "source": []
  }
 ],
 "metadata": {
  "kernelspec": {
   "display_name": "Python 3",
   "language": "python",
   "name": "python3"
  },
  "language_info": {
   "codemirror_mode": {
    "name": "ipython",
    "version": 3
   },
   "file_extension": ".py",
   "mimetype": "text/x-python",
   "name": "python",
   "nbconvert_exporter": "python",
   "pygments_lexer": "ipython3",
   "version": "3.7.7"
  },
  "toc": {
   "base_numbering": 1,
   "nav_menu": {},
   "number_sections": true,
   "sideBar": true,
   "skip_h1_title": false,
   "title_cell": "Table of Contents",
   "title_sidebar": "Contents",
   "toc_cell": false,
   "toc_position": {},
   "toc_section_display": true,
   "toc_window_display": false
  }
 },
 "nbformat": 4,
 "nbformat_minor": 4
}
