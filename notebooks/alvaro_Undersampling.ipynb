{
 "cells": [
  {
   "cell_type": "code",
   "execution_count": 85,
   "metadata": {},
   "outputs": [],
   "source": [
    "import pandas as pd\n",
    "pd.options.mode.chained_assignment = None\n",
    "import re\n",
    "import numpy as np\n",
    "from WorkforceSentimentMonitoring.data import get_data, merge, holdout, drop_wrong_language\n",
    "from  WorkforceSentimentMonitoring.encoders import Preprocessor"
   ]
  },
  {
   "cell_type": "code",
   "execution_count": 2,
   "metadata": {},
   "outputs": [],
   "source": [
    "%load_ext autoreload\n",
    "%autoreload 2"
   ]
  },
  {
   "cell_type": "code",
   "execution_count": 3,
   "metadata": {
    "scrolled": true
   },
   "outputs": [
    {
     "name": "stderr",
     "output_type": "stream",
     "text": [
      "\r",
      "  0%|          | 0/10 [00:00<?, ?it/s]"
     ]
    },
    {
     "name": "stdout",
     "output_type": "stream",
     "text": [
      "Identifying entries in other languages...\n"
     ]
    },
    {
     "data": {
      "application/vnd.jupyter.widget-view+json": {
       "model_id": "3b8da8e6cb59466fb02eb82bb31a9ccc",
       "version_major": 2,
       "version_minor": 0
      },
      "text/plain": [
       "HBox(children=(HTML(value='Dask Apply'), FloatProgress(value=0.0, max=8.0), HTML(value='')))"
      ]
     },
     "metadata": {},
     "output_type": "display_data"
    },
    {
     "name": "stderr",
     "output_type": "stream",
     "text": [
      " 50%|█████     | 5/10 [04:00<04:00, 48.01s/it]"
     ]
    },
    {
     "name": "stdout",
     "output_type": "stream",
     "text": [
      "\n"
     ]
    },
    {
     "name": "stderr",
     "output_type": "stream",
     "text": [
      "100%|██████████| 10/10 [04:48<00:00, 28.80s/it]\n"
     ]
    },
    {
     "name": "stdout",
     "output_type": "stream",
     "text": [
      "Drop 436 entries? [y] / n\n",
      "y\n",
      "Dropping 436 entries...\n"
     ]
    }
   ],
   "source": [
    "# Load data into a single DataFrame\n",
    "submission, train, test = get_data()\n",
    "df = merge(submission, train, test)\n",
    "df = drop_wrong_language(df, 'review')\n",
    "target = [\n",
    "    \"work-balance\",\n",
    "    \"culture-values\",\n",
    "    \"career-opportunities\",\n",
    "    \"comp-benefits\",\n",
    "    \"senior-mgmt\",\n",
    "    \"overall\",\n",
    "]"
   ]
  },
  {
   "cell_type": "code",
   "execution_count": 93,
   "metadata": {},
   "outputs": [],
   "source": [
    "y = df.iloc[:, 4:-1]\n",
    "\n",
    "X = df[['review']]"
   ]
  },
  {
   "cell_type": "code",
   "execution_count": 94,
   "metadata": {},
   "outputs": [
    {
     "data": {
      "text/html": [
       "<div>\n",
       "<style scoped>\n",
       "    .dataframe tbody tr th:only-of-type {\n",
       "        vertical-align: middle;\n",
       "    }\n",
       "\n",
       "    .dataframe tbody tr th {\n",
       "        vertical-align: top;\n",
       "    }\n",
       "\n",
       "    .dataframe thead th {\n",
       "        text-align: right;\n",
       "    }\n",
       "</style>\n",
       "<table border=\"1\" class=\"dataframe\">\n",
       "  <thead>\n",
       "    <tr style=\"text-align: right;\">\n",
       "      <th></th>\n",
       "      <th>review</th>\n",
       "    </tr>\n",
       "  </thead>\n",
       "  <tbody>\n",
       "    <tr>\n",
       "      <th>0</th>\n",
       "      <td>Best Company to work for People are smart and ...</td>\n",
       "    </tr>\n",
       "    <tr>\n",
       "      <th>1</th>\n",
       "      <td>Moving at the speed of light, burn out is inev...</td>\n",
       "    </tr>\n",
       "    <tr>\n",
       "      <th>2</th>\n",
       "      <td>Great balance between big-company security and...</td>\n",
       "    </tr>\n",
       "    <tr>\n",
       "      <th>3</th>\n",
       "      <td>The best place I've worked and also the most d...</td>\n",
       "    </tr>\n",
       "    <tr>\n",
       "      <th>4</th>\n",
       "      <td>Execellent for engineers Impact driven. Best t...</td>\n",
       "    </tr>\n",
       "    <tr>\n",
       "      <th>...</th>\n",
       "      <td>...</td>\n",
       "    </tr>\n",
       "    <tr>\n",
       "      <th>52374</th>\n",
       "      <td>great place to grow! Great health benefits. Ma...</td>\n",
       "    </tr>\n",
       "    <tr>\n",
       "      <th>52375</th>\n",
       "      <td>An ocean of opportunities diverse set of peopl...</td>\n",
       "    </tr>\n",
       "    <tr>\n",
       "      <th>52376</th>\n",
       "      <td>Tech Gaint Equip its employees wid huge salari...</td>\n",
       "    </tr>\n",
       "    <tr>\n",
       "      <th>52377</th>\n",
       "      <td>Terrible They had great health benefits (no lo...</td>\n",
       "    </tr>\n",
       "    <tr>\n",
       "      <th>52378</th>\n",
       "      <td>Microsoft is a good place to work Very structu...</td>\n",
       "    </tr>\n",
       "  </tbody>\n",
       "</table>\n",
       "<p>52379 rows × 1 columns</p>\n",
       "</div>"
      ],
      "text/plain": [
       "                                                  review\n",
       "0      Best Company to work for People are smart and ...\n",
       "1      Moving at the speed of light, burn out is inev...\n",
       "2      Great balance between big-company security and...\n",
       "3      The best place I've worked and also the most d...\n",
       "4      Execellent for engineers Impact driven. Best t...\n",
       "...                                                  ...\n",
       "52374  great place to grow! Great health benefits. Ma...\n",
       "52375  An ocean of opportunities diverse set of peopl...\n",
       "52376  Tech Gaint Equip its employees wid huge salari...\n",
       "52377  Terrible They had great health benefits (no lo...\n",
       "52378  Microsoft is a good place to work Very structu...\n",
       "\n",
       "[52379 rows x 1 columns]"
      ]
     },
     "execution_count": 94,
     "metadata": {},
     "output_type": "execute_result"
    }
   ],
   "source": [
    "X"
   ]
  },
  {
   "cell_type": "code",
   "execution_count": 106,
   "metadata": {},
   "outputs": [],
   "source": [
    "preprocessor = Preprocessor()\n",
    "X = preprocessor.fit_transform(X)"
   ]
  },
  {
   "cell_type": "code",
   "execution_count": 107,
   "metadata": {},
   "outputs": [
    {
     "data": {
      "text/html": [
       "<div>\n",
       "<style scoped>\n",
       "    .dataframe tbody tr th:only-of-type {\n",
       "        vertical-align: middle;\n",
       "    }\n",
       "\n",
       "    .dataframe tbody tr th {\n",
       "        vertical-align: top;\n",
       "    }\n",
       "\n",
       "    .dataframe thead th {\n",
       "        text-align: right;\n",
       "    }\n",
       "</style>\n",
       "<table border=\"1\" class=\"dataframe\">\n",
       "  <thead>\n",
       "    <tr style=\"text-align: right;\">\n",
       "      <th></th>\n",
       "      <th>review</th>\n",
       "    </tr>\n",
       "  </thead>\n",
       "  <tbody>\n",
       "    <tr>\n",
       "      <th>0</th>\n",
       "      <td>best company to work for people are smart and ...</td>\n",
       "    </tr>\n",
       "    <tr>\n",
       "      <th>1</th>\n",
       "      <td>moving at the speed of light burn out is inevi...</td>\n",
       "    </tr>\n",
       "    <tr>\n",
       "      <th>2</th>\n",
       "      <td>great balance between big company security and...</td>\n",
       "    </tr>\n",
       "    <tr>\n",
       "      <th>3</th>\n",
       "      <td>the best place i have worked and also the most...</td>\n",
       "    </tr>\n",
       "    <tr>\n",
       "      <th>4</th>\n",
       "      <td>execellent for engineer impact driven best tec...</td>\n",
       "    </tr>\n",
       "    <tr>\n",
       "      <th>...</th>\n",
       "      <td>...</td>\n",
       "    </tr>\n",
       "    <tr>\n",
       "      <th>52374</th>\n",
       "      <td>great place to grow great health benefit many ...</td>\n",
       "    </tr>\n",
       "    <tr>\n",
       "      <th>52375</th>\n",
       "      <td>an ocean of opportunity diverse set of people ...</td>\n",
       "    </tr>\n",
       "    <tr>\n",
       "      <th>52376</th>\n",
       "      <td>tech gaint equip it employee wid huge salary d...</td>\n",
       "    </tr>\n",
       "    <tr>\n",
       "      <th>52377</th>\n",
       "      <td>terrible they had great health benefit no long...</td>\n",
       "    </tr>\n",
       "    <tr>\n",
       "      <th>52378</th>\n",
       "      <td>microsoft is a good place to work very structu...</td>\n",
       "    </tr>\n",
       "  </tbody>\n",
       "</table>\n",
       "<p>52379 rows × 1 columns</p>\n",
       "</div>"
      ],
      "text/plain": [
       "                                                  review\n",
       "0      best company to work for people are smart and ...\n",
       "1      moving at the speed of light burn out is inevi...\n",
       "2      great balance between big company security and...\n",
       "3      the best place i have worked and also the most...\n",
       "4      execellent for engineer impact driven best tec...\n",
       "...                                                  ...\n",
       "52374  great place to grow great health benefit many ...\n",
       "52375  an ocean of opportunity diverse set of people ...\n",
       "52376  tech gaint equip it employee wid huge salary d...\n",
       "52377  terrible they had great health benefit no long...\n",
       "52378  microsoft is a good place to work very structu...\n",
       "\n",
       "[52379 rows x 1 columns]"
      ]
     },
     "execution_count": 107,
     "metadata": {},
     "output_type": "execute_result"
    }
   ],
   "source": [
    "X"
   ]
  },
  {
   "cell_type": "code",
   "execution_count": 109,
   "metadata": {},
   "outputs": [],
   "source": [
    "from WorkforceSentimentMonitoring.feature_engineering import get_emotion_score\n",
    "from WorkforceSentimentMonitoring.data import get_lexicon"
   ]
  },
  {
   "cell_type": "code",
   "execution_count": 111,
   "metadata": {},
   "outputs": [],
   "source": [
    "lexicon= get_lexicon()"
   ]
  },
  {
   "cell_type": "code",
   "execution_count": 113,
   "metadata": {},
   "outputs": [
    {
     "data": {
      "text/html": [
       "<div>\n",
       "<style scoped>\n",
       "    .dataframe tbody tr th:only-of-type {\n",
       "        vertical-align: middle;\n",
       "    }\n",
       "\n",
       "    .dataframe tbody tr th {\n",
       "        vertical-align: top;\n",
       "    }\n",
       "\n",
       "    .dataframe thead th {\n",
       "        text-align: right;\n",
       "    }\n",
       "</style>\n",
       "<table border=\"1\" class=\"dataframe\">\n",
       "  <thead>\n",
       "    <tr style=\"text-align: right;\">\n",
       "      <th></th>\n",
       "      <th>review</th>\n",
       "    </tr>\n",
       "  </thead>\n",
       "  <tbody>\n",
       "    <tr>\n",
       "      <th>0</th>\n",
       "      <td>best company to work for people are smart and ...</td>\n",
       "    </tr>\n",
       "    <tr>\n",
       "      <th>1</th>\n",
       "      <td>moving at the speed of light burn out is inevi...</td>\n",
       "    </tr>\n",
       "    <tr>\n",
       "      <th>2</th>\n",
       "      <td>great balance between big company security and...</td>\n",
       "    </tr>\n",
       "    <tr>\n",
       "      <th>3</th>\n",
       "      <td>the best place i have worked and also the most...</td>\n",
       "    </tr>\n",
       "    <tr>\n",
       "      <th>4</th>\n",
       "      <td>execellent for engineer impact driven best tec...</td>\n",
       "    </tr>\n",
       "    <tr>\n",
       "      <th>...</th>\n",
       "      <td>...</td>\n",
       "    </tr>\n",
       "    <tr>\n",
       "      <th>52374</th>\n",
       "      <td>great place to grow great health benefit many ...</td>\n",
       "    </tr>\n",
       "    <tr>\n",
       "      <th>52375</th>\n",
       "      <td>an ocean of opportunity diverse set of people ...</td>\n",
       "    </tr>\n",
       "    <tr>\n",
       "      <th>52376</th>\n",
       "      <td>tech gaint equip it employee wid huge salary d...</td>\n",
       "    </tr>\n",
       "    <tr>\n",
       "      <th>52377</th>\n",
       "      <td>terrible they had great health benefit no long...</td>\n",
       "    </tr>\n",
       "    <tr>\n",
       "      <th>52378</th>\n",
       "      <td>microsoft is a good place to work very structu...</td>\n",
       "    </tr>\n",
       "  </tbody>\n",
       "</table>\n",
       "<p>52379 rows × 1 columns</p>\n",
       "</div>"
      ],
      "text/plain": [
       "                                                  review\n",
       "0      best company to work for people are smart and ...\n",
       "1      moving at the speed of light burn out is inevi...\n",
       "2      great balance between big company security and...\n",
       "3      the best place i have worked and also the most...\n",
       "4      execellent for engineer impact driven best tec...\n",
       "...                                                  ...\n",
       "52374  great place to grow great health benefit many ...\n",
       "52375  an ocean of opportunity diverse set of people ...\n",
       "52376  tech gaint equip it employee wid huge salary d...\n",
       "52377  terrible they had great health benefit no long...\n",
       "52378  microsoft is a good place to work very structu...\n",
       "\n",
       "[52379 rows x 1 columns]"
      ]
     },
     "execution_count": 113,
     "metadata": {},
     "output_type": "execute_result"
    }
   ],
   "source": [
    "X"
   ]
  },
  {
   "cell_type": "code",
   "execution_count": 114,
   "metadata": {},
   "outputs": [
    {
     "name": "stderr",
     "output_type": "stream",
     "text": [
      "100%|██████████| 52379/52379 [02:01<00:00, 430.90it/s]\n"
     ]
    }
   ],
   "source": [
    "X = get_emotion_score(X, lexicon)"
   ]
  },
  {
   "cell_type": "code",
   "execution_count": 115,
   "metadata": {},
   "outputs": [
    {
     "data": {
      "text/html": [
       "<div>\n",
       "<style scoped>\n",
       "    .dataframe tbody tr th:only-of-type {\n",
       "        vertical-align: middle;\n",
       "    }\n",
       "\n",
       "    .dataframe tbody tr th {\n",
       "        vertical-align: top;\n",
       "    }\n",
       "\n",
       "    .dataframe thead th {\n",
       "        text-align: right;\n",
       "    }\n",
       "</style>\n",
       "<table border=\"1\" class=\"dataframe\">\n",
       "  <thead>\n",
       "    <tr style=\"text-align: right;\">\n",
       "      <th></th>\n",
       "      <th>review</th>\n",
       "      <th>length</th>\n",
       "      <th>anger_score</th>\n",
       "      <th>anticipation_score</th>\n",
       "      <th>disgust_score</th>\n",
       "      <th>fear_score</th>\n",
       "      <th>joy_score</th>\n",
       "      <th>sadness_score</th>\n",
       "      <th>surprise_score</th>\n",
       "      <th>trust_score</th>\n",
       "    </tr>\n",
       "  </thead>\n",
       "  <tbody>\n",
       "    <tr>\n",
       "      <th>0</th>\n",
       "      <td>best company to work for people are smart and ...</td>\n",
       "      <td>15</td>\n",
       "      <td>0.000000</td>\n",
       "      <td>0.145991</td>\n",
       "      <td>0.000000</td>\n",
       "      <td>0.000000</td>\n",
       "      <td>0.183044</td>\n",
       "      <td>0.088423</td>\n",
       "      <td>0.000000</td>\n",
       "      <td>0.270045</td>\n",
       "    </tr>\n",
       "    <tr>\n",
       "      <th>1</th>\n",
       "      <td>moving at the speed of light burn out is inevi...</td>\n",
       "      <td>748</td>\n",
       "      <td>0.256168</td>\n",
       "      <td>0.319034</td>\n",
       "      <td>0.130056</td>\n",
       "      <td>0.230920</td>\n",
       "      <td>0.440615</td>\n",
       "      <td>0.376760</td>\n",
       "      <td>0.106000</td>\n",
       "      <td>0.575507</td>\n",
       "    </tr>\n",
       "    <tr>\n",
       "      <th>2</th>\n",
       "      <td>great balance between big company security and...</td>\n",
       "      <td>847</td>\n",
       "      <td>0.245966</td>\n",
       "      <td>0.369858</td>\n",
       "      <td>0.085294</td>\n",
       "      <td>0.286168</td>\n",
       "      <td>0.462127</td>\n",
       "      <td>0.183175</td>\n",
       "      <td>0.243154</td>\n",
       "      <td>0.500899</td>\n",
       "    </tr>\n",
       "    <tr>\n",
       "      <th>3</th>\n",
       "      <td>the best place i have worked and also the most...</td>\n",
       "      <td>881</td>\n",
       "      <td>0.107186</td>\n",
       "      <td>0.205583</td>\n",
       "      <td>0.032396</td>\n",
       "      <td>0.107756</td>\n",
       "      <td>0.325636</td>\n",
       "      <td>0.069040</td>\n",
       "      <td>0.136664</td>\n",
       "      <td>0.398452</td>\n",
       "    </tr>\n",
       "    <tr>\n",
       "      <th>4</th>\n",
       "      <td>execellent for engineer impact driven best tec...</td>\n",
       "      <td>19</td>\n",
       "      <td>0.000000</td>\n",
       "      <td>0.000000</td>\n",
       "      <td>0.000000</td>\n",
       "      <td>0.000000</td>\n",
       "      <td>0.000000</td>\n",
       "      <td>0.157559</td>\n",
       "      <td>0.000000</td>\n",
       "      <td>0.115130</td>\n",
       "    </tr>\n",
       "    <tr>\n",
       "      <th>...</th>\n",
       "      <td>...</td>\n",
       "      <td>...</td>\n",
       "      <td>...</td>\n",
       "      <td>...</td>\n",
       "      <td>...</td>\n",
       "      <td>...</td>\n",
       "      <td>...</td>\n",
       "      <td>...</td>\n",
       "      <td>...</td>\n",
       "      <td>...</td>\n",
       "    </tr>\n",
       "    <tr>\n",
       "      <th>52374</th>\n",
       "      <td>great place to grow great health benefit many ...</td>\n",
       "      <td>36</td>\n",
       "      <td>0.039199</td>\n",
       "      <td>0.243494</td>\n",
       "      <td>0.000000</td>\n",
       "      <td>0.047487</td>\n",
       "      <td>0.137652</td>\n",
       "      <td>0.124219</td>\n",
       "      <td>0.000000</td>\n",
       "      <td>0.315161</td>\n",
       "    </tr>\n",
       "    <tr>\n",
       "      <th>52375</th>\n",
       "      <td>an ocean of opportunity diverse set of people ...</td>\n",
       "      <td>46</td>\n",
       "      <td>0.238733</td>\n",
       "      <td>0.051231</td>\n",
       "      <td>0.078152</td>\n",
       "      <td>0.238083</td>\n",
       "      <td>0.110683</td>\n",
       "      <td>0.235398</td>\n",
       "      <td>0.000000</td>\n",
       "      <td>0.232239</td>\n",
       "    </tr>\n",
       "    <tr>\n",
       "      <th>52376</th>\n",
       "      <td>tech gaint equip it employee wid huge salary d...</td>\n",
       "      <td>28</td>\n",
       "      <td>0.000000</td>\n",
       "      <td>0.078221</td>\n",
       "      <td>0.000000</td>\n",
       "      <td>0.000000</td>\n",
       "      <td>0.057872</td>\n",
       "      <td>0.000000</td>\n",
       "      <td>0.013140</td>\n",
       "      <td>0.242672</td>\n",
       "    </tr>\n",
       "    <tr>\n",
       "      <th>52377</th>\n",
       "      <td>terrible they had great health benefit no long...</td>\n",
       "      <td>103</td>\n",
       "      <td>0.217094</td>\n",
       "      <td>0.181716</td>\n",
       "      <td>0.181878</td>\n",
       "      <td>0.352476</td>\n",
       "      <td>0.176846</td>\n",
       "      <td>0.202039</td>\n",
       "      <td>0.055338</td>\n",
       "      <td>0.315509</td>\n",
       "    </tr>\n",
       "    <tr>\n",
       "      <th>52378</th>\n",
       "      <td>microsoft is a good place to work very structu...</td>\n",
       "      <td>50</td>\n",
       "      <td>0.000000</td>\n",
       "      <td>0.099261</td>\n",
       "      <td>0.000000</td>\n",
       "      <td>0.045086</td>\n",
       "      <td>0.319800</td>\n",
       "      <td>0.000000</td>\n",
       "      <td>0.057993</td>\n",
       "      <td>0.547954</td>\n",
       "    </tr>\n",
       "  </tbody>\n",
       "</table>\n",
       "<p>52379 rows × 10 columns</p>\n",
       "</div>"
      ],
      "text/plain": [
       "                                                  review  length  anger_score  \\\n",
       "0      best company to work for people are smart and ...      15     0.000000   \n",
       "1      moving at the speed of light burn out is inevi...     748     0.256168   \n",
       "2      great balance between big company security and...     847     0.245966   \n",
       "3      the best place i have worked and also the most...     881     0.107186   \n",
       "4      execellent for engineer impact driven best tec...      19     0.000000   \n",
       "...                                                  ...     ...          ...   \n",
       "52374  great place to grow great health benefit many ...      36     0.039199   \n",
       "52375  an ocean of opportunity diverse set of people ...      46     0.238733   \n",
       "52376  tech gaint equip it employee wid huge salary d...      28     0.000000   \n",
       "52377  terrible they had great health benefit no long...     103     0.217094   \n",
       "52378  microsoft is a good place to work very structu...      50     0.000000   \n",
       "\n",
       "       anticipation_score  disgust_score  fear_score  joy_score  \\\n",
       "0                0.145991       0.000000    0.000000   0.183044   \n",
       "1                0.319034       0.130056    0.230920   0.440615   \n",
       "2                0.369858       0.085294    0.286168   0.462127   \n",
       "3                0.205583       0.032396    0.107756   0.325636   \n",
       "4                0.000000       0.000000    0.000000   0.000000   \n",
       "...                   ...            ...         ...        ...   \n",
       "52374            0.243494       0.000000    0.047487   0.137652   \n",
       "52375            0.051231       0.078152    0.238083   0.110683   \n",
       "52376            0.078221       0.000000    0.000000   0.057872   \n",
       "52377            0.181716       0.181878    0.352476   0.176846   \n",
       "52378            0.099261       0.000000    0.045086   0.319800   \n",
       "\n",
       "       sadness_score  surprise_score  trust_score  \n",
       "0           0.088423        0.000000     0.270045  \n",
       "1           0.376760        0.106000     0.575507  \n",
       "2           0.183175        0.243154     0.500899  \n",
       "3           0.069040        0.136664     0.398452  \n",
       "4           0.157559        0.000000     0.115130  \n",
       "...              ...             ...          ...  \n",
       "52374       0.124219        0.000000     0.315161  \n",
       "52375       0.235398        0.000000     0.232239  \n",
       "52376       0.000000        0.013140     0.242672  \n",
       "52377       0.202039        0.055338     0.315509  \n",
       "52378       0.000000        0.057993     0.547954  \n",
       "\n",
       "[52379 rows x 10 columns]"
      ]
     },
     "execution_count": 115,
     "metadata": {},
     "output_type": "execute_result"
    }
   ],
   "source": [
    "X"
   ]
  },
  {
   "cell_type": "code",
   "execution_count": 116,
   "metadata": {},
   "outputs": [],
   "source": [
    "import matplotlib.pyplot as plt"
   ]
  },
  {
   "cell_type": "code",
   "execution_count": 124,
   "metadata": {},
   "outputs": [
    {
     "data": {
      "text/plain": [
       "<matplotlib.collections.PathCollection at 0x131c2bd10>"
      ]
     },
     "execution_count": 124,
     "metadata": {},
     "output_type": "execute_result"
    },
    {
     "data": {
      "image/png": "[encoded data removed]",
      "text/plain": [
       "<Figure size 432x288 with 1 Axes>"
      ]
     },
     "metadata": {
      "needs_background": "light"
     },
     "output_type": "display_data"
    }
   ],
   "source": [
    "plt.scatter(x='anger_score', y = 'joy_score', data=X,\n",
    "            c=y['overall'], alpha=0.1)\n"
   ]
  },
  {
   "cell_type": "code",
   "execution_count": 155,
   "metadata": {},
   "outputs": [],
   "source": [
    "from imblearn.under_sampling import RandomUnderSampler\n",
    "from sklearn.preprocessing import MinMaxScaler\n",
    "from sklearn.model_selection import train_test_split\n",
    "from sklearn.linear_model import LogisticRegression\n",
    "from sklearn.metrics import classification_report"
   ]
  },
  {
   "cell_type": "code",
   "execution_count": 128,
   "metadata": {},
   "outputs": [],
   "source": [
    "X.drop(columns='review', inplace=True)"
   ]
  },
  {
   "cell_type": "code",
   "execution_count": 132,
   "metadata": {},
   "outputs": [],
   "source": [
    "scaler = MinMaxScaler()\n",
    "X['length'] = scaler.fit_transform(X[['length']])"
   ]
  },
  {
   "cell_type": "code",
   "execution_count": 135,
   "metadata": {},
   "outputs": [],
   "source": [
    "rus = RandomUnderSampler(random_state=0)\n",
    "X_resampled, y_resampled = rus.fit_resample(X, y['overall'])"
   ]
  },
  {
   "cell_type": "code",
   "execution_count": 138,
   "metadata": {},
   "outputs": [],
   "source": [
    "X_train, X_test, y_train, y_test = train_test_split(X_resampled, y_resampled)"
   ]
  },
  {
   "cell_type": "code",
   "execution_count": 141,
   "metadata": {},
   "outputs": [
    {
     "data": {
      "text/plain": [
       "0.2737791723867425"
      ]
     },
     "execution_count": 141,
     "metadata": {},
     "output_type": "execute_result"
    }
   ],
   "source": [
    "model = LogisticRegression(max_iter=1000)\n",
    "model.fit(X_train, y_train)\n",
    "model.score(X_test, y_test)"
   ]
  },
  {
   "cell_type": "code",
   "execution_count": 144,
   "metadata": {},
   "outputs": [],
   "source": [
    "mapping = {1 : 0,\n",
    "           2 : 0,\n",
    "           3 : 1,\n",
    "           4 : 2,\n",
    "           5 : 2}\n",
    "y_three = y.replace(mapping)"
   ]
  },
  {
   "cell_type": "code",
   "execution_count": 150,
   "metadata": {},
   "outputs": [],
   "source": [
    "rus = RandomUnderSampler(random_state=0)\n",
    "X_resampled, y_resampled = rus.fit_resample(X, y_three['overall'])\n",
    "X_train, X_test, y_train, y_test = train_test_split(X_resampled, y_resampled)"
   ]
  },
  {
   "cell_type": "code",
   "execution_count": 151,
   "metadata": {},
   "outputs": [
    {
     "data": {
      "text/plain": [
       "0.4125076640098099"
      ]
     },
     "execution_count": 151,
     "metadata": {},
     "output_type": "execute_result"
    }
   ],
   "source": [
    "model = LogisticRegression(max_iter=1000)\n",
    "model.fit(X_train, y_train)\n",
    "model.score(X_test, y_test)"
   ]
  },
  {
   "cell_type": "code",
   "execution_count": 156,
   "metadata": {},
   "outputs": [
    {
     "name": "stdout",
     "output_type": "stream",
     "text": [
      "              precision    recall  f1-score   support\n",
      "\n",
      "           0       0.49      0.44      0.46      3156\n",
      "           1       0.37      0.28      0.32      3117\n",
      "           2       0.41      0.56      0.47      3187\n",
      "\n",
      "    accuracy                           0.42      9460\n",
      "   macro avg       0.42      0.42      0.42      9460\n",
      "weighted avg       0.42      0.42      0.42      9460\n",
      "\n",
      "              precision    recall  f1-score   support\n",
      "\n",
      "           0       0.55      0.50      0.52      2278\n",
      "           1       0.37      0.25      0.30      2198\n",
      "           2       0.44      0.62      0.52      2213\n",
      "\n",
      "    accuracy                           0.46      6689\n",
      "   macro avg       0.45      0.46      0.45      6689\n",
      "weighted avg       0.45      0.46      0.45      6689\n",
      "\n",
      "              precision    recall  f1-score   support\n",
      "\n",
      "           0       0.50      0.48      0.49      2333\n",
      "           1       0.36      0.15      0.21      2339\n",
      "           2       0.41      0.66      0.50      2324\n",
      "\n",
      "    accuracy                           0.43      6996\n",
      "   macro avg       0.42      0.43      0.40      6996\n",
      "weighted avg       0.42      0.43      0.40      6996\n",
      "\n",
      "              precision    recall  f1-score   support\n",
      "\n",
      "           0       0.47      0.46      0.46      1220\n",
      "           1       0.33      0.16      0.22      1219\n",
      "           2       0.40      0.62      0.49      1221\n",
      "\n",
      "    accuracy                           0.41      3660\n",
      "   macro avg       0.40      0.41      0.39      3660\n",
      "weighted avg       0.40      0.41      0.39      3660\n",
      "\n",
      "              precision    recall  f1-score   support\n",
      "\n",
      "           0       0.51      0.50      0.51      3011\n",
      "           1       0.36      0.27      0.31      2968\n",
      "           2       0.45      0.55      0.50      3183\n",
      "\n",
      "    accuracy                           0.45      9162\n",
      "   macro avg       0.44      0.44      0.44      9162\n",
      "weighted avg       0.44      0.45      0.44      9162\n",
      "\n",
      "              precision    recall  f1-score   support\n",
      "\n",
      "           0       0.47      0.48      0.48      2701\n",
      "           1       0.35      0.17      0.23      2724\n",
      "           2       0.39      0.59      0.47      2730\n",
      "\n",
      "    accuracy                           0.41      8155\n",
      "   macro avg       0.41      0.41      0.39      8155\n",
      "weighted avg       0.41      0.41      0.39      8155\n",
      "\n"
     ]
    }
   ],
   "source": [
    "for target in y_three.columns:\n",
    "    rus = RandomUnderSampler(random_state=0)\n",
    "    X_resampled, y_resampled = rus.fit_resample(X, y_three[target])\n",
    "    X_train, X_test, y_train, y_test = train_test_split(X_resampled, y_resampled)\n",
    "    model = LogisticRegression(max_iter=1000)\n",
    "    model.fit(X_train, y_train)\n",
    "    preds = model.predict(X_test)\n",
    "    report = classification_report(y_test,preds)\n",
    "    print(report)"
   ]
  },
  {
   "cell_type": "code",
   "execution_count": null,
   "metadata": {},
   "outputs": [],
   "source": []
  }
 ],
 "metadata": {
  "kernelspec": {
   "display_name": "Python 3",
   "language": "python",
   "name": "python3"
  },
  "language_info": {
   "codemirror_mode": {
    "name": "ipython",
    "version": 3
   },
   "file_extension": ".py",
   "mimetype": "text/x-python",
   "name": "python",
   "nbconvert_exporter": "python",
   "pygments_lexer": "ipython3",
   "version": "3.7.7"
  },
  "toc": {
   "base_numbering": 1,
   "nav_menu": {},
   "number_sections": true,
   "sideBar": true,
   "skip_h1_title": false,
   "title_cell": "Table of Contents",
   "title_sidebar": "Contents",
   "toc_cell": false,
   "toc_position": {},
   "toc_section_display": true,
   "toc_window_display": false
  }
 },
 "nbformat": 4,
 "nbformat_minor": 4
}
