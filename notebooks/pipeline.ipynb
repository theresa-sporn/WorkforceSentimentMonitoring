{
 "cells": [
  {
   "cell_type": "markdown",
   "metadata": {},
   "source": [
    "# Pipeline"
   ]
  },
  {
   "cell_type": "markdown",
   "metadata": {},
   "source": [
    "## Imports"
   ]
  },
  {
   "cell_type": "code",
   "execution_count": 82,
   "metadata": {},
   "outputs": [
    {
     "name": "stdout",
     "output_type": "stream",
     "text": [
      "The autoreload extension is already loaded. To reload it, use:\n",
      "  %reload_ext autoreload\n"
     ]
    }
   ],
   "source": [
    "%load_ext autoreload\n",
    "%autoreload 2"
   ]
  },
  {
   "cell_type": "code",
   "execution_count": 83,
   "metadata": {},
   "outputs": [],
   "source": [
    "from WorkforceSentimentMonitoring.data import get_prepaired_data\n",
    "from WorkforceSentimentMonitoring.encoders import Preprocessor, CustomMinMaxScaler, FeatureEngineer\n",
    "from WorkforceSentimentMonitoring.preprocessing import lemmatize\n",
    "import numpy as np\n",
    "import pandas as pd\n",
    "\n",
    "from sklearn.feature_extraction.text import TfidfVectorizer\n",
    "from sklearn.model_selection import cross_validate, GridSearchCV, RandomizedSearchCV\n",
    "from sklearn.pipeline import Pipeline, make_pipeline\n",
    "from sklearn.metrics import f1_score, classification_report\n",
    "from sklearn.svm import SVC\n",
    "from sklearn.linear_model import LinearRegression, LogisticRegression\n",
    "\n",
    "from langdetect import detect\n",
    "\n",
    "import joblib"
   ]
  },
  {
   "cell_type": "markdown",
   "metadata": {},
   "source": [
    "## Get data"
   ]
  },
  {
   "cell_type": "code",
   "execution_count": null,
   "metadata": {},
   "outputs": [
    {
     "name": "stdout",
     "output_type": "stream",
     "text": [
      "Reading data...\n",
      "Merging data into a single DataFrame...\n",
      "Dropping initial text columns...\n",
      "Identifying entries in other languages...\n"
     ]
    }
   ],
   "source": [
    "X_train, X_test, y_train, y_test = get_prepaired_data()"
   ]
  },
  {
   "cell_type": "markdown",
   "metadata": {},
   "source": [
    "## Preprocess"
   ]
  },
  {
   "cell_type": "code",
   "execution_count": 29,
   "metadata": {},
   "outputs": [],
   "source": [
    "preprocessor = Preprocessor()\n",
    "X_train = preprocessor.fit_transform(X_train)\n",
    "X_test = preprocessor.fit_transform(X_test)"
   ]
  },
  {
   "cell_type": "code",
   "execution_count": 30,
   "metadata": {},
   "outputs": [
    {
     "data": {
      "text/html": [
       "<div>\n",
       "<style scoped>\n",
       "    .dataframe tbody tr th:only-of-type {\n",
       "        vertical-align: middle;\n",
       "    }\n",
       "\n",
       "    .dataframe tbody tr th {\n",
       "        vertical-align: top;\n",
       "    }\n",
       "\n",
       "    .dataframe thead th {\n",
       "        text-align: right;\n",
       "    }\n",
       "</style>\n",
       "<table border=\"1\" class=\"dataframe\">\n",
       "  <thead>\n",
       "    <tr style=\"text-align: right;\">\n",
       "      <th></th>\n",
       "      <th>summary</th>\n",
       "      <th>positives</th>\n",
       "      <th>negatives</th>\n",
       "      <th>advice_to_mgmt</th>\n",
       "      <th>review</th>\n",
       "    </tr>\n",
       "  </thead>\n",
       "  <tbody>\n",
       "    <tr>\n",
       "      <th>0</th>\n",
       "      <td>brand specialist</td>\n",
       "      <td>high learning curve high independent</td>\n",
       "      <td>people management work life balance</td>\n",
       "      <td>NaN</td>\n",
       "      <td>brand specialist high learning curve high inde...</td>\n",
       "    </tr>\n",
       "  </tbody>\n",
       "</table>\n",
       "</div>"
      ],
      "text/plain": [
       "            summary                             positives  \\\n",
       "0  brand specialist  high learning curve high independent   \n",
       "\n",
       "                             negatives advice_to_mgmt  \\\n",
       "0  people management work life balance            NaN   \n",
       "\n",
       "                                              review  \n",
       "0  brand specialist high learning curve high inde...  "
      ]
     },
     "execution_count": 30,
     "metadata": {},
     "output_type": "execute_result"
    }
   ],
   "source": [
    "X_train.head(1)"
   ]
  },
  {
   "cell_type": "markdown",
   "metadata": {},
   "source": [
    "## Feature Engineering"
   ]
  },
  {
   "cell_type": "code",
   "execution_count": 25,
   "metadata": {},
   "outputs": [
    {
     "name": "stderr",
     "output_type": "stream",
     "text": [
      "100%|██████████| 5/5 [00:00<00:00, 37.58it/s]\n",
      "100%|██████████| 5/5 [00:00<00:00, 36.35it/s]\n"
     ]
    }
   ],
   "source": [
    "engineer = FeatureEngineer()\n",
    "X_train = engineer.fit_transform(X_train)\n",
    "X_test = engineer.fit_transform(X_test)"
   ]
  },
  {
   "cell_type": "code",
   "execution_count": 31,
   "metadata": {},
   "outputs": [
    {
     "data": {
      "text/html": [
       "<div>\n",
       "<style scoped>\n",
       "    .dataframe tbody tr th:only-of-type {\n",
       "        vertical-align: middle;\n",
       "    }\n",
       "\n",
       "    .dataframe tbody tr th {\n",
       "        vertical-align: top;\n",
       "    }\n",
       "\n",
       "    .dataframe thead th {\n",
       "        text-align: right;\n",
       "    }\n",
       "</style>\n",
       "<table border=\"1\" class=\"dataframe\">\n",
       "  <thead>\n",
       "    <tr style=\"text-align: right;\">\n",
       "      <th></th>\n",
       "      <th>summary</th>\n",
       "      <th>positives</th>\n",
       "      <th>negatives</th>\n",
       "      <th>advice_to_mgmt</th>\n",
       "      <th>review</th>\n",
       "    </tr>\n",
       "  </thead>\n",
       "  <tbody>\n",
       "    <tr>\n",
       "      <th>0</th>\n",
       "      <td>brand specialist</td>\n",
       "      <td>high learning curve high independent</td>\n",
       "      <td>people management work life balance</td>\n",
       "      <td>NaN</td>\n",
       "      <td>brand specialist high learning curve high inde...</td>\n",
       "    </tr>\n",
       "  </tbody>\n",
       "</table>\n",
       "</div>"
      ],
      "text/plain": [
       "            summary                             positives  \\\n",
       "0  brand specialist  high learning curve high independent   \n",
       "\n",
       "                             negatives advice_to_mgmt  \\\n",
       "0  people management work life balance            NaN   \n",
       "\n",
       "                                              review  \n",
       "0  brand specialist high learning curve high inde...  "
      ]
     },
     "metadata": {},
     "output_type": "display_data"
    },
    {
     "data": {
      "text/html": [
       "<div>\n",
       "<style scoped>\n",
       "    .dataframe tbody tr th:only-of-type {\n",
       "        vertical-align: middle;\n",
       "    }\n",
       "\n",
       "    .dataframe tbody tr th {\n",
       "        vertical-align: top;\n",
       "    }\n",
       "\n",
       "    .dataframe thead th {\n",
       "        text-align: right;\n",
       "    }\n",
       "</style>\n",
       "<table border=\"1\" class=\"dataframe\">\n",
       "  <thead>\n",
       "    <tr style=\"text-align: right;\">\n",
       "      <th></th>\n",
       "      <th>summary</th>\n",
       "      <th>positives</th>\n",
       "      <th>negatives</th>\n",
       "      <th>advice_to_mgmt</th>\n",
       "      <th>review</th>\n",
       "    </tr>\n",
       "  </thead>\n",
       "  <tbody>\n",
       "    <tr>\n",
       "      <th>0</th>\n",
       "      <td>great stepping stone</td>\n",
       "      <td>amazing benefit and employee right  everything...</td>\n",
       "      <td>apple talk big about internal growth and devel...</td>\n",
       "      <td>promote internally employee to management  you...</td>\n",
       "      <td>great stepping stone amazing benefit and emplo...</td>\n",
       "    </tr>\n",
       "  </tbody>\n",
       "</table>\n",
       "</div>"
      ],
      "text/plain": [
       "                summary                                          positives  \\\n",
       "0  great stepping stone  amazing benefit and employee right  everything...   \n",
       "\n",
       "                                           negatives  \\\n",
       "0  apple talk big about internal growth and devel...   \n",
       "\n",
       "                                      advice_to_mgmt  \\\n",
       "0  promote internally employee to management  you...   \n",
       "\n",
       "                                              review  \n",
       "0  great stepping stone amazing benefit and emplo...  "
      ]
     },
     "metadata": {},
     "output_type": "display_data"
    }
   ],
   "source": [
    "display(X_train.head(1))\n",
    "display(X_test.head(1))"
   ]
  },
  {
   "cell_type": "markdown",
   "metadata": {},
   "source": [
    "## Pipeline"
   ]
  },
  {
   "cell_type": "code",
   "execution_count": null,
   "metadata": {},
   "outputs": [],
   "source": [
    "pipe = Pipeline([\n",
    "    ('preprocessor', Preprocessor()),\n",
    "    ('engineer', FeatureEngineer()),\n",
    "    ('scaler', CustomMinMaxScaler())\n",
    "])"
   ]
  },
  {
   "cell_type": "code",
   "execution_count": 125,
   "metadata": {},
   "outputs": [
    {
     "data": {
      "text/html": [
       "<div>\n",
       "<style scoped>\n",
       "    .dataframe tbody tr th:only-of-type {\n",
       "        vertical-align: middle;\n",
       "    }\n",
       "\n",
       "    .dataframe tbody tr th {\n",
       "        vertical-align: top;\n",
       "    }\n",
       "\n",
       "    .dataframe thead th {\n",
       "        text-align: right;\n",
       "    }\n",
       "</style>\n",
       "<table border=\"1\" class=\"dataframe\">\n",
       "  <thead>\n",
       "    <tr style=\"text-align: right;\">\n",
       "      <th></th>\n",
       "      <th>summary</th>\n",
       "      <th>positives</th>\n",
       "      <th>negatives</th>\n",
       "      <th>advice_to_mgmt</th>\n",
       "      <th>review</th>\n",
       "    </tr>\n",
       "  </thead>\n",
       "  <tbody>\n",
       "    <tr>\n",
       "      <th>0</th>\n",
       "      <td>Amazon gave me a chance</td>\n",
       "      <td>I was asking for employment and they gave me a...</td>\n",
       "      <td>I don't have any down sides</td>\n",
       "      <td>Keep doing what you are doing</td>\n",
       "      <td>Amazon gave me a chance I was asking for emplo...</td>\n",
       "    </tr>\n",
       "    <tr>\n",
       "      <th>1</th>\n",
       "      <td>A great company to work for with a few glaring...</td>\n",
       "      <td>Great co-workers, challenging environment that...</td>\n",
       "      <td>In a crowded retail environment where employee...</td>\n",
       "      <td>The attendance policy is abusive and bordering...</td>\n",
       "      <td>A great company to work for with a few glaring...</td>\n",
       "    </tr>\n",
       "    <tr>\n",
       "      <th>2</th>\n",
       "      <td>Senior Program Manager</td>\n",
       "      <td>lots of opportunities for work internally grea...</td>\n",
       "      <td>not the best talent some uninspiring leaders p...</td>\n",
       "      <td>NaN</td>\n",
       "      <td>Senior Program Manager lots of opportunities f...</td>\n",
       "    </tr>\n",
       "    <tr>\n",
       "      <th>3</th>\n",
       "      <td>Great company, lots of politics</td>\n",
       "      <td>- Compensation - Great product - Enhances resume</td>\n",
       "      <td>- No life balance - Lots of internal politics ...</td>\n",
       "      <td>NaN</td>\n",
       "      <td>Great company, lots of politics - Compensation...</td>\n",
       "    </tr>\n",
       "    <tr>\n",
       "      <th>4</th>\n",
       "      <td>Cloud Support Engineer</td>\n",
       "      <td>1) Great working environment. less work pressu...</td>\n",
       "      <td>1) Need to be active about career growth. Norm...</td>\n",
       "      <td>Keep mixing things up and get every employee i...</td>\n",
       "      <td>Cloud Support Engineer 1) Great working enviro...</td>\n",
       "    </tr>\n",
       "    <tr>\n",
       "      <th>...</th>\n",
       "      <td>...</td>\n",
       "      <td>...</td>\n",
       "      <td>...</td>\n",
       "      <td>...</td>\n",
       "      <td>...</td>\n",
       "    </tr>\n",
       "    <tr>\n",
       "      <th>36668</th>\n",
       "      <td>Working for a big compay</td>\n",
       "      <td>Large company lots of talk about improvments a...</td>\n",
       "      <td>You need to give up your social and personal l...</td>\n",
       "      <td>NaN</td>\n",
       "      <td>Working for a big compay Large company lots of...</td>\n",
       "    </tr>\n",
       "    <tr>\n",
       "      <th>36669</th>\n",
       "      <td>SDE</td>\n",
       "      <td>Great, smart people to work with who know what...</td>\n",
       "      <td>Windows seems like a really slow org of gettin...</td>\n",
       "      <td>NaN</td>\n",
       "      <td>SDE Great, smart people to work with who know ...</td>\n",
       "    </tr>\n",
       "    <tr>\n",
       "      <th>36670</th>\n",
       "      <td>Amazon Restaurants</td>\n",
       "      <td>Great sales team &amp; direct managers</td>\n",
       "      <td>Upper management makes the job miserable and m...</td>\n",
       "      <td>NaN</td>\n",
       "      <td>Amazon Restaurants Great sales team &amp; direct m...</td>\n",
       "    </tr>\n",
       "    <tr>\n",
       "      <th>36671</th>\n",
       "      <td>Good company for life</td>\n",
       "      <td>Good living benefits and work life balance. Go...</td>\n",
       "      <td>Salary is not so good. Salary is not so good.S...</td>\n",
       "      <td>Different manger differs, need to be more aggr...</td>\n",
       "      <td>Good company for life Good living benefits and...</td>\n",
       "    </tr>\n",
       "    <tr>\n",
       "      <th>36672</th>\n",
       "      <td>Decent place, but not the hottest thing in town</td>\n",
       "      <td>- Fair compensation - Many of the cool \"tech\" ...</td>\n",
       "      <td>- Feels like a \"has-been\" tech company - it's ...</td>\n",
       "      <td>NaN</td>\n",
       "      <td>Decent place, but not the hottest thing in tow...</td>\n",
       "    </tr>\n",
       "  </tbody>\n",
       "</table>\n",
       "<p>36673 rows × 5 columns</p>\n",
       "</div>"
      ],
      "text/plain": [
       "                                                 summary  \\\n",
       "0                                Amazon gave me a chance   \n",
       "1      A great company to work for with a few glaring...   \n",
       "2                                 Senior Program Manager   \n",
       "3                        Great company, lots of politics   \n",
       "4                                 Cloud Support Engineer   \n",
       "...                                                  ...   \n",
       "36668                           Working for a big compay   \n",
       "36669                                                SDE   \n",
       "36670                                 Amazon Restaurants   \n",
       "36671                              Good company for life   \n",
       "36672    Decent place, but not the hottest thing in town   \n",
       "\n",
       "                                               positives  \\\n",
       "0      I was asking for employment and they gave me a...   \n",
       "1      Great co-workers, challenging environment that...   \n",
       "2      lots of opportunities for work internally grea...   \n",
       "3       - Compensation - Great product - Enhances resume   \n",
       "4      1) Great working environment. less work pressu...   \n",
       "...                                                  ...   \n",
       "36668  Large company lots of talk about improvments a...   \n",
       "36669  Great, smart people to work with who know what...   \n",
       "36670                 Great sales team & direct managers   \n",
       "36671  Good living benefits and work life balance. Go...   \n",
       "36672  - Fair compensation - Many of the cool \"tech\" ...   \n",
       "\n",
       "                                               negatives  \\\n",
       "0                            I don't have any down sides   \n",
       "1      In a crowded retail environment where employee...   \n",
       "2      not the best talent some uninspiring leaders p...   \n",
       "3      - No life balance - Lots of internal politics ...   \n",
       "4      1) Need to be active about career growth. Norm...   \n",
       "...                                                  ...   \n",
       "36668  You need to give up your social and personal l...   \n",
       "36669  Windows seems like a really slow org of gettin...   \n",
       "36670  Upper management makes the job miserable and m...   \n",
       "36671  Salary is not so good. Salary is not so good.S...   \n",
       "36672  - Feels like a \"has-been\" tech company - it's ...   \n",
       "\n",
       "                                          advice_to_mgmt  \\\n",
       "0                          Keep doing what you are doing   \n",
       "1      The attendance policy is abusive and bordering...   \n",
       "2                                                    NaN   \n",
       "3                                                    NaN   \n",
       "4      Keep mixing things up and get every employee i...   \n",
       "...                                                  ...   \n",
       "36668                                                NaN   \n",
       "36669                                                NaN   \n",
       "36670                                                NaN   \n",
       "36671  Different manger differs, need to be more aggr...   \n",
       "36672                                                NaN   \n",
       "\n",
       "                                                  review  \n",
       "0      Amazon gave me a chance I was asking for emplo...  \n",
       "1      A great company to work for with a few glaring...  \n",
       "2      Senior Program Manager lots of opportunities f...  \n",
       "3      Great company, lots of politics - Compensation...  \n",
       "4      Cloud Support Engineer 1) Great working enviro...  \n",
       "...                                                  ...  \n",
       "36668  Working for a big compay Large company lots of...  \n",
       "36669  SDE Great, smart people to work with who know ...  \n",
       "36670  Amazon Restaurants Great sales team & direct m...  \n",
       "36671  Good company for life Good living benefits and...  \n",
       "36672  Decent place, but not the hottest thing in tow...  \n",
       "\n",
       "[36673 rows x 5 columns]"
      ]
     },
     "execution_count": 125,
     "metadata": {},
     "output_type": "execute_result"
    }
   ],
   "source": [
    "X_train"
   ]
  },
  {
   "cell_type": "markdown",
   "metadata": {},
   "source": [
    "# Extra: Implementation wrong language function"
   ]
  },
  {
   "cell_type": "code",
   "execution_count": null,
   "metadata": {},
   "outputs": [],
   "source": [
    "def drop_wrong_language(df, column, language = 'en', inplace=False):\n",
    "    '''drops entries written in languages other thatn the specified'''\n",
    "    print('Identifying entries in other languages...')\n",
    "    is_wrong = df[column].apply(detect) != language\n",
    "    n_rows_to_drop = is_wrong.sum()\n",
    "\n",
    "    user_confirmation = None\n",
    "    while not (user_confirmation is 'y' or user_confirmation is 'n'):\n",
    "        user_confirmation = input(f'Drop {n_rows_to_drop} entries? y / [n]\\n') or 'n'\n",
    "    if user_confirmation is 'y':\n",
    "        if inplace:\n",
    "            print(f'Dropping {n_rows_to_drop} entries...')\n",
    "            df = df[~is_wrong]\n",
    "            df.reset_index(inplace=True, drop=True)\n",
    "            print('Process completed.')\n",
    "            return df\n",
    "        else:\n",
    "            print(f'Dropping {n_rows_to_drop} entries...')\n",
    "            print('Process completed.')\n",
    "            return df[~is_wrong].reset_index(inplace=True, drop=True)\n",
    "    else:\n",
    "        print('Process aborted')\n",
    "        return None"
   ]
  }
 ],
 "metadata": {
  "kernelspec": {
   "display_name": "Python 3",
   "language": "python",
   "name": "python3"
  },
  "language_info": {
   "codemirror_mode": {
    "name": "ipython",
    "version": 3
   },
   "file_extension": ".py",
   "mimetype": "text/x-python",
   "name": "python",
   "nbconvert_exporter": "python",
   "pygments_lexer": "ipython3",
   "version": "3.7.7"
  },
  "toc": {
   "base_numbering": 1,
   "nav_menu": {},
   "number_sections": true,
   "sideBar": true,
   "skip_h1_title": false,
   "title_cell": "Table of Contents",
   "title_sidebar": "Contents",
   "toc_cell": false,
   "toc_position": {},
   "toc_section_display": true,
   "toc_window_display": false
  }
 },
 "nbformat": 4,
 "nbformat_minor": 4
}
