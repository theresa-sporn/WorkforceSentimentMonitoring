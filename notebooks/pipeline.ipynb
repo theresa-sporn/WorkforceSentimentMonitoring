{
 "cells": [
  {
   "cell_type": "markdown",
   "metadata": {},
   "source": [
    "# Pipeline"
   ]
  },
  {
   "cell_type": "markdown",
   "metadata": {},
   "source": [
    "## Imports"
   ]
  },
  {
   "cell_type": "code",
   "execution_count": 1,
   "metadata": {},
   "outputs": [],
   "source": [
    "%load_ext autoreload\n",
    "%autoreload 2"
   ]
  },
  {
   "cell_type": "code",
   "execution_count": 2,
   "metadata": {},
   "outputs": [],
   "source": [
    "from WorkforceSentimentMonitoring.data import get_prepaired_data\n",
    "from WorkforceSentimentMonitoring.encoders import Preprocessor, CustomMinMaxScaler, FeatureEngineer\n",
    "from WorkforceSentimentMonitoring.preprocessing import lemmatize\n",
    "import numpy as np\n",
    "import pandas as pd\n",
    "\n",
    "from sklearn.feature_extraction.text import TfidfVectorizer\n",
    "from sklearn.model_selection import cross_validate, GridSearchCV, RandomizedSearchCV\n",
    "from sklearn.pipeline import Pipeline, make_pipeline\n",
    "from sklearn.metrics import f1_score, classification_report\n",
    "from sklearn.svm import SVC\n",
    "from sklearn.linear_model import LinearRegression, LogisticRegression\n",
    "\n",
    "from langdetect import detect"
   ]
  },
  {
   "cell_type": "markdown",
   "metadata": {},
   "source": [
    "## Get data"
   ]
  },
  {
   "cell_type": "code",
   "execution_count": 21,
   "metadata": {},
   "outputs": [
    {
     "name": "stdout",
     "output_type": "stream",
     "text": [
      "Reading data...\n",
      "Merging data into a single DataFrame\n",
      "Identifying entries in other languages...\n",
      "No entries to drop.\n",
      "Splitting train and test...\n",
      "Done!\n"
     ]
    }
   ],
   "source": [
    "X_train, X_test, y_train, y_test = get_prepaired_data()"
   ]
  },
  {
   "cell_type": "markdown",
   "metadata": {},
   "source": [
    "## Preprocess"
   ]
  },
  {
   "cell_type": "code",
   "execution_count": 22,
   "metadata": {},
   "outputs": [],
   "source": [
    "preprocessor = Preprocessor()\n",
    "X_train = preprocessor.fit_transform(X_train)\n",
    "X_test = preprocessor.fit_transform(X_test)"
   ]
  },
  {
   "cell_type": "code",
   "execution_count": 23,
   "metadata": {},
   "outputs": [
    {
     "data": {
      "text/html": [
       "<div>\n",
       "<style scoped>\n",
       "    .dataframe tbody tr th:only-of-type {\n",
       "        vertical-align: middle;\n",
       "    }\n",
       "\n",
       "    .dataframe tbody tr th {\n",
       "        vertical-align: top;\n",
       "    }\n",
       "\n",
       "    .dataframe thead th {\n",
       "        text-align: right;\n",
       "    }\n",
       "</style>\n",
       "<table border=\"1\" class=\"dataframe\">\n",
       "  <thead>\n",
       "    <tr style=\"text-align: right;\">\n",
       "      <th></th>\n",
       "      <th>summary</th>\n",
       "      <th>positives</th>\n",
       "      <th>negatives</th>\n",
       "      <th>advice_to_mgmt</th>\n",
       "      <th>review</th>\n",
       "    </tr>\n",
       "  </thead>\n",
       "  <tbody>\n",
       "    <tr>\n",
       "      <th>0</th>\n",
       "      <td>great place to work and progress</td>\n",
       "      <td>work culture  benefit  growth  people</td>\n",
       "      <td>no con that i can think of</td>\n",
       "      <td>NaN</td>\n",
       "      <td>great place to work and progress work culture ...</td>\n",
       "    </tr>\n",
       "  </tbody>\n",
       "</table>\n",
       "</div>"
      ],
      "text/plain": [
       "                            summary                               positives  \\\n",
       "0  great place to work and progress  work culture  benefit  growth  people    \n",
       "\n",
       "                    negatives advice_to_mgmt  \\\n",
       "0  no con that i can think of            NaN   \n",
       "\n",
       "                                              review  \n",
       "0  great place to work and progress work culture ...  "
      ]
     },
     "execution_count": 23,
     "metadata": {},
     "output_type": "execute_result"
    }
   ],
   "source": [
    "X_train.head(1)"
   ]
  },
  {
   "cell_type": "markdown",
   "metadata": {},
   "source": [
    "## Feature Engineering"
   ]
  },
  {
   "cell_type": "code",
   "execution_count": 25,
   "metadata": {},
   "outputs": [
    {
     "name": "stderr",
     "output_type": "stream",
     "text": [
      "100%|██████████| 5/5 [00:00<00:00, 37.58it/s]\n",
      "100%|██████████| 5/5 [00:00<00:00, 36.35it/s]\n"
     ]
    }
   ],
   "source": [
    "engineer = FeatureEngineer()\n",
    "X_train = engineer.fit_transform(X_train)\n",
    "X_test = engineer.fit_transform(X_test)"
   ]
  },
  {
   "cell_type": "code",
   "execution_count": 26,
   "metadata": {},
   "outputs": [
    {
     "data": {
      "text/html": [
       "<div>\n",
       "<style scoped>\n",
       "    .dataframe tbody tr th:only-of-type {\n",
       "        vertical-align: middle;\n",
       "    }\n",
       "\n",
       "    .dataframe tbody tr th {\n",
       "        vertical-align: top;\n",
       "    }\n",
       "\n",
       "    .dataframe thead th {\n",
       "        text-align: right;\n",
       "    }\n",
       "</style>\n",
       "<table border=\"1\" class=\"dataframe\">\n",
       "  <thead>\n",
       "    <tr style=\"text-align: right;\">\n",
       "      <th></th>\n",
       "      <th>summary</th>\n",
       "      <th>positives</th>\n",
       "      <th>negatives</th>\n",
       "      <th>advice_to_mgmt</th>\n",
       "      <th>review</th>\n",
       "      <th>summary_length</th>\n",
       "      <th>positives_length</th>\n",
       "      <th>negatives_length</th>\n",
       "      <th>advice_to_mgmt_length</th>\n",
       "      <th>review_length</th>\n",
       "      <th>subjectivity_summary</th>\n",
       "      <th>polarity_summary</th>\n",
       "      <th>subjectivity_positives</th>\n",
       "      <th>polarity_positives</th>\n",
       "      <th>subjectivity_negatives</th>\n",
       "      <th>polarity_negatives</th>\n",
       "      <th>subjectivity_advice_to_mgmt</th>\n",
       "      <th>polarity_advice_to_mgmt</th>\n",
       "      <th>subjectivity_review</th>\n",
       "      <th>polarity_review</th>\n",
       "    </tr>\n",
       "  </thead>\n",
       "  <tbody>\n",
       "    <tr>\n",
       "      <th>0</th>\n",
       "      <td>great place to work and progress</td>\n",
       "      <td>work culture  benefit  growth  people</td>\n",
       "      <td>no con that i can think of</td>\n",
       "      <td>NaN</td>\n",
       "      <td>great place to work and progress work culture ...</td>\n",
       "      <td>32</td>\n",
       "      <td>38</td>\n",
       "      <td>26</td>\n",
       "      <td>0</td>\n",
       "      <td>102</td>\n",
       "      <td>0.75</td>\n",
       "      <td>0.8</td>\n",
       "      <td>0.0</td>\n",
       "      <td>0.0</td>\n",
       "      <td>0.0</td>\n",
       "      <td>0.0</td>\n",
       "      <td>NaN</td>\n",
       "      <td>NaN</td>\n",
       "      <td>0.75</td>\n",
       "      <td>0.8</td>\n",
       "    </tr>\n",
       "  </tbody>\n",
       "</table>\n",
       "</div>"
      ],
      "text/plain": [
       "                            summary                               positives  \\\n",
       "0  great place to work and progress  work culture  benefit  growth  people    \n",
       "\n",
       "                    negatives advice_to_mgmt  \\\n",
       "0  no con that i can think of            NaN   \n",
       "\n",
       "                                              review  summary_length  \\\n",
       "0  great place to work and progress work culture ...              32   \n",
       "\n",
       "   positives_length  negatives_length  advice_to_mgmt_length  review_length  \\\n",
       "0                38                26                      0            102   \n",
       "\n",
       "   subjectivity_summary  polarity_summary  subjectivity_positives  \\\n",
       "0                  0.75               0.8                     0.0   \n",
       "\n",
       "   polarity_positives  subjectivity_negatives  polarity_negatives  \\\n",
       "0                 0.0                     0.0                 0.0   \n",
       "\n",
       "   subjectivity_advice_to_mgmt  polarity_advice_to_mgmt  subjectivity_review  \\\n",
       "0                          NaN                      NaN                 0.75   \n",
       "\n",
       "   polarity_review  \n",
       "0              0.8  "
      ]
     },
     "metadata": {},
     "output_type": "display_data"
    },
    {
     "data": {
      "text/html": [
       "<div>\n",
       "<style scoped>\n",
       "    .dataframe tbody tr th:only-of-type {\n",
       "        vertical-align: middle;\n",
       "    }\n",
       "\n",
       "    .dataframe tbody tr th {\n",
       "        vertical-align: top;\n",
       "    }\n",
       "\n",
       "    .dataframe thead th {\n",
       "        text-align: right;\n",
       "    }\n",
       "</style>\n",
       "<table border=\"1\" class=\"dataframe\">\n",
       "  <thead>\n",
       "    <tr style=\"text-align: right;\">\n",
       "      <th></th>\n",
       "      <th>summary</th>\n",
       "      <th>positives</th>\n",
       "      <th>negatives</th>\n",
       "      <th>advice_to_mgmt</th>\n",
       "      <th>review</th>\n",
       "      <th>summary_length</th>\n",
       "      <th>positives_length</th>\n",
       "      <th>negatives_length</th>\n",
       "      <th>advice_to_mgmt_length</th>\n",
       "      <th>review_length</th>\n",
       "      <th>subjectivity_summary</th>\n",
       "      <th>polarity_summary</th>\n",
       "      <th>subjectivity_positives</th>\n",
       "      <th>polarity_positives</th>\n",
       "      <th>subjectivity_negatives</th>\n",
       "      <th>polarity_negatives</th>\n",
       "      <th>subjectivity_advice_to_mgmt</th>\n",
       "      <th>polarity_advice_to_mgmt</th>\n",
       "      <th>subjectivity_review</th>\n",
       "      <th>polarity_review</th>\n",
       "    </tr>\n",
       "  </thead>\n",
       "  <tbody>\n",
       "    <tr>\n",
       "      <th>0</th>\n",
       "      <td>execellent for engineer</td>\n",
       "      <td>impact driven  best tech in the world</td>\n",
       "      <td>size matter  engineer are a bit disconnected w...</td>\n",
       "      <td>NaN</td>\n",
       "      <td>execellent for engineer impact driven  best te...</td>\n",
       "      <td>23</td>\n",
       "      <td>38</td>\n",
       "      <td>59</td>\n",
       "      <td>0</td>\n",
       "      <td>126</td>\n",
       "      <td>0.0</td>\n",
       "      <td>0.0</td>\n",
       "      <td>0.3</td>\n",
       "      <td>1.0</td>\n",
       "      <td>0.0</td>\n",
       "      <td>0.0</td>\n",
       "      <td>NaN</td>\n",
       "      <td>NaN</td>\n",
       "      <td>0.3</td>\n",
       "      <td>1.0</td>\n",
       "    </tr>\n",
       "  </tbody>\n",
       "</table>\n",
       "</div>"
      ],
      "text/plain": [
       "                   summary                               positives  \\\n",
       "0  execellent for engineer  impact driven  best tech in the world    \n",
       "\n",
       "                                           negatives advice_to_mgmt  \\\n",
       "0  size matter  engineer are a bit disconnected w...            NaN   \n",
       "\n",
       "                                              review  summary_length  \\\n",
       "0  execellent for engineer impact driven  best te...              23   \n",
       "\n",
       "   positives_length  negatives_length  advice_to_mgmt_length  review_length  \\\n",
       "0                38                59                      0            126   \n",
       "\n",
       "   subjectivity_summary  polarity_summary  subjectivity_positives  \\\n",
       "0                   0.0               0.0                     0.3   \n",
       "\n",
       "   polarity_positives  subjectivity_negatives  polarity_negatives  \\\n",
       "0                 1.0                     0.0                 0.0   \n",
       "\n",
       "   subjectivity_advice_to_mgmt  polarity_advice_to_mgmt  subjectivity_review  \\\n",
       "0                          NaN                      NaN                  0.3   \n",
       "\n",
       "   polarity_review  \n",
       "0              1.0  "
      ]
     },
     "metadata": {},
     "output_type": "display_data"
    }
   ],
   "source": [
    "display(X_train.head(1))\n",
    "display(X_test.head(1))"
   ]
  },
  {
   "cell_type": "markdown",
   "metadata": {},
   "source": [
    "# Extra: Implementation wrong language function"
   ]
  },
  {
   "cell_type": "code",
   "execution_count": null,
   "metadata": {},
   "outputs": [],
   "source": [
    "def drop_wrong_language(df, column, language = 'en', inplace=False):\n",
    "    '''drops entries written in languages other thatn the specified'''\n",
    "    print('Identifying entries in other languages...')\n",
    "    is_wrong = df[column].apply(detect) != language\n",
    "    n_rows_to_drop = is_wrong.sum()\n",
    "\n",
    "    user_confirmation = None\n",
    "    while not (user_confirmation is 'y' or user_confirmation is 'n'):\n",
    "        user_confirmation = input(f'Drop {n_rows_to_drop} entries? y / [n]\\n') or 'n'\n",
    "    if user_confirmation is 'y':\n",
    "        if inplace:\n",
    "            print(f'Dropping {n_rows_to_drop} entries...')\n",
    "            df = df[~is_wrong]\n",
    "            df.reset_index(inplace=True, drop=True)\n",
    "            print('Process completed.')\n",
    "            return df\n",
    "        else:\n",
    "            print(f'Dropping {n_rows_to_drop} entries...')\n",
    "            print('Process completed.')\n",
    "            return df[~is_wrong].reset_index(inplace=True, drop=True)\n",
    "    else:\n",
    "        print('Process aborted')\n",
    "        return None"
   ]
  }
 ],
 "metadata": {
  "kernelspec": {
   "display_name": "Python 3",
   "language": "python",
   "name": "python3"
  },
  "language_info": {
   "codemirror_mode": {
    "name": "ipython",
    "version": 3
   },
   "file_extension": ".py",
   "mimetype": "text/x-python",
   "name": "python",
   "nbconvert_exporter": "python",
   "pygments_lexer": "ipython3",
   "version": "3.7.7"
  },
  "toc": {
   "base_numbering": 1,
   "nav_menu": {},
   "number_sections": true,
   "sideBar": true,
   "skip_h1_title": false,
   "title_cell": "Table of Contents",
   "title_sidebar": "Contents",
   "toc_cell": false,
   "toc_position": {},
   "toc_section_display": true,
   "toc_window_display": false
  }
 },
 "nbformat": 4,
 "nbformat_minor": 4
}
