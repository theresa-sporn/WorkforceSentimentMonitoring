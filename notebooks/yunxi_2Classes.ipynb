{
 "cells": [
  {
   "cell_type": "code",
   "execution_count": 13,
   "metadata": {},
   "outputs": [
    {
     "name": "stdout",
     "output_type": "stream",
     "text": [
      "The autoreload extension is already loaded. To reload it, use:\n",
      "  %reload_ext autoreload\n"
     ]
    }
   ],
   "source": [
    "%load_ext autoreload\n",
    "%autoreload 2"
   ]
  },
  {
   "cell_type": "code",
   "execution_count": 4,
   "metadata": {},
   "outputs": [],
   "source": [
    "from WorkforceSentimentMonitoring.data import get_data, merge, holdout, get_prepaired_data"
   ]
  },
  {
   "cell_type": "markdown",
   "metadata": {},
   "source": [
    "# Load Data"
   ]
  },
  {
   "cell_type": "code",
   "execution_count": 5,
   "metadata": {},
   "outputs": [
    {
     "name": "stdout",
     "output_type": "stream",
     "text": [
      "/Users/yunxizzy/code/theresa-sporn/WorkforceSentimentMonitoring/WorkforceSentimentMonitoring\n",
      "/Users/yunxizzy/code/theresa-sporn/WorkforceSentimentMonitoring/WorkforceSentimentMonitoring/../raw_data\n"
     ]
    }
   ],
   "source": [
    "X_train, X_test, y_train, y_test = get_prepaired_data()"
   ]
  },
  {
   "cell_type": "code",
   "execution_count": 7,
   "metadata": {},
   "outputs": [
    {
     "data": {
      "text/html": [
       "<div>\n",
       "<style scoped>\n",
       "    .dataframe tbody tr th:only-of-type {\n",
       "        vertical-align: middle;\n",
       "    }\n",
       "\n",
       "    .dataframe tbody tr th {\n",
       "        vertical-align: top;\n",
       "    }\n",
       "\n",
       "    .dataframe thead th {\n",
       "        text-align: right;\n",
       "    }\n",
       "</style>\n",
       "<table border=\"1\" class=\"dataframe\">\n",
       "  <thead>\n",
       "    <tr style=\"text-align: right;\">\n",
       "      <th></th>\n",
       "      <th>summary</th>\n",
       "      <th>positives</th>\n",
       "      <th>negatives</th>\n",
       "      <th>advice_to_mgmt</th>\n",
       "      <th>review</th>\n",
       "    </tr>\n",
       "  </thead>\n",
       "  <tbody>\n",
       "    <tr>\n",
       "      <th>0</th>\n",
       "      <td>Fulfullment Associate</td>\n",
       "      <td>Good about closing for inclement weather</td>\n",
       "      <td>Work as a picker is very physical</td>\n",
       "      <td>NaN</td>\n",
       "      <td>Fulfullment Associate Good about closing for i...</td>\n",
       "    </tr>\n",
       "    <tr>\n",
       "      <th>1</th>\n",
       "      <td>great company, bad orgs</td>\n",
       "      <td>never have to worry about benefits</td>\n",
       "      <td>internal politics are increasing which harm IC</td>\n",
       "      <td>Please fix the review process. It is completel...</td>\n",
       "      <td>great company, bad orgs never have to worry ab...</td>\n",
       "    </tr>\n",
       "    <tr>\n",
       "      <th>2</th>\n",
       "      <td>Dynamic, fast-paced, but poorly managed.</td>\n",
       "      <td>Apple prepares their employees for success wit...</td>\n",
       "      <td>The way Apple cultivates a management team is ...</td>\n",
       "      <td>Realize the history between managers on a stor...</td>\n",
       "      <td>Dynamic, fast-paced, but poorly managed. Apple...</td>\n",
       "    </tr>\n",
       "    <tr>\n",
       "      <th>3</th>\n",
       "      <td>Apple</td>\n",
       "      <td>Great work environment. Excellent benefits. Pe...</td>\n",
       "      <td>Not much opportunity to advance in certain are...</td>\n",
       "      <td>NaN</td>\n",
       "      <td>Apple Great work environment. Excellent benefi...</td>\n",
       "    </tr>\n",
       "    <tr>\n",
       "      <th>4</th>\n",
       "      <td>SDE2</td>\n",
       "      <td>Best in class, you name the benefits and it’s ...</td>\n",
       "      <td>No as such, keep it up</td>\n",
       "      <td>Keep it up</td>\n",
       "      <td>SDE2 Best in class, you name the benefits and ...</td>\n",
       "    </tr>\n",
       "  </tbody>\n",
       "</table>\n",
       "</div>"
      ],
      "text/plain": [
       "                                    summary  \\\n",
       "0                     Fulfullment Associate   \n",
       "1                   great company, bad orgs   \n",
       "2  Dynamic, fast-paced, but poorly managed.   \n",
       "3                                     Apple   \n",
       "4                                      SDE2   \n",
       "\n",
       "                                           positives  \\\n",
       "0           Good about closing for inclement weather   \n",
       "1                 never have to worry about benefits   \n",
       "2  Apple prepares their employees for success wit...   \n",
       "3  Great work environment. Excellent benefits. Pe...   \n",
       "4  Best in class, you name the benefits and it’s ...   \n",
       "\n",
       "                                           negatives  \\\n",
       "0                  Work as a picker is very physical   \n",
       "1     internal politics are increasing which harm IC   \n",
       "2  The way Apple cultivates a management team is ...   \n",
       "3  Not much opportunity to advance in certain are...   \n",
       "4                             No as such, keep it up   \n",
       "\n",
       "                                      advice_to_mgmt  \\\n",
       "0                                                NaN   \n",
       "1  Please fix the review process. It is completel...   \n",
       "2  Realize the history between managers on a stor...   \n",
       "3                                                NaN   \n",
       "4                                         Keep it up   \n",
       "\n",
       "                                              review  \n",
       "0  Fulfullment Associate Good about closing for i...  \n",
       "1  great company, bad orgs never have to worry ab...  \n",
       "2  Dynamic, fast-paced, but poorly managed. Apple...  \n",
       "3  Apple Great work environment. Excellent benefi...  \n",
       "4  SDE2 Best in class, you name the benefits and ...  "
      ]
     },
     "execution_count": 7,
     "metadata": {},
     "output_type": "execute_result"
    }
   ],
   "source": [
    "X_train.head()"
   ]
  },
  {
   "cell_type": "code",
   "execution_count": 11,
   "metadata": {},
   "outputs": [
    {
     "data": {
      "text/html": [
       "<div>\n",
       "<style scoped>\n",
       "    .dataframe tbody tr th:only-of-type {\n",
       "        vertical-align: middle;\n",
       "    }\n",
       "\n",
       "    .dataframe tbody tr th {\n",
       "        vertical-align: top;\n",
       "    }\n",
       "\n",
       "    .dataframe thead th {\n",
       "        text-align: right;\n",
       "    }\n",
       "</style>\n",
       "<table border=\"1\" class=\"dataframe\">\n",
       "  <thead>\n",
       "    <tr style=\"text-align: right;\">\n",
       "      <th></th>\n",
       "      <th>work-balance</th>\n",
       "      <th>culture-values</th>\n",
       "      <th>career-opportunities</th>\n",
       "      <th>comp-benefits</th>\n",
       "      <th>senior-mgmt</th>\n",
       "      <th>overall</th>\n",
       "    </tr>\n",
       "  </thead>\n",
       "  <tbody>\n",
       "    <tr>\n",
       "      <th>0</th>\n",
       "      <td>3</td>\n",
       "      <td>4</td>\n",
       "      <td>3</td>\n",
       "      <td>2</td>\n",
       "      <td>3</td>\n",
       "      <td>3</td>\n",
       "    </tr>\n",
       "    <tr>\n",
       "      <th>1</th>\n",
       "      <td>4</td>\n",
       "      <td>3</td>\n",
       "      <td>3</td>\n",
       "      <td>3</td>\n",
       "      <td>3</td>\n",
       "      <td>4</td>\n",
       "    </tr>\n",
       "    <tr>\n",
       "      <th>2</th>\n",
       "      <td>4</td>\n",
       "      <td>1</td>\n",
       "      <td>3</td>\n",
       "      <td>5</td>\n",
       "      <td>1</td>\n",
       "      <td>3</td>\n",
       "    </tr>\n",
       "    <tr>\n",
       "      <th>3</th>\n",
       "      <td>4</td>\n",
       "      <td>4</td>\n",
       "      <td>3</td>\n",
       "      <td>5</td>\n",
       "      <td>3</td>\n",
       "      <td>3</td>\n",
       "    </tr>\n",
       "    <tr>\n",
       "      <th>4</th>\n",
       "      <td>5</td>\n",
       "      <td>5</td>\n",
       "      <td>5</td>\n",
       "      <td>5</td>\n",
       "      <td>3</td>\n",
       "      <td>4</td>\n",
       "    </tr>\n",
       "  </tbody>\n",
       "</table>\n",
       "</div>"
      ],
      "text/plain": [
       "   work-balance  culture-values  career-opportunities  comp-benefits  \\\n",
       "0             3               4                     3              2   \n",
       "1             4               3                     3              3   \n",
       "2             4               1                     3              5   \n",
       "3             4               4                     3              5   \n",
       "4             5               5                     5              5   \n",
       "\n",
       "   senior-mgmt  overall  \n",
       "0            3        3  \n",
       "1            3        4  \n",
       "2            1        3  \n",
       "3            3        3  \n",
       "4            3        4  "
      ]
     },
     "execution_count": 11,
     "metadata": {},
     "output_type": "execute_result"
    }
   ],
   "source": [
    "y_train.head()"
   ]
  },
  {
   "cell_type": "markdown",
   "metadata": {},
   "source": [
    "# Prepare 2-class target"
   ]
  },
  {
   "cell_type": "code",
   "execution_count": null,
   "metadata": {},
   "outputs": [],
   "source": []
  }
 ],
 "metadata": {
  "kernelspec": {
   "display_name": "Python 3",
   "language": "python",
   "name": "python3"
  },
  "language_info": {
   "codemirror_mode": {
    "name": "ipython",
    "version": 3
   },
   "file_extension": ".py",
   "mimetype": "text/x-python",
   "name": "python",
   "nbconvert_exporter": "python",
   "pygments_lexer": "ipython3",
   "version": "3.7.7"
  },
  "toc": {
   "base_numbering": 1,
   "nav_menu": {},
   "number_sections": true,
   "sideBar": true,
   "skip_h1_title": false,
   "title_cell": "Table of Contents",
   "title_sidebar": "Contents",
   "toc_cell": false,
   "toc_position": {},
   "toc_section_display": true,
   "toc_window_display": false
  },
  "varInspector": {
   "cols": {
    "lenName": 16,
    "lenType": 16,
    "lenVar": 40
   },
   "kernels_config": {
    "python": {
     "delete_cmd_postfix": "",
     "delete_cmd_prefix": "del ",
     "library": "var_list.py",
     "varRefreshCmd": "print(var_dic_list())"
    },
    "r": {
     "delete_cmd_postfix": ") ",
     "delete_cmd_prefix": "rm(",
     "library": "var_list.r",
     "varRefreshCmd": "cat(var_dic_list()) "
    }
   },
   "types_to_exclude": [
    "module",
    "function",
    "builtin_function_or_method",
    "instance",
    "_Feature"
   ],
   "window_display": false
  }
 },
 "nbformat": 4,
 "nbformat_minor": 4
}
