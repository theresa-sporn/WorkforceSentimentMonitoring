{
 "cells": [
  {
   "cell_type": "code",
   "execution_count": 1,
   "metadata": {},
   "outputs": [],
   "source": [
    "from WorkforceSentimentMonitoring.preprocessing import preprocessing\n",
    "from WorkforceSentimentMonitoring.data import get_data, merge\n",
    "import pandas as pd\n",
    "from sklearn.model_selection import train_test_split\n",
    "import os\n",
    "from langdetect import detect"
   ]
  },
  {
   "cell_type": "code",
   "execution_count": 2,
   "metadata": {},
   "outputs": [],
   "source": [
    "submission, train, test = get_data(\"/Users/theresasporn/code/theresa-sporn/workforce_sentiment_monitoring/raw_data\")"
   ]
  },
  {
   "cell_type": "code",
   "execution_count": 3,
   "metadata": {
    "collapsed": true
   },
   "outputs": [
    {
     "data": {
      "text/plain": [
       "0                            People are smart and friendly\n",
       "1        1) Food, food, food. 15+ cafes on main campus ...\n",
       "2        * If you're a software engineer, you're among ...\n",
       "3        You can't find a more well-regarded company th...\n",
       "4                   Impact driven. Best tech in the world.\n",
       "6           The people are great to work with, good perks.\n",
       "8                 Really fun work environment with startup\n",
       "10        I like and learned from the beginning accounting\n",
       "11                  Very inspiring engineers to work with.\n",
       "12       The people are awesome. Lots of perks. Reduce ...\n",
       "13       So many brilliant people Tons of resources Wor...\n",
       "14         Google is one of the beast Company in the world\n",
       "15       Better than average engineers. Competitive com...\n",
       "16       The best company I've worked for. Culture, per...\n",
       "18       Amazing compensation + benefits (hard to beat ...\n",
       "19       Ambitious mission, great colleagues, supportiv...\n",
       "20       Good opportunities for different technical exp...\n",
       "21       Employees, food, benefits, perks, shuttle, bas...\n",
       "22       food, shuttle, technology, perks, health, 401K...\n",
       "23         Pays really well Free food Looks good on resume\n",
       "26       Great pay Great work life balance Great perks/...\n",
       "29       Here you receive a great opportunity to solve ...\n",
       "30       Great benefits, work life balance, and pay for...\n",
       "31       Resume filler gets you easy interviews everywh...\n",
       "32       Google offers the best of the best when it com...\n",
       "33                 Great place to work at every single day\n",
       "34         * Good pay * Free food * Good hours * Easy work\n",
       "35       -Amazing Perks in NYC: gym, rooftop terrace, u...\n",
       "36             Great culture, great people, great benefits\n",
       "37                            fun, good food, smart people\n",
       "                               ...                        \n",
       "29242    1. Good work culture.  2. Friendly and helping...\n",
       "29243                Good Enough Big Company Lots to learn\n",
       "29244    A chance to help companies and individuals ach...\n",
       "29245    Open and Honest Culture. Ability to speak your...\n",
       "29246    Very bright people and lot of avenues for lear...\n",
       "29247              Great workig environment, helping peers\n",
       "29248    Amazing ressources available, has a global imp...\n",
       "29249    Good infrastructure, Work from home, Very tale...\n",
       "29250    Great set of benefits, flexible working enviro...\n",
       "29251                     The pay and benefits are alright\n",
       "29252                Very Nice and people friendly company\n",
       "29253        lots of things to work on and always changing\n",
       "29254    Loads of technical stuff to learn & good resou...\n",
       "29255    Opportunity to create products that can change...\n",
       "29256             remuneration and growth best in industry\n",
       "29257    Best place to work, excellent work environment...\n",
       "29258    Friendly environment, Learning Opportunities, ...\n",
       "29259    1. One of the best culture. 2. Lots of values ...\n",
       "29260    Brand name Work environment Flexi timing Chall...\n",
       "29261    You will be in the company of Smart, Intellige...\n",
       "29262    The Employer is a very friendly and kind perso...\n",
       "29263    People are smart (but still not enough), polit...\n",
       "29264                  Good preview to latest technologies\n",
       "29265    Brand name: Whatever the case, Microsoft will ...\n",
       "29266     Strong financials, good comps, name recognition.\n",
       "29267    Great health benefits. Many internal job oppor...\n",
       "29268    diverse set of people and problems they solve....\n",
       "29269             Equip its employees wid huge salaries :D\n",
       "29270    They had great health benefits (no longer im t...\n",
       "29271    Very structured organization Market focused pr...\n",
       "Name: positives, Length: 52815, dtype: object"
      ]
     },
     "execution_count": 3,
     "metadata": {},
     "output_type": "execute_result"
    }
   ],
   "source": [
    "text = merge(submission, train, test)\n",
    "positives = text['positives']\n",
    "positives"
   ]
  },
  {
   "cell_type": "code",
   "execution_count": 7,
   "metadata": {},
   "outputs": [
    {
     "ename": "NameError",
     "evalue": "name 'to_lower' is not defined",
     "output_type": "error",
     "traceback": [
      "\u001b[0;31m---------------------------------------------------------------------------\u001b[0m",
      "\u001b[0;31mNameError\u001b[0m                                 Traceback (most recent call last)",
      "\u001b[0;32m<ipython-input-7-ed3d1abd2c84>\u001b[0m in \u001b[0;36m<module>\u001b[0;34m\u001b[0m\n\u001b[0;32m----> 1\u001b[0;31m \u001b[0mpreprocessing\u001b[0m\u001b[0;34m(\u001b[0m\u001b[0mpositives\u001b[0m\u001b[0;34m,\u001b[0m \u001b[0mto_lower\u001b[0m\u001b[0;34m,\u001b[0m \u001b[0mwords_only\u001b[0m\u001b[0;34m,\u001b[0m \u001b[0mrm_stopwords\u001b[0m\u001b[0;34m)\u001b[0m\u001b[0;34m\u001b[0m\u001b[0;34m\u001b[0m\u001b[0m\n\u001b[0m",
      "\u001b[0;31mNameError\u001b[0m: name 'to_lower' is not defined"
     ]
    }
   ],
   "source": [
    "preprocessing(positives, to_lower, words_only, rm_stopwords)"
   ]
  },
  {
   "cell_type": "code",
   "execution_count": null,
   "metadata": {},
   "outputs": [],
   "source": []
  }
 ],
 "metadata": {
  "kernelspec": {
   "display_name": "Python 3",
   "language": "python",
   "name": "python3"
  },
  "language_info": {
   "codemirror_mode": {
    "name": "ipython",
    "version": 3
   },
   "file_extension": ".py",
   "mimetype": "text/x-python",
   "name": "python",
   "nbconvert_exporter": "python",
   "pygments_lexer": "ipython3",
   "version": "3.7.7"
  },
  "toc": {
   "base_numbering": 1,
   "nav_menu": {},
   "number_sections": true,
   "sideBar": true,
   "skip_h1_title": false,
   "title_cell": "Table of Contents",
   "title_sidebar": "Contents",
   "toc_cell": false,
   "toc_position": {},
   "toc_section_display": true,
   "toc_window_display": false
  }
 },
 "nbformat": 4,
 "nbformat_minor": 4
}
