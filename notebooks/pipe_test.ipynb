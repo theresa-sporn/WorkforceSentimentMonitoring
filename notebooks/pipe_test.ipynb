{
 "cells": [
  {
   "cell_type": "code",
   "execution_count": 4,
   "metadata": {},
   "outputs": [],
   "source": [
    "from WorkforceSentimentMonitoring.data import get_prepaired_data\n",
    "import joblib"
   ]
  },
  {
   "cell_type": "code",
   "execution_count": 2,
   "metadata": {},
   "outputs": [
    {
     "name": "stdout",
     "output_type": "stream",
     "text": [
      "Reading data...\n",
      "Merging data into a single DataFrame...\n",
      "Dropping initial text columns...\n",
      "Identifying entries in other languages...\n"
     ]
    },
    {
     "data": {
      "application/vnd.jupyter.widget-view+json": {
       "model_id": "34f3ad82616947deaf8c9e48f7252b9c",
       "version_major": 2,
       "version_minor": 0
      },
      "text/plain": [
       "HBox(children=(HTML(value='Dask Apply'), FloatProgress(value=0.0, max=8.0), HTML(value='')))"
      ]
     },
     "metadata": {},
     "output_type": "display_data"
    },
    {
     "name": "stdout",
     "output_type": "stream",
     "text": [
      "\n",
      "Drop 437 entries? [y] / n\n",
      "y\n",
      "Dropping 437 entries...\n",
      "Splitting train and test...\n",
      "Encoding targets...\n",
      "Done!\n"
     ]
    }
   ],
   "source": [
    "X_train, X_test, y_train, y_test = get_prepaired_data()"
   ]
  },
  {
   "cell_type": "code",
   "execution_count": 5,
   "metadata": {},
   "outputs": [
    {
     "name": "stderr",
     "output_type": "stream",
     "text": [
      "/Users/AlephPei/.pyenv/versions/3.7.7/lib/python3.7/importlib/_bootstrap.py:219: RuntimeWarning: numpy.ufunc size changed, may indicate binary incompatibility. Expected 192 from C header, got 216 from PyObject\n",
      "  return f(*args, **kwds)\n"
     ]
    }
   ],
   "source": [
    "pipe = joblib.load('../joblib_files/final_pipe.joblib')"
   ]
  },
  {
   "cell_type": "code",
   "execution_count": 7,
   "metadata": {},
   "outputs": [
    {
     "name": "stderr",
     "output_type": "stream",
     "text": [
      "100%|██████████| 15714/15714 [00:28<00:00, 552.83it/s]\n"
     ]
    },
    {
     "data": {
      "text/html": [
       "<div>\n",
       "<style scoped>\n",
       "    .dataframe tbody tr th:only-of-type {\n",
       "        vertical-align: middle;\n",
       "    }\n",
       "\n",
       "    .dataframe tbody tr th {\n",
       "        vertical-align: top;\n",
       "    }\n",
       "\n",
       "    .dataframe thead th {\n",
       "        text-align: right;\n",
       "    }\n",
       "</style>\n",
       "<table border=\"1\" class=\"dataframe\">\n",
       "  <thead>\n",
       "    <tr style=\"text-align: right;\">\n",
       "      <th></th>\n",
       "      <th>review</th>\n",
       "      <th>length</th>\n",
       "      <th>anger_score</th>\n",
       "      <th>anticipation_score</th>\n",
       "      <th>disgust_score</th>\n",
       "      <th>fear_score</th>\n",
       "      <th>joy_score</th>\n",
       "      <th>sadness_score</th>\n",
       "      <th>surprise_score</th>\n",
       "      <th>trust_score</th>\n",
       "      <th>subjectivity_review</th>\n",
       "      <th>polarity_review</th>\n",
       "    </tr>\n",
       "  </thead>\n",
       "  <tbody>\n",
       "    <tr>\n",
       "      <th>0</th>\n",
       "      <td>great company great pay good career developmen...</td>\n",
       "      <td>0.004461</td>\n",
       "      <td>0.000000</td>\n",
       "      <td>0.374748</td>\n",
       "      <td>0.000000</td>\n",
       "      <td>0.000000</td>\n",
       "      <td>0.123296</td>\n",
       "      <td>0.000000</td>\n",
       "      <td>0.031391</td>\n",
       "      <td>0.145359</td>\n",
       "      <td>0.570000</td>\n",
       "      <td>0.560000</td>\n",
       "    </tr>\n",
       "    <tr>\n",
       "      <th>1</th>\n",
       "      <td>training new amazon associate on operating ama...</td>\n",
       "      <td>0.044614</td>\n",
       "      <td>0.000000</td>\n",
       "      <td>0.000000</td>\n",
       "      <td>0.000000</td>\n",
       "      <td>0.000000</td>\n",
       "      <td>0.164719</td>\n",
       "      <td>0.034795</td>\n",
       "      <td>0.000000</td>\n",
       "      <td>0.242509</td>\n",
       "      <td>0.410795</td>\n",
       "      <td>0.125947</td>\n",
       "    </tr>\n",
       "    <tr>\n",
       "      <th>2</th>\n",
       "      <td>pa supervisor very active hard working co work...</td>\n",
       "      <td>0.007011</td>\n",
       "      <td>0.014990</td>\n",
       "      <td>0.000000</td>\n",
       "      <td>0.000000</td>\n",
       "      <td>0.000000</td>\n",
       "      <td>0.000000</td>\n",
       "      <td>0.000000</td>\n",
       "      <td>0.000000</td>\n",
       "      <td>0.064545</td>\n",
       "      <td>0.490833</td>\n",
       "      <td>-0.189167</td>\n",
       "    </tr>\n",
       "    <tr>\n",
       "      <th>3</th>\n",
       "      <td>loved it great place to work at none that i ca...</td>\n",
       "      <td>0.004461</td>\n",
       "      <td>0.000000</td>\n",
       "      <td>0.000000</td>\n",
       "      <td>0.000000</td>\n",
       "      <td>0.000000</td>\n",
       "      <td>0.463019</td>\n",
       "      <td>0.000000</td>\n",
       "      <td>0.000000</td>\n",
       "      <td>0.000000</td>\n",
       "      <td>0.775000</td>\n",
       "      <td>0.750000</td>\n",
       "    </tr>\n",
       "    <tr>\n",
       "      <th>4</th>\n",
       "      <td>glory date in the past looking bad from inside...</td>\n",
       "      <td>0.039516</td>\n",
       "      <td>0.080942</td>\n",
       "      <td>0.111310</td>\n",
       "      <td>0.038140</td>\n",
       "      <td>0.127725</td>\n",
       "      <td>0.228652</td>\n",
       "      <td>0.041164</td>\n",
       "      <td>0.000000</td>\n",
       "      <td>0.213421</td>\n",
       "      <td>0.224074</td>\n",
       "      <td>-0.061111</td>\n",
       "    </tr>\n",
       "    <tr>\n",
       "      <th>...</th>\n",
       "      <td>...</td>\n",
       "      <td>...</td>\n",
       "      <td>...</td>\n",
       "      <td>...</td>\n",
       "      <td>...</td>\n",
       "      <td>...</td>\n",
       "      <td>...</td>\n",
       "      <td>...</td>\n",
       "      <td>...</td>\n",
       "      <td>...</td>\n",
       "      <td>...</td>\n",
       "      <td>...</td>\n",
       "    </tr>\n",
       "    <tr>\n",
       "      <th>15709</th>\n",
       "      <td>mba hire feel like it is a lottery process you...</td>\n",
       "      <td>0.030593</td>\n",
       "      <td>0.119033</td>\n",
       "      <td>0.278644</td>\n",
       "      <td>0.102742</td>\n",
       "      <td>0.131178</td>\n",
       "      <td>0.069234</td>\n",
       "      <td>0.110888</td>\n",
       "      <td>0.000000</td>\n",
       "      <td>0.205625</td>\n",
       "      <td>0.687500</td>\n",
       "      <td>-0.233333</td>\n",
       "    </tr>\n",
       "    <tr>\n",
       "      <th>15710</th>\n",
       "      <td>nice place to work great culture openness many...</td>\n",
       "      <td>0.007648</td>\n",
       "      <td>0.000000</td>\n",
       "      <td>0.000000</td>\n",
       "      <td>0.000000</td>\n",
       "      <td>0.000000</td>\n",
       "      <td>0.000000</td>\n",
       "      <td>0.000000</td>\n",
       "      <td>0.000000</td>\n",
       "      <td>0.000000</td>\n",
       "      <td>0.725000</td>\n",
       "      <td>0.483333</td>\n",
       "    </tr>\n",
       "    <tr>\n",
       "      <th>15711</th>\n",
       "      <td>it wa great great people always fun to go to w...</td>\n",
       "      <td>0.008286</td>\n",
       "      <td>0.000000</td>\n",
       "      <td>0.155275</td>\n",
       "      <td>0.000000</td>\n",
       "      <td>0.000000</td>\n",
       "      <td>0.375012</td>\n",
       "      <td>0.000000</td>\n",
       "      <td>0.000000</td>\n",
       "      <td>0.000000</td>\n",
       "      <td>0.500000</td>\n",
       "      <td>0.725000</td>\n",
       "    </tr>\n",
       "    <tr>\n",
       "      <th>15712</th>\n",
       "      <td>inspiring it is easy to find yourself doing th...</td>\n",
       "      <td>0.017208</td>\n",
       "      <td>0.000000</td>\n",
       "      <td>0.000000</td>\n",
       "      <td>0.000000</td>\n",
       "      <td>0.000000</td>\n",
       "      <td>0.099994</td>\n",
       "      <td>0.000000</td>\n",
       "      <td>0.000000</td>\n",
       "      <td>0.000000</td>\n",
       "      <td>0.627778</td>\n",
       "      <td>0.536111</td>\n",
       "    </tr>\n",
       "    <tr>\n",
       "      <th>15713</th>\n",
       "      <td>amazon is a big company which give good hike a...</td>\n",
       "      <td>0.023582</td>\n",
       "      <td>0.000000</td>\n",
       "      <td>0.254342</td>\n",
       "      <td>0.000000</td>\n",
       "      <td>0.000000</td>\n",
       "      <td>0.304539</td>\n",
       "      <td>0.000000</td>\n",
       "      <td>0.065983</td>\n",
       "      <td>0.347120</td>\n",
       "      <td>0.455455</td>\n",
       "      <td>0.290682</td>\n",
       "    </tr>\n",
       "  </tbody>\n",
       "</table>\n",
       "<p>15714 rows × 12 columns</p>\n",
       "</div>"
      ],
      "text/plain": [
       "                                                  review    length  anger_score  ...  trust_score  subjectivity_review  polarity_review\n",
       "0      great company great pay good career developmen...  0.004461     0.000000  ...     0.145359             0.570000         0.560000\n",
       "1      training new amazon associate on operating ama...  0.044614     0.000000  ...     0.242509             0.410795         0.125947\n",
       "2      pa supervisor very active hard working co work...  0.007011     0.014990  ...     0.064545             0.490833        -0.189167\n",
       "3      loved it great place to work at none that i ca...  0.004461     0.000000  ...     0.000000             0.775000         0.750000\n",
       "4      glory date in the past looking bad from inside...  0.039516     0.080942  ...     0.213421             0.224074        -0.061111\n",
       "...                                                  ...       ...          ...  ...          ...                  ...              ...\n",
       "15709  mba hire feel like it is a lottery process you...  0.030593     0.119033  ...     0.205625             0.687500        -0.233333\n",
       "15710  nice place to work great culture openness many...  0.007648     0.000000  ...     0.000000             0.725000         0.483333\n",
       "15711  it wa great great people always fun to go to w...  0.008286     0.000000  ...     0.000000             0.500000         0.725000\n",
       "15712  inspiring it is easy to find yourself doing th...  0.017208     0.000000  ...     0.000000             0.627778         0.536111\n",
       "15713  amazon is a big company which give good hike a...  0.023582     0.000000  ...     0.347120             0.455455         0.290682\n",
       "\n",
       "[15714 rows x 12 columns]"
      ]
     },
     "execution_count": 7,
     "metadata": {},
     "output_type": "execute_result"
    }
   ],
   "source": [
    "pipe.fit_transform(X_test)"
   ]
  },
  {
   "cell_type": "code",
   "execution_count": 8,
   "metadata": {},
   "outputs": [],
   "source": [
    "from WorkforceSentimentMonitoring.trainer import MultiNBFeaturesExtractor"
   ]
  },
  {
   "cell_type": "code",
   "execution_count": 10,
   "metadata": {},
   "outputs": [
    {
     "data": {
      "text/plain": [
       "MultiNBFeaturesExtractor()"
      ]
     },
     "execution_count": 10,
     "metadata": {},
     "output_type": "execute_result"
    }
   ],
   "source": [
    "nb_engineer = MultiNBFeaturesExtractor()\n",
    "nb_engineer.fit(X_test)"
   ]
  },
  {
   "cell_type": "code",
   "execution_count": 12,
   "metadata": {},
   "outputs": [
    {
     "data": {
      "text/plain": [
       "Pipeline(steps=[('preprocessor', Preprocessor()),\n",
       "                ('emo_extractor', EmotionScoresExtractor()),\n",
       "                ('scaler', CustomMinMaxScaler()),\n",
       "                ('engineer', FeatureEngineer())])"
      ]
     },
     "execution_count": 12,
     "metadata": {},
     "output_type": "execute_result"
    }
   ],
   "source": [
    "pipe"
   ]
  },
  {
   "cell_type": "code",
   "execution_count": null,
   "metadata": {},
   "outputs": [],
   "source": []
  }
 ],
 "metadata": {
  "kernelspec": {
   "display_name": "Python 3",
   "language": "python",
   "name": "python3"
  },
  "language_info": {
   "codemirror_mode": {
    "name": "ipython",
    "version": 3
   },
   "file_extension": ".py",
   "mimetype": "text/x-python",
   "name": "python",
   "nbconvert_exporter": "python",
   "pygments_lexer": "ipython3",
   "version": "3.7.7"
  },
  "toc": {
   "base_numbering": 1,
   "nav_menu": {},
   "number_sections": true,
   "sideBar": true,
   "skip_h1_title": false,
   "title_cell": "Table of Contents",
   "title_sidebar": "Contents",
   "toc_cell": false,
   "toc_position": {},
   "toc_section_display": true,
   "toc_window_display": false
  }
 },
 "nbformat": 4,
 "nbformat_minor": 4
}
