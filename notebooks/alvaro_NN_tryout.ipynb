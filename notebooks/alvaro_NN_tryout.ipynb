{
 "cells": [
  {
   "cell_type": "code",
   "execution_count": 13,
   "metadata": {},
   "outputs": [],
   "source": [
    "import pickle\n",
    "import numpy as np\n",
    "import pandas as pd\n",
    "import os\n",
    "import re"
   ]
  },
  {
   "cell_type": "code",
   "execution_count": 19,
   "metadata": {},
   "outputs": [
    {
     "name": "stdout",
     "output_type": "stream",
     "text": [
      "../pickle_files/embeddings_chunk_7.p\n",
      "../pickle_files/embeddings_chunk_3.p\n",
      "../pickle_files/embeddings_chunk_9.p\n",
      "../pickle_files/embeddings_chunk_4.p\n",
      "../pickle_files/embeddings_chunk_5.p\n",
      "../pickle_files/embeddings_chunk_1.p\n",
      "../pickle_files/embeddings_chunk_6.p\n",
      "../pickle_files/embeddings_chunk_10.p\n",
      "../pickle_files/embeddings_chunk_8.p\n",
      "../pickle_files/embeddings_chunk_2.p\n"
     ]
    }
   ],
   "source": [
    "pickle_files = []\n",
    "for root, dirs, files in os.walk(\"../pickle_files/\", topdown=False):\n",
    "    for name in files:\n",
    "        if re.match(r'embeddings_chunk_\\d', name):\n",
    "            pickle_files.append(name)\n",
    "            print(os.path.join(root,name))"
   ]
  },
  {
   "cell_type": "code",
   "execution_count": 22,
   "metadata": {},
   "outputs": [],
   "source": [
    "pickle_files.sort()"
   ]
  },
  {
   "cell_type": "code",
   "execution_count": 23,
   "metadata": {},
   "outputs": [
    {
     "data": {
      "text/plain": [
       "['embeddings_chunk_1.p',\n",
       " 'embeddings_chunk_10.p',\n",
       " 'embeddings_chunk_2.p',\n",
       " 'embeddings_chunk_3.p',\n",
       " 'embeddings_chunk_4.p',\n",
       " 'embeddings_chunk_5.p',\n",
       " 'embeddings_chunk_6.p',\n",
       " 'embeddings_chunk_7.p',\n",
       " 'embeddings_chunk_8.p',\n",
       " 'embeddings_chunk_9.p']"
      ]
     },
     "execution_count": 23,
     "metadata": {},
     "output_type": "execute_result"
    }
   ],
   "source": [
    "sorted(pickle_files, key=)"
   ]
  },
  {
   "cell_type": "code",
   "execution_count": null,
   "metadata": {},
   "outputs": [],
   "source": []
  }
 ],
 "metadata": {
  "kernelspec": {
   "display_name": "Python 3",
   "language": "python",
   "name": "python3"
  },
  "language_info": {
   "codemirror_mode": {
    "name": "ipython",
    "version": 3
   },
   "file_extension": ".py",
   "mimetype": "text/x-python",
   "name": "python",
   "nbconvert_exporter": "python",
   "pygments_lexer": "ipython3",
   "version": "3.7.7"
  },
  "toc": {
   "base_numbering": 1,
   "nav_menu": {},
   "number_sections": true,
   "sideBar": true,
   "skip_h1_title": false,
   "title_cell": "Table of Contents",
   "title_sidebar": "Contents",
   "toc_cell": false,
   "toc_position": {},
   "toc_section_display": true,
   "toc_window_display": false
  }
 },
 "nbformat": 4,
 "nbformat_minor": 4
}
