{
 "cells": [
  {
   "cell_type": "code",
   "execution_count": 49,
   "metadata": {},
   "outputs": [],
   "source": [
    "import pickle\n",
    "import os\n",
    "import numpy as np"
   ]
  },
  {
   "cell_type": "code",
   "execution_count": 214,
   "metadata": {},
   "outputs": [],
   "source": [
    "path = os.path.abspath('__file__')\n",
    "path = os.path.split(path)[0]\n",
    "file = os.path.join(path, '../pickle_files/tmp.p')\n",
    "\n",
    "with open(file, 'rb') as f:\n",
    "    df = pickle.load(f)"
   ]
  },
  {
   "cell_type": "code",
   "execution_count": 227,
   "metadata": {},
   "outputs": [],
   "source": [
    "X = df[['embedding']]\n",
    "y = df.iloc[:, -6:]"
   ]
  },
  {
   "cell_type": "code",
   "execution_count": 15,
   "metadata": {},
   "outputs": [],
   "source": [
    "from sklearn.model_selection import train_test_split"
   ]
  },
  {
   "cell_type": "code",
   "execution_count": 216,
   "metadata": {},
   "outputs": [],
   "source": [
    "X_train, X_test, y_train, y_test = train_test_split(X, y)"
   ]
  },
  {
   "cell_type": "code",
   "execution_count": 88,
   "metadata": {},
   "outputs": [],
   "source": [
    "from tensorflow.keras import models, layers\n",
    "from tensorflow import convert_to_tensor"
   ]
  },
  {
   "cell_type": "code",
   "execution_count": 37,
   "metadata": {},
   "outputs": [],
   "source": [
    "input_dim = X.embedding[0].shape[0]\n",
    "output_dim = len(y.columns)"
   ]
  },
  {
   "cell_type": "code",
   "execution_count": 111,
   "metadata": {},
   "outputs": [],
   "source": [
    "X_train_array = X_train.embedding.to_numpy()\n",
    "X_test_array = X_test.embedding.to_numpy()\n",
    "\n",
    "\n",
    "#X_train_array = np.expand_dims(X_train_array, -1)\n",
    "#X_test_array = np.expand_dims(X_test_array, -1)\n",
    "#y_train_array = np.expand_dims(X_test_array, -1)\n",
    "#y_test_array = np.expand_dims(y_test_array, -1)"
   ]
  },
  {
   "cell_type": "code",
   "execution_count": 217,
   "metadata": {},
   "outputs": [],
   "source": [
    "from tensorflow.keras.utils import to_categorical\n",
    "\n",
    "y = to_categorical(y)"
   ]
  },
  {
   "cell_type": "code",
   "execution_count": 224,
   "metadata": {},
   "outputs": [
    {
     "data": {
      "text/plain": [
       "numpy.ndarray"
      ]
     },
     "execution_count": 224,
     "metadata": {},
     "output_type": "execute_result"
    }
   ],
   "source": [
    "type(X.embedding[0])"
   ]
  },
  {
   "cell_type": "code",
   "execution_count": 242,
   "metadata": {
    "scrolled": true
   },
   "outputs": [
    {
     "name": "stdout",
     "output_type": "stream",
     "text": [
      "Epoch 1/100\n",
      "7/7 [==============================] - 5s 227ms/step - loss: 40.2116 - accuracy: 0.2153 - val_loss: 35.2976 - val_accuracy: 0.3667\n",
      "Epoch 2/100\n",
      "7/7 [==============================] - 0s 50ms/step - loss: 41.1174 - accuracy: 0.4862 - val_loss: 35.2970 - val_accuracy: 0.3667\n",
      "Epoch 3/100\n",
      "7/7 [==============================] - 0s 29ms/step - loss: 41.0303 - accuracy: 0.4980 - val_loss: 35.2976 - val_accuracy: 0.3667\n",
      "Epoch 4/100\n",
      "7/7 [==============================] - 0s 36ms/step - loss: 38.6908 - accuracy: 0.4601 - val_loss: 35.2981 - val_accuracy: 0.3667\n",
      "Epoch 5/100\n",
      "7/7 [==============================] - 0s 52ms/step - loss: 40.9388 - accuracy: 0.4824 - val_loss: 35.2995 - val_accuracy: 0.3667\n",
      "Epoch 6/100\n",
      "7/7 [==============================] - 0s 46ms/step - loss: 41.6226 - accuracy: 0.5003 - val_loss: 35.3021 - val_accuracy: 0.3667\n",
      "Epoch 7/100\n",
      "7/7 [==============================] - 0s 38ms/step - loss: 39.9046 - accuracy: 0.4635 - val_loss: 35.3068 - val_accuracy: 0.3667\n",
      "Epoch 8/100\n",
      "7/7 [==============================] - 0s 47ms/step - loss: 42.3470 - accuracy: 0.5024 - val_loss: 35.3142 - val_accuracy: 0.3667\n",
      "Epoch 9/100\n",
      "7/7 [==============================] - 0s 42ms/step - loss: 40.1110 - accuracy: 0.4472 - val_loss: 35.3257 - val_accuracy: 0.3667\n",
      "Epoch 10/100\n",
      "7/7 [==============================] - 0s 42ms/step - loss: 40.6234 - accuracy: 0.4328 - val_loss: 35.3438 - val_accuracy: 0.3667\n",
      "Epoch 11/100\n",
      "7/7 [==============================] - 0s 42ms/step - loss: 40.1808 - accuracy: 0.4062 - val_loss: 35.3714 - val_accuracy: 0.3667\n",
      "Epoch 12/100\n",
      "7/7 [==============================] - 0s 46ms/step - loss: 40.2510 - accuracy: 0.4253 - val_loss: 35.4078 - val_accuracy: 0.3667\n",
      "Epoch 13/100\n",
      "7/7 [==============================] - 0s 33ms/step - loss: 41.1118 - accuracy: 0.4499 - val_loss: 35.4611 - val_accuracy: 0.3667\n",
      "Epoch 14/100\n",
      "7/7 [==============================] - 0s 48ms/step - loss: 40.4680 - accuracy: 0.4576 - val_loss: 35.5398 - val_accuracy: 0.3667\n",
      "Epoch 15/100\n",
      "7/7 [==============================] - 0s 48ms/step - loss: 39.0315 - accuracy: 0.4112 - val_loss: 35.6508 - val_accuracy: 0.3667\n",
      "Epoch 16/100\n",
      "7/7 [==============================] - 0s 43ms/step - loss: 41.2574 - accuracy: 0.4732 - val_loss: 35.8120 - val_accuracy: 0.3667\n",
      "Epoch 17/100\n",
      "7/7 [==============================] - 0s 66ms/step - loss: 40.0067 - accuracy: 0.3803 - val_loss: 36.0427 - val_accuracy: 0.3667\n",
      "Epoch 18/100\n",
      "7/7 [==============================] - 0s 33ms/step - loss: 41.5395 - accuracy: 0.3897 - val_loss: 36.3708 - val_accuracy: 0.3667\n",
      "Epoch 19/100\n",
      "7/7 [==============================] - 0s 38ms/step - loss: 42.2714 - accuracy: 0.4753 - val_loss: 36.8016 - val_accuracy: 0.3667\n",
      "Epoch 20/100\n",
      "7/7 [==============================] - 0s 33ms/step - loss: 43.1919 - accuracy: 0.4599 - val_loss: 37.3762 - val_accuracy: 0.3667\n",
      "Epoch 21/100\n",
      "7/7 [==============================] - 0s 38ms/step - loss: 43.7287 - accuracy: 0.3893 - val_loss: 38.1323 - val_accuracy: 0.3667\n",
      "Epoch 22/100\n",
      "7/7 [==============================] - 0s 39ms/step - loss: 43.5816 - accuracy: 0.4682 - val_loss: 39.1430 - val_accuracy: 0.3667\n",
      "Epoch 23/100\n",
      "7/7 [==============================] - 0s 40ms/step - loss: 45.8187 - accuracy: 0.5314 - val_loss: 40.4681 - val_accuracy: 0.3667\n",
      "Epoch 24/100\n",
      "7/7 [==============================] - 0s 37ms/step - loss: 47.1476 - accuracy: 0.4987 - val_loss: 42.1926 - val_accuracy: 0.3667\n",
      "Epoch 25/100\n",
      "7/7 [==============================] - 0s 44ms/step - loss: 48.5506 - accuracy: 0.4947 - val_loss: 44.4473 - val_accuracy: 0.3667\n",
      "Epoch 26/100\n",
      "7/7 [==============================] - 0s 47ms/step - loss: 51.4231 - accuracy: 0.3564 - val_loss: 47.3077 - val_accuracy: 0.3667\n",
      "Epoch 27/100\n",
      "7/7 [==============================] - 0s 41ms/step - loss: 53.7476 - accuracy: 0.4028 - val_loss: 50.9219 - val_accuracy: 0.3667\n",
      "Epoch 28/100\n",
      "7/7 [==============================] - 0s 47ms/step - loss: 59.7582 - accuracy: 0.4676 - val_loss: 55.3803 - val_accuracy: 0.3667\n",
      "Epoch 29/100\n",
      "7/7 [==============================] - 0s 47ms/step - loss: 63.2559 - accuracy: 0.3830 - val_loss: 60.6688 - val_accuracy: 0.3667\n",
      "Epoch 30/100\n",
      "7/7 [==============================] - 0s 42ms/step - loss: 71.7655 - accuracy: 0.4945 - val_loss: 66.9236 - val_accuracy: 0.3667\n",
      "Epoch 31/100\n",
      "7/7 [==============================] - 0s 59ms/step - loss: 77.4599 - accuracy: 0.4303 - val_loss: 74.0575 - val_accuracy: 0.3667\n",
      "Epoch 32/100\n",
      "7/7 [==============================] - 0s 44ms/step - loss: 90.3050 - accuracy: 0.4735 - val_loss: 82.1408 - val_accuracy: 0.3667\n",
      "Epoch 33/100\n",
      "7/7 [==============================] - 0s 57ms/step - loss: 101.5428 - accuracy: 0.5407 - val_loss: 91.1866 - val_accuracy: 0.3667\n",
      "Epoch 34/100\n",
      "7/7 [==============================] - 0s 29ms/step - loss: 102.5881 - accuracy: 0.4451 - val_loss: 100.9292 - val_accuracy: 0.3667\n",
      "Epoch 35/100\n",
      "7/7 [==============================] - 0s 40ms/step - loss: 116.0954 - accuracy: 0.4499 - val_loss: 111.8468 - val_accuracy: 0.3667\n",
      "Epoch 36/100\n",
      "7/7 [==============================] - 0s 46ms/step - loss: 129.5463 - accuracy: 0.4649 - val_loss: 123.8699 - val_accuracy: 0.3667\n",
      "Epoch 37/100\n",
      "7/7 [==============================] - 0s 64ms/step - loss: 144.1027 - accuracy: 0.4685 - val_loss: 136.9094 - val_accuracy: 0.3667\n",
      "Epoch 38/100\n",
      "7/7 [==============================] - 0s 37ms/step - loss: 158.5487 - accuracy: 0.4499 - val_loss: 150.9524 - val_accuracy: 0.3667\n",
      "Epoch 39/100\n",
      "7/7 [==============================] - 0s 37ms/step - loss: 179.4999 - accuracy: 0.3999 - val_loss: 166.0980 - val_accuracy: 0.3667\n",
      "Epoch 40/100\n",
      "7/7 [==============================] - 0s 51ms/step - loss: 197.8802 - accuracy: 0.5095 - val_loss: 182.7475 - val_accuracy: 0.3667\n",
      "Epoch 41/100\n",
      "7/7 [==============================] - 0s 40ms/step - loss: 213.4370 - accuracy: 0.5782 - val_loss: 200.4510 - val_accuracy: 0.3667\n",
      "Epoch 42/100\n",
      "7/7 [==============================] - 0s 40ms/step - loss: 234.5667 - accuracy: 0.4922 - val_loss: 219.3740 - val_accuracy: 0.3667\n",
      "Epoch 43/100\n",
      "7/7 [==============================] - 0s 51ms/step - loss: 255.1131 - accuracy: 0.4764 - val_loss: 239.7854 - val_accuracy: 0.3667\n",
      "Epoch 44/100\n",
      "7/7 [==============================] - 0s 64ms/step - loss: 280.5630 - accuracy: 0.4453 - val_loss: 261.5315 - val_accuracy: 0.3667\n",
      "Epoch 45/100\n",
      "7/7 [==============================] - 0s 39ms/step - loss: 308.2262 - accuracy: 0.4199 - val_loss: 284.8972 - val_accuracy: 0.3667\n",
      "Epoch 46/100\n",
      "7/7 [==============================] - 0s 44ms/step - loss: 330.3648 - accuracy: 0.4553 - val_loss: 309.8264 - val_accuracy: 0.3667\n",
      "Epoch 47/100\n",
      "7/7 [==============================] - 0s 47ms/step - loss: 364.3998 - accuracy: 0.5199 - val_loss: 336.4311 - val_accuracy: 0.3667\n",
      "Epoch 48/100\n",
      "7/7 [==============================] - 0s 48ms/step - loss: 381.8089 - accuracy: 0.4589 - val_loss: 364.3461 - val_accuracy: 0.3667\n",
      "Epoch 49/100\n",
      "7/7 [==============================] - 0s 43ms/step - loss: 420.9661 - accuracy: 0.4318 - val_loss: 393.8760 - val_accuracy: 0.3667\n",
      "Epoch 50/100\n",
      "7/7 [==============================] - 0s 43ms/step - loss: 467.0383 - accuracy: 0.5299 - val_loss: 425.6013 - val_accuracy: 0.3667\n",
      "Epoch 51/100\n",
      "7/7 [==============================] - 0s 81ms/step - loss: 502.6805 - accuracy: 0.4099 - val_loss: 458.5137 - val_accuracy: 0.3667\n",
      "Epoch 52/100\n",
      "7/7 [==============================] - 0s 47ms/step - loss: 535.5501 - accuracy: 0.4468 - val_loss: 493.3481 - val_accuracy: 0.3667\n",
      "Epoch 53/100\n",
      "7/7 [==============================] - 0s 59ms/step - loss: 576.0496 - accuracy: 0.3916 - val_loss: 530.1249 - val_accuracy: 0.3667\n",
      "Epoch 54/100\n",
      "7/7 [==============================] - 0s 65ms/step - loss: 624.0745 - accuracy: 0.5247 - val_loss: 569.6603 - val_accuracy: 0.3667\n",
      "Epoch 55/100\n",
      "7/7 [==============================] - 0s 39ms/step - loss: 657.9518 - accuracy: 0.4730 - val_loss: 610.3300 - val_accuracy: 0.3667\n",
      "Epoch 56/100\n",
      "7/7 [==============================] - 0s 33ms/step - loss: 747.5508 - accuracy: 0.5310 - val_loss: 653.9404 - val_accuracy: 0.3667\n",
      "Epoch 57/100\n",
      "7/7 [==============================] - 0s 37ms/step - loss: 770.6482 - accuracy: 0.4853 - val_loss: 699.1616 - val_accuracy: 0.3667\n",
      "Epoch 58/100\n"
     ]
    },
    {
     "name": "stdout",
     "output_type": "stream",
     "text": [
      "7/7 [==============================] - 0s 58ms/step - loss: 803.3461 - accuracy: 0.4064 - val_loss: 745.8432 - val_accuracy: 0.3667\n",
      "Epoch 59/100\n",
      "7/7 [==============================] - 0s 53ms/step - loss: 875.8832 - accuracy: 0.4789 - val_loss: 796.7391 - val_accuracy: 0.3667\n",
      "Epoch 60/100\n",
      "7/7 [==============================] - 0s 52ms/step - loss: 927.6518 - accuracy: 0.4618 - val_loss: 848.2901 - val_accuracy: 0.3667\n",
      "Epoch 61/100\n",
      "7/7 [==============================] - 0s 65ms/step - loss: 921.9530 - accuracy: 0.3553 - val_loss: 902.1891 - val_accuracy: 0.3667\n",
      "Epoch 62/100\n",
      "7/7 [==============================] - 0s 63ms/step - loss: 1043.0098 - accuracy: 0.4530 - val_loss: 959.7428 - val_accuracy: 0.3667\n",
      "Epoch 63/100\n",
      "7/7 [==============================] - 0s 43ms/step - loss: 1090.3177 - accuracy: 0.4768 - val_loss: 1020.3207 - val_accuracy: 0.3667\n",
      "Epoch 64/100\n",
      "7/7 [==============================] - 0s 32ms/step - loss: 1188.0812 - accuracy: 0.4585 - val_loss: 1081.5939 - val_accuracy: 0.3667\n",
      "Epoch 65/100\n",
      "7/7 [==============================] - 0s 39ms/step - loss: 1262.2525 - accuracy: 0.5091 - val_loss: 1147.6349 - val_accuracy: 0.3667\n",
      "Epoch 66/100\n",
      "7/7 [==============================] - 0s 38ms/step - loss: 1342.8733 - accuracy: 0.4014 - val_loss: 1215.4310 - val_accuracy: 0.3667\n",
      "Epoch 67/100\n",
      "7/7 [==============================] - 0s 46ms/step - loss: 1378.5392 - accuracy: 0.4187 - val_loss: 1285.3086 - val_accuracy: 0.3667\n",
      "Epoch 68/100\n",
      "7/7 [==============================] - 0s 76ms/step - loss: 1487.7793 - accuracy: 0.4251 - val_loss: 1359.7437 - val_accuracy: 0.3667\n",
      "Epoch 69/100\n",
      "7/7 [==============================] - 0s 36ms/step - loss: 1513.4391 - accuracy: 0.4324 - val_loss: 1437.3300 - val_accuracy: 0.3667\n",
      "Epoch 70/100\n",
      "7/7 [==============================] - 0s 51ms/step - loss: 1669.8078 - accuracy: 0.4591 - val_loss: 1516.3699 - val_accuracy: 0.3667\n",
      "Epoch 71/100\n",
      "7/7 [==============================] - 0s 35ms/step - loss: 1724.8998 - accuracy: 0.3920 - val_loss: 1598.4238 - val_accuracy: 0.3667\n",
      "Epoch 72/100\n",
      "7/7 [==============================] - 0s 37ms/step - loss: 1805.1729 - accuracy: 0.4768 - val_loss: 1684.8187 - val_accuracy: 0.3667\n",
      "Epoch 73/100\n",
      "7/7 [==============================] - 0s 39ms/step - loss: 1900.4984 - accuracy: 0.4089 - val_loss: 1772.5792 - val_accuracy: 0.3667\n",
      "Epoch 74/100\n",
      "7/7 [==============================] - 0s 41ms/step - loss: 2137.9547 - accuracy: 0.4966 - val_loss: 1867.7555 - val_accuracy: 0.3667\n",
      "Epoch 75/100\n",
      "7/7 [==============================] - 0s 62ms/step - loss: 2089.3218 - accuracy: 0.4580 - val_loss: 1963.2518 - val_accuracy: 0.3667\n",
      "Epoch 76/100\n",
      "7/7 [==============================] - 0s 48ms/step - loss: 2289.5026 - accuracy: 0.4195 - val_loss: 2063.5051 - val_accuracy: 0.3667\n",
      "Epoch 77/100\n",
      "7/7 [==============================] - 0s 41ms/step - loss: 2424.0056 - accuracy: 0.5501 - val_loss: 2169.6724 - val_accuracy: 0.3667\n",
      "Epoch 78/100\n",
      "7/7 [==============================] - 0s 50ms/step - loss: 2484.5149 - accuracy: 0.4603 - val_loss: 2274.9377 - val_accuracy: 0.3667\n",
      "Epoch 79/100\n",
      "7/7 [==============================] - 0s 44ms/step - loss: 2671.3768 - accuracy: 0.4672 - val_loss: 2385.1558 - val_accuracy: 0.3667\n",
      "Epoch 80/100\n",
      "7/7 [==============================] - 0s 43ms/step - loss: 2710.3162 - accuracy: 0.4649 - val_loss: 2499.7578 - val_accuracy: 0.3667\n",
      "Epoch 81/100\n",
      "7/7 [==============================] - 0s 75ms/step - loss: 2814.0233 - accuracy: 0.4343 - val_loss: 2615.3438 - val_accuracy: 0.3667\n",
      "Epoch 82/100\n",
      "7/7 [==============================] - 0s 50ms/step - loss: 3130.8642 - accuracy: 0.4649 - val_loss: 2737.8845 - val_accuracy: 0.3667\n",
      "Epoch 83/100\n",
      "7/7 [==============================] - 0s 42ms/step - loss: 3201.1304 - accuracy: 0.3899 - val_loss: 2862.4780 - val_accuracy: 0.3667\n",
      "Epoch 84/100\n",
      "7/7 [==============================] - 0s 36ms/step - loss: 3339.9073 - accuracy: 0.4760 - val_loss: 2994.6489 - val_accuracy: 0.3667\n",
      "Epoch 85/100\n",
      "7/7 [==============================] - 0s 36ms/step - loss: 3449.7443 - accuracy: 0.5216 - val_loss: 3132.7812 - val_accuracy: 0.3667\n",
      "Epoch 86/100\n",
      "7/7 [==============================] - 0s 36ms/step - loss: 3709.8558 - accuracy: 0.5020 - val_loss: 3269.8435 - val_accuracy: 0.3667\n",
      "Epoch 87/100\n",
      "7/7 [==============================] - 0s 52ms/step - loss: 3812.8591 - accuracy: 0.4857 - val_loss: 3413.2996 - val_accuracy: 0.3667\n",
      "Epoch 88/100\n",
      "7/7 [==============================] - 0s 36ms/step - loss: 4141.7594 - accuracy: 0.5195 - val_loss: 3564.3127 - val_accuracy: 0.3667\n",
      "Epoch 89/100\n",
      "7/7 [==============================] - 0s 40ms/step - loss: 4143.4259 - accuracy: 0.4951 - val_loss: 3714.2639 - val_accuracy: 0.3667\n",
      "Epoch 90/100\n",
      "7/7 [==============================] - 0s 38ms/step - loss: 4451.2322 - accuracy: 0.5201 - val_loss: 3869.1587 - val_accuracy: 0.3667\n",
      "Epoch 91/100\n",
      "7/7 [==============================] - 0s 59ms/step - loss: 4549.3636 - accuracy: 0.5095 - val_loss: 4029.8838 - val_accuracy: 0.3667\n",
      "Epoch 92/100\n",
      "7/7 [==============================] - 0s 51ms/step - loss: 4690.5108 - accuracy: 0.5051 - val_loss: 4191.1016 - val_accuracy: 0.3667\n",
      "Epoch 93/100\n",
      "7/7 [==============================] - 0s 70ms/step - loss: 4724.2445 - accuracy: 0.4476 - val_loss: 4355.5107 - val_accuracy: 0.3667\n",
      "Epoch 94/100\n",
      "7/7 [==============================] - 0s 41ms/step - loss: 4899.3532 - accuracy: 0.3753 - val_loss: 4525.2114 - val_accuracy: 0.3667\n",
      "Epoch 95/100\n",
      "7/7 [==============================] - 0s 43ms/step - loss: 5099.6216 - accuracy: 0.4897 - val_loss: 4706.2729 - val_accuracy: 0.3667\n",
      "Epoch 96/100\n",
      "7/7 [==============================] - 0s 40ms/step - loss: 5366.5441 - accuracy: 0.4607 - val_loss: 4891.6855 - val_accuracy: 0.3667\n",
      "Epoch 97/100\n",
      "7/7 [==============================] - 0s 57ms/step - loss: 5562.8440 - accuracy: 0.4962 - val_loss: 5079.7603 - val_accuracy: 0.3667\n",
      "Epoch 98/100\n",
      "7/7 [==============================] - 0s 45ms/step - loss: 5795.8465 - accuracy: 0.4412 - val_loss: 5269.9487 - val_accuracy: 0.3667\n",
      "Epoch 99/100\n",
      "7/7 [==============================] - 0s 34ms/step - loss: 6144.4838 - accuracy: 0.4255 - val_loss: 5474.2256 - val_accuracy: 0.3667\n",
      "Epoch 100/100\n",
      "7/7 [==============================] - 0s 37ms/step - loss: 6427.4318 - accuracy: 0.4922 - val_loss: 5674.9346 - val_accuracy: 0.3667\n"
     ]
    }
   ],
   "source": [
    "model = models.Sequential()\n",
    "model.add(layers.Dense(10, input_dim=input_dim, activation='relu'))\n",
    "model.add(layers.Dense(10, activation='relu'))\n",
    "model.add(layers.Dense(10, activation='relu'))\n",
    "model.add(layers.Dense(10, activation='relu'))\n",
    "model.add(layers.Dense(10, activation='relu'))\n",
    "model.add(layers.Dense(output_dim, activation='softmax'))\n",
    "\n",
    "model.compile(loss='categorical_crossentropy',\n",
    "              optimizer='adam',\n",
    "              metrics=['accuracy'])\n",
    "\n",
    "history = model.fit(X_test, y, batch_size=10,\n",
    "          validation_split=0.3, epochs=100)"
   ]
  },
  {
   "cell_type": "code",
   "execution_count": 211,
   "metadata": {},
   "outputs": [
    {
     "data": {
      "text/plain": [
       "numpy.ndarray"
      ]
     },
     "execution_count": 211,
     "metadata": {},
     "output_type": "execute_result"
    }
   ],
   "source": [
    "type(MINST_X_test[0][0])\n"
   ]
  },
  {
   "cell_type": "code",
   "execution_count": 171,
   "metadata": {},
   "outputs": [
    {
     "data": {
      "text/plain": [
       "numpy.ndarray"
      ]
     },
     "execution_count": 171,
     "metadata": {},
     "output_type": "execute_result"
    }
   ],
   "source": [
    "type(X_train_array)"
   ]
  },
  {
   "cell_type": "code",
   "execution_count": 177,
   "metadata": {},
   "outputs": [
    {
     "data": {
      "text/plain": [
       "numpy.ndarray"
      ]
     },
     "execution_count": 177,
     "metadata": {},
     "output_type": "execute_result"
    }
   ],
   "source": [
    "type(MINST_X_test[0][0])"
   ]
  },
  {
   "cell_type": "code",
   "execution_count": 178,
   "metadata": {},
   "outputs": [
    {
     "data": {
      "text/plain": [
       "numpy.ndarray"
      ]
     },
     "execution_count": 178,
     "metadata": {},
     "output_type": "execute_result"
    }
   ],
   "source": [
    "type(X_train_array[0])"
   ]
  },
  {
   "cell_type": "code",
   "execution_count": 180,
   "metadata": {},
   "outputs": [
    {
     "data": {
      "text/plain": [
       "(10000, 28, 28)"
      ]
     },
     "execution_count": 180,
     "metadata": {},
     "output_type": "execute_result"
    }
   ],
   "source": [
    "MINST_X_test.shape"
   ]
  },
  {
   "cell_type": "code",
   "execution_count": 184,
   "metadata": {},
   "outputs": [
    {
     "name": "stdout",
     "output_type": "stream",
     "text": [
      "<class 'numpy.ndarray'>\n",
      "<class 'numpy.ndarray'>\n",
      "<class 'numpy.float32'>\n"
     ]
    }
   ],
   "source": [
    "print(type(X_train_array))\n",
    "print(type(X_train_array[0]))\n",
    "print(type(X_train_array[0][0]))"
   ]
  },
  {
   "cell_type": "code",
   "execution_count": 186,
   "metadata": {},
   "outputs": [
    {
     "data": {
      "text/plain": [
       "array([-7.4962509e-04, -2.8709616e-04, -8.4405858e-03, ...,\n",
       "        8.6886969e-09,  3.8507022e-07, -1.3170514e-01], dtype=float32)"
      ]
     },
     "execution_count": 186,
     "metadata": {},
     "output_type": "execute_result"
    }
   ],
   "source": [
    "X_train_array[0]"
   ]
  },
  {
   "cell_type": "code",
   "execution_count": 192,
   "metadata": {},
   "outputs": [
    {
     "name": "stdout",
     "output_type": "stream",
     "text": [
      "(None, 2048) <dtype: 'float32'>\n",
      "(None, 6) <dtype: 'float32'>\n",
      "dense_33 (None, 2048) float32\n",
      "dense_34 (None, 10) float32\n",
      "dense_35 (None, 10) float32\n"
     ]
    },
    {
     "data": {
      "text/plain": [
       "[None, None, None]"
      ]
     },
     "execution_count": 192,
     "metadata": {},
     "output_type": "execute_result"
    }
   ],
   "source": [
    "[print(i.shape, i.dtype) for i in model.inputs]\n",
    "[print(o.shape, o.dtype) for o in model.outputs]\n",
    "[print(l.name, l.input_shape, l.dtype) for l in model.layers]\n"
   ]
  },
  {
   "cell_type": "code",
   "execution_count": 229,
   "metadata": {},
   "outputs": [],
   "source": [
    "X_test = np.ndarray((100, input_dim))"
   ]
  },
  {
   "cell_type": "code",
   "execution_count": 236,
   "metadata": {},
   "outputs": [],
   "source": [
    "for i in range(len(X)):\n",
    "    X_test[i] = X.embedding[i]"
   ]
  },
  {
   "cell_type": "code",
   "execution_count": 246,
   "metadata": {},
   "outputs": [],
   "source": [
    "import matplotlib.pyplot as plt"
   ]
  },
  {
   "cell_type": "code",
   "execution_count": 252,
   "metadata": {},
   "outputs": [
    {
     "data": {
      "image/png": "[encoded data removed]",
      "text/plain": [
       "<Figure size 432x288 with 1 Axes>"
      ]
     },
     "metadata": {
      "needs_background": "light"
     },
     "output_type": "display_data"
    },
    {
     "data": {
      "image/png": "[encoded data removed]",
      "text/plain": [
       "<Figure size 432x288 with 1 Axes>"
      ]
     },
     "metadata": {
      "needs_background": "light"
     },
     "output_type": "display_data"
    }
   ],
   "source": [
    "plt.plot(history.history['loss'], label='train')\n",
    "plt.plot(history.history['val_loss'], label='test')\n",
    "plt.title('Loss')\n",
    "plt.legend()\n",
    "plt.show()\n",
    "\n",
    "plt.plot(history.history['accuracy'], label='train')\n",
    "plt.plot(history.history['val_accuracy'], label='test')\n",
    "plt.title('Accuracy')\n",
    "plt.legend()\n",
    "plt.show()"
   ]
  },
  {
   "cell_type": "code",
   "execution_count": 253,
   "metadata": {},
   "outputs": [],
   "source": [
    "def plot_history(history):\n",
    "    plt.plot(history.history['loss'], label='train')\n",
    "    plt.plot(history.history['val_loss'], label='test')\n",
    "    plt.title('Loss')\n",
    "    plt.legend()\n",
    "    plt.show()\n",
    "    \n",
    "    plt.plot(history.history['accuracy'], label='train')\n",
    "    plt.plot(history.history['val_accuracy'], label='test')\n",
    "    plt.title('Accuracy')\n",
    "    plt.legend()\n",
    "    plt.show()"
   ]
  },
  {
   "cell_type": "code",
   "execution_count": 257,
   "metadata": {},
   "outputs": [
    {
     "data": {
      "text/plain": [
       "array([[-2.90224166e-03, -2.05143049e-04,  6.11553574e-03, ...,\n",
       "         2.34945894e-08, -3.24927996e-08, -1.79187804e-01],\n",
       "       [-3.42500326e-03, -1.93658547e-04,  5.54786855e-03, ...,\n",
       "         2.04515462e-08,  7.14510747e-07, -1.45690665e-01],\n",
       "       [-3.29600088e-03, -1.90967592e-04,  1.04903486e-02, ...,\n",
       "         1.32492026e-08,  8.39654035e-08, -1.52448326e-01],\n",
       "       ...,\n",
       "       [-2.77828937e-03, -2.11689810e-04,  7.75222387e-03, ...,\n",
       "         1.89823890e-08,  2.91031029e-07, -8.20391476e-02],\n",
       "       [ 5.16748463e-04, -1.52824956e-04,  5.37167722e-03, ...,\n",
       "         1.46939056e-08, -2.67830643e-07, -1.09780289e-01],\n",
       "       [-6.15738844e-03, -1.54456764e-04,  2.18455661e-02, ...,\n",
       "         1.39663872e-08,  7.60007288e-06, -1.17560662e-01]])"
      ]
     },
     "execution_count": 257,
     "metadata": {},
     "output_type": "execute_result"
    }
   ],
   "source": [
    "X_test"
   ]
  },
  {
   "cell_type": "code",
   "execution_count": 262,
   "metadata": {},
   "outputs": [],
   "source": [
    "input_shape = np.expand_dims(X_test, -1).shape\n",
    "X_test = np.expand_dims(X_test, -1)"
   ]
  },
  {
   "cell_type": "code",
   "execution_count": 265,
   "metadata": {},
   "outputs": [],
   "source": [
    "input_shape = input_shape[1:]"
   ]
  },
  {
   "cell_type": "code",
   "execution_count": 268,
   "metadata": {},
   "outputs": [
    {
     "data": {
      "text/plain": [
       "(2048, 1)"
      ]
     },
     "execution_count": 268,
     "metadata": {},
     "output_type": "execute_result"
    }
   ],
   "source": [
    "input_shape"
   ]
  },
  {
   "cell_type": "code",
   "execution_count": 267,
   "metadata": {},
   "outputs": [
    {
     "ename": "ValueError",
     "evalue": "Input 0 of layer conv2d_1 is incompatible with the layer: : expected min_ndim=4, found ndim=3. Full shape received: (None, 2048, 1)",
     "output_type": "error",
     "traceback": [
      "\u001b[0;31m---------------------------------------------------------------------------\u001b[0m",
      "\u001b[0;31mValueError\u001b[0m                                Traceback (most recent call last)",
      "\u001b[0;32m<ipython-input-267-08c7b1a6ea5d>\u001b[0m in \u001b[0;36m<module>\u001b[0;34m\u001b[0m\n\u001b[1;32m      1\u001b[0m \u001b[0mmodel\u001b[0m \u001b[0;34m=\u001b[0m \u001b[0mmodels\u001b[0m\u001b[0;34m.\u001b[0m\u001b[0mSequential\u001b[0m\u001b[0;34m(\u001b[0m\u001b[0;34m)\u001b[0m\u001b[0;34m\u001b[0m\u001b[0;34m\u001b[0m\u001b[0m\n\u001b[0;32m----> 2\u001b[0;31m \u001b[0mmodel\u001b[0m\u001b[0;34m.\u001b[0m\u001b[0madd\u001b[0m\u001b[0;34m(\u001b[0m\u001b[0mlayers\u001b[0m\u001b[0;34m.\u001b[0m\u001b[0mConv2D\u001b[0m\u001b[0;34m(\u001b[0m\u001b[0;36m8\u001b[0m\u001b[0;34m,\u001b[0m \u001b[0mkernel_size\u001b[0m\u001b[0;34m=\u001b[0m\u001b[0;34m(\u001b[0m\u001b[0;36m3\u001b[0m\u001b[0;34m,\u001b[0m\u001b[0;36m3\u001b[0m\u001b[0;34m)\u001b[0m\u001b[0;34m,\u001b[0m \u001b[0minput_shape\u001b[0m\u001b[0;34m=\u001b[0m\u001b[0minput_shape\u001b[0m\u001b[0;34m)\u001b[0m\u001b[0;34m)\u001b[0m\u001b[0;34m\u001b[0m\u001b[0;34m\u001b[0m\u001b[0m\n\u001b[0m\u001b[1;32m      3\u001b[0m \u001b[0mmodel\u001b[0m\u001b[0;34m.\u001b[0m\u001b[0madd\u001b[0m\u001b[0;34m(\u001b[0m\u001b[0mlayers\u001b[0m\u001b[0;34m.\u001b[0m\u001b[0mMaxPool2D\u001b[0m\u001b[0;34m(\u001b[0m\u001b[0mpool_size\u001b[0m\u001b[0;34m=\u001b[0m\u001b[0;34m(\u001b[0m\u001b[0;36m2\u001b[0m\u001b[0;34m,\u001b[0m\u001b[0;36m2\u001b[0m\u001b[0;34m)\u001b[0m\u001b[0;34m)\u001b[0m\u001b[0;34m)\u001b[0m\u001b[0;34m\u001b[0m\u001b[0;34m\u001b[0m\u001b[0m\n\u001b[1;32m      4\u001b[0m \u001b[0mmodel\u001b[0m\u001b[0;34m.\u001b[0m\u001b[0madd\u001b[0m\u001b[0;34m(\u001b[0m\u001b[0mlayers\u001b[0m\u001b[0;34m.\u001b[0m\u001b[0mDense\u001b[0m\u001b[0;34m(\u001b[0m\u001b[0;36m10\u001b[0m\u001b[0;34m,\u001b[0m \u001b[0mactivation\u001b[0m\u001b[0;34m=\u001b[0m\u001b[0;34m'relu'\u001b[0m\u001b[0;34m)\u001b[0m\u001b[0;34m)\u001b[0m\u001b[0;34m\u001b[0m\u001b[0;34m\u001b[0m\u001b[0m\n\u001b[1;32m      5\u001b[0m \u001b[0mmodel\u001b[0m\u001b[0;34m.\u001b[0m\u001b[0madd\u001b[0m\u001b[0;34m(\u001b[0m\u001b[0mlayers\u001b[0m\u001b[0;34m.\u001b[0m\u001b[0mDense\u001b[0m\u001b[0;34m(\u001b[0m\u001b[0;36m10\u001b[0m\u001b[0;34m,\u001b[0m \u001b[0mactivation\u001b[0m\u001b[0;34m=\u001b[0m\u001b[0;34m'relu'\u001b[0m\u001b[0;34m)\u001b[0m\u001b[0;34m)\u001b[0m\u001b[0;34m\u001b[0m\u001b[0;34m\u001b[0m\u001b[0m\n",
      "\u001b[0;32m~/.pyenv/versions/3.7.7/envs/workforce_sentiment/lib/python3.7/site-packages/tensorflow/python/training/tracking/base.py\u001b[0m in \u001b[0;36m_method_wrapper\u001b[0;34m(self, *args, **kwargs)\u001b[0m\n\u001b[1;32m    515\u001b[0m     \u001b[0mself\u001b[0m\u001b[0;34m.\u001b[0m\u001b[0m_self_setattr_tracking\u001b[0m \u001b[0;34m=\u001b[0m \u001b[0;32mFalse\u001b[0m  \u001b[0;31m# pylint: disable=protected-access\u001b[0m\u001b[0;34m\u001b[0m\u001b[0;34m\u001b[0m\u001b[0m\n\u001b[1;32m    516\u001b[0m     \u001b[0;32mtry\u001b[0m\u001b[0;34m:\u001b[0m\u001b[0;34m\u001b[0m\u001b[0;34m\u001b[0m\u001b[0m\n\u001b[0;32m--> 517\u001b[0;31m       \u001b[0mresult\u001b[0m \u001b[0;34m=\u001b[0m \u001b[0mmethod\u001b[0m\u001b[0;34m(\u001b[0m\u001b[0mself\u001b[0m\u001b[0;34m,\u001b[0m \u001b[0;34m*\u001b[0m\u001b[0margs\u001b[0m\u001b[0;34m,\u001b[0m \u001b[0;34m**\u001b[0m\u001b[0mkwargs\u001b[0m\u001b[0;34m)\u001b[0m\u001b[0;34m\u001b[0m\u001b[0;34m\u001b[0m\u001b[0m\n\u001b[0m\u001b[1;32m    518\u001b[0m     \u001b[0;32mfinally\u001b[0m\u001b[0;34m:\u001b[0m\u001b[0;34m\u001b[0m\u001b[0;34m\u001b[0m\u001b[0m\n\u001b[1;32m    519\u001b[0m       \u001b[0mself\u001b[0m\u001b[0;34m.\u001b[0m\u001b[0m_self_setattr_tracking\u001b[0m \u001b[0;34m=\u001b[0m \u001b[0mprevious_value\u001b[0m  \u001b[0;31m# pylint: disable=protected-access\u001b[0m\u001b[0;34m\u001b[0m\u001b[0;34m\u001b[0m\u001b[0m\n",
      "\u001b[0;32m~/.pyenv/versions/3.7.7/envs/workforce_sentiment/lib/python3.7/site-packages/tensorflow/python/keras/engine/sequential.py\u001b[0m in \u001b[0;36madd\u001b[0;34m(self, layer)\u001b[0m\n\u001b[1;32m    206\u001b[0m           \u001b[0;31m# and create the node connecting the current layer\u001b[0m\u001b[0;34m\u001b[0m\u001b[0;34m\u001b[0m\u001b[0;34m\u001b[0m\u001b[0m\n\u001b[1;32m    207\u001b[0m           \u001b[0;31m# to the input layer we just created.\u001b[0m\u001b[0;34m\u001b[0m\u001b[0;34m\u001b[0m\u001b[0;34m\u001b[0m\u001b[0m\n\u001b[0;32m--> 208\u001b[0;31m           \u001b[0mlayer\u001b[0m\u001b[0;34m(\u001b[0m\u001b[0mx\u001b[0m\u001b[0;34m)\u001b[0m\u001b[0;34m\u001b[0m\u001b[0;34m\u001b[0m\u001b[0m\n\u001b[0m\u001b[1;32m    209\u001b[0m           \u001b[0mset_inputs\u001b[0m \u001b[0;34m=\u001b[0m \u001b[0;32mTrue\u001b[0m\u001b[0;34m\u001b[0m\u001b[0;34m\u001b[0m\u001b[0m\n\u001b[1;32m    210\u001b[0m \u001b[0;34m\u001b[0m\u001b[0m\n",
      "\u001b[0;32m~/.pyenv/versions/3.7.7/envs/workforce_sentiment/lib/python3.7/site-packages/tensorflow/python/keras/engine/base_layer.py\u001b[0m in \u001b[0;36m__call__\u001b[0;34m(self, *args, **kwargs)\u001b[0m\n\u001b[1;32m    950\u001b[0m     \u001b[0;32mif\u001b[0m \u001b[0m_in_functional_construction_mode\u001b[0m\u001b[0;34m(\u001b[0m\u001b[0mself\u001b[0m\u001b[0;34m,\u001b[0m \u001b[0minputs\u001b[0m\u001b[0;34m,\u001b[0m \u001b[0margs\u001b[0m\u001b[0;34m,\u001b[0m \u001b[0mkwargs\u001b[0m\u001b[0;34m,\u001b[0m \u001b[0minput_list\u001b[0m\u001b[0;34m)\u001b[0m\u001b[0;34m:\u001b[0m\u001b[0;34m\u001b[0m\u001b[0;34m\u001b[0m\u001b[0m\n\u001b[1;32m    951\u001b[0m       return self._functional_construction_call(inputs, args, kwargs,\n\u001b[0;32m--> 952\u001b[0;31m                                                 input_list)\n\u001b[0m\u001b[1;32m    953\u001b[0m \u001b[0;34m\u001b[0m\u001b[0m\n\u001b[1;32m    954\u001b[0m     \u001b[0;31m# Maintains info about the `Layer.call` stack.\u001b[0m\u001b[0;34m\u001b[0m\u001b[0;34m\u001b[0m\u001b[0;34m\u001b[0m\u001b[0m\n",
      "\u001b[0;32m~/.pyenv/versions/3.7.7/envs/workforce_sentiment/lib/python3.7/site-packages/tensorflow/python/keras/engine/base_layer.py\u001b[0m in \u001b[0;36m_functional_construction_call\u001b[0;34m(self, inputs, args, kwargs, input_list)\u001b[0m\n\u001b[1;32m   1089\u001b[0m         \u001b[0;31m# Check input assumptions set after layer building, e.g. input shape.\u001b[0m\u001b[0;34m\u001b[0m\u001b[0;34m\u001b[0m\u001b[0;34m\u001b[0m\u001b[0m\n\u001b[1;32m   1090\u001b[0m         outputs = self._keras_tensor_symbolic_call(\n\u001b[0;32m-> 1091\u001b[0;31m             inputs, input_masks, args, kwargs)\n\u001b[0m\u001b[1;32m   1092\u001b[0m \u001b[0;34m\u001b[0m\u001b[0m\n\u001b[1;32m   1093\u001b[0m         \u001b[0;32mif\u001b[0m \u001b[0moutputs\u001b[0m \u001b[0;32mis\u001b[0m \u001b[0;32mNone\u001b[0m\u001b[0;34m:\u001b[0m\u001b[0;34m\u001b[0m\u001b[0;34m\u001b[0m\u001b[0m\n",
      "\u001b[0;32m~/.pyenv/versions/3.7.7/envs/workforce_sentiment/lib/python3.7/site-packages/tensorflow/python/keras/engine/base_layer.py\u001b[0m in \u001b[0;36m_keras_tensor_symbolic_call\u001b[0;34m(self, inputs, input_masks, args, kwargs)\u001b[0m\n\u001b[1;32m    820\u001b[0m       \u001b[0;32mreturn\u001b[0m \u001b[0mnest\u001b[0m\u001b[0;34m.\u001b[0m\u001b[0mmap_structure\u001b[0m\u001b[0;34m(\u001b[0m\u001b[0mkeras_tensor\u001b[0m\u001b[0;34m.\u001b[0m\u001b[0mKerasTensor\u001b[0m\u001b[0;34m,\u001b[0m \u001b[0moutput_signature\u001b[0m\u001b[0;34m)\u001b[0m\u001b[0;34m\u001b[0m\u001b[0;34m\u001b[0m\u001b[0m\n\u001b[1;32m    821\u001b[0m     \u001b[0;32melse\u001b[0m\u001b[0;34m:\u001b[0m\u001b[0;34m\u001b[0m\u001b[0;34m\u001b[0m\u001b[0m\n\u001b[0;32m--> 822\u001b[0;31m       \u001b[0;32mreturn\u001b[0m \u001b[0mself\u001b[0m\u001b[0;34m.\u001b[0m\u001b[0m_infer_output_signature\u001b[0m\u001b[0;34m(\u001b[0m\u001b[0minputs\u001b[0m\u001b[0;34m,\u001b[0m \u001b[0margs\u001b[0m\u001b[0;34m,\u001b[0m \u001b[0mkwargs\u001b[0m\u001b[0;34m,\u001b[0m \u001b[0minput_masks\u001b[0m\u001b[0;34m)\u001b[0m\u001b[0;34m\u001b[0m\u001b[0;34m\u001b[0m\u001b[0m\n\u001b[0m\u001b[1;32m    823\u001b[0m \u001b[0;34m\u001b[0m\u001b[0m\n\u001b[1;32m    824\u001b[0m   \u001b[0;32mdef\u001b[0m \u001b[0m_infer_output_signature\u001b[0m\u001b[0;34m(\u001b[0m\u001b[0mself\u001b[0m\u001b[0;34m,\u001b[0m \u001b[0minputs\u001b[0m\u001b[0;34m,\u001b[0m \u001b[0margs\u001b[0m\u001b[0;34m,\u001b[0m \u001b[0mkwargs\u001b[0m\u001b[0;34m,\u001b[0m \u001b[0minput_masks\u001b[0m\u001b[0;34m)\u001b[0m\u001b[0;34m:\u001b[0m\u001b[0;34m\u001b[0m\u001b[0;34m\u001b[0m\u001b[0m\n",
      "\u001b[0;32m~/.pyenv/versions/3.7.7/envs/workforce_sentiment/lib/python3.7/site-packages/tensorflow/python/keras/engine/base_layer.py\u001b[0m in \u001b[0;36m_infer_output_signature\u001b[0;34m(self, inputs, args, kwargs, input_masks)\u001b[0m\n\u001b[1;32m    860\u001b[0m           \u001b[0;31m# overridden).\u001b[0m\u001b[0;34m\u001b[0m\u001b[0;34m\u001b[0m\u001b[0;34m\u001b[0m\u001b[0m\n\u001b[1;32m    861\u001b[0m           \u001b[0;31m# TODO(kaftan): do we maybe_build here, or have we already done it?\u001b[0m\u001b[0;34m\u001b[0m\u001b[0;34m\u001b[0m\u001b[0;34m\u001b[0m\u001b[0m\n\u001b[0;32m--> 862\u001b[0;31m           \u001b[0mself\u001b[0m\u001b[0;34m.\u001b[0m\u001b[0m_maybe_build\u001b[0m\u001b[0;34m(\u001b[0m\u001b[0minputs\u001b[0m\u001b[0;34m)\u001b[0m\u001b[0;34m\u001b[0m\u001b[0;34m\u001b[0m\u001b[0m\n\u001b[0m\u001b[1;32m    863\u001b[0m           \u001b[0moutputs\u001b[0m \u001b[0;34m=\u001b[0m \u001b[0mcall_fn\u001b[0m\u001b[0;34m(\u001b[0m\u001b[0minputs\u001b[0m\u001b[0;34m,\u001b[0m \u001b[0;34m*\u001b[0m\u001b[0margs\u001b[0m\u001b[0;34m,\u001b[0m \u001b[0;34m**\u001b[0m\u001b[0mkwargs\u001b[0m\u001b[0;34m)\u001b[0m\u001b[0;34m\u001b[0m\u001b[0;34m\u001b[0m\u001b[0m\n\u001b[1;32m    864\u001b[0m \u001b[0;34m\u001b[0m\u001b[0m\n",
      "\u001b[0;32m~/.pyenv/versions/3.7.7/envs/workforce_sentiment/lib/python3.7/site-packages/tensorflow/python/keras/engine/base_layer.py\u001b[0m in \u001b[0;36m_maybe_build\u001b[0;34m(self, inputs)\u001b[0m\n\u001b[1;32m   2683\u001b[0m     \u001b[0;32mif\u001b[0m \u001b[0;32mnot\u001b[0m \u001b[0mself\u001b[0m\u001b[0;34m.\u001b[0m\u001b[0mbuilt\u001b[0m\u001b[0;34m:\u001b[0m\u001b[0;34m\u001b[0m\u001b[0;34m\u001b[0m\u001b[0m\n\u001b[1;32m   2684\u001b[0m       input_spec.assert_input_compatibility(\n\u001b[0;32m-> 2685\u001b[0;31m           self.input_spec, inputs, self.name)\n\u001b[0m\u001b[1;32m   2686\u001b[0m       \u001b[0minput_list\u001b[0m \u001b[0;34m=\u001b[0m \u001b[0mnest\u001b[0m\u001b[0;34m.\u001b[0m\u001b[0mflatten\u001b[0m\u001b[0;34m(\u001b[0m\u001b[0minputs\u001b[0m\u001b[0;34m)\u001b[0m\u001b[0;34m\u001b[0m\u001b[0;34m\u001b[0m\u001b[0m\n\u001b[1;32m   2687\u001b[0m       \u001b[0;32mif\u001b[0m \u001b[0minput_list\u001b[0m \u001b[0;32mand\u001b[0m \u001b[0mself\u001b[0m\u001b[0;34m.\u001b[0m\u001b[0m_dtype_policy\u001b[0m\u001b[0;34m.\u001b[0m\u001b[0mcompute_dtype\u001b[0m \u001b[0;32mis\u001b[0m \u001b[0;32mNone\u001b[0m\u001b[0;34m:\u001b[0m\u001b[0;34m\u001b[0m\u001b[0;34m\u001b[0m\u001b[0m\n",
      "\u001b[0;32m~/.pyenv/versions/3.7.7/envs/workforce_sentiment/lib/python3.7/site-packages/tensorflow/python/keras/engine/input_spec.py\u001b[0m in \u001b[0;36massert_input_compatibility\u001b[0;34m(input_spec, inputs, layer_name)\u001b[0m\n\u001b[1;32m    237\u001b[0m                          \u001b[0;34m', found ndim='\u001b[0m \u001b[0;34m+\u001b[0m \u001b[0mstr\u001b[0m\u001b[0;34m(\u001b[0m\u001b[0mndim\u001b[0m\u001b[0;34m)\u001b[0m \u001b[0;34m+\u001b[0m\u001b[0;34m\u001b[0m\u001b[0;34m\u001b[0m\u001b[0m\n\u001b[1;32m    238\u001b[0m                          \u001b[0;34m'. Full shape received: '\u001b[0m \u001b[0;34m+\u001b[0m\u001b[0;34m\u001b[0m\u001b[0;34m\u001b[0m\u001b[0m\n\u001b[0;32m--> 239\u001b[0;31m                          str(tuple(shape)))\n\u001b[0m\u001b[1;32m    240\u001b[0m     \u001b[0;31m# Check dtype.\u001b[0m\u001b[0;34m\u001b[0m\u001b[0;34m\u001b[0m\u001b[0;34m\u001b[0m\u001b[0m\n\u001b[1;32m    241\u001b[0m     \u001b[0;32mif\u001b[0m \u001b[0mspec\u001b[0m\u001b[0;34m.\u001b[0m\u001b[0mdtype\u001b[0m \u001b[0;32mis\u001b[0m \u001b[0;32mnot\u001b[0m \u001b[0;32mNone\u001b[0m\u001b[0;34m:\u001b[0m\u001b[0;34m\u001b[0m\u001b[0;34m\u001b[0m\u001b[0m\n",
      "\u001b[0;31mValueError\u001b[0m: Input 0 of layer conv2d_1 is incompatible with the layer: : expected min_ndim=4, found ndim=3. Full shape received: (None, 2048, 1)"
     ]
    }
   ],
   "source": [
    "model = models.Sequential()\n",
    "model.add(layers.Conv2D(8, kernel_size=(3,3), input_shape=input_shape))\n",
    "model.add(layers.MaxPool2D(pool_size=(2,2)))\n",
    "model.add(layers.Dense(10, activation='relu'))\n",
    "model.add(layers.Dense(10, activation='relu'))\n",
    "model.add(layers.Dense(10, activation='relu'))\n",
    "model.add(layers.Dense(10, activation='relu'))\n",
    "model.add(layers.Dense(output_dim, activation='softmax'))\n",
    "\n",
    "model.compile(loss='categorical_crossentropy',\n",
    "              optimizer='adam',\n",
    "              metrics=['accuracy'])\n",
    "\n",
    "history = model.fit(X_test, y, batch_size=10,\n",
    "          validation_split=0.3, epochs=100)"
   ]
  },
  {
   "cell_type": "code",
   "execution_count": null,
   "metadata": {},
   "outputs": [],
   "source": []
  }
 ],
 "metadata": {
  "kernelspec": {
   "display_name": "Python 3",
   "language": "python",
   "name": "python3"
  },
  "language_info": {
   "codemirror_mode": {
    "name": "ipython",
    "version": 3
   },
   "file_extension": ".py",
   "mimetype": "text/x-python",
   "name": "python",
   "nbconvert_exporter": "python",
   "pygments_lexer": "ipython3",
   "version": "3.7.7"
  },
  "toc": {
   "base_numbering": 1,
   "nav_menu": {},
   "number_sections": true,
   "sideBar": true,
   "skip_h1_title": false,
   "title_cell": "Table of Contents",
   "title_sidebar": "Contents",
   "toc_cell": false,
   "toc_position": {},
   "toc_section_display": true,
   "toc_window_display": false
  }
 },
 "nbformat": 4,
 "nbformat_minor": 4
}
