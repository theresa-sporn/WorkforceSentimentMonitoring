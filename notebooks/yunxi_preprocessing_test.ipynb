{
 "cells": [
  {
   "cell_type": "code",
   "execution_count": 1,
   "metadata": {},
   "outputs": [
    {
     "name": "stdout",
     "output_type": "stream",
     "text": [
      "Requirement already satisfied: nltk in /Users/yunxizzy/.pyenv/versions/3.7.7/envs/workforce/lib/python3.7/site-packages (3.5)\r\n",
      "Requirement already satisfied: click in /Users/yunxizzy/.pyenv/versions/3.7.7/envs/workforce/lib/python3.7/site-packages (from nltk) (7.1.2)\r\n",
      "Requirement already satisfied: joblib in /Users/yunxizzy/.pyenv/versions/3.7.7/envs/workforce/lib/python3.7/site-packages (from nltk) (0.17.0)\r\n",
      "Requirement already satisfied: tqdm in /Users/yunxizzy/.pyenv/versions/3.7.7/envs/workforce/lib/python3.7/site-packages (from nltk) (4.53.0)\r\n",
      "Requirement already satisfied: regex in /Users/yunxizzy/.pyenv/versions/3.7.7/envs/workforce/lib/python3.7/site-packages (from nltk) (2020.11.13)\r\n"
     ]
    }
   ],
   "source": [
    "!pip install nltk"
   ]
  },
  {
   "cell_type": "markdown",
   "metadata": {},
   "source": [
    "# Copy of codes to be reviewed"
   ]
  },
  {
   "cell_type": "code",
   "execution_count": 2,
   "metadata": {},
   "outputs": [],
   "source": [
    "import string\n",
    "from nltk.corpus import stopwords\n",
    "from nltk import word_tokenize\n",
    "from nltk.stem import WordNetLemmatizer"
   ]
  },
  {
   "cell_type": "code",
   "execution_count": 3,
   "metadata": {},
   "outputs": [],
   "source": [
    "def remove_punctuation(text):\n",
    "    \"\"\"remove punctuation\"\"\"\n",
    "    for punctuation in string.punctuation:\n",
    "        text = text.replace(punctuation, ' ')\n",
    "    return text"
   ]
  },
  {
   "cell_type": "code",
   "execution_count": 4,
   "metadata": {},
   "outputs": [],
   "source": [
    "def lowercase(text):\n",
    "    \"\"\"lowercase\"\"\"\n",
    "    lowercased = text.lower()\n",
    "    return lowercased"
   ]
  },
  {
   "cell_type": "code",
   "execution_count": 5,
   "metadata": {},
   "outputs": [],
   "source": [
    "def remove_numbers(text):\n",
    "    \"\"\"remove numbers\"\"\"\n",
    "    words_only = ''.join([i for i in text if not i.isdigit()])\n",
    "    return words_only"
   ]
  },
  {
   "cell_type": "code",
   "execution_count": 6,
   "metadata": {},
   "outputs": [],
   "source": [
    "def remove_stopwords(text):\n",
    "    \"\"\"remove stopwords + tokenize\"\"\"\n",
    "    stop_words = set(stopwords.words('english'))\n",
    "    tokenized = word_tokenize(text)\n",
    "    without_stopwords = [word for word in tokenized if not word in stop_words]\n",
    "    return without_stopwords"
   ]
  },
  {
   "cell_type": "code",
   "execution_count": 7,
   "metadata": {},
   "outputs": [],
   "source": [
    "def lemmatize(text):\n",
    "    \"\"\"Lemmatize text\"\"\"\n",
    "    lemmatizer = WordNetLemmatizer() # Initiate lemmatizer\n",
    "    lemmatized = [lemmatizer.lemmatize(word) for word in text] # Lemmatize\n",
    "    lemmatized_string = \" \".join(lemmatized)\n",
    "    return lemmatized_string"
   ]
  },
  {
   "cell_type": "code",
   "execution_count": 8,
   "metadata": {},
   "outputs": [],
   "source": [
    "def preprocessing(text):\n",
    "    preprocessed_text = lowercase(text)\n",
    "    preprocessed_text = remove_numbers(preprocessed_text)\n",
    "    preprocessed_text = remove_punctuation(preprocessed_text)\n",
    "    preprocessed_text = remove_stopwords(preprocessed_text)\n",
    "    preprocessed_text = lemmatize(preprocessed_text)\n",
    "    return preprocessed_text"
   ]
  },
  {
   "cell_type": "markdown",
   "metadata": {},
   "source": [
    "# Test preprocessing with train dataset"
   ]
  },
  {
   "cell_type": "code",
   "execution_count": 9,
   "metadata": {},
   "outputs": [
    {
     "data": {
      "text/plain": [
       "'/Users/yunxizzy/code/theresa-sporn/WorkforceSentimentMonitoring/raw_data'"
      ]
     },
     "execution_count": 9,
     "metadata": {},
     "output_type": "execute_result"
    }
   ],
   "source": [
    "import os\n",
    "os_path = os.getcwd()\n",
    "os_path_abs = '/'.join(os_path.split('/')[:-1])\n",
    "csv_path = os.path.join(os_path_abs,'raw_data')\n",
    "csv_path"
   ]
  },
  {
   "cell_type": "code",
   "execution_count": 10,
   "metadata": {},
   "outputs": [],
   "source": [
    "import pandas as pd"
   ]
  },
  {
   "cell_type": "code",
   "execution_count": 11,
   "metadata": {},
   "outputs": [
    {
     "data": {
      "text/html": [
       "<div>\n",
       "<style scoped>\n",
       "    .dataframe tbody tr th:only-of-type {\n",
       "        vertical-align: middle;\n",
       "    }\n",
       "\n",
       "    .dataframe tbody tr th {\n",
       "        vertical-align: top;\n",
       "    }\n",
       "\n",
       "    .dataframe thead th {\n",
       "        text-align: right;\n",
       "    }\n",
       "</style>\n",
       "<table border=\"1\" class=\"dataframe\">\n",
       "  <thead>\n",
       "    <tr style=\"text-align: right;\">\n",
       "      <th></th>\n",
       "      <th>ID</th>\n",
       "      <th>Place</th>\n",
       "      <th>location</th>\n",
       "      <th>date</th>\n",
       "      <th>status</th>\n",
       "      <th>job_title</th>\n",
       "      <th>summary</th>\n",
       "      <th>positives</th>\n",
       "      <th>negatives</th>\n",
       "      <th>advice_to_mgmt</th>\n",
       "      <th>score_1</th>\n",
       "      <th>score_2</th>\n",
       "      <th>score_3</th>\n",
       "      <th>score_4</th>\n",
       "      <th>score_5</th>\n",
       "      <th>score_6</th>\n",
       "      <th>overall</th>\n",
       "    </tr>\n",
       "  </thead>\n",
       "  <tbody>\n",
       "    <tr>\n",
       "      <th>0</th>\n",
       "      <td>1</td>\n",
       "      <td>startup_1</td>\n",
       "      <td>NaN</td>\n",
       "      <td>Dec 11, 2018</td>\n",
       "      <td>Current Employee</td>\n",
       "      <td>Anonymous Employee</td>\n",
       "      <td>Best Company to work for</td>\n",
       "      <td>People are smart and friendly</td>\n",
       "      <td>Bureaucracy is slowing things down</td>\n",
       "      <td>NaN</td>\n",
       "      <td>4.0</td>\n",
       "      <td>5.0</td>\n",
       "      <td>5.0</td>\n",
       "      <td>4.0</td>\n",
       "      <td>5.0</td>\n",
       "      <td>0</td>\n",
       "      <td>5.0</td>\n",
       "    </tr>\n",
       "    <tr>\n",
       "      <th>1</th>\n",
       "      <td>2</td>\n",
       "      <td>startup_1</td>\n",
       "      <td>Mountain View, CA</td>\n",
       "      <td>Jun 21, 2013</td>\n",
       "      <td>Former Employee</td>\n",
       "      <td>Program Manager</td>\n",
       "      <td>Moving at the speed of light, burn out is inev...</td>\n",
       "      <td>1) Food, food, food. 15+ cafes on main campus ...</td>\n",
       "      <td>1) Work/life balance. What balance? All those ...</td>\n",
       "      <td>1) Don't dismiss emotional intelligence and ad...</td>\n",
       "      <td>2.0</td>\n",
       "      <td>3.0</td>\n",
       "      <td>3.0</td>\n",
       "      <td>5.0</td>\n",
       "      <td>3.0</td>\n",
       "      <td>2094</td>\n",
       "      <td>5.0</td>\n",
       "    </tr>\n",
       "    <tr>\n",
       "      <th>2</th>\n",
       "      <td>3</td>\n",
       "      <td>startup_1</td>\n",
       "      <td>New York, NY</td>\n",
       "      <td>May 10, 2014</td>\n",
       "      <td>Current Employee</td>\n",
       "      <td>Software Engineer III</td>\n",
       "      <td>Great balance between big-company security and...</td>\n",
       "      <td>* If you're a software engineer, you're among ...</td>\n",
       "      <td>* It *is* becoming larger, and with it comes g...</td>\n",
       "      <td>Keep the focus on the user. Everything else wi...</td>\n",
       "      <td>5.0</td>\n",
       "      <td>4.0</td>\n",
       "      <td>5.0</td>\n",
       "      <td>5.0</td>\n",
       "      <td>4.0</td>\n",
       "      <td>949</td>\n",
       "      <td>5.0</td>\n",
       "    </tr>\n",
       "    <tr>\n",
       "      <th>3</th>\n",
       "      <td>4</td>\n",
       "      <td>startup_1</td>\n",
       "      <td>Mountain View, CA</td>\n",
       "      <td>Feb 8, 2015</td>\n",
       "      <td>Current Employee</td>\n",
       "      <td>Anonymous Employee</td>\n",
       "      <td>The best place I've worked and also the most d...</td>\n",
       "      <td>You can't find a more well-regarded company th...</td>\n",
       "      <td>I live in SF so the commute can take between 1...</td>\n",
       "      <td>Keep on NOT micromanaging - that is a huge ben...</td>\n",
       "      <td>2.0</td>\n",
       "      <td>5.0</td>\n",
       "      <td>5.0</td>\n",
       "      <td>4.0</td>\n",
       "      <td>5.0</td>\n",
       "      <td>498</td>\n",
       "      <td>4.0</td>\n",
       "    </tr>\n",
       "    <tr>\n",
       "      <th>4</th>\n",
       "      <td>10</td>\n",
       "      <td>startup_1</td>\n",
       "      <td>NaN</td>\n",
       "      <td>Dec 9, 2018</td>\n",
       "      <td>Current Employee</td>\n",
       "      <td>Anonymous Employee</td>\n",
       "      <td>Execellent for engineers</td>\n",
       "      <td>Impact driven. Best tech in the world.</td>\n",
       "      <td>Size matters. Engineers are a bit disconnected...</td>\n",
       "      <td>NaN</td>\n",
       "      <td>5.0</td>\n",
       "      <td>5.0</td>\n",
       "      <td>5.0</td>\n",
       "      <td>5.0</td>\n",
       "      <td>5.0</td>\n",
       "      <td>0</td>\n",
       "      <td>4.0</td>\n",
       "    </tr>\n",
       "  </tbody>\n",
       "</table>\n",
       "</div>"
      ],
      "text/plain": [
       "   ID      Place           location           date             status  \\\n",
       "0   1  startup_1                NaN   Dec 11, 2018  Current Employee    \n",
       "1   2  startup_1  Mountain View, CA   Jun 21, 2013   Former Employee    \n",
       "2   3  startup_1       New York, NY   May 10, 2014  Current Employee    \n",
       "3   4  startup_1  Mountain View, CA    Feb 8, 2015  Current Employee    \n",
       "4  10  startup_1                NaN    Dec 9, 2018  Current Employee    \n",
       "\n",
       "                job_title                                            summary  \\\n",
       "0      Anonymous Employee                           Best Company to work for   \n",
       "1         Program Manager  Moving at the speed of light, burn out is inev...   \n",
       "2   Software Engineer III  Great balance between big-company security and...   \n",
       "3      Anonymous Employee  The best place I've worked and also the most d...   \n",
       "4      Anonymous Employee                           Execellent for engineers   \n",
       "\n",
       "                                           positives  \\\n",
       "0                      People are smart and friendly   \n",
       "1  1) Food, food, food. 15+ cafes on main campus ...   \n",
       "2  * If you're a software engineer, you're among ...   \n",
       "3  You can't find a more well-regarded company th...   \n",
       "4             Impact driven. Best tech in the world.   \n",
       "\n",
       "                                           negatives  \\\n",
       "0                 Bureaucracy is slowing things down   \n",
       "1  1) Work/life balance. What balance? All those ...   \n",
       "2  * It *is* becoming larger, and with it comes g...   \n",
       "3  I live in SF so the commute can take between 1...   \n",
       "4  Size matters. Engineers are a bit disconnected...   \n",
       "\n",
       "                                      advice_to_mgmt  score_1  score_2  \\\n",
       "0                                                NaN      4.0      5.0   \n",
       "1  1) Don't dismiss emotional intelligence and ad...      2.0      3.0   \n",
       "2  Keep the focus on the user. Everything else wi...      5.0      4.0   \n",
       "3  Keep on NOT micromanaging - that is a huge ben...      2.0      5.0   \n",
       "4                                                NaN      5.0      5.0   \n",
       "\n",
       "   score_3  score_4  score_5  score_6  overall  \n",
       "0      5.0      4.0      5.0        0      5.0  \n",
       "1      3.0      5.0      3.0     2094      5.0  \n",
       "2      5.0      5.0      4.0      949      5.0  \n",
       "3      5.0      4.0      5.0      498      4.0  \n",
       "4      5.0      5.0      5.0        0      4.0  "
      ]
     },
     "execution_count": 11,
     "metadata": {},
     "output_type": "execute_result"
    }
   ],
   "source": [
    "df = pd.read_csv(os.path.join(csv_path, 'train.csv'))\n",
    "df.head()"
   ]
  },
  {
   "cell_type": "code",
   "execution_count": 12,
   "metadata": {},
   "outputs": [],
   "source": [
    "df_copy = df.copy()"
   ]
  },
  {
   "cell_type": "code",
   "execution_count": 13,
   "metadata": {},
   "outputs": [],
   "source": [
    "df_copy['texts'] = df_copy.summary + ' ' + df_copy.positives + ' ' + df_copy.negatives + ' ' + df_copy.advice_to_mgmt\n",
    "df_copy = df_copy.dropna(axis=0)\n",
    "df_copy = df_copy.drop_duplicates()"
   ]
  },
  {
   "cell_type": "code",
   "execution_count": 14,
   "metadata": {},
   "outputs": [
    {
     "data": {
      "text/html": [
       "<div>\n",
       "<style scoped>\n",
       "    .dataframe tbody tr th:only-of-type {\n",
       "        vertical-align: middle;\n",
       "    }\n",
       "\n",
       "    .dataframe tbody tr th {\n",
       "        vertical-align: top;\n",
       "    }\n",
       "\n",
       "    .dataframe thead th {\n",
       "        text-align: right;\n",
       "    }\n",
       "</style>\n",
       "<table border=\"1\" class=\"dataframe\">\n",
       "  <thead>\n",
       "    <tr style=\"text-align: right;\">\n",
       "      <th></th>\n",
       "      <th>ID</th>\n",
       "      <th>Place</th>\n",
       "      <th>location</th>\n",
       "      <th>date</th>\n",
       "      <th>status</th>\n",
       "      <th>job_title</th>\n",
       "      <th>summary</th>\n",
       "      <th>positives</th>\n",
       "      <th>negatives</th>\n",
       "      <th>advice_to_mgmt</th>\n",
       "      <th>score_1</th>\n",
       "      <th>score_2</th>\n",
       "      <th>score_3</th>\n",
       "      <th>score_4</th>\n",
       "      <th>score_5</th>\n",
       "      <th>score_6</th>\n",
       "      <th>overall</th>\n",
       "      <th>texts</th>\n",
       "    </tr>\n",
       "  </thead>\n",
       "  <tbody>\n",
       "    <tr>\n",
       "      <th>1</th>\n",
       "      <td>2</td>\n",
       "      <td>startup_1</td>\n",
       "      <td>Mountain View, CA</td>\n",
       "      <td>Jun 21, 2013</td>\n",
       "      <td>Former Employee</td>\n",
       "      <td>Program Manager</td>\n",
       "      <td>Moving at the speed of light, burn out is inev...</td>\n",
       "      <td>1) Food, food, food. 15+ cafes on main campus ...</td>\n",
       "      <td>1) Work/life balance. What balance? All those ...</td>\n",
       "      <td>1) Don't dismiss emotional intelligence and ad...</td>\n",
       "      <td>2.0</td>\n",
       "      <td>3.0</td>\n",
       "      <td>3.0</td>\n",
       "      <td>5.0</td>\n",
       "      <td>3.0</td>\n",
       "      <td>2094</td>\n",
       "      <td>5.0</td>\n",
       "      <td>Moving at the speed of light, burn out is inev...</td>\n",
       "    </tr>\n",
       "    <tr>\n",
       "      <th>2</th>\n",
       "      <td>3</td>\n",
       "      <td>startup_1</td>\n",
       "      <td>New York, NY</td>\n",
       "      <td>May 10, 2014</td>\n",
       "      <td>Current Employee</td>\n",
       "      <td>Software Engineer III</td>\n",
       "      <td>Great balance between big-company security and...</td>\n",
       "      <td>* If you're a software engineer, you're among ...</td>\n",
       "      <td>* It *is* becoming larger, and with it comes g...</td>\n",
       "      <td>Keep the focus on the user. Everything else wi...</td>\n",
       "      <td>5.0</td>\n",
       "      <td>4.0</td>\n",
       "      <td>5.0</td>\n",
       "      <td>5.0</td>\n",
       "      <td>4.0</td>\n",
       "      <td>949</td>\n",
       "      <td>5.0</td>\n",
       "      <td>Great balance between big-company security and...</td>\n",
       "    </tr>\n",
       "    <tr>\n",
       "      <th>3</th>\n",
       "      <td>4</td>\n",
       "      <td>startup_1</td>\n",
       "      <td>Mountain View, CA</td>\n",
       "      <td>Feb 8, 2015</td>\n",
       "      <td>Current Employee</td>\n",
       "      <td>Anonymous Employee</td>\n",
       "      <td>The best place I've worked and also the most d...</td>\n",
       "      <td>You can't find a more well-regarded company th...</td>\n",
       "      <td>I live in SF so the commute can take between 1...</td>\n",
       "      <td>Keep on NOT micromanaging - that is a huge ben...</td>\n",
       "      <td>2.0</td>\n",
       "      <td>5.0</td>\n",
       "      <td>5.0</td>\n",
       "      <td>4.0</td>\n",
       "      <td>5.0</td>\n",
       "      <td>498</td>\n",
       "      <td>4.0</td>\n",
       "      <td>The best place I've worked and also the most d...</td>\n",
       "    </tr>\n",
       "    <tr>\n",
       "      <th>10</th>\n",
       "      <td>25</td>\n",
       "      <td>startup_1</td>\n",
       "      <td>Los Angeles, CA</td>\n",
       "      <td>Nov 29, 2018</td>\n",
       "      <td>Current Employee</td>\n",
       "      <td>Staff Accountant</td>\n",
       "      <td>Accountant</td>\n",
       "      <td>I like and learned from the beginning accounting</td>\n",
       "      <td>High clerical work in the Sane record</td>\n",
       "      <td>Management and Finance must be close relation ...</td>\n",
       "      <td>5.0</td>\n",
       "      <td>5.0</td>\n",
       "      <td>5.0</td>\n",
       "      <td>5.0</td>\n",
       "      <td>5.0</td>\n",
       "      <td>0</td>\n",
       "      <td>4.0</td>\n",
       "      <td>Accountant I like and learned from the beginni...</td>\n",
       "    </tr>\n",
       "    <tr>\n",
       "      <th>21</th>\n",
       "      <td>47</td>\n",
       "      <td>startup_1</td>\n",
       "      <td>Ann Arbor, MI</td>\n",
       "      <td>Nov 19, 2018</td>\n",
       "      <td>Former Employee</td>\n",
       "      <td>Associate Account Strategist</td>\n",
       "      <td>Make sure you know what role you're applying for</td>\n",
       "      <td>Employees, food, benefits, perks, shuttle, bas...</td>\n",
       "      <td>Company has become way too vertical, performan...</td>\n",
       "      <td>Stop putting people on a bell curve, and recog...</td>\n",
       "      <td>4.0</td>\n",
       "      <td>4.0</td>\n",
       "      <td>5.0</td>\n",
       "      <td>5.0</td>\n",
       "      <td>2.0</td>\n",
       "      <td>0</td>\n",
       "      <td>5.0</td>\n",
       "      <td>Make sure you know what role you're applying f...</td>\n",
       "    </tr>\n",
       "  </tbody>\n",
       "</table>\n",
       "</div>"
      ],
      "text/plain": [
       "    ID      Place           location           date             status  \\\n",
       "1    2  startup_1  Mountain View, CA   Jun 21, 2013   Former Employee    \n",
       "2    3  startup_1       New York, NY   May 10, 2014  Current Employee    \n",
       "3    4  startup_1  Mountain View, CA    Feb 8, 2015  Current Employee    \n",
       "10  25  startup_1    Los Angeles, CA   Nov 29, 2018  Current Employee    \n",
       "21  47  startup_1      Ann Arbor, MI   Nov 19, 2018   Former Employee    \n",
       "\n",
       "                        job_title  \\\n",
       "1                 Program Manager   \n",
       "2           Software Engineer III   \n",
       "3              Anonymous Employee   \n",
       "10               Staff Accountant   \n",
       "21   Associate Account Strategist   \n",
       "\n",
       "                                              summary  \\\n",
       "1   Moving at the speed of light, burn out is inev...   \n",
       "2   Great balance between big-company security and...   \n",
       "3   The best place I've worked and also the most d...   \n",
       "10                                         Accountant   \n",
       "21   Make sure you know what role you're applying for   \n",
       "\n",
       "                                            positives  \\\n",
       "1   1) Food, food, food. 15+ cafes on main campus ...   \n",
       "2   * If you're a software engineer, you're among ...   \n",
       "3   You can't find a more well-regarded company th...   \n",
       "10   I like and learned from the beginning accounting   \n",
       "21  Employees, food, benefits, perks, shuttle, bas...   \n",
       "\n",
       "                                            negatives  \\\n",
       "1   1) Work/life balance. What balance? All those ...   \n",
       "2   * It *is* becoming larger, and with it comes g...   \n",
       "3   I live in SF so the commute can take between 1...   \n",
       "10              High clerical work in the Sane record   \n",
       "21  Company has become way too vertical, performan...   \n",
       "\n",
       "                                       advice_to_mgmt  score_1  score_2  \\\n",
       "1   1) Don't dismiss emotional intelligence and ad...      2.0      3.0   \n",
       "2   Keep the focus on the user. Everything else wi...      5.0      4.0   \n",
       "3   Keep on NOT micromanaging - that is a huge ben...      2.0      5.0   \n",
       "10  Management and Finance must be close relation ...      5.0      5.0   \n",
       "21  Stop putting people on a bell curve, and recog...      4.0      4.0   \n",
       "\n",
       "    score_3  score_4  score_5  score_6  overall  \\\n",
       "1       3.0      5.0      3.0     2094      5.0   \n",
       "2       5.0      5.0      4.0      949      5.0   \n",
       "3       5.0      4.0      5.0      498      4.0   \n",
       "10      5.0      5.0      5.0        0      4.0   \n",
       "21      5.0      5.0      2.0        0      5.0   \n",
       "\n",
       "                                                texts  \n",
       "1   Moving at the speed of light, burn out is inev...  \n",
       "2   Great balance between big-company security and...  \n",
       "3   The best place I've worked and also the most d...  \n",
       "10  Accountant I like and learned from the beginni...  \n",
       "21  Make sure you know what role you're applying f...  "
      ]
     },
     "execution_count": 14,
     "metadata": {},
     "output_type": "execute_result"
    }
   ],
   "source": [
    "df_copy.head()"
   ]
  },
  {
   "cell_type": "code",
   "execution_count": 15,
   "metadata": {},
   "outputs": [],
   "source": [
    "df_copy['clean_texts'] = df_copy.texts.apply(preprocessing)\n",
    "df_copy['clean_texts'] = df_copy['clean_texts'].astype('str')"
   ]
  },
  {
   "cell_type": "code",
   "execution_count": 16,
   "metadata": {},
   "outputs": [
    {
     "data": {
      "text/plain": [
       "'moving speed light burn inevitable food food food cafe main campus mtv alone mini kitchen snack drink free breakfast lunch dinner day errr day benefit perk free gym access mtv campus free self service laundry washer dryer available bowling alley volley ball pit custom built exclusive employee use outdoor sport park mtv free health fitness assessment dog friendly etc etc etc compensation google updated compensation package competitive size organization k remained relatively innovative nimble fast paced open communication definitely changing worse many department focus area product theory plenty opportunity grow career horizontally vertically practice true get work brightest innovative hard working diligent mind industry con see work life balance balance perk benefit illusion keep work help productive never met anybody google actually time weekend vacation may hear management say work weekend vacation set culture inevitably trickle know google inadvertently hire work holics create work holics u regardless seen way many following marriage fall apart colleague choosing work project family colleague getting physically sick ill stress colleague cry work stress colleague shooting email midnight absolutely ridiculous something need change poor management think issue majority people love google get work interesting technical problem people see little value learning develop emotional intelligence perhaps enjoy technical problem people difficult people promoted management position actually know lead manage happen smart path grow layer intelligent individual horrible manager leader yet value system actually anything emotional intelligence adaptive leadership taken seriously jerk sure lot brilliant people sadly also lot jerk many time one year ago case know pool candidate getting smaller maybe folk great personality cashed left maybe people getting burned wearing personality patience heard story manager straight cussing employee intimidating scaring employee compliance giant company inevitably become slower moving layered process bureaucracy many political battle empire building territory grabbing google say evil practice seem put place come internal practice dismiss emotional intelligence adaptive leadership catch phase need great manager leader order build great company develop great employee people may brilliant solving technical issue may often best candidate management something work ife balance bunch pow wow tech talk discussion leadership actually model consider evaluating work done process place inefficient ineffective need updated removed forget already pool incredibly talented people within company career development really goal google hire outside take time help employee develop career maybe lose great one maybe prevent burn disillusionment'"
      ]
     },
     "execution_count": 16,
     "metadata": {},
     "output_type": "execute_result"
    }
   ],
   "source": [
    "df_copy['clean_texts'][1]"
   ]
  },
  {
   "cell_type": "code",
   "execution_count": null,
   "metadata": {},
   "outputs": [],
   "source": []
  }
 ],
 "metadata": {
  "kernelspec": {
   "display_name": "Python 3",
   "language": "python",
   "name": "python3"
  },
  "language_info": {
   "codemirror_mode": {
    "name": "ipython",
    "version": 3
   },
   "file_extension": ".py",
   "mimetype": "text/x-python",
   "name": "python",
   "nbconvert_exporter": "python",
   "pygments_lexer": "ipython3",
   "version": "3.7.7"
  },
  "toc": {
   "base_numbering": 1,
   "nav_menu": {},
   "number_sections": true,
   "sideBar": true,
   "skip_h1_title": false,
   "title_cell": "Table of Contents",
   "title_sidebar": "Contents",
   "toc_cell": false,
   "toc_position": {},
   "toc_section_display": true,
   "toc_window_display": false
  },
  "varInspector": {
   "cols": {
    "lenName": 16,
    "lenType": 16,
    "lenVar": 40
   },
   "kernels_config": {
    "python": {
     "delete_cmd_postfix": "",
     "delete_cmd_prefix": "del ",
     "library": "var_list.py",
     "varRefreshCmd": "print(var_dic_list())"
    },
    "r": {
     "delete_cmd_postfix": ") ",
     "delete_cmd_prefix": "rm(",
     "library": "var_list.r",
     "varRefreshCmd": "cat(var_dic_list()) "
    }
   },
   "types_to_exclude": [
    "module",
    "function",
    "builtin_function_or_method",
    "instance",
    "_Feature"
   ],
   "window_display": false
  }
 },
 "nbformat": 4,
 "nbformat_minor": 4
}
