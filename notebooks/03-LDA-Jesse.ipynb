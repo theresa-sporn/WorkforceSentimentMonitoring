{
 "cells": [
  {
   "cell_type": "markdown",
   "metadata": {},
   "source": [
    "# Latent Dirichlet Allocation"
   ]
  },
  {
   "cell_type": "code",
   "execution_count": 1,
   "metadata": {},
   "outputs": [],
   "source": [
    "from gensim.utils import simple_preprocess\n",
    "import nltk\n",
    "from nltk.corpus import stopwords \n",
    "from nltk.tokenize import word_tokenize\n",
    "import string\n",
    "from nltk.stem import WordNetLemmatizer\n",
    "import gensim.corpora as corpora\n",
    "import re\n",
    "import pprint\n",
    "import pandas as pd\n"
   ]
  },
  {
   "cell_type": "code",
   "execution_count": 2,
   "metadata": {
    "scrolled": false
   },
   "outputs": [
    {
     "ename": "FileNotFoundError",
     "evalue": "[Errno 2] File b'data' does not exist: b'data'",
     "output_type": "error",
     "traceback": [
      "\u001b[0;31m---------------------------------------------------------------------------\u001b[0m",
      "\u001b[0;31mFileNotFoundError\u001b[0m                         Traceback (most recent call last)",
      "\u001b[0;32m<ipython-input-2-5282b0ee5b85>\u001b[0m in \u001b[0;36m<module>\u001b[0;34m\u001b[0m\n\u001b[0;32m----> 1\u001b[0;31m \u001b[0mdf\u001b[0m \u001b[0;34m=\u001b[0m \u001b[0mpd\u001b[0m\u001b[0;34m.\u001b[0m\u001b[0mread_csv\u001b[0m\u001b[0;34m(\u001b[0m\u001b[0;34m'data'\u001b[0m\u001b[0;34m,\u001b[0m \u001b[0msep\u001b[0m\u001b[0;34m=\u001b[0m\u001b[0;34m\",\"\u001b[0m\u001b[0;34m,\u001b[0m \u001b[0mheader\u001b[0m\u001b[0;34m=\u001b[0m\u001b[0;32mNone\u001b[0m\u001b[0;34m)\u001b[0m\u001b[0;34m\u001b[0m\u001b[0;34m\u001b[0m\u001b[0m\n\u001b[0m\u001b[1;32m      2\u001b[0m \u001b[0;34m\u001b[0m\u001b[0m\n\u001b[1;32m      3\u001b[0m \u001b[0mdf\u001b[0m\u001b[0;34m.\u001b[0m\u001b[0mcolumns\u001b[0m \u001b[0;34m=\u001b[0m \u001b[0;34m[\u001b[0m\u001b[0;34m'text'\u001b[0m\u001b[0;34m]\u001b[0m\u001b[0;34m\u001b[0m\u001b[0;34m\u001b[0m\u001b[0m\n\u001b[1;32m      4\u001b[0m \u001b[0;34m\u001b[0m\u001b[0m\n\u001b[1;32m      5\u001b[0m \u001b[0mdf\u001b[0m\u001b[0;34m.\u001b[0m\u001b[0mhead\u001b[0m\u001b[0;34m(\u001b[0m\u001b[0;34m)\u001b[0m\u001b[0;34m\u001b[0m\u001b[0;34m\u001b[0m\u001b[0m\n",
      "\u001b[0;32m~/.pyenv/versions/3.7.7/envs/lewagon/lib/python3.7/site-packages/pandas/io/parsers.py\u001b[0m in \u001b[0;36mparser_f\u001b[0;34m(filepath_or_buffer, sep, delimiter, header, names, index_col, usecols, squeeze, prefix, mangle_dupe_cols, dtype, engine, converters, true_values, false_values, skipinitialspace, skiprows, skipfooter, nrows, na_values, keep_default_na, na_filter, verbose, skip_blank_lines, parse_dates, infer_datetime_format, keep_date_col, date_parser, dayfirst, iterator, chunksize, compression, thousands, decimal, lineterminator, quotechar, quoting, doublequote, escapechar, comment, encoding, dialect, tupleize_cols, error_bad_lines, warn_bad_lines, delim_whitespace, low_memory, memory_map, float_precision)\u001b[0m\n\u001b[1;32m    700\u001b[0m                     skip_blank_lines=skip_blank_lines)\n\u001b[1;32m    701\u001b[0m \u001b[0;34m\u001b[0m\u001b[0m\n\u001b[0;32m--> 702\u001b[0;31m         \u001b[0;32mreturn\u001b[0m \u001b[0m_read\u001b[0m\u001b[0;34m(\u001b[0m\u001b[0mfilepath_or_buffer\u001b[0m\u001b[0;34m,\u001b[0m \u001b[0mkwds\u001b[0m\u001b[0;34m)\u001b[0m\u001b[0;34m\u001b[0m\u001b[0;34m\u001b[0m\u001b[0m\n\u001b[0m\u001b[1;32m    703\u001b[0m \u001b[0;34m\u001b[0m\u001b[0m\n\u001b[1;32m    704\u001b[0m     \u001b[0mparser_f\u001b[0m\u001b[0;34m.\u001b[0m\u001b[0m__name__\u001b[0m \u001b[0;34m=\u001b[0m \u001b[0mname\u001b[0m\u001b[0;34m\u001b[0m\u001b[0;34m\u001b[0m\u001b[0m\n",
      "\u001b[0;32m~/.pyenv/versions/3.7.7/envs/lewagon/lib/python3.7/site-packages/pandas/io/parsers.py\u001b[0m in \u001b[0;36m_read\u001b[0;34m(filepath_or_buffer, kwds)\u001b[0m\n\u001b[1;32m    427\u001b[0m \u001b[0;34m\u001b[0m\u001b[0m\n\u001b[1;32m    428\u001b[0m     \u001b[0;31m# Create the parser.\u001b[0m\u001b[0;34m\u001b[0m\u001b[0;34m\u001b[0m\u001b[0;34m\u001b[0m\u001b[0m\n\u001b[0;32m--> 429\u001b[0;31m     \u001b[0mparser\u001b[0m \u001b[0;34m=\u001b[0m \u001b[0mTextFileReader\u001b[0m\u001b[0;34m(\u001b[0m\u001b[0mfilepath_or_buffer\u001b[0m\u001b[0;34m,\u001b[0m \u001b[0;34m**\u001b[0m\u001b[0mkwds\u001b[0m\u001b[0;34m)\u001b[0m\u001b[0;34m\u001b[0m\u001b[0;34m\u001b[0m\u001b[0m\n\u001b[0m\u001b[1;32m    430\u001b[0m \u001b[0;34m\u001b[0m\u001b[0m\n\u001b[1;32m    431\u001b[0m     \u001b[0;32mif\u001b[0m \u001b[0mchunksize\u001b[0m \u001b[0;32mor\u001b[0m \u001b[0miterator\u001b[0m\u001b[0;34m:\u001b[0m\u001b[0;34m\u001b[0m\u001b[0;34m\u001b[0m\u001b[0m\n",
      "\u001b[0;32m~/.pyenv/versions/3.7.7/envs/lewagon/lib/python3.7/site-packages/pandas/io/parsers.py\u001b[0m in \u001b[0;36m__init__\u001b[0;34m(self, f, engine, **kwds)\u001b[0m\n\u001b[1;32m    893\u001b[0m             \u001b[0mself\u001b[0m\u001b[0;34m.\u001b[0m\u001b[0moptions\u001b[0m\u001b[0;34m[\u001b[0m\u001b[0;34m'has_index_names'\u001b[0m\u001b[0;34m]\u001b[0m \u001b[0;34m=\u001b[0m \u001b[0mkwds\u001b[0m\u001b[0;34m[\u001b[0m\u001b[0;34m'has_index_names'\u001b[0m\u001b[0;34m]\u001b[0m\u001b[0;34m\u001b[0m\u001b[0;34m\u001b[0m\u001b[0m\n\u001b[1;32m    894\u001b[0m \u001b[0;34m\u001b[0m\u001b[0m\n\u001b[0;32m--> 895\u001b[0;31m         \u001b[0mself\u001b[0m\u001b[0;34m.\u001b[0m\u001b[0m_make_engine\u001b[0m\u001b[0;34m(\u001b[0m\u001b[0mself\u001b[0m\u001b[0;34m.\u001b[0m\u001b[0mengine\u001b[0m\u001b[0;34m)\u001b[0m\u001b[0;34m\u001b[0m\u001b[0;34m\u001b[0m\u001b[0m\n\u001b[0m\u001b[1;32m    896\u001b[0m \u001b[0;34m\u001b[0m\u001b[0m\n\u001b[1;32m    897\u001b[0m     \u001b[0;32mdef\u001b[0m \u001b[0mclose\u001b[0m\u001b[0;34m(\u001b[0m\u001b[0mself\u001b[0m\u001b[0;34m)\u001b[0m\u001b[0;34m:\u001b[0m\u001b[0;34m\u001b[0m\u001b[0;34m\u001b[0m\u001b[0m\n",
      "\u001b[0;32m~/.pyenv/versions/3.7.7/envs/lewagon/lib/python3.7/site-packages/pandas/io/parsers.py\u001b[0m in \u001b[0;36m_make_engine\u001b[0;34m(self, engine)\u001b[0m\n\u001b[1;32m   1120\u001b[0m     \u001b[0;32mdef\u001b[0m \u001b[0m_make_engine\u001b[0m\u001b[0;34m(\u001b[0m\u001b[0mself\u001b[0m\u001b[0;34m,\u001b[0m \u001b[0mengine\u001b[0m\u001b[0;34m=\u001b[0m\u001b[0;34m'c'\u001b[0m\u001b[0;34m)\u001b[0m\u001b[0;34m:\u001b[0m\u001b[0;34m\u001b[0m\u001b[0;34m\u001b[0m\u001b[0m\n\u001b[1;32m   1121\u001b[0m         \u001b[0;32mif\u001b[0m \u001b[0mengine\u001b[0m \u001b[0;34m==\u001b[0m \u001b[0;34m'c'\u001b[0m\u001b[0;34m:\u001b[0m\u001b[0;34m\u001b[0m\u001b[0;34m\u001b[0m\u001b[0m\n\u001b[0;32m-> 1122\u001b[0;31m             \u001b[0mself\u001b[0m\u001b[0;34m.\u001b[0m\u001b[0m_engine\u001b[0m \u001b[0;34m=\u001b[0m \u001b[0mCParserWrapper\u001b[0m\u001b[0;34m(\u001b[0m\u001b[0mself\u001b[0m\u001b[0;34m.\u001b[0m\u001b[0mf\u001b[0m\u001b[0;34m,\u001b[0m \u001b[0;34m**\u001b[0m\u001b[0mself\u001b[0m\u001b[0;34m.\u001b[0m\u001b[0moptions\u001b[0m\u001b[0;34m)\u001b[0m\u001b[0;34m\u001b[0m\u001b[0;34m\u001b[0m\u001b[0m\n\u001b[0m\u001b[1;32m   1123\u001b[0m         \u001b[0;32melse\u001b[0m\u001b[0;34m:\u001b[0m\u001b[0;34m\u001b[0m\u001b[0;34m\u001b[0m\u001b[0m\n\u001b[1;32m   1124\u001b[0m             \u001b[0;32mif\u001b[0m \u001b[0mengine\u001b[0m \u001b[0;34m==\u001b[0m \u001b[0;34m'python'\u001b[0m\u001b[0;34m:\u001b[0m\u001b[0;34m\u001b[0m\u001b[0;34m\u001b[0m\u001b[0m\n",
      "\u001b[0;32m~/.pyenv/versions/3.7.7/envs/lewagon/lib/python3.7/site-packages/pandas/io/parsers.py\u001b[0m in \u001b[0;36m__init__\u001b[0;34m(self, src, **kwds)\u001b[0m\n\u001b[1;32m   1851\u001b[0m         \u001b[0mkwds\u001b[0m\u001b[0;34m[\u001b[0m\u001b[0;34m'usecols'\u001b[0m\u001b[0;34m]\u001b[0m \u001b[0;34m=\u001b[0m \u001b[0mself\u001b[0m\u001b[0;34m.\u001b[0m\u001b[0musecols\u001b[0m\u001b[0;34m\u001b[0m\u001b[0;34m\u001b[0m\u001b[0m\n\u001b[1;32m   1852\u001b[0m \u001b[0;34m\u001b[0m\u001b[0m\n\u001b[0;32m-> 1853\u001b[0;31m         \u001b[0mself\u001b[0m\u001b[0;34m.\u001b[0m\u001b[0m_reader\u001b[0m \u001b[0;34m=\u001b[0m \u001b[0mparsers\u001b[0m\u001b[0;34m.\u001b[0m\u001b[0mTextReader\u001b[0m\u001b[0;34m(\u001b[0m\u001b[0msrc\u001b[0m\u001b[0;34m,\u001b[0m \u001b[0;34m**\u001b[0m\u001b[0mkwds\u001b[0m\u001b[0;34m)\u001b[0m\u001b[0;34m\u001b[0m\u001b[0;34m\u001b[0m\u001b[0m\n\u001b[0m\u001b[1;32m   1854\u001b[0m         \u001b[0mself\u001b[0m\u001b[0;34m.\u001b[0m\u001b[0munnamed_cols\u001b[0m \u001b[0;34m=\u001b[0m \u001b[0mself\u001b[0m\u001b[0;34m.\u001b[0m\u001b[0m_reader\u001b[0m\u001b[0;34m.\u001b[0m\u001b[0munnamed_cols\u001b[0m\u001b[0;34m\u001b[0m\u001b[0;34m\u001b[0m\u001b[0m\n\u001b[1;32m   1855\u001b[0m \u001b[0;34m\u001b[0m\u001b[0m\n",
      "\u001b[0;32mpandas/_libs/parsers.pyx\u001b[0m in \u001b[0;36mpandas._libs.parsers.TextReader.__cinit__\u001b[0;34m()\u001b[0m\n",
      "\u001b[0;32mpandas/_libs/parsers.pyx\u001b[0m in \u001b[0;36mpandas._libs.parsers.TextReader._setup_parser_source\u001b[0;34m()\u001b[0m\n",
      "\u001b[0;31mFileNotFoundError\u001b[0m: [Errno 2] File b'data' does not exist: b'data'"
     ]
    }
   ],
   "source": [
    "df = pd.read_csv('data', sep=\",\", header=None)\n",
    "\n",
    "df.columns = ['text']\n",
    "\n",
    "df.head()"
   ]
  },
  {
   "cell_type": "code",
   "execution_count": 3,
   "metadata": {},
   "outputs": [
    {
     "data": {
      "text/plain": [
       "'From: gld@cunixb.cc.columbia.edu (Gary L Dare)\\nSubject: Stan Fischler, 4/4\\nSummary: From the Devils pregame show, prior to hosting the Penguins\\nNntp-Posting-Host: cunixb.cc.columbia.edu\\nReply-To: gld@cunixb.cc.columbia.edu (Gary L Dare)\\nOrganization: PhDs In The Hall\\nLines: 32\\n\\n\\nAt the Lester Patrick Awards lunch, Bill Torrey mentioned that one of his\\noptions next season is to be president of the Miami team, with Bob Clarke\\nworking for him.  At the same dinner, Clarke said that his worst mistake\\nin Philadelphia was letting Mike Keenan go -- in retrospect, almost all\\nplayers came realize that Keenan knew what it took to win.  Rumours are\\nnow circulating that Keenan will be back with the Flyers.\\n\\nNick Polano is sick of being a scapegoat for the schedule made for the\\nRed Wings; After all, Bryan Murray approved it.\\n\\nGerry Meehan and John Muckler are worried over the Sabres\\' prospects;\\nAssistant Don Lever says that the Sabres have to get their share now,\\nbecause a Quebec dynasty is emerging ...\\n\\nThe Mighty Ducks have declared that they will not throw money around\\nloosely to buy a team.\\n\\nOilers coach Ted Green remarked that \"There some guys around who can\\nfill Tie Domi\\'s skates, but none who can fill his helmet.\"\\n\\nSenators\\' Andrew McBain told off a security guard at Chicago Stadium\\nwho warned him of the stairs leading down to the locker room; McBain\\nmouthed off at him, after all being a seasoned professional ... and\\ntumbled down the entire steep flight.\\n\\ngld\\n--\\n~~~~~~~~~~~~~~~~~~~~~~~~ Je me souviens ~~~~~~~~~~~~~~~~~~~~~~~~~~~~~\\nGary L. Dare\\n> gld@columbia.EDU \\t\\t\\tGO  Winnipeg Jets  GO!!!\\n> gld@cunixc.BITNET\\t\\t\\tSelanne + Domi ==> Stanley\\n'"
      ]
     },
     "execution_count": 3,
     "metadata": {},
     "output_type": "execute_result"
    }
   ],
   "source": [
    "df.loc[0].text"
   ]
  },
  {
   "cell_type": "markdown",
   "metadata": {},
   "source": [
    "## Preprocessing "
   ]
  },
  {
   "cell_type": "markdown",
   "metadata": {},
   "source": [
    "👇 You're used to it by now... Clean up! Store the cleaned text in a new dataframe column \"clean_text\"."
   ]
  },
  {
   "cell_type": "code",
   "execution_count": 4,
   "metadata": {},
   "outputs": [],
   "source": [
    "df['text_a'] = df['text'] #df['text'].str.replace(r'\\S*@\\S*\\s?', \"\")"
   ]
  },
  {
   "cell_type": "code",
   "execution_count": 5,
   "metadata": {},
   "outputs": [
    {
     "data": {
      "text/plain": [
       "'From: gld@cunixb.cc.columbia.edu (Gary L Dare)\\nSubject: Stan Fischler, 4/4\\nSummary: From the Devils pregame show, prior to hosting the Penguins\\nNntp-Posting-Host: cunixb.cc.columbia.edu\\nReply-To: gld@cunixb.cc.columbia.edu (Gary L Dare)\\nOrganization: PhDs In The Hall\\nLines: 32\\n\\n\\nAt the Lester Patrick Awards lunch, Bill Torrey mentioned that one of his\\noptions next season is to be president of the Miami team, with Bob Clarke\\nworking for him.  At the same dinner, Clarke said that his worst mistake\\nin Philadelphia was letting Mike Keenan go -- in retrospect, almost all\\nplayers came realize that Keenan knew what it took to win.  Rumours are\\nnow circulating that Keenan will be back with the Flyers.\\n\\nNick Polano is sick of being a scapegoat for the schedule made for the\\nRed Wings; After all, Bryan Murray approved it.\\n\\nGerry Meehan and John Muckler are worried over the Sabres\\' prospects;\\nAssistant Don Lever says that the Sabres have to get their share now,\\nbecause a Quebec dynasty is emerging ...\\n\\nThe Mighty Ducks have declared that they will not throw money around\\nloosely to buy a team.\\n\\nOilers coach Ted Green remarked that \"There some guys around who can\\nfill Tie Domi\\'s skates, but none who can fill his helmet.\"\\n\\nSenators\\' Andrew McBain told off a security guard at Chicago Stadium\\nwho warned him of the stairs leading down to the locker room; McBain\\nmouthed off at him, after all being a seasoned professional ... and\\ntumbled down the entire steep flight.\\n\\ngld\\n--\\n~~~~~~~~~~~~~~~~~~~~~~~~ Je me souviens ~~~~~~~~~~~~~~~~~~~~~~~~~~~~~\\nGary L. Dare\\n> gld@columbia.EDU \\t\\t\\tGO  Winnipeg Jets  GO!!!\\n> gld@cunixc.BITNET\\t\\t\\tSelanne + Domi ==> Stanley\\n'"
      ]
     },
     "execution_count": 5,
     "metadata": {},
     "output_type": "execute_result"
    }
   ],
   "source": [
    "df.loc[0].text_a"
   ]
  },
  {
   "cell_type": "code",
   "execution_count": 6,
   "metadata": {},
   "outputs": [],
   "source": [
    "def remove_numbers(txt):\n",
    "    result = ''.join([i for i in txt if not i.isdigit()])    \n",
    "    return result"
   ]
  },
  {
   "cell_type": "code",
   "execution_count": 7,
   "metadata": {},
   "outputs": [],
   "source": [
    "df['text_a'] = df['text_a'].dropna().apply(lambda x: remove_numbers(x))"
   ]
  },
  {
   "cell_type": "code",
   "execution_count": 8,
   "metadata": {},
   "outputs": [
    {
     "data": {
      "text/plain": [
       "'From: gld@cunixb.cc.columbia.edu (Gary L Dare)\\nSubject: Stan Fischler, /\\nSummary: From the Devils pregame show, prior to hosting the Penguins\\nNntp-Posting-Host: cunixb.cc.columbia.edu\\nReply-To: gld@cunixb.cc.columbia.edu (Gary L Dare)\\nOrganization: PhDs In The Hall\\nLines: \\n\\n\\nAt the Lester Patrick Awards lunch, Bill Torrey mentioned that one of his\\noptions next season is to be president of the Miami team, with Bob Clarke\\nworking for him.  At the same dinner, Clarke said that his worst mistake\\nin Philadelphia was letting Mike Keenan go -- in retrospect, almost all\\nplayers came realize that Keenan knew what it took to win.  Rumours are\\nnow circulating that Keenan will be back with the Flyers.\\n\\nNick Polano is sick of being a scapegoat for the schedule made for the\\nRed Wings; After all, Bryan Murray approved it.\\n\\nGerry Meehan and John Muckler are worried over the Sabres\\' prospects;\\nAssistant Don Lever says that the Sabres have to get their share now,\\nbecause a Quebec dynasty is emerging ...\\n\\nThe Mighty Ducks have declared that they will not throw money around\\nloosely to buy a team.\\n\\nOilers coach Ted Green remarked that \"There some guys around who can\\nfill Tie Domi\\'s skates, but none who can fill his helmet.\"\\n\\nSenators\\' Andrew McBain told off a security guard at Chicago Stadium\\nwho warned him of the stairs leading down to the locker room; McBain\\nmouthed off at him, after all being a seasoned professional ... and\\ntumbled down the entire steep flight.\\n\\ngld\\n--\\n~~~~~~~~~~~~~~~~~~~~~~~~ Je me souviens ~~~~~~~~~~~~~~~~~~~~~~~~~~~~~\\nGary L. Dare\\n> gld@columbia.EDU \\t\\t\\tGO  Winnipeg Jets  GO!!!\\n> gld@cunixc.BITNET\\t\\t\\tSelanne + Domi ==> Stanley\\n'"
      ]
     },
     "execution_count": 8,
     "metadata": {},
     "output_type": "execute_result"
    }
   ],
   "source": [
    "df.loc[0].text_a"
   ]
  },
  {
   "cell_type": "code",
   "execution_count": 13,
   "metadata": {},
   "outputs": [],
   "source": [
    "def preprocessing(text):\n",
    "    text = text.replace(r'/^\\s+|\\s+$|\\s+(?=\\s)/g', ' ') # not working as intended I think\n",
    "    for punctuation in string.punctuation:\n",
    "        text = text.replace(punctuation, ' ')\n",
    "    cleaned_text = text.lower()\n",
    "    cleaned_text = cleaned_text.replace(r'\\d+', ' ')\n",
    "    #result = ''.join([i for i in s if not i.isdigit()])    \n",
    "    cleaned_text = cleaned_text.replace(\"\\n\", \" \")\n",
    "    cleaned_text = cleaned_text.replace(\"\\t\", \" \")\n",
    "    cleaned_text = cleaned_text.replace(r' +', ' ')\n",
    "    return cleaned_text"
   ]
  },
  {
   "cell_type": "code",
   "execution_count": 14,
   "metadata": {},
   "outputs": [],
   "source": [
    "df['clean_reviews'] = df.text_a.apply(preprocessing)"
   ]
  },
  {
   "cell_type": "code",
   "execution_count": 15,
   "metadata": {},
   "outputs": [
    {
     "data": {
      "text/plain": [
       "'from  gld cunixb cc columbia edu  gary l dare  subject  stan fischler    summary  from the devils pregame show  prior to hosting the penguins nntp posting host  cunixb cc columbia edu reply to  gld cunixb cc columbia edu  gary l dare  organization  phds in the hall lines     at the lester patrick awards lunch  bill torrey mentioned that one of his options next season is to be president of the miami team  with bob clarke working for him   at the same dinner  clarke said that his worst mistake in philadelphia was letting mike keenan go    in retrospect  almost all players came realize that keenan knew what it took to win   rumours are now circulating that keenan will be back with the flyers   nick polano is sick of being a scapegoat for the schedule made for the red wings  after all  bryan murray approved it   gerry meehan and john muckler are worried over the sabres  prospects  assistant don lever says that the sabres have to get their share now  because a quebec dynasty is emerging      the mighty ducks have declared that they will not throw money around loosely to buy a team   oilers coach ted green remarked that  there some guys around who can fill tie domi s skates  but none who can fill his helmet    senators  andrew mcbain told off a security guard at chicago stadium who warned him of the stairs leading down to the locker room  mcbain mouthed off at him  after all being a seasoned professional     and tumbled down the entire steep flight   gld                             je me souviens                               gary l  dare   gld columbia edu    go  winnipeg jets  go      gld cunixc bitnet   selanne   domi     stanley '"
      ]
     },
     "execution_count": 15,
     "metadata": {},
     "output_type": "execute_result"
    }
   ],
   "source": [
    "df.loc[0].clean_reviews"
   ]
  },
  {
   "cell_type": "code",
   "execution_count": 13,
   "metadata": {},
   "outputs": [],
   "source": [
    "df['clean_reviews'] = df.apply(lambda row: nltk.word_tokenize(row['clean_reviews']), axis=1)"
   ]
  },
  {
   "cell_type": "code",
   "execution_count": 14,
   "metadata": {},
   "outputs": [],
   "source": [
    "stop_words = set(stopwords.words('english')) \n",
    "\n",
    "#word_tokens = word_tokenize(text) \n",
    "def remove_stopwords(txt):\n",
    "    \n",
    "    txt_nostops = ' '.join([w for w in txt if not w in stop_words]) \n",
    "    return txt_nostops "
   ]
  },
  {
   "cell_type": "code",
   "execution_count": 15,
   "metadata": {},
   "outputs": [],
   "source": [
    "df['clean_reviews'] = df['clean_reviews'].dropna().apply(lambda x: remove_stopwords(x))"
   ]
  },
  {
   "cell_type": "code",
   "execution_count": 16,
   "metadata": {},
   "outputs": [],
   "source": [
    "df['clean_reviews'] = df.apply(lambda row: nltk.word_tokenize(row['clean_reviews']), axis=1)"
   ]
  },
  {
   "cell_type": "code",
   "execution_count": 17,
   "metadata": {},
   "outputs": [],
   "source": [
    "lemmatizer = WordNetLemmatizer()"
   ]
  },
  {
   "cell_type": "code",
   "execution_count": 18,
   "metadata": {},
   "outputs": [],
   "source": [
    "def lemmatize(txt):\n",
    "    txt_lemma = ' '.join([lemmatizer.lemmatize(word) for word in txt]) \n",
    "    return txt_lemma"
   ]
  },
  {
   "cell_type": "code",
   "execution_count": 19,
   "metadata": {},
   "outputs": [],
   "source": [
    "df['clean_reviews'] = df['clean_reviews'].dropna().apply(lambda x: lemmatize(x))"
   ]
  },
  {
   "cell_type": "code",
   "execution_count": 20,
   "metadata": {},
   "outputs": [
    {
     "data": {
      "text/plain": [
       "'gld cunixb cc columbia edu gary l dare subject stan fischler summary devil pregame show prior hosting penguin nntp posting host cunixb cc columbia edu reply gld cunixb cc columbia edu gary l dare organization phd hall line lester patrick award lunch bill torrey mentioned one option next season president miami team bob clarke working dinner clarke said worst mistake philadelphia letting mike keenan go retrospect almost player came realize keenan knew took win rumour circulating keenan back flyer nick polano sick scapegoat schedule made red wing bryan murray approved gerry meehan john muckler worried sabre prospect assistant lever say sabre get share quebec dynasty emerging mighty duck declared throw money around loosely buy team oiler coach ted green remarked guy around fill tie domi skate none fill helmet senator andrew mcbain told security guard chicago stadium warned stair leading locker room mcbain mouthed seasoned professional tumbled entire steep flight gld je souviens gary l dare gld columbia edu go winnipeg jet go gld cunixc bitnet selanne domi stanley'"
      ]
     },
     "execution_count": 20,
     "metadata": {},
     "output_type": "execute_result"
    }
   ],
   "source": [
    "df.loc[0].clean_reviews"
   ]
  },
  {
   "cell_type": "code",
   "execution_count": 21,
   "metadata": {},
   "outputs": [
    {
     "data": {
      "text/html": [
       "<div>\n",
       "<style scoped>\n",
       "    .dataframe tbody tr th:only-of-type {\n",
       "        vertical-align: middle;\n",
       "    }\n",
       "\n",
       "    .dataframe tbody tr th {\n",
       "        vertical-align: top;\n",
       "    }\n",
       "\n",
       "    .dataframe thead th {\n",
       "        text-align: right;\n",
       "    }\n",
       "</style>\n",
       "<table border=\"1\" class=\"dataframe\">\n",
       "  <thead>\n",
       "    <tr style=\"text-align: right;\">\n",
       "      <th></th>\n",
       "      <th>text</th>\n",
       "      <th>text_a</th>\n",
       "      <th>clean_reviews</th>\n",
       "    </tr>\n",
       "  </thead>\n",
       "  <tbody>\n",
       "    <tr>\n",
       "      <th>0</th>\n",
       "      <td>From: gld@cunixb.cc.columbia.edu (Gary L Dare)...</td>\n",
       "      <td>From: gld@cunixb.cc.columbia.edu (Gary L Dare)...</td>\n",
       "      <td>gld cunixb cc columbia edu gary l dare subject...</td>\n",
       "    </tr>\n",
       "    <tr>\n",
       "      <th>1</th>\n",
       "      <td>From: atterlep@vela.acs.oakland.edu (Cardinal ...</td>\n",
       "      <td>From: atterlep@vela.acs.oakland.edu (Cardinal ...</td>\n",
       "      <td>atterlep vela ac oakland edu cardinal ximenez ...</td>\n",
       "    </tr>\n",
       "    <tr>\n",
       "      <th>2</th>\n",
       "      <td>From: miner@kuhub.cc.ukans.edu\\nSubject: Re: A...</td>\n",
       "      <td>From: miner@kuhub.cc.ukans.edu\\nSubject: Re: A...</td>\n",
       "      <td>miner kuhub cc ukans edu subject ancient book ...</td>\n",
       "    </tr>\n",
       "    <tr>\n",
       "      <th>3</th>\n",
       "      <td>From: atterlep@vela.acs.oakland.edu (Cardinal ...</td>\n",
       "      <td>From: atterlep@vela.acs.oakland.edu (Cardinal ...</td>\n",
       "      <td>atterlep vela ac oakland edu cardinal ximenez ...</td>\n",
       "    </tr>\n",
       "    <tr>\n",
       "      <th>4</th>\n",
       "      <td>From: vzhivov@superior.carleton.ca (Vladimir Z...</td>\n",
       "      <td>From: vzhivov@superior.carleton.ca (Vladimir Z...</td>\n",
       "      <td>vzhivov superior carleton ca vladimir zhivov s...</td>\n",
       "    </tr>\n",
       "  </tbody>\n",
       "</table>\n",
       "</div>"
      ],
      "text/plain": [
       "                                                text  \\\n",
       "0  From: gld@cunixb.cc.columbia.edu (Gary L Dare)...   \n",
       "1  From: atterlep@vela.acs.oakland.edu (Cardinal ...   \n",
       "2  From: miner@kuhub.cc.ukans.edu\\nSubject: Re: A...   \n",
       "3  From: atterlep@vela.acs.oakland.edu (Cardinal ...   \n",
       "4  From: vzhivov@superior.carleton.ca (Vladimir Z...   \n",
       "\n",
       "                                              text_a  \\\n",
       "0  From: gld@cunixb.cc.columbia.edu (Gary L Dare)...   \n",
       "1  From: atterlep@vela.acs.oakland.edu (Cardinal ...   \n",
       "2  From: miner@kuhub.cc.ukans.edu\\nSubject: Re: A...   \n",
       "3  From: atterlep@vela.acs.oakland.edu (Cardinal ...   \n",
       "4  From: vzhivov@superior.carleton.ca (Vladimir Z...   \n",
       "\n",
       "                                       clean_reviews  \n",
       "0  gld cunixb cc columbia edu gary l dare subject...  \n",
       "1  atterlep vela ac oakland edu cardinal ximenez ...  \n",
       "2  miner kuhub cc ukans edu subject ancient book ...  \n",
       "3  atterlep vela ac oakland edu cardinal ximenez ...  \n",
       "4  vzhivov superior carleton ca vladimir zhivov s...  "
      ]
     },
     "execution_count": 21,
     "metadata": {},
     "output_type": "execute_result"
    }
   ],
   "source": [
    "df.head()"
   ]
  },
  {
   "cell_type": "markdown",
   "metadata": {},
   "source": [
    "The data is a collection of emails that are not labelled. Let's try extract topics from them!"
   ]
  },
  {
   "cell_type": "markdown",
   "metadata": {},
   "source": [
    "## Latent Dirichlet Allocation model"
   ]
  },
  {
   "cell_type": "markdown",
   "metadata": {},
   "source": [
    "👇 Train an LDA model to extract potential topics."
   ]
  },
  {
   "cell_type": "code",
   "execution_count": 22,
   "metadata": {},
   "outputs": [
    {
     "name": "stdout",
     "output_type": "stream",
     "text": [
      "Topic 0:\n",
      "[('god', 152.47604772242985), ('christian', 107.07975232770626), ('would', 96.10051717067805), ('com', 95.17308980526893), ('one', 95.06097322714048), ('people', 92.18710540046656), ('edu', 87.0931123398669), ('know', 73.89212606306563), ('say', 69.1072849866848), ('think', 65.95870851912886)]\n",
      "Topic 1:\n",
      "[('edu', 148.71343650092504), ('ca', 121.2832646955435), ('game', 114.5828016728903), ('team', 110.71375652787485), ('university', 86.25000955152997), ('hockey', 80.83922557241414), ('year', 73.07020838203371), ('go', 70.3556513034166), ('posting', 62.86332528567348), ('host', 55.0349226111371)]\n"
     ]
    }
   ],
   "source": [
    "from sklearn.decomposition import LatentDirichletAllocation\n",
    "from  sklearn.feature_extraction.text import TfidfVectorizer\n",
    "\n",
    "vectorizer = TfidfVectorizer(min_df=0.2, max_df=0.7).fit(df['clean_reviews'])\n",
    "\n",
    "data_vectorized = vectorizer.transform(df['clean_reviews'])\n",
    "\n",
    "lda_model = LatentDirichletAllocation(n_components=2).fit(data_vectorized)\n",
    "\n",
    "def print_topics(model, vectorizer):\n",
    "    for idx, topic in enumerate(model.components_):\n",
    "        print(\"Topic %d:\" % (idx))\n",
    "        print([(vectorizer.get_feature_names()[i], topic[i])\n",
    "                        for i in topic.argsort()[:-10 - 1:-1]])\n",
    "        \n",
    "\n",
    "print_topics(lda_model, vectorizer)"
   ]
  },
  {
   "cell_type": "markdown",
   "metadata": {},
   "source": [
    "## Visualize potential topics"
   ]
  },
  {
   "cell_type": "markdown",
   "metadata": {},
   "source": [
    "👇 The function to print the words associated with the potential topics is already made for you. You just have to pass the correct arguments!"
   ]
  },
  {
   "cell_type": "code",
   "execution_count": 23,
   "metadata": {
    "scrolled": true
   },
   "outputs": [
    {
     "data": {
      "text/html": [
       "<div>\n",
       "<style scoped>\n",
       "    .dataframe tbody tr th:only-of-type {\n",
       "        vertical-align: middle;\n",
       "    }\n",
       "\n",
       "    .dataframe tbody tr th {\n",
       "        vertical-align: top;\n",
       "    }\n",
       "\n",
       "    .dataframe thead th {\n",
       "        text-align: right;\n",
       "    }\n",
       "</style>\n",
       "<table border=\"1\" class=\"dataframe\">\n",
       "  <thead>\n",
       "    <tr style=\"text-align: right;\">\n",
       "      <th></th>\n",
       "      <th>text</th>\n",
       "      <th>text_a</th>\n",
       "      <th>clean_reviews</th>\n",
       "      <th>tokens</th>\n",
       "    </tr>\n",
       "  </thead>\n",
       "  <tbody>\n",
       "    <tr>\n",
       "      <th>0</th>\n",
       "      <td>From: gld@cunixb.cc.columbia.edu (Gary L Dare)...</td>\n",
       "      <td>From: gld@cunixb.cc.columbia.edu (Gary L Dare)...</td>\n",
       "      <td>gld cunixb cc columbia edu gary l dare subject...</td>\n",
       "      <td>[gld, cunixb, cc, columbia, edu, gary, l, dare...</td>\n",
       "    </tr>\n",
       "    <tr>\n",
       "      <th>1</th>\n",
       "      <td>From: atterlep@vela.acs.oakland.edu (Cardinal ...</td>\n",
       "      <td>From: atterlep@vela.acs.oakland.edu (Cardinal ...</td>\n",
       "      <td>atterlep vela ac oakland edu cardinal ximenez ...</td>\n",
       "      <td>[atterlep, vela, ac, oakland, edu, cardinal, x...</td>\n",
       "    </tr>\n",
       "    <tr>\n",
       "      <th>2</th>\n",
       "      <td>From: miner@kuhub.cc.ukans.edu\\nSubject: Re: A...</td>\n",
       "      <td>From: miner@kuhub.cc.ukans.edu\\nSubject: Re: A...</td>\n",
       "      <td>miner kuhub cc ukans edu subject ancient book ...</td>\n",
       "      <td>[miner, kuhub, cc, ukans, edu, subject, ancien...</td>\n",
       "    </tr>\n",
       "    <tr>\n",
       "      <th>3</th>\n",
       "      <td>From: atterlep@vela.acs.oakland.edu (Cardinal ...</td>\n",
       "      <td>From: atterlep@vela.acs.oakland.edu (Cardinal ...</td>\n",
       "      <td>atterlep vela ac oakland edu cardinal ximenez ...</td>\n",
       "      <td>[atterlep, vela, ac, oakland, edu, cardinal, x...</td>\n",
       "    </tr>\n",
       "    <tr>\n",
       "      <th>4</th>\n",
       "      <td>From: vzhivov@superior.carleton.ca (Vladimir Z...</td>\n",
       "      <td>From: vzhivov@superior.carleton.ca (Vladimir Z...</td>\n",
       "      <td>vzhivov superior carleton ca vladimir zhivov s...</td>\n",
       "      <td>[vzhivov, superior, carleton, ca, vladimir, zh...</td>\n",
       "    </tr>\n",
       "  </tbody>\n",
       "</table>\n",
       "</div>"
      ],
      "text/plain": [
       "                                                text  \\\n",
       "0  From: gld@cunixb.cc.columbia.edu (Gary L Dare)...   \n",
       "1  From: atterlep@vela.acs.oakland.edu (Cardinal ...   \n",
       "2  From: miner@kuhub.cc.ukans.edu\\nSubject: Re: A...   \n",
       "3  From: atterlep@vela.acs.oakland.edu (Cardinal ...   \n",
       "4  From: vzhivov@superior.carleton.ca (Vladimir Z...   \n",
       "\n",
       "                                              text_a  \\\n",
       "0  From: gld@cunixb.cc.columbia.edu (Gary L Dare)...   \n",
       "1  From: atterlep@vela.acs.oakland.edu (Cardinal ...   \n",
       "2  From: miner@kuhub.cc.ukans.edu\\nSubject: Re: A...   \n",
       "3  From: atterlep@vela.acs.oakland.edu (Cardinal ...   \n",
       "4  From: vzhivov@superior.carleton.ca (Vladimir Z...   \n",
       "\n",
       "                                       clean_reviews  \\\n",
       "0  gld cunixb cc columbia edu gary l dare subject...   \n",
       "1  atterlep vela ac oakland edu cardinal ximenez ...   \n",
       "2  miner kuhub cc ukans edu subject ancient book ...   \n",
       "3  atterlep vela ac oakland edu cardinal ximenez ...   \n",
       "4  vzhivov superior carleton ca vladimir zhivov s...   \n",
       "\n",
       "                                              tokens  \n",
       "0  [gld, cunixb, cc, columbia, edu, gary, l, dare...  \n",
       "1  [atterlep, vela, ac, oakland, edu, cardinal, x...  \n",
       "2  [miner, kuhub, cc, ukans, edu, subject, ancien...  \n",
       "3  [atterlep, vela, ac, oakland, edu, cardinal, x...  \n",
       "4  [vzhivov, superior, carleton, ca, vladimir, zh...  "
      ]
     },
     "execution_count": 23,
     "metadata": {},
     "output_type": "execute_result"
    }
   ],
   "source": [
    "# done above\n",
    "df['tokens'] = df.apply(lambda row: nltk.word_tokenize(row['clean_reviews']), axis=1)\n",
    "df.head()"
   ]
  },
  {
   "cell_type": "code",
   "execution_count": 24,
   "metadata": {},
   "outputs": [],
   "source": [
    "import gensim\n",
    "import gensim.corpora as corpora\n",
    "from gensim.utils import simple_preprocess\n",
    "from gensim.models import CoherenceModel\n",
    "import matplotlib.pyplot as plt"
   ]
  },
  {
   "cell_type": "code",
   "execution_count": 25,
   "metadata": {},
   "outputs": [],
   "source": [
    "# create id2word\n",
    "id2word = corpora.Dictionary(df['tokens'])\n",
    "\n",
    "# Create Corpus\n",
    "texts = df['tokens']\n",
    "\n",
    "# Creat Term Document Frequency\n",
    "corpus = [id2word.doc2bow(text) for text in texts]\n"
   ]
  },
  {
   "cell_type": "code",
   "execution_count": 26,
   "metadata": {},
   "outputs": [],
   "source": [
    "# not really ldamallet - stole my old code and not going to edit since this is just playing\n",
    "# it is just a variable name here though, so does not matter! (ldamallet requires an install, but can often give\n",
    "# better results... Google it)\n",
    "ldamallet = gensim.models.ldamodel.LdaModel(corpus=corpus, num_topics=2, id2word=id2word, iterations=100)"
   ]
  },
  {
   "cell_type": "code",
   "execution_count": 27,
   "metadata": {
    "scrolled": true
   },
   "outputs": [
    {
     "name": "stdout",
     "output_type": "stream",
     "text": [
      "\n",
      "Coherence Score:  0.4690125368782961\n"
     ]
    }
   ],
   "source": [
    "# Showing coherence score\n",
    "\n",
    "coherence_model_ldamallet = CoherenceModel(model=ldamallet, texts=texts, dictionary=id2word, coherence='c_v')\n",
    "coherence_ldamallet = coherence_model_ldamallet.get_coherence()\n",
    "print('\\nCoherence Score: ', coherence_ldamallet)"
   ]
  },
  {
   "cell_type": "code",
   "execution_count": 28,
   "metadata": {},
   "outputs": [],
   "source": [
    "pp = pprint.PrettyPrinter(indent=4)"
   ]
  },
  {
   "cell_type": "code",
   "execution_count": 29,
   "metadata": {},
   "outputs": [
    {
     "name": "stdout",
     "output_type": "stream",
     "text": [
      "[   (   0,\n",
      "        [   ('edu', 0.010440069),\n",
      "            ('god', 0.008846677),\n",
      "            ('would', 0.0060142907),\n",
      "            ('subject', 0.005099839),\n",
      "            ('one', 0.0050492785),\n",
      "            ('line', 0.004963782),\n",
      "            ('organization', 0.0048833634),\n",
      "            ('game', 0.00397929),\n",
      "            ('team', 0.0039424677),\n",
      "            ('writes', 0.0038885064)]),\n",
      "    (   1,\n",
      "        [   ('edu', 0.0077830525),\n",
      "            ('line', 0.0065001077),\n",
      "            ('subject', 0.0059588407),\n",
      "            ('one', 0.005109313),\n",
      "            ('organization', 0.005075315),\n",
      "            ('god', 0.0043437732),\n",
      "            ('would', 0.004334297),\n",
      "            ('team', 0.0041916883),\n",
      "            ('game', 0.0041573485),\n",
      "            ('people', 0.0037806057)])]\n"
     ]
    }
   ],
   "source": [
    "pp.pprint(ldamallet.show_topics(formatted=False))"
   ]
  },
  {
   "cell_type": "code",
   "execution_count": 30,
   "metadata": {
    "scrolled": true
   },
   "outputs": [
    {
     "data": {
      "image/png": "[encoded data removed]",
      "text/plain": [
       "<Figure size 432x288 with 1 Axes>"
      ]
     },
     "metadata": {
      "needs_background": "light"
     },
     "output_type": "display_data"
    }
   ],
   "source": [
    "def compute_coherence_values(dictionary, corpus, texts, limit, start=2, step=4):\n",
    "    '''\n",
    "    Compute coherence for given number of topics\n",
    "\n",
    "    Parameters:\n",
    "    \n",
    "        dictionary : Gensim dictionary\n",
    "        corpus : Gensim corpus\n",
    "        texts : List of input texts\n",
    "        start: minimum number of topics\n",
    "        limit : Max num of topics\n",
    "        step: step between topic numbers\n",
    "\n",
    "    Returns:\n",
    "    \n",
    "        model_list : List of LDA topic models\n",
    "        coherence_values : Coherence values corresponding to the LDA model with respective number of topics\n",
    "    '''\n",
    "    coherence_values = []\n",
    "    model_list = []\n",
    "    for num_topics in range(start, limit, step):\n",
    "        model = gensim.models.ldamodel.LdaModel(corpus=corpus, num_topics=num_topics, id2word=id2word, alpha=.91)\n",
    "        model_list.append(model)\n",
    "        coherencemodel = CoherenceModel(model=model, texts=texts, dictionary=dictionary, coherence='c_v')\n",
    "        coherence_values.append(coherencemodel.get_coherence())\n",
    "\n",
    "    return model_list, coherence_values\n",
    "\n",
    "\n",
    "# Running the above function. Can take a long time to run!\n",
    "model_list, coherence_values = compute_coherence_values(dictionary=id2word, corpus=corpus, texts=texts, start=4, limit=16, step=2)\n",
    "\n",
    "\n",
    "# Show graph of LDA coherence scores\n",
    "# ATTEN: parameters here have to match those of you function to display properly!\n",
    "limit = 16\n",
    "start = 4\n",
    "step = 2\n",
    "x = range(start, limit, step)\n",
    "plt.plot(x, coherence_values)\n",
    "plt.xlabel(\"Num Topics\")\n",
    "plt.ylabel(\"Coherence score\")\n",
    "plt.legend((\"coherence_values\"), loc='best')\n",
    "plt.show()"
   ]
  },
  {
   "cell_type": "code",
   "execution_count": 31,
   "metadata": {},
   "outputs": [
    {
     "name": "stdout",
     "output_type": "stream",
     "text": [
      "[   (   0,\n",
      "        '0.008*\"edu\" + 0.007*\"god\" + 0.006*\"subject\" + 0.006*\"one\" + '\n",
      "        '0.005*\"line\" + 0.005*\"would\" + 0.004*\"ca\" + 0.004*\"christian\" + '\n",
      "        '0.004*\"people\" + 0.004*\"organization\"'),\n",
      "    (   1,\n",
      "        '0.010*\"edu\" + 0.007*\"subject\" + 0.006*\"line\" + 0.006*\"god\" + '\n",
      "        '0.006*\"organization\" + 0.005*\"would\" + 0.004*\"writes\" + 0.004*\"one\" + '\n",
      "        '0.004*\"people\" + 0.003*\"com\"'),\n",
      "    (   2,\n",
      "        '0.009*\"edu\" + 0.006*\"team\" + 0.006*\"organization\" + 0.006*\"god\" + '\n",
      "        '0.005*\"line\" + 0.005*\"subject\" + 0.004*\"time\" + 0.004*\"would\" + '\n",
      "        '0.004*\"one\" + 0.004*\"v\"'),\n",
      "    (   3,\n",
      "        '0.009*\"edu\" + 0.007*\"subject\" + 0.007*\"line\" + 0.006*\"game\" + '\n",
      "        '0.006*\"would\" + 0.006*\"team\" + 0.006*\"one\" + 0.005*\"organization\" + '\n",
      "        '0.005*\"god\" + 0.004*\"think\"'),\n",
      "    (   4,\n",
      "        '0.011*\"edu\" + 0.006*\"line\" + 0.006*\"one\" + 0.006*\"would\" + '\n",
      "        '0.005*\"subject\" + 0.004*\"game\" + 0.004*\"organization\" + 0.004*\"com\" + '\n",
      "        '0.004*\"know\" + 0.004*\"writes\"'),\n",
      "    (   5,\n",
      "        '0.012*\"god\" + 0.007*\"edu\" + 0.006*\"would\" + 0.005*\"one\" + '\n",
      "        '0.005*\"christian\" + 0.005*\"line\" + 0.005*\"organization\" + '\n",
      "        '0.005*\"subject\" + 0.004*\"know\" + 0.004*\"think\"')]\n"
     ]
    }
   ],
   "source": [
    "# choose best model and enter index into model_list[] (note: remember they are zero indexed!)\n",
    "optimal_model = model_list[1]\n",
    "model_topics = optimal_model.show_topics(formatted=False)\n",
    "pp.pprint(optimal_model.print_topics(num_words=10))"
   ]
  },
  {
   "cell_type": "code",
   "execution_count": 32,
   "metadata": {},
   "outputs": [
    {
     "name": "stdout",
     "output_type": "stream",
     "text": [
      "Requirement already satisfied: pyLDAvis in /home/jesselehrke/.pyenv/versions/3.7.7/envs/lewagon/lib/python3.7/site-packages (2.1.2)\n",
      "Requirement already satisfied: wheel>=0.23.0 in /home/jesselehrke/.pyenv/versions/3.7.7/envs/lewagon/lib/python3.7/site-packages (from pyLDAvis) (0.34.2)\n",
      "Requirement already satisfied: numpy>=1.9.2 in /home/jesselehrke/.pyenv/versions/3.7.7/envs/lewagon/lib/python3.7/site-packages (from pyLDAvis) (1.18.4)\n",
      "Requirement already satisfied: scipy>=0.18.0 in /home/jesselehrke/.pyenv/versions/3.7.7/envs/lewagon/lib/python3.7/site-packages (from pyLDAvis) (1.2.2)\n",
      "Requirement already satisfied: pandas>=0.17.0 in /home/jesselehrke/.pyenv/versions/3.7.7/envs/lewagon/lib/python3.7/site-packages (from pyLDAvis) (0.24.2)\n",
      "Requirement already satisfied: joblib>=0.8.4 in /home/jesselehrke/.pyenv/versions/3.7.7/envs/lewagon/lib/python3.7/site-packages (from pyLDAvis) (0.14.1)\n",
      "Requirement already satisfied: jinja2>=2.7.2 in /home/jesselehrke/.pyenv/versions/3.7.7/envs/lewagon/lib/python3.7/site-packages (from pyLDAvis) (2.11.2)\n",
      "Requirement already satisfied: numexpr in /home/jesselehrke/.pyenv/versions/3.7.7/envs/lewagon/lib/python3.7/site-packages (from pyLDAvis) (2.7.1)\n",
      "Requirement already satisfied: pytest in /home/jesselehrke/.pyenv/versions/3.7.7/envs/lewagon/lib/python3.7/site-packages (from pyLDAvis) (5.3.5)\n",
      "Requirement already satisfied: future in /home/jesselehrke/.pyenv/versions/3.7.7/envs/lewagon/lib/python3.7/site-packages (from pyLDAvis) (0.18.2)\n",
      "Requirement already satisfied: funcy in /home/jesselehrke/.pyenv/versions/3.7.7/envs/lewagon/lib/python3.7/site-packages (from pyLDAvis) (1.14)\n",
      "Requirement already satisfied: python-dateutil>=2.5.0 in /home/jesselehrke/.pyenv/versions/3.7.7/envs/lewagon/lib/python3.7/site-packages (from pandas>=0.17.0->pyLDAvis) (2.8.1)\n",
      "Requirement already satisfied: pytz>=2011k in /home/jesselehrke/.pyenv/versions/3.7.7/envs/lewagon/lib/python3.7/site-packages (from pandas>=0.17.0->pyLDAvis) (2020.1)\n",
      "Requirement already satisfied: MarkupSafe>=0.23 in /home/jesselehrke/.pyenv/versions/3.7.7/envs/lewagon/lib/python3.7/site-packages (from jinja2>=2.7.2->pyLDAvis) (1.1.1)\n",
      "Requirement already satisfied: attrs>=17.4.0 in /home/jesselehrke/.pyenv/versions/3.7.7/envs/lewagon/lib/python3.7/site-packages (from pytest->pyLDAvis) (20.1.0)\n",
      "Requirement already satisfied: more-itertools>=4.0.0 in /home/jesselehrke/.pyenv/versions/3.7.7/envs/lewagon/lib/python3.7/site-packages (from pytest->pyLDAvis) (8.4.0)\n",
      "Requirement already satisfied: py>=1.5.0 in /home/jesselehrke/.pyenv/versions/3.7.7/envs/lewagon/lib/python3.7/site-packages (from pytest->pyLDAvis) (1.9.0)\n",
      "Requirement already satisfied: pluggy<1.0,>=0.12 in /home/jesselehrke/.pyenv/versions/3.7.7/envs/lewagon/lib/python3.7/site-packages (from pytest->pyLDAvis) (0.13.1)\n",
      "Requirement already satisfied: wcwidth in /home/jesselehrke/.pyenv/versions/3.7.7/envs/lewagon/lib/python3.7/site-packages (from pytest->pyLDAvis) (0.2.5)\n",
      "Requirement already satisfied: importlib-metadata>=0.12; python_version < \"3.8\" in /home/jesselehrke/.pyenv/versions/3.7.7/envs/lewagon/lib/python3.7/site-packages (from pytest->pyLDAvis) (1.7.0)\n",
      "Requirement already satisfied: packaging in /home/jesselehrke/.pyenv/versions/3.7.7/envs/lewagon/lib/python3.7/site-packages (from pytest->pyLDAvis) (20.4)\n",
      "Requirement already satisfied: six>=1.5 in /home/jesselehrke/.pyenv/versions/3.7.7/envs/lewagon/lib/python3.7/site-packages (from python-dateutil>=2.5.0->pandas>=0.17.0->pyLDAvis) (1.15.0)\n",
      "Requirement already satisfied: zipp>=0.5 in /home/jesselehrke/.pyenv/versions/3.7.7/envs/lewagon/lib/python3.7/site-packages (from importlib-metadata>=0.12; python_version < \"3.8\"->pytest->pyLDAvis) (3.1.0)\n",
      "Requirement already satisfied: pyparsing>=2.0.2 in /home/jesselehrke/.pyenv/versions/3.7.7/envs/lewagon/lib/python3.7/site-packages (from packaging->pytest->pyLDAvis) (2.4.7)\n",
      "\u001b[33mWARNING: You are using pip version 20.2.2; however, version 20.2.4 is available.\n",
      "You should consider upgrading via the '/home/jesselehrke/.pyenv/versions/3.7.7/envs/lewagon/bin/python3.7 -m pip install --upgrade pip' command.\u001b[0m\n"
     ]
    }
   ],
   "source": [
    "# install this\n",
    "! pip install pyLDAvis"
   ]
  },
  {
   "cell_type": "code",
   "execution_count": 33,
   "metadata": {},
   "outputs": [],
   "source": [
    "# import it\n",
    "import pyLDAvis\n",
    "import pyLDAvis.gensim"
   ]
  },
  {
   "cell_type": "code",
   "execution_count": 34,
   "metadata": {},
   "outputs": [
    {
     "name": "stderr",
     "output_type": "stream",
     "text": [
      "/home/jesselehrke/.pyenv/versions/3.7.7/envs/lewagon/lib/python3.7/site-packages/ipykernel/ipkernel.py:287: DeprecationWarning: `should_run_async` will not call `transform_cell` automatically in the future. Please pass the result to `transformed_cell` argument and any exception that happen during thetransform in `preprocessing_exc_tuple` in IPython 7.17 and above.\n",
      "  and should_run_async(code)\n",
      "/home/jesselehrke/.pyenv/versions/3.7.7/envs/lewagon/lib/python3.7/site-packages/pyLDAvis/_prepare.py:257: FutureWarning: Sorting because non-concatenation axis is not aligned. A future version\n",
      "of pandas will change to not sort by default.\n",
      "\n",
      "To accept the future behavior, pass 'sort=False'.\n",
      "\n",
      "To retain the current behavior and silence the warning, pass 'sort=True'.\n",
      "\n",
      "  return pd.concat([default_term_info] + list(topic_dfs))\n"
     ]
    },
    {
     "data": {
      "text/html": [
       "\n",
       "<link rel=\"stylesheet\" type=\"text/css\" href=\"https://cdn.rawgit.com/bmabey/pyLDAvis/files/ldavis.v1.0.0.css\">\n",
       "\n",
       "\n",
       "<div id=\"ldavis_el98691403416291097128107961815\"></div>\n",
       "<script type=\"text/javascript\">\n",
       "\n",
       "var ldavis_el98691403416291097128107961815_data = {\"mdsDat\": {\"x\": [-0.005919750837687767, 0.013797818868572459, -0.009332017698404088, -0.0032137127712950995, 0.0032961733170471363, 0.0013714891217673428], \"y\": [0.00858767509951303, 0.004094964905394108, 0.002264966211422847, -0.008076551552489663, -0.0005508033737193374, -0.0063202512901210095], \"topics\": [1, 2, 3, 4, 5, 6], \"cluster\": [1, 1, 1, 1, 1, 1], \"Freq\": [28.634851455688477, 24.65570068359375, 19.359033584594727, 10.843017578125, 8.820708274841309, 7.686685085296631]}, \"tinfo\": {\"Category\": [\"Default\", \"Default\", \"Default\", \"Default\", \"Default\", \"Default\", \"Default\", \"Default\", \"Default\", \"Default\", \"Default\", \"Default\", \"Default\", \"Default\", \"Default\", \"Default\", \"Default\", \"Default\", \"Default\", \"Default\", \"Default\", \"Default\", \"Default\", \"Default\", \"Default\", \"Default\", \"Default\", \"Default\", \"Default\", \"Default\", \"Topic1\", \"Topic1\", \"Topic1\", \"Topic1\", \"Topic1\", \"Topic1\", \"Topic1\", \"Topic1\", \"Topic1\", \"Topic1\", \"Topic1\", \"Topic1\", \"Topic1\", \"Topic1\", \"Topic1\", \"Topic1\", \"Topic1\", \"Topic1\", \"Topic1\", \"Topic1\", \"Topic1\", \"Topic1\", \"Topic1\", \"Topic1\", \"Topic1\", \"Topic1\", \"Topic1\", \"Topic1\", \"Topic1\", \"Topic1\", \"Topic1\", \"Topic1\", \"Topic1\", \"Topic1\", \"Topic1\", \"Topic1\", \"Topic1\", \"Topic1\", \"Topic1\", \"Topic1\", \"Topic1\", \"Topic1\", \"Topic1\", \"Topic1\", \"Topic1\", \"Topic1\", \"Topic1\", \"Topic1\", \"Topic1\", \"Topic1\", \"Topic1\", \"Topic1\", \"Topic1\", \"Topic1\", \"Topic1\", \"Topic1\", \"Topic1\", \"Topic1\", \"Topic1\", \"Topic1\", \"Topic1\", \"Topic1\", \"Topic1\", \"Topic1\", \"Topic1\", \"Topic1\", \"Topic1\", \"Topic1\", \"Topic1\", \"Topic1\", \"Topic1\", \"Topic1\", \"Topic1\", \"Topic1\", \"Topic1\", \"Topic1\", \"Topic1\", \"Topic1\", \"Topic1\", \"Topic1\", \"Topic1\", \"Topic1\", \"Topic2\", \"Topic2\", \"Topic2\", \"Topic2\", \"Topic2\", \"Topic2\", \"Topic2\", \"Topic2\", \"Topic2\", \"Topic2\", \"Topic2\", \"Topic2\", \"Topic2\", \"Topic2\", \"Topic2\", \"Topic2\", \"Topic2\", \"Topic2\", \"Topic2\", \"Topic2\", \"Topic2\", \"Topic2\", \"Topic2\", \"Topic2\", \"Topic2\", \"Topic2\", \"Topic2\", \"Topic2\", \"Topic2\", \"Topic2\", \"Topic2\", \"Topic2\", \"Topic2\", \"Topic2\", \"Topic2\", \"Topic2\", \"Topic2\", \"Topic2\", \"Topic2\", \"Topic2\", \"Topic2\", \"Topic2\", \"Topic2\", \"Topic2\", \"Topic2\", \"Topic2\", \"Topic2\", \"Topic2\", \"Topic2\", \"Topic2\", \"Topic2\", \"Topic2\", \"Topic2\", \"Topic2\", \"Topic2\", \"Topic2\", \"Topic2\", \"Topic2\", \"Topic2\", \"Topic2\", \"Topic2\", \"Topic2\", \"Topic2\", \"Topic2\", \"Topic2\", \"Topic2\", \"Topic2\", \"Topic2\", \"Topic2\", \"Topic2\", \"Topic2\", \"Topic2\", \"Topic2\", \"Topic2\", \"Topic2\", \"Topic2\", \"Topic2\", \"Topic2\", \"Topic2\", \"Topic2\", \"Topic2\", \"Topic2\", \"Topic2\", \"Topic2\", \"Topic2\", \"Topic3\", \"Topic3\", \"Topic3\", \"Topic3\", \"Topic3\", \"Topic3\", \"Topic3\", \"Topic3\", \"Topic3\", \"Topic3\", \"Topic3\", \"Topic3\", \"Topic3\", \"Topic3\", \"Topic3\", \"Topic3\", \"Topic3\", \"Topic3\", \"Topic3\", \"Topic3\", \"Topic3\", \"Topic3\", \"Topic3\", \"Topic3\", \"Topic3\", \"Topic3\", \"Topic3\", \"Topic3\", \"Topic3\", \"Topic3\", \"Topic3\", \"Topic3\", \"Topic3\", \"Topic3\", \"Topic3\", \"Topic3\", \"Topic3\", \"Topic3\", \"Topic3\", \"Topic3\", \"Topic3\", \"Topic3\", \"Topic3\", \"Topic3\", \"Topic3\", \"Topic3\", \"Topic3\", \"Topic3\", \"Topic3\", \"Topic3\", \"Topic3\", \"Topic3\", \"Topic3\", \"Topic3\", \"Topic3\", \"Topic3\", \"Topic3\", \"Topic3\", \"Topic3\", \"Topic3\", \"Topic3\", \"Topic3\", \"Topic3\", \"Topic3\", \"Topic3\", \"Topic3\", \"Topic3\", \"Topic3\", \"Topic3\", \"Topic3\", \"Topic3\", \"Topic3\", \"Topic3\", \"Topic3\", \"Topic3\", \"Topic3\", \"Topic3\", \"Topic3\", \"Topic4\", \"Topic4\", \"Topic4\", \"Topic4\", \"Topic4\", \"Topic4\", \"Topic4\", \"Topic4\", \"Topic4\", \"Topic4\", \"Topic4\", \"Topic4\", \"Topic4\", \"Topic4\", \"Topic4\", \"Topic4\", \"Topic4\", \"Topic4\", \"Topic4\", \"Topic4\", \"Topic4\", \"Topic4\", \"Topic4\", \"Topic4\", \"Topic4\", \"Topic4\", \"Topic4\", \"Topic4\", \"Topic4\", \"Topic4\", \"Topic4\", \"Topic4\", \"Topic4\", \"Topic4\", \"Topic4\", \"Topic4\", \"Topic4\", \"Topic4\", \"Topic4\", \"Topic4\", \"Topic4\", \"Topic4\", \"Topic4\", \"Topic4\", \"Topic4\", \"Topic4\", \"Topic4\", \"Topic4\", \"Topic4\", \"Topic4\", \"Topic4\", \"Topic4\", \"Topic4\", \"Topic4\", \"Topic4\", \"Topic4\", \"Topic4\", \"Topic4\", \"Topic4\", \"Topic4\", \"Topic4\", \"Topic4\", \"Topic4\", \"Topic4\", \"Topic4\", \"Topic4\", \"Topic4\", \"Topic4\", \"Topic4\", \"Topic4\", \"Topic4\", \"Topic4\", \"Topic4\", \"Topic4\", \"Topic4\", \"Topic4\", \"Topic4\", \"Topic4\", \"Topic4\", \"Topic4\", \"Topic4\", \"Topic4\", \"Topic4\", \"Topic5\", \"Topic5\", \"Topic5\", \"Topic5\", \"Topic5\", \"Topic5\", \"Topic5\", \"Topic5\", \"Topic5\", \"Topic5\", \"Topic5\", \"Topic5\", \"Topic5\", \"Topic5\", \"Topic5\", \"Topic5\", \"Topic5\", \"Topic5\", \"Topic5\", \"Topic5\", \"Topic5\", \"Topic5\", \"Topic5\", \"Topic5\", \"Topic5\", \"Topic5\", \"Topic5\", \"Topic5\", \"Topic5\", \"Topic5\", \"Topic5\", \"Topic5\", \"Topic5\", \"Topic5\", \"Topic5\", \"Topic5\", \"Topic5\", \"Topic5\", \"Topic5\", \"Topic5\", \"Topic5\", \"Topic5\", \"Topic5\", \"Topic5\", \"Topic5\", \"Topic5\", \"Topic5\", \"Topic5\", \"Topic5\", \"Topic5\", \"Topic5\", \"Topic5\", \"Topic5\", \"Topic5\", \"Topic5\", \"Topic5\", \"Topic5\", \"Topic5\", \"Topic5\", \"Topic5\", \"Topic5\", \"Topic5\", \"Topic5\", \"Topic5\", \"Topic5\", \"Topic5\", \"Topic5\", \"Topic5\", \"Topic5\", \"Topic5\", \"Topic5\", \"Topic5\", \"Topic5\", \"Topic5\", \"Topic5\", \"Topic5\", \"Topic5\", \"Topic5\", \"Topic5\", \"Topic5\", \"Topic5\", \"Topic5\", \"Topic5\", \"Topic5\", \"Topic5\", \"Topic5\", \"Topic5\", \"Topic5\", \"Topic6\", \"Topic6\", \"Topic6\", \"Topic6\", \"Topic6\", \"Topic6\", \"Topic6\", \"Topic6\", \"Topic6\", \"Topic6\", \"Topic6\", \"Topic6\", \"Topic6\", \"Topic6\", \"Topic6\", \"Topic6\", \"Topic6\", \"Topic6\", \"Topic6\", \"Topic6\", \"Topic6\", \"Topic6\", \"Topic6\", \"Topic6\", \"Topic6\", \"Topic6\", \"Topic6\", \"Topic6\", \"Topic6\", \"Topic6\", \"Topic6\", \"Topic6\", \"Topic6\", \"Topic6\", \"Topic6\", \"Topic6\", \"Topic6\", \"Topic6\", \"Topic6\", \"Topic6\", \"Topic6\", \"Topic6\", \"Topic6\", \"Topic6\", \"Topic6\", \"Topic6\", \"Topic6\", \"Topic6\", \"Topic6\", \"Topic6\", \"Topic6\", \"Topic6\", \"Topic6\", \"Topic6\", \"Topic6\", \"Topic6\", \"Topic6\", \"Topic6\", \"Topic6\", \"Topic6\", \"Topic6\", \"Topic6\", \"Topic6\", \"Topic6\", \"Topic6\", \"Topic6\", \"Topic6\", \"Topic6\", \"Topic6\", \"Topic6\", \"Topic6\", \"Topic6\", \"Topic6\", \"Topic6\", \"Topic6\", \"Topic6\", \"Topic6\", \"Topic6\", \"Topic6\", \"Topic6\"], \"Freq\": [1911.0, 1542.0, 1177.0, 1227.0, 1094.0, 540.0, 1125.0, 682.0, 1090.0, 735.0, 436.0, 644.0, 881.0, 442.0, 580.0, 303.0, 759.0, 794.0, 590.0, 893.0, 458.0, 688.0, 598.0, 627.0, 614.0, 577.0, 567.0, 639.0, 423.0, 474.0, 12.345977783203125, 8.697717666625977, 2.3892340660095215, 1.8351489305496216, 2.90932035446167, 11.370481491088867, 242.89476013183594, 3.296191453933716, 1.6139863729476929, 3.6760401725769043, 1.5522236824035645, 1.0473541021347046, 59.327232360839844, 6.1424994468688965, 3.419304132461548, 1.0173734426498413, 1.0098927021026611, 2.026390314102173, 20.556087493896484, 39.39916229248047, 1.482046365737915, 5.388637065887451, 0.9701800346374512, 3.4423797130584717, 2.440303325653076, 26.869686126708984, 1.422301173210144, 2.889209032058716, 6.788886547088623, 1.423161506652832, 17.807716369628906, 62.87015151977539, 30.20857810974121, 24.767980575561523, 17.031169891357422, 25.093732833862305, 19.021947860717773, 166.5518341064453, 97.34761810302734, 47.87879180908203, 26.505146026611328, 360.56964111328125, 78.48905181884766, 105.14849853515625, 271.86163330078125, 20.646400451660156, 47.7464485168457, 183.34690856933594, 90.99827575683594, 56.55329895019531, 140.78610229492188, 114.26956939697266, 237.00645446777344, 140.62982177734375, 99.91149139404297, 349.75665283203125, 204.27272033691406, 121.61039733886719, 544.6289672851562, 193.7589569091797, 166.77789306640625, 154.21615600585938, 200.0773162841797, 236.78211975097656, 228.86216735839844, 342.17193603515625, 130.83230590820312, 187.7817840576172, 146.41403198242188, 190.5266876220703, 298.4266662597656, 242.10556030273438, 175.73841857910156, 343.9185485839844, 198.14585876464844, 267.6255187988281, 216.80735778808594, 211.9852294921875, 269.7666015625, 150.29080200195312, 158.83990478515625, 153.2744140625, 12.448179244995117, 2.4564380645751953, 1.2051818370819092, 1.1965237855911255, 1.1917718648910522, 1.7531886100769043, 1.1774065494537354, 1.7137166261672974, 1.7961069345474243, 1.7085928916931152, 1.140034556388855, 1.0919740200042725, 1.078981637954712, 1.0712964534759521, 3.7651844024658203, 1.0617133378982544, 1.0873830318450928, 27.388916015625, 18.727888107299805, 1.0406086444854736, 1.620327353477478, 2.610339403152466, 1.0203272104263306, 1.613126277923584, 2.080155849456787, 5.657949924468994, 1.5398584604263306, 1.5863008499145508, 1.0567233562469482, 1.0344288349151611, 70.42821502685547, 7.3629255294799805, 661.0169677734375, 13.898096084594727, 27.873620986938477, 9.9402437210083, 22.55709457397461, 108.00757598876953, 28.880769729614258, 15.209185600280762, 168.2980194091797, 72.19828796386719, 32.71231460571289, 40.415565490722656, 232.3796844482422, 92.04523468017578, 80.6555404663086, 42.687808990478516, 57.626922607421875, 265.1424865722656, 114.29642486572266, 128.9175262451172, 29.79496955871582, 90.38876342773438, 203.54331970214844, 142.4694366455078, 48.11935806274414, 78.23729705810547, 36.216766357421875, 225.17156982421875, 69.12845611572266, 299.6349182128906, 164.58518981933594, 166.61239624023438, 169.42327880859375, 266.6927490234375, 198.55709838867188, 401.5357666015625, 90.2591781616211, 130.1964111328125, 167.0027313232422, 111.68556213378906, 247.80313110351562, 258.7091369628906, 246.90829467773438, 106.08214569091797, 141.21372985839844, 161.90794372558594, 157.8433837890625, 119.6775894165039, 150.4310302734375, 132.89743041992188, 158.38577270507812, 123.14521026611328, 125.02699279785156, 1.973931908607483, 2.446692705154419, 3.867163896560669, 2.77626371383667, 1.3046135902404785, 8.250672340393066, 2.086181879043579, 4.5248332023620605, 2.501816749572754, 2.040303945541382, 1.2120634317398071, 1.179830551147461, 0.7893766164779663, 6.489103317260742, 6.49866247177124, 0.7814433574676514, 2.738286256790161, 1.5377951860427856, 3.065073251724243, 1.5697237253189087, 0.7635705471038818, 1.147782802581787, 5.213338375091553, 1.4685323238372803, 36.50894546508789, 2.551389217376709, 0.7318969964981079, 0.7306599617004395, 0.7296023368835449, 0.7351922392845154, 5.117124557495117, 3.678586959838867, 2.1914780139923096, 53.73087692260742, 3.4917001724243164, 16.45084571838379, 4.477087497711182, 273.7560729980469, 4.6800618171691895, 16.539546966552734, 50.343509674072266, 99.41215515136719, 251.30360412597656, 11.2371244430542, 138.47018432617188, 303.00494384765625, 38.87564468383789, 119.91730499267578, 155.72280883789062, 120.35684967041016, 130.47940063476562, 258.00579833984375, 114.23213195800781, 69.39965057373047, 274.1024169921875, 246.84510803222656, 108.79492950439453, 70.63275146484375, 374.91448974609375, 68.17047119140625, 226.52975463867188, 169.67759704589844, 79.56842041015625, 35.75066375732422, 109.72108459472656, 110.08199310302734, 93.30125427246094, 143.6271209716797, 141.95770263671875, 128.27737426757812, 146.42233276367188, 124.36795043945312, 206.14041137695312, 131.18263244628906, 92.3170166015625, 113.69264221191406, 101.74381256103516, 100.91917419433594, 2.2032272815704346, 2.0713937282562256, 1.4457489252090454, 1.7961149215698242, 1.6121020317077637, 5.513093948364258, 5.530872821807861, 0.5398341417312622, 1.3115487098693848, 2.2770493030548096, 5.841235160827637, 0.7677589058876038, 1.2690918445587158, 0.5091351866722107, 0.9403970837593079, 0.9999361038208008, 7.375107765197754, 0.5022069215774536, 0.7514327168464661, 0.731386125087738, 0.7413553595542908, 0.7275034785270691, 1.7799880504608154, 0.7589210271835327, 0.49278491735458374, 3.4526402950286865, 3.9614057540893555, 0.4881111681461334, 5.352120399475098, 0.48225173354148865, 5.9993157386779785, 10.052203178405762, 4.2289581298828125, 5.928284168243408, 46.768798828125, 8.939396858215332, 2.097702980041504, 6.087480545043945, 28.773866653442383, 2.0810225009918213, 97.8459701538086, 45.81181335449219, 61.34418487548828, 13.90320873260498, 6.7001142501831055, 75.36306762695312, 23.12645149230957, 34.38197708129883, 262.94970703125, 96.91441345214844, 49.73678207397461, 14.21634292602539, 132.50033569335938, 140.9543914794922, 131.42611694335938, 76.89193725585938, 47.52373123168945, 53.73072052001953, 90.1219482421875, 103.39382934570312, 81.82737731933594, 38.59283447265625, 58.53395462036133, 20.745304107666016, 30.1475887298584, 54.57950973510742, 76.9793930053711, 39.24188995361328, 109.02223205566406, 57.24978256225586, 98.15740966796875, 63.68381118774414, 80.65760040283203, 61.42726135253906, 63.23748016357422, 71.34729766845703, 59.87723159790039, 54.084716796875, 62.99915313720703, 87.55899810791016, 64.9644775390625, 56.72037887573242, 57.00925064086914, 4.717976093292236, 1.237847924232483, 7.431499004364014, 0.6783755421638489, 0.6504594087600708, 4.7790045738220215, 0.6311011910438538, 0.628727376461029, 7.40623664855957, 0.6254948973655701, 0.6269182562828064, 0.626906156539917, 0.61632239818573, 0.6163297891616821, 0.6123713254928589, 0.8066974878311157, 0.5999664068222046, 0.5880333185195923, 0.585085391998291, 0.39199984073638916, 4.3383893966674805, 0.3902531862258911, 2.0857818126678467, 0.6081129312515259, 1.9174506664276123, 0.5611386895179749, 0.5719281435012817, 0.7656168341636658, 0.560221791267395, 0.763853132724762, 1.2532055377960205, 1.8262726068496704, 1.2982470989227295, 2.6661059856414795, 6.074923038482666, 11.444097518920898, 1.3324522972106934, 3.712246894836426, 65.62930297851562, 10.764092445373535, 13.045778274536133, 10.476727485656738, 28.072166442871094, 16.2249755859375, 45.14908981323242, 3.4005510807037354, 81.08367919921875, 32.81326675415039, 13.128157615661621, 65.20745086669922, 6.824247360229492, 6.526196002960205, 4.064986228942871, 36.36354064941406, 108.89352416992188, 18.654104232788086, 141.86061096191406, 66.63123321533203, 109.39833068847656, 19.28142738342285, 77.57730102539062, 74.53520202636719, 152.7366180419922, 57.57081985473633, 47.65633773803711, 104.38219451904297, 58.98809051513672, 44.02339553833008, 28.552703857421875, 87.98644256591797, 51.41769790649414, 61.23484802246094, 44.90071487426758, 52.43607711791992, 54.35113525390625, 27.216297149658203, 29.345455169677734, 43.767486572265625, 41.500526428222656, 51.21445846557617, 61.76382827758789, 69.85612487792969, 48.29401779174805, 43.66069412231445, 51.22084426879883, 47.825809478759766, 44.36585235595703, 44.054508209228516, 2.6015093326568604, 1.453582763671875, 0.9448450207710266, 0.9319121241569519, 1.356914758682251, 0.8973944187164307, 0.44290897250175476, 0.8899476528167725, 0.8764227628707886, 1.1130203008651733, 0.8431466221809387, 0.43050649762153625, 0.4307228624820709, 0.6263269782066345, 0.6019679307937622, 0.40728527307510376, 0.40694862604141235, 0.8151962757110596, 1.8302546739578247, 0.40986141562461853, 1.5891094207763672, 0.39421090483665466, 0.3984844982624054, 1.3935730457305908, 1.713258147239685, 0.3770388066768646, 0.7825456857681274, 0.3778018057346344, 2.924158811569214, 0.9285969734191895, 1.3107779026031494, 2.7984251976013184, 7.468115329742432, 2.778463363647461, 50.24364471435547, 14.38915729522705, 13.141706466674805, 1.78180992603302, 29.161090850830078, 1.9203499555587769, 24.525489807128906, 175.07212829589844, 12.956220626831055, 12.89144515991211, 75.1685562133789, 48.58564758300781, 110.73728942871094, 20.469789505004883, 98.39104461669922, 107.4715805053711, 54.58724594116211, 29.682552337646484, 21.008996963500977, 9.241754531860352, 53.355438232421875, 17.71735954284668, 16.78164291381836, 40.12539291381836, 61.87089920043945, 41.76593017578125, 50.56932067871094, 101.57589721679688, 35.01504135131836, 78.8931655883789, 50.791744232177734, 46.80064010620117, 72.16155242919922, 40.17675018310547, 36.4656982421875, 44.663665771484375, 45.03045654296875, 47.52470397949219, 50.81010818481445, 46.48402786254883, 50.3181037902832, 42.0275764465332, 40.11751174926758, 39.81304168701172, 41.95475387573242, 41.0640754699707], \"Term\": [\"edu\", \"god\", \"subject\", \"line\", \"one\", \"com\", \"would\", \"ca\", \"organization\", \"writes\", \"get\", \"know\", \"game\", \"church\", \"jesus\", \"pt\", \"people\", \"christian\", \"hockey\", \"team\", \"see\", \"university\", \"go\", \"article\", \"like\", \"year\", \"u\", \"say\", \"point\", \"player\", \"darling\", \"cellar\", \"facthq\", \"ctr\", \"genie\", \"wash\", \"v\", \"lmcdapi\", \"cwxnf\", \"yl\", \"constellation\", \"startide\", \"guy\", \"melrose\", \"fau\", \"accompany\", \"lemer\", \"defenceman\", \"ceremonial\", \"pitt\", \"piche\", \"skipjack\", \"demolish\", \"slawren\", \"lmc\", \"clarkson\", \"ppdccinnbe\", \"cbnewsm\", \"consistently\", \"backbo\", \"sm\", \"chi\", \"soderstrom\", \"moncton\", \"springfield\", \"ericsson\", \"baltimore\", \"season\", \"division\", \"mon\", \"uwo\", \"team\", \"flyer\", \"law\", \"time\", \"athens\", \"shark\", \"play\", \"still\", \"puck\", \"well\", \"playoff\", \"ca\", \"nhl\", \"back\", \"organization\", \"hockey\", \"much\", \"edu\", \"year\", \"also\", \"c\", \"like\", \"people\", \"writes\", \"line\", \"two\", \"go\", \"way\", \"article\", \"subject\", \"game\", \"u\", \"god\", \"university\", \"one\", \"christian\", \"think\", \"would\", \"see\", \"say\", \"jesus\", \"disease\", \"yell\", \"blasphemy\", \"replicate\", \"consumed\", \"cliche\", \"usurping\", \"hatch\", \"proscribed\", \"unwisely\", \"utmost\", \"scandal\", \"rebelling\", \"tiring\", \"storrs\", \"retort\", \"rewarding\", \"vela\", \"maria\", \"impart\", \"irony\", \"pressing\", \"recycle\", \"prop\", \"transmitted\", \"genetic\", \"segment\", \"gnosis\", \"worthiness\", \"occurrence\", \"authority\", \"forgiveness\", \"god\", \"atterlep\", \"fear\", \"mercy\", \"aid\", \"sin\", \"oakland\", \"reasoning\", \"thing\", \"claim\", \"assume\", \"study\", \"know\", \"problem\", \"gm\", \"die\", \"atheist\", \"christian\", \"truth\", \"faith\", \"judge\", \"great\", \"say\", \"question\", \"act\", \"christianity\", \"exists\", \"think\", \"always\", \"would\", \"u\", \"jesus\", \"go\", \"one\", \"people\", \"edu\", \"true\", \"believe\", \"article\", \"christ\", \"organization\", \"line\", \"subject\", \"come\", \"com\", \"university\", \"time\", \"even\", \"writes\", \"year\", \"game\", \"good\", \"like\", \"bi\", \"playmaker\", \"pinetree\", \"nagy\", \"modified\", \"private\", \"upperdeck\", \"irvin\", \"gjp\", \"pandelios\", \"calculate\", \"adjustment\", \"attracts\", \"designated\", \"pentecostal\", \"arrange\", \"helgesen\", \"octapus\", \"alleged\", \"calculation\", \"devotional\", \"packaging\", \"ferreira\", \"bonehead\", \"tie\", \"stuppid\", \"attested\", \"subset\", \"fret\", \"golly\", \"bjorn\", \"mnhcc\", \"formeza\", \"pick\", \"samuelson\", \"ucs\", \"epa\", \"game\", \"monophysitism\", \"fisher\", \"net\", \"goal\", \"team\", \"miami\", \"player\", \"subject\", \"th\", \"first\", \"hockey\", \"may\", \"good\", \"would\", \"church\", \"league\", \"line\", \"one\", \"point\", \"best\", \"edu\", \"want\", \"organization\", \"think\", \"win\", \"called\", \"new\", \"also\", \"make\", \"university\", \"ca\", \"like\", \"writes\", \"say\", \"god\", \"people\", \"play\", \"christian\", \"article\", \"time\", \"coin\", \"relegation\", \"wimsey\", \"delarocq\", \"emma\", \"republic\", \"austria\", \"commemorates\", \"cbnewsi\", \"michae\", \"norway\", \"franjione\", \"lictor\", \"skirmish\", \"tfbbs\", \"afc\", \"cray\", \"covet\", \"sunee\", \"franjion\", \"ubvmsc\", \"derrell\", \"gak\", \"easton\", \"minted\", \"taber\", \"fmsalvat\", \"circulated\", \"italy\", \"monetary\", \"switzerland\", \"eos\", \"valerie\", \"sgi\", \"leaf\", \"ncsu\", \"brook\", \"russia\", \"april\", \"futon\", \"com\", \"belief\", \"posting\", \"canuck\", \"france\", \"get\", \"det\", \"look\", \"edu\", \"know\", \"win\", \"richard\", \"one\", \"line\", \"would\", \"year\", \"truth\", \"nhl\", \"writes\", \"game\", \"ca\", \"host\", \"see\", \"european\", \"fan\", \"even\", \"university\", \"period\", \"subject\", \"player\", \"organization\", \"go\", \"team\", \"jesus\", \"article\", \"christian\", \"hockey\", \"play\", \"time\", \"god\", \"think\", \"like\", \"people\", \"wpg\", \"ley\", \"wsh\", \"mathieu\", \"sergio\", \"cgy\", \"liberating\", \"jozef\", \"mtl\", \"stumpel\", \"yuri\", \"whitney\", \"michal\", \"vilgrain\", \"neal\", \"semenov\", \"darrin\", \"evgeny\", \"dawe\", \"pugnaciously\", \"hfd\", \"tribute\", \"alexei\", \"asc\", \"lyric\", \"mcammond\", \"shaun\", \"woolley\", \"stephan\", \"tatarinov\", \"procom\", \"dmitri\", \"holme\", \"sergei\", \"cf\", \"tb\", \"gilbert\", \"plymouth\", \"church\", \"phi\", \"scott\", \"mass\", \"scripture\", \"tor\", \"bible\", \"ferguson\", \"ca\", \"e\", \"language\", \"jesus\", \"kulikauskas\", \"carleton\", \"turgeon\", \"word\", \"one\", \"spirit\", \"god\", \"say\", \"subject\", \"show\", \"christian\", \"people\", \"edu\", \"u\", \"believe\", \"line\", \"like\", \"point\", \"power\", \"would\", \"com\", \"university\", \"see\", \"year\", \"article\", \"second\", \"sin\", \"play\", \"c\", \"know\", \"game\", \"organization\", \"go\", \"good\", \"team\", \"think\", \"writes\", \"time\", \"dab\", \"hub\", \"reaped\", \"thrilled\", \"mill\", \"chu\", \"delinieates\", \"ripping\", \"commentating\", \"rintintin\", \"ccohen\", \"sportscenter\", \"pickup\", \"steinbakken\", \"sproul\", \"transparent\", \"whicc\", \"pittsburgher\", \"node\", \"racing\", \"caleb\", \"accpeted\", \"excepting\", \"rana\", \"nicene\", \"pqkfp\", \"ahmad\", \"erased\", \"ahmadiyya\", \"athanasian\", \"islamic\", \"weaver\", \"creed\", \"tm\", \"pt\", \"abc\", \"coverage\", \"sect\", \"l\", \"filioque\", \"king\", \"edu\", \"ny\", \"gerald\", \"writes\", \"get\", \"subject\", \"mike\", \"organization\", \"line\", \"com\", \"la\", \"shot\", \"alchemy\", \"hockey\", \"son\", \"spirit\", \"question\", \"people\", \"see\", \"go\", \"god\", \"many\", \"would\", \"article\", \"jesus\", \"one\", \"new\", \"apr\", \"u\", \"like\", \"ca\", \"think\", \"university\", \"christian\", \"know\", \"say\", \"time\", \"game\", \"team\"], \"Total\": [1911.0, 1542.0, 1177.0, 1227.0, 1094.0, 540.0, 1125.0, 682.0, 1090.0, 735.0, 436.0, 644.0, 881.0, 442.0, 580.0, 303.0, 759.0, 794.0, 590.0, 893.0, 458.0, 688.0, 598.0, 627.0, 614.0, 577.0, 567.0, 639.0, 423.0, 474.0, 17.65166664123535, 12.62913990020752, 3.8266208171844482, 2.9546315670013428, 4.828351020812988, 19.3817195892334, 420.4726257324219, 5.809202194213867, 2.8855631351470947, 6.740334987640381, 2.847074031829834, 1.9222381114959717, 110.55960845947266, 11.469659805297852, 6.425406455993652, 1.9233951568603516, 1.9134907722473145, 3.9000439643859863, 39.649295806884766, 76.05917358398438, 2.8656914234161377, 10.463809967041016, 1.884082555770874, 6.739312648773193, 4.786487102508545, 52.70311737060547, 2.8036701679229736, 5.698121070861816, 13.407407760620117, 2.8162660598754883, 35.34415817260742, 129.1424102783203, 61.44497299194336, 50.66762161254883, 34.912452697753906, 52.824344635009766, 39.702857971191406, 381.4012451171875, 218.69166564941406, 104.46304321289062, 56.86750793457031, 893.9591674804688, 179.0986785888672, 246.0535430908203, 677.4909057617188, 44.14347839355469, 110.07171630859375, 483.653564453125, 228.01345825195312, 134.73883056640625, 374.2204895019531, 297.55279541015625, 682.4619140625, 378.6287841796875, 256.9651794433594, 1090.494140625, 590.05126953125, 327.7773132324219, 1911.837646484375, 577.98974609375, 485.7803649902344, 448.68951416015625, 614.12060546875, 759.937255859375, 735.3719482421875, 1227.7916259765625, 372.8207092285156, 598.4578857421875, 437.1486511230469, 627.653564453125, 1177.497802734375, 881.35986328125, 567.7103271484375, 1542.0714111328125, 688.379150390625, 1094.71875, 794.8851318359375, 770.434814453125, 1125.7130126953125, 458.66888427734375, 639.7584228515625, 580.9254150390625, 21.2183837890625, 4.232405662536621, 2.158393144607544, 2.143789052963257, 2.1459386348724365, 3.1688451766967773, 2.1335389614105225, 3.1135976314544678, 3.2713286876678467, 3.1510820388793945, 2.1239829063415527, 2.042469024658203, 2.043086528778076, 2.0298714637756348, 7.179294109344482, 2.02447509765625, 2.09899640083313, 52.94173812866211, 36.30772399902344, 2.0245893001556396, 3.1537246704101562, 5.112033367156982, 2.00308895111084, 3.1669294834136963, 4.084185600280762, 11.12243366241455, 3.030017137527466, 3.129140615463257, 2.0875868797302246, 2.048952102661133, 144.3720703125, 14.92719554901123, 1542.0714111328125, 28.798805236816406, 59.84135818481445, 20.94562339782715, 49.24566650390625, 258.34539794921875, 65.31005096435547, 34.12685012817383, 441.0784912109375, 180.9096221923828, 77.5158462524414, 97.4322509765625, 644.5143432617188, 238.62777709960938, 209.43087768554688, 104.97992706298828, 146.2301788330078, 794.8851318359375, 316.096923828125, 364.43707275390625, 72.56934356689453, 253.92686462402344, 639.7584228515625, 426.82196044921875, 125.74957275390625, 221.00933837890625, 91.8988265991211, 770.434814453125, 195.70123291015625, 1125.7130126953125, 567.7103271484375, 580.9254150390625, 598.4578857421875, 1094.71875, 759.937255859375, 1911.837646484375, 278.5444641113281, 451.1751403808594, 627.653564453125, 371.9127197265625, 1090.494140625, 1227.7916259765625, 1177.497802734375, 351.420654296875, 540.5645141601562, 688.379150390625, 677.4909057617188, 427.6976318359375, 735.3719482421875, 577.98974609375, 881.35986328125, 497.23394775390625, 614.12060546875, 3.637709140777588, 4.549186706542969, 7.226627349853516, 5.512321949005127, 2.684528350830078, 17.116670608520508, 4.3657941818237305, 9.736722946166992, 5.394858360290527, 4.4533843994140625, 2.6841578483581543, 2.643798828125, 1.7828090190887451, 14.76667594909668, 14.794291496276855, 1.8017706871032715, 6.356845378875732, 3.5878777503967285, 7.191423416137695, 3.68540096282959, 1.793402910232544, 2.7064425945281982, 12.332930564880371, 3.5128071308135986, 87.47505187988281, 6.146370887756348, 1.7677160501480103, 1.7855743169784546, 1.783140778541565, 1.8066989183425903, 12.652969360351562, 9.068103790283203, 5.4032697677612305, 139.97015380859375, 8.660555839538574, 42.4515380859375, 11.201430320739746, 881.35986328125, 11.937747955322266, 45.758338928222656, 154.9415740966797, 324.88818359375, 893.9591674804688, 30.800613403320312, 474.9559326171875, 1177.497802734375, 122.98352813720703, 430.62744140625, 590.05126953125, 453.2259826660156, 497.23394775390625, 1125.7130126953125, 442.628662109375, 250.16661071777344, 1227.7916259765625, 1094.71875, 423.3172302246094, 259.4889831542969, 1911.837646484375, 249.94090270996094, 1090.494140625, 770.434814453125, 309.8605651855469, 119.02938079833984, 483.1531982421875, 485.7803649902344, 396.9803161621094, 688.379150390625, 682.4619140625, 614.12060546875, 735.3719482421875, 639.7584228515625, 1542.0714111328125, 759.937255859375, 483.653564453125, 794.8851318359375, 627.653564453125, 677.4909057617188, 5.77171516418457, 5.527019023895264, 3.8728034496307373, 4.93445348739624, 4.636937618255615, 16.261804580688477, 16.45301055908203, 1.6814403533935547, 4.117704391479492, 7.26552152633667, 18.876604080200195, 2.486193895339966, 4.247030735015869, 1.7073925733566284, 3.1623473167419434, 3.374812126159668, 24.911788940429688, 1.6999012231826782, 2.550229072570801, 2.4888150691986084, 2.5386109352111816, 2.4954144954681396, 6.1309814453125, 2.626498222351074, 1.7157764434814453, 12.049694061279297, 13.914286613464355, 1.7151954174041748, 19.074081420898438, 1.7211769819259644, 21.473480224609375, 37.503623962402344, 15.603571891784668, 22.652286529541016, 216.21258544921875, 36.90255355834961, 7.774211406707764, 24.457502365112305, 135.9866943359375, 7.788254737854004, 540.5645141601562, 235.37405395507812, 337.5721130371094, 64.3491439819336, 28.358369827270508, 436.2293701171875, 115.34773254394531, 183.98484802246094, 1911.837646484375, 644.5143432617188, 309.8605651855469, 68.89319610595703, 1094.71875, 1227.7916259765625, 1125.7130126953125, 577.98974609375, 316.096923828125, 378.6287841796875, 735.3719482421875, 881.35986328125, 682.4619140625, 256.57159423828125, 458.66888427734375, 114.3126449584961, 190.059326171875, 427.6976318359375, 688.379150390625, 275.3712463378906, 1177.497802734375, 474.9559326171875, 1090.494140625, 598.4578857421875, 893.9591674804688, 580.9254150390625, 627.653564453125, 794.8851318359375, 590.05126953125, 483.653564453125, 677.4909057617188, 1542.0714111328125, 770.434814453125, 614.12060546875, 759.937255859375, 16.160369873046875, 4.273809909820557, 26.091461181640625, 2.4931607246398926, 2.4438629150390625, 18.620288848876953, 2.4917922019958496, 2.5029618740081787, 29.50783920288086, 2.496232032775879, 2.5114145278930664, 2.513808488845825, 2.4972071647644043, 2.515909194946289, 2.5052552223205566, 3.3466286659240723, 2.504108190536499, 2.474217176437378, 2.466529607772827, 1.691886305809021, 18.77621841430664, 1.7050304412841797, 9.17741584777832, 2.683922290802002, 8.476295471191406, 2.4874465465545654, 2.539483070373535, 3.400555372238159, 2.507741928100586, 3.42291522026062, 5.642650127410889, 8.310821533203125, 5.906205177307129, 12.463342666625977, 30.47757911682129, 60.42230224609375, 6.154098987579346, 18.597970962524414, 442.628662109375, 62.11906814575195, 77.21017456054688, 61.660728454589844, 195.57412719726562, 104.60787200927734, 341.526611328125, 17.746313095092773, 682.4619140625, 254.96527099609375, 87.64929962158203, 580.9254150390625, 40.88429641723633, 38.83192825317383, 22.255775451660156, 294.92974853515625, 1094.71875, 134.8543701171875, 1542.0714111328125, 639.7584228515625, 1177.497802734375, 143.911865234375, 794.8851318359375, 759.937255859375, 1911.837646484375, 567.7103271484375, 451.1751403808594, 1227.7916259765625, 614.12060546875, 423.3172302246094, 240.72276306152344, 1125.7130126953125, 540.5645141601562, 688.379150390625, 458.66888427734375, 577.98974609375, 627.653564453125, 227.79322814941406, 258.34539794921875, 483.653564453125, 448.68951416015625, 644.5143432617188, 881.35986328125, 1090.494140625, 598.4578857421875, 497.23394775390625, 893.9591674804688, 770.434814453125, 735.3719482421875, 677.4909057617188, 5.649395942687988, 4.655146598815918, 3.167726755142212, 3.181854724884033, 4.72509241104126, 3.1841981410980225, 1.588280439376831, 3.2240326404571533, 3.197237491607666, 4.094783782958984, 3.193166732788086, 1.6338437795639038, 1.6445884704589844, 2.4233756065368652, 2.349947929382324, 1.594881296157837, 1.6042330265045166, 3.2203304767608643, 7.357499122619629, 1.656456470489502, 6.467092990875244, 1.6201523542404175, 1.6403441429138184, 5.852570533752441, 7.272006511688232, 1.6091132164001465, 3.3590235710144043, 1.6251676082611084, 12.592738151550293, 4.027876377105713, 5.725536346435547, 12.535240173339844, 36.06821823120117, 13.126558303833008, 303.7020568847656, 79.77352142333984, 75.76258850097656, 8.263193130493164, 191.21580505371094, 9.07980728149414, 179.26095581054688, 1911.837646484375, 87.20230865478516, 87.21052551269531, 735.3719482421875, 436.2293701171875, 1177.497802734375, 159.13967895507812, 1090.494140625, 1227.7916259765625, 540.5645141601562, 253.9768829345703, 173.8542938232422, 61.591064453125, 590.05126953125, 142.6597442626953, 134.8543701171875, 426.82196044921875, 759.937255859375, 458.66888427734375, 598.4578857421875, 1542.0714111328125, 367.2807312011719, 1125.7130126953125, 627.653564453125, 580.9254150390625, 1094.71875, 483.1531982421875, 417.2825927734375, 567.7103271484375, 614.12060546875, 682.4619140625, 770.434814453125, 688.379150390625, 794.8851318359375, 644.5143432617188, 639.7584228515625, 677.4909057617188, 881.35986328125, 893.9591674804688], \"loglift\": [30.0, 29.0, 28.0, 27.0, 26.0, 25.0, 24.0, 23.0, 22.0, 21.0, 20.0, 19.0, 18.0, 17.0, 16.0, 15.0, 14.0, 13.0, 12.0, 11.0, 10.0, 9.0, 8.0, 7.0, 6.0, 5.0, 4.0, 3.0, 2.0, 1.0, 0.8930000066757202, 0.8776000142097473, 0.7795000076293945, 0.7742999792098999, 0.7440000176429749, 0.717199981212616, 0.7017999887466431, 0.683899998664856, 0.6694999933242798, 0.6442999839782715, 0.6438999772071838, 0.6432999968528748, 0.6280999779701233, 0.6261000037193298, 0.619700014591217, 0.6136999726295471, 0.6115000247955322, 0.59579998254776, 0.5935999751091003, 0.5928000211715698, 0.5911999940872192, 0.586899995803833, 0.5867999792098999, 0.5788000226020813, 0.5769000053405762, 0.5769000053405762, 0.5719000101089478, 0.571399986743927, 0.5699999928474426, 0.5680000185966492, 0.5649999976158142, 0.5307000279426575, 0.5404999852180481, 0.5347999930381775, 0.5327000021934509, 0.5062000155448914, 0.5146999955177307, 0.421999990940094, 0.44119998812675476, 0.47040000557899475, 0.487199991941452, 0.3425999879837036, 0.42559999227523804, 0.4004000127315521, 0.33739998936653137, 0.49059998989105225, 0.41530001163482666, 0.28060001134872437, 0.3319999873638153, 0.3824000060558319, 0.2728999853134155, 0.29350000619888306, 0.19290000200271606, 0.26010000705718994, 0.3059000074863434, 0.11339999735355377, 0.18979999423027039, 0.2590000033378601, -0.005200000014156103, 0.15760000050067902, 0.18150000274181366, 0.1826000064611435, 0.1290999948978424, 0.08449999988079071, 0.08330000191926956, -0.02710000053048134, 0.20340000092983246, 0.09149999916553497, 0.156700000166893, 0.05829999968409538, -0.12210000306367874, -0.04149999842047691, 0.0778999999165535, -0.2498999983072281, 0.005200000014156103, -0.15809999406337738, -0.04859999939799309, -0.039900001138448715, -0.17810000479221344, 0.1348000019788742, -0.14259999990463257, -0.08179999887943268, 0.8669000267982483, 0.8561000227928162, 0.8173999786376953, 0.8169999718666077, 0.8119999766349792, 0.8082000017166138, 0.8057000041007996, 0.8029999732971191, 0.800599992275238, 0.788100004196167, 0.777899980545044, 0.7739999890327454, 0.7616999745368958, 0.7610999941825867, 0.754800021648407, 0.7547000050544739, 0.7425000071525574, 0.741100013256073, 0.738099992275238, 0.7346000075340271, 0.7342000007629395, 0.7279999852180481, 0.725600004196167, 0.725600004196167, 0.7254999876022339, 0.7243000268936157, 0.7232999801635742, 0.72079998254776, 0.7192999720573425, 0.71670001745224, 0.6823999881744385, 0.6934000253677368, 0.5530999898910522, 0.6715999841690063, 0.6360999941825867, 0.6547999978065491, 0.6194000244140625, 0.5281000137329102, 0.5842000246047974, 0.5920000076293945, 0.4366999864578247, 0.48159998655319214, 0.5374000072479248, 0.5202000141143799, 0.3799999952316284, 0.44749999046325684, 0.44600000977516174, 0.5002999901771545, 0.4690000116825104, 0.30219998955726624, 0.3828999996185303, 0.3610000014305115, 0.5099999904632568, 0.36719998717308044, 0.2549999952316284, 0.3028999865055084, 0.43959999084472656, 0.36169999837875366, 0.4690000116825104, 0.17010000348091125, 0.359499990940094, 0.07660000026226044, 0.16200000047683716, 0.15119999647140503, 0.13819999992847443, -0.012000000104308128, 0.057999998331069946, -0.16040000319480896, 0.2732999920845032, 0.1573999971151352, 0.07620000094175339, 0.1972000002861023, -0.08160000294446945, -0.15710000693798065, -0.16200000047683716, 0.20239999890327454, 0.05779999867081642, -0.0471000000834465, -0.05660000070929527, 0.1264999955892563, -0.1867000013589859, -0.0697999969124794, -0.31630000472068787, 0.0044999998062849045, -0.1914999932050705, 1.0306999683380127, 1.0218000411987305, 1.016800045967102, 0.9560999870300293, 0.9204000234603882, 0.9122999906539917, 0.9035000205039978, 0.8756999969482422, 0.8736000061035156, 0.8614000082015991, 0.847000002861023, 0.8352000117301941, 0.8273000121116638, 0.8198000192642212, 0.8194000124931335, 0.8065999746322632, 0.7997999787330627, 0.7947999835014343, 0.7892000079154968, 0.7885000109672546, 0.788100004196167, 0.7842000126838684, 0.781000018119812, 0.7699000239372253, 0.7681999802589417, 0.7627999782562256, 0.760200023651123, 0.7484999895095825, 0.7483999729156494, 0.742900013923645, 0.7366999983787537, 0.739799976348877, 0.7396000027656555, 0.6845999956130981, 0.7336000204086304, 0.6940000057220459, 0.7249000072479248, 0.47279998660087585, 0.7056000232696533, 0.6244000196456909, 0.517799973487854, 0.4578000009059906, 0.37299999594688416, 0.6337000131607056, 0.40939998626708984, 0.28459998965263367, 0.4902999997138977, 0.3635999858379364, 0.3098999857902527, 0.31610000133514404, 0.3041999936103821, 0.1687999963760376, 0.2874999940395355, 0.3598000109195709, 0.14249999821186066, 0.1525000035762787, 0.2833999991416931, 0.3407999873161316, 0.012900000438094139, 0.34279999136924744, 0.07050000131130219, 0.1289999932050705, 0.2824999988079071, 0.4392000138759613, 0.15960000455379486, 0.1574999988079071, 0.1940000057220459, 0.07490000128746033, 0.07180000096559525, 0.07599999755620956, 0.02810000069439411, 0.00419999985024333, -0.3702999949455261, -0.11460000276565552, -0.014100000262260437, -0.302700012922287, -0.17749999463558197, -0.2621000111103058, 1.2585999965667725, 1.2402000427246094, 1.236299991607666, 1.2109999656677246, 1.1650999784469604, 1.1399999856948853, 1.131500005722046, 1.0855000019073486, 1.0776000022888184, 1.061400055885315, 1.048699975013733, 1.0465999841690063, 1.013700008392334, 1.0116000175476074, 1.0089000463485718, 1.0052000284194946, 1.0044000148773193, 1.0023000240325928, 0.9997000098228455, 0.996999979019165, 0.9908000230789185, 0.9890999794006348, 0.9848999977111816, 0.9800999760627747, 0.9740999937057495, 0.9717000126838684, 0.9653000235557556, 0.964900016784668, 0.9508000016212463, 0.949400007724762, 0.9465000033378601, 0.9049999713897705, 0.916100025177002, 0.8810999989509583, 0.6905999779701233, 0.8037999868392944, 0.9117000102996826, 0.8309000134468079, 0.6686000227928162, 0.9018999934196472, 0.5123999714851379, 0.5849999785423279, 0.5163999795913696, 0.6894000172615051, 0.7789000272750854, 0.4657999873161316, 0.6147000193595886, 0.5443000197410583, 0.2378000020980835, 0.3269999921321869, 0.392300009727478, 0.6434999704360962, 0.10999999940395355, 0.057100001722574234, 0.0738999992609024, 0.2045000046491623, 0.32679998874664307, 0.26910001039505005, 0.12240000069141388, 0.0786999985575676, 0.1005999967455864, 0.3273000121116638, 0.16290000081062317, 0.5149999856948853, 0.38040000200271606, 0.16290000081062317, 0.030799999833106995, 0.2732999920845032, -0.15790000557899475, 0.10589999705553055, -0.18619999289512634, -0.018799999728798866, -0.18379999697208405, -0.025100000202655792, -0.07339999824762344, -0.1889999955892563, -0.06629999727010727, 0.030799999833106995, -0.15360000729560852, -0.6468999981880188, -0.2515000104904175, -0.16040000319480896, -0.3684000074863434, 1.1969000101089478, 1.1888999938964844, 1.1721999645233154, 1.1265000104904175, 1.1044000387191772, 1.0679999589920044, 1.054800033569336, 1.0464999675750732, 1.045699954032898, 1.044100046157837, 1.0403000116348267, 1.0392999649047852, 1.0289000272750854, 1.0214999914169312, 1.0192999839782715, 1.0053000450134277, 0.9993000030517578, 0.9911999702453613, 0.989300012588501, 0.9656999707221985, 0.9629999995231628, 0.953499972820282, 0.9465000033378601, 0.9434000253677368, 0.9417999982833862, 0.9390000104904175, 0.9373999834060669, 0.9370999932289124, 0.9293000102043152, 0.9282000064849854, 0.9233999848365784, 0.9128000140190125, 0.913100004196167, 0.8859000205993652, 0.8151999711990356, 0.76419997215271, 0.8980000019073486, 0.8166999816894531, 0.5194000005722046, 0.6751999855041504, 0.6499999761581421, 0.6556000113487244, 0.4869000017642975, 0.5644000172615051, 0.40459999442100525, 0.7757999897003174, 0.2978000044822693, 0.37779998779296875, 0.5295000076293945, 0.2409999966621399, 0.6377999782562256, 0.644599974155426, 0.7279000282287598, 0.33489999175071716, 0.12020000070333481, 0.4499000012874603, 0.041999999433755875, 0.16619999706745148, 0.051899999380111694, 0.4180000126361847, 0.10109999775886536, 0.10610000044107437, -0.0989999994635582, 0.13950000703334808, 0.18019999563694, -0.03680000081658363, 0.0851999968290329, 0.1647000014781952, 0.2962000072002411, -0.120899997651577, 0.07540000230073929, 0.00839999970048666, 0.10419999808073044, 0.02810000069439411, -0.01850000023841858, 0.3034000098705292, 0.25290000438690186, 0.025599999353289604, 0.04740000143647194, -0.10440000146627426, -0.23010000586509705, -0.3199000060558319, -0.08900000154972076, -0.0044999998062849045, -0.43140000104904175, -0.3513000011444092, -0.3797999918460846, -0.30489999055862427, 1.7901999950408936, 1.4017000198364258, 1.3559000492095947, 1.3377000093460083, 1.3179999589920044, 1.2992000579833984, 1.288599967956543, 1.278499960899353, 1.2714999914169312, 1.2630000114440918, 1.2340999841690063, 1.2319999933242798, 1.2259000539779663, 1.2125999927520752, 1.2036999464035034, 1.200600028038025, 1.194000005722046, 1.1919000148773193, 1.174399971961975, 1.169100046157837, 1.1620999574661255, 1.1523000001907349, 1.1506999731063843, 1.1306999921798706, 1.1200000047683716, 1.1145999431610107, 1.1088000535964966, 1.1066999435424805, 1.1055999994277954, 1.0983999967575073, 1.0914000272750854, 1.0662000179290771, 0.9908999800682068, 1.0128999948501587, 0.7664999961853027, 0.8529999852180481, 0.8138999938964844, 1.031499981880188, 0.6851000189781189, 1.0120999813079834, 0.5766000151634216, 0.17509999871253967, 0.6589999794960022, 0.6539000272750854, 0.2849999964237213, 0.3707999885082245, 0.20170000195503235, 0.5148000121116638, 0.16019999980926514, 0.1298999935388565, 0.2728999853134155, 0.4189999997615814, 0.45239999890327454, 0.6689000129699707, 0.1624000072479248, 0.4797999858856201, 0.48179998993873596, 0.2012999951839447, 0.057500001043081284, 0.16940000653266907, 0.09470000118017197, -0.15440000593662262, 0.21529999375343323, -0.09239999949932098, 0.05139999836683273, 0.04699999839067459, -0.15369999408721924, 0.07859999686479568, 0.1282999962568283, 0.02319999970495701, -0.047200001776218414, -0.09880000352859497, -0.15320000052452087, -0.12960000336170197, -0.19419999420642853, -0.16449999809265137, -0.20360000431537628, -0.2685000002384186, -0.47920000553131104, -0.5148000121116638], \"logprob\": [30.0, 29.0, 28.0, 27.0, 26.0, 25.0, 24.0, 23.0, 22.0, 21.0, 20.0, 19.0, 18.0, 17.0, 16.0, 15.0, 14.0, 13.0, 12.0, 11.0, 10.0, 9.0, 8.0, 7.0, 6.0, 5.0, 4.0, 3.0, 2.0, 1.0, -8.527400016784668, -8.877699851989746, -10.1697998046875, -10.433600425720215, -9.972800254821777, -8.609700202941895, -5.548099994659424, -9.847999572753906, -10.562000274658203, -9.738900184631348, -10.601099967956543, -10.994500160217285, -6.957699775695801, -9.225500106811523, -9.811300277709961, -11.023500442504883, -11.030900001525879, -10.334500312805176, -8.017600059509277, -7.367000102996826, -10.647299766540527, -9.356499671936035, -11.071000099182129, -9.80459976196289, -10.148599624633789, -7.749800205230713, -10.68850040435791, -9.9798002243042, -9.125499725341797, -10.687899589538574, -8.161100387573242, -6.899700164794922, -7.632599830627441, -7.831200122833252, -8.205699920654297, -7.8180999755859375, -8.095199584960938, -5.9253997802734375, -6.462500095367432, -7.172100067138672, -7.763400077819824, -5.15310001373291, -6.677800178527832, -6.38539981842041, -5.435500144958496, -8.013199806213379, -7.174799919128418, -5.829400062561035, -6.529900074005127, -7.0055999755859375, -6.093500137329102, -6.302199840545654, -5.572700023651123, -6.094600200653076, -6.436500072479248, -5.183499813079834, -5.72130012512207, -6.2399001121521, -4.740600109100342, -5.774099826812744, -5.924099922180176, -6.002399921417236, -5.742099761962891, -5.573599815368652, -5.607600212097168, -5.205399990081787, -6.166800022125244, -5.805500030517578, -6.054299831390381, -5.790999889373779, -5.342199802398682, -5.551400184631348, -5.871799945831299, -5.200399875640869, -5.751800060272217, -5.451200008392334, -5.6616997718811035, -5.684199810028076, -5.44320011138916, -6.028200149536133, -5.972899913787842, -6.008500099182129, -8.369600296020508, -9.992400169372559, -10.704500198364258, -10.711700439453125, -10.715700149536133, -10.329700469970703, -10.727800369262695, -10.352499961853027, -10.305500030517578, -10.355500221252441, -10.760100364685059, -10.803199768066406, -10.815099716186523, -10.82229995727539, -9.565299987792969, -10.831299781799316, -10.80739974975586, -7.580999851226807, -7.961100101470947, -10.851300239562988, -10.408499717712402, -9.931699752807617, -10.871000289916992, -10.413000106811523, -10.158699989318848, -9.158100128173828, -10.459400177001953, -10.429699897766113, -10.836000442504883, -10.8572998046875, -6.636499881744385, -8.894700050354004, -4.39739990234375, -8.259400367736816, -7.563499927520752, -8.594499588012695, -7.775100231170654, -6.208899974822998, -7.5279998779296875, -8.16919994354248, -5.765399932861328, -6.611700057983398, -7.40339994430542, -7.19189977645874, -5.442800045013428, -6.368899822235107, -6.500999927520752, -7.137199878692627, -6.837100028991699, -5.3109002113342285, -6.152299880981445, -6.0320000648498535, -7.496799945831299, -6.38700008392334, -5.575300216674805, -5.932000160217285, -7.017499923706055, -6.531400203704834, -7.301599979400635, -5.474299907684326, -6.655200004577637, -5.188600063323975, -5.787700176239014, -5.7754998207092285, -5.758699893951416, -5.304999828338623, -5.600100040435791, -4.8958001136779785, -6.388500213623047, -6.02209997177124, -5.773099899291992, -6.17549991607666, -5.378499984741211, -5.335400104522705, -5.3821001052856445, -6.226900100708008, -5.940899848937988, -5.804100036621094, -5.829500198364258, -6.106299877166748, -5.877600193023682, -6.0015997886657715, -5.826099872589111, -6.0777997970581055, -6.062600135803223, -9.969300270080566, -9.754599571228027, -9.296799659729004, -9.628199577331543, -10.383399963378906, -8.538999557495117, -9.913999557495117, -9.139699935913086, -9.7322998046875, -9.936200141906738, -10.456999778747559, -10.48390007019043, -10.8858003616333, -8.779199600219727, -8.777700424194336, -10.895899772644043, -9.642000198364258, -10.218899726867676, -9.529199600219727, -10.198399543762207, -10.918999671936035, -10.511500358581543, -8.998100280761719, -10.265000343322754, -7.051700115203857, -9.712699890136719, -10.961400032043457, -10.96310043334961, -10.964500427246094, -10.956899642944336, -9.01669979095459, -9.346799850463867, -9.864700317382812, -6.665299892425537, -9.398900032043457, -7.848899841308594, -9.150300025939941, -5.037099838256836, -9.105999946594238, -7.843500137329102, -6.730400085449219, -6.050000190734863, -5.122600078582764, -8.23009967803955, -5.718599796295166, -4.935500144958496, -6.988900184631348, -5.862500190734863, -5.601200103759766, -5.858799934387207, -5.77810001373291, -5.09630012512207, -5.911099910736084, -6.40939998626709, -5.035799980163574, -5.140500068664551, -5.959799766540527, -6.3917999267578125, -4.722599983215332, -6.427299976348877, -5.226399898529053, -5.515399932861328, -6.27269983291626, -7.072700023651123, -5.951300144195557, -5.9481000900268555, -6.113500118255615, -5.68209981918335, -5.69379997253418, -5.795100212097168, -5.662799835205078, -5.826000213623047, -5.320700168609619, -5.77269983291626, -6.124100208282471, -5.915800094604492, -6.026800155639648, -6.034999847412109, -9.27970027923584, -9.341400146484375, -9.701000213623047, -9.484000205993652, -9.592100143432617, -8.362500190734863, -8.359299659729004, -10.686100006103516, -9.798399925231934, -9.246800422668457, -8.304699897766113, -10.333900451660156, -9.831399917602539, -10.74470043182373, -10.131099700927734, -10.069700241088867, -8.071499824523926, -10.758399963378906, -10.355400085449219, -10.382499694824219, -10.368900299072266, -10.387800216674805, -9.493000030517578, -10.345499992370605, -10.777299880981445, -8.830499649047852, -8.693099975585938, -10.78689956665039, -8.392200469970703, -10.79889965057373, -8.277999877929688, -7.761899948120117, -8.627699851989746, -8.289899826049805, -6.224400043487549, -7.879199981689453, -9.328800201416016, -8.263400077819824, -6.71019983291626, -9.336799621582031, -5.486299991607666, -6.245100021362305, -5.953199863433838, -7.4375, -8.167499542236328, -5.747300148010254, -6.928699970245361, -6.532100200653076, -4.497700214385986, -5.495800018310547, -6.162899971008301, -7.415299892425537, -5.18310022354126, -5.121200084686279, -5.191199779510498, -5.72730016708374, -6.208399772644043, -6.085700035095215, -5.56850004196167, -5.431099891662598, -5.664999961853027, -6.416600227355957, -6.0, -7.037300109863281, -6.66349983215332, -6.070000171661377, -5.726099967956543, -6.399899959564209, -5.3780999183654785, -6.022200107574463, -5.483099937438965, -5.9156999588012695, -5.6793999671936035, -5.9517998695373535, -5.922800064086914, -5.80210018157959, -5.977399826049805, -6.079100131988525, -5.926499843597412, -5.597300052642822, -5.8958001136779785, -6.031499862670898, -6.026400089263916, -8.31190013885498, -9.649900436401367, -7.857500076293945, -10.251299858093262, -10.293299674987793, -8.298999786376953, -10.32349967956543, -10.327300071716309, -7.860899925231934, -10.33240032196045, -10.3302001953125, -10.3302001953125, -10.347200393676758, -10.347200393676758, -10.353599548339844, -10.07800006866455, -10.374099731445312, -10.394200325012207, -10.399200439453125, -10.799699783325195, -8.395700454711914, -10.804200172424316, -9.128100395202637, -10.360600471496582, -9.212200164794922, -10.440999984741211, -10.42199993133545, -10.13029956817627, -10.442700386047363, -10.132599830627441, -9.637499809265137, -9.26099967956543, -9.60219955444336, -8.882599830627441, -8.059100151062012, -7.42579984664917, -9.576199531555176, -8.551600456237793, -5.679200172424316, -7.486999988555908, -7.2947998046875, -7.514100074768066, -6.528500080108643, -7.076700210571289, -6.053299903869629, -8.639300346374512, -5.467800140380859, -6.372399806976318, -7.28849983215332, -5.685699939727783, -7.942800045013428, -7.987400054931641, -8.460800170898438, -6.269700050354004, -5.172900199890137, -6.93720006942749, -4.908400058746338, -5.664100170135498, -5.1682000160217285, -6.904099941253662, -5.51200008392334, -5.552000045776367, -4.834499835968018, -5.810200214385986, -5.999199867248535, -5.215199947357178, -5.785900115966797, -6.078499794006348, -6.511499881744385, -5.386000156402588, -5.923299789428711, -5.748499870300293, -6.058800220489502, -5.903600215911865, -5.867800235748291, -6.5594000816345215, -6.484099864959717, -6.0843000411987305, -6.137499809265137, -5.927199840545654, -5.7399001121521, -5.616799831390381, -5.985899925231934, -6.0868000984191895, -5.92710018157959, -5.995699882507324, -6.070799827575684, -6.0777997970581055, -8.769499778747559, -9.35159969329834, -9.782400131225586, -9.796099662780762, -9.42039966583252, -9.833900451660156, -10.539999961853027, -9.84220027923584, -9.857500076293945, -9.618499755859375, -9.896200180053711, -10.568400382995605, -10.567899703979492, -10.193499565124512, -10.233200073242188, -10.623900413513184, -10.624699592590332, -9.929900169372559, -9.121199607849121, -10.617600440979004, -9.262399673461914, -10.656499862670898, -10.645700454711914, -9.393699645996094, -9.187199592590332, -10.701000213623047, -9.970800399780273, -10.699000358581543, -8.652600288391113, -9.799699783325195, -9.454999923706055, -8.696599960327148, -7.715000152587891, -8.703700065612793, -5.808700084686279, -7.059100151062012, -7.149799823760986, -9.14799976348877, -6.352799892425537, -9.073100090026855, -6.525899887084961, -4.560400009155273, -7.164000034332275, -7.169099807739258, -5.405900001525879, -5.842299938201904, -5.018499851226807, -6.706699848175049, -5.13670015335083, -5.048399925231934, -5.725800037384033, -6.335100173950195, -6.680699825286865, -7.5019001960754395, -5.748600006103516, -6.851099967956543, -6.905300140380859, -6.033599853515625, -5.600599765777588, -5.993500232696533, -5.802299976348877, -5.104800224304199, -6.1697998046875, -5.357500076293945, -5.797900199890137, -5.879700183868408, -5.446700096130371, -6.032299995422363, -6.129199981689453, -5.926499843597412, -5.918300151824951, -5.8643999099731445, -5.797500133514404, -5.886499881744385, -5.807300090789795, -5.987299919128418, -6.03380012512207, -6.041399955749512, -5.988999843597412, -6.010499954223633]}, \"token.table\": {\"Topic\": [1, 2, 3, 4, 5, 6, 1, 1, 2, 3, 4, 5, 6, 3, 2, 3, 4, 1, 2, 3, 6, 1, 2, 3, 4, 5, 6, 1, 2, 3, 4, 5, 6, 1, 2, 3, 4, 5, 6, 1, 2, 3, 4, 5, 6, 1, 2, 3, 4, 1, 2, 3, 4, 5, 6, 1, 2, 3, 4, 5, 6, 1, 2, 3, 4, 5, 6, 1, 2, 3, 4, 5, 6, 3, 1, 2, 3, 4, 5, 6, 2, 5, 1, 2, 3, 4, 5, 6, 1, 2, 3, 6, 1, 2, 3, 4, 5, 6, 1, 2, 3, 4, 5, 6, 1, 2, 3, 4, 5, 6, 3, 3, 1, 2, 3, 4, 5, 6, 1, 2, 3, 4, 5, 6, 1, 2, 3, 4, 5, 6, 1, 1, 2, 3, 4, 5, 6, 1, 2, 3, 4, 5, 6, 1, 2, 3, 4, 5, 6, 1, 2, 3, 4, 5, 6, 1, 3, 1, 2, 3, 4, 5, 6, 1, 2, 3, 4, 5, 6, 2, 1, 3, 1, 2, 3, 4, 5, 1, 2, 3, 4, 5, 6, 1, 2, 3, 4, 5, 6, 1, 3, 1, 2, 3, 1, 2, 3, 4, 5, 6, 1, 2, 3, 4, 5, 6, 1, 2, 3, 4, 5, 6, 1, 2, 3, 4, 5, 6, 1, 2, 3, 4, 6, 1, 2, 3, 1, 2, 6, 1, 2, 3, 4, 5, 1, 2, 3, 4, 5, 6, 1, 2, 3, 4, 5, 6, 1, 2, 3, 4, 5, 6, 1, 2, 3, 4, 5, 6, 1, 2, 3, 4, 5, 6, 1, 2, 3, 4, 5, 6, 1, 2, 3, 4, 5, 6, 2, 3, 6, 1, 2, 3, 4, 5, 6, 1, 2, 3, 4, 5, 6, 1, 2, 3, 4, 5, 6, 2, 1, 2, 3, 4, 1, 2, 3, 4, 5, 6, 1, 2, 3, 4, 5, 6, 4, 1, 2, 6, 1, 2, 3, 4, 5, 6, 1, 2, 1, 2, 3, 4, 5, 6, 4, 1, 2, 3, 4, 5, 6, 1, 2, 3, 4, 5, 6, 1, 1, 1, 3, 6, 1, 2, 3, 4, 5, 6, 1, 5, 3, 5, 1, 2, 3, 2, 3, 4, 1, 3, 4, 1, 2, 3, 4, 5, 6, 1, 2, 3, 4, 5, 6, 3, 1, 2, 3, 4, 5, 6, 1, 2, 3, 4, 5, 6, 1, 2, 3, 4, 5, 6, 1, 2, 3, 4, 5, 6, 1, 2, 3, 4, 5, 6, 1, 4, 1, 2, 3, 4, 5, 6, 1, 2, 3, 4, 5, 1, 2, 3, 4, 5, 6, 1, 2, 3, 4, 5, 6, 1, 2, 3, 4, 5, 6, 1, 2, 3, 4, 5, 6, 1, 2, 3, 4, 5, 6, 3, 5, 1, 2, 3, 4, 5, 6, 1, 1, 2, 3, 4, 5, 6, 1, 2, 3, 4, 5, 6, 1, 2, 3, 4, 6, 1, 2, 3, 4, 5, 6, 1, 2, 3, 4, 5, 6, 1, 2, 3, 4, 5, 6, 1, 2, 3, 5, 6, 1, 2, 3, 4, 5, 6, 1, 2, 3, 4, 5, 6, 1, 2, 3, 4, 5, 6, 1, 2, 3, 4, 5, 6, 1, 2, 3, 4, 5, 6, 1, 2, 3, 5, 1, 2, 3, 4, 5, 6, 4, 4, 3, 1, 2, 3, 4, 5, 1, 2, 3, 4, 1, 2, 3, 4, 5, 6, 1, 2, 3, 4, 5, 6, 1, 2, 1, 2, 3, 4, 5, 6, 1, 2, 3, 4, 5, 6, 1, 2, 3, 5, 1, 2, 3, 4, 1, 2, 3, 4, 5, 6, 1, 2, 1, 2, 3, 4, 5, 6, 1, 2, 3, 4, 5, 6, 1, 2, 3, 4, 5, 6, 3, 1, 2, 3, 4, 5, 6, 1, 2, 3, 4, 5, 6, 1, 2, 3, 4, 5, 6, 2, 1, 2, 3, 1, 2, 3, 4, 5, 6, 1, 2, 3, 4, 5, 6, 1, 2, 3, 4, 5, 1, 2, 3, 4, 5, 6, 1, 2, 3, 6, 2, 1, 2, 1, 2, 3, 4, 5, 6, 1, 2, 3, 4, 6, 1, 2, 3, 4, 5, 6, 1, 2, 3, 4, 5, 6, 1, 5, 1, 2, 3, 4, 5, 6, 1, 2, 3, 4, 5, 6, 1, 2, 3, 4, 5, 6, 1, 2, 3, 4, 5, 6, 1, 2, 3, 4, 5, 6, 1, 2, 3, 4, 5, 6, 1, 2, 3, 4, 5, 6, 1, 2, 3, 4, 5, 6, 1, 2, 3, 4, 5, 6, 1, 2, 3, 4, 5, 6, 1, 1, 2, 3, 5, 1, 5, 1, 2, 3, 4, 1, 2, 3, 4, 5, 6, 1, 2, 3, 4, 5, 6, 1, 2, 3, 1, 2, 3, 1, 2, 3, 4, 5, 6, 1, 2, 3, 4, 5, 6, 1, 2, 3, 4, 5, 6, 1, 2, 3, 4, 5, 6, 1, 2, 3, 4, 5, 6, 1, 2, 3, 4, 5, 6, 5, 1, 2, 3, 4, 5, 6, 3, 5, 1, 2, 3, 4, 6, 1, 2, 3, 4, 5, 6, 1, 2, 3, 4, 5, 6, 1, 2, 3, 4, 5, 6, 3, 5, 1, 2, 3, 4, 5, 6, 1, 2, 3, 4, 6, 1, 2, 3, 4, 6, 3, 1, 2, 3, 4, 5, 6, 1, 2, 3, 4, 5, 6, 1, 2, 3, 4, 5, 6, 1, 2, 3, 4, 5, 6, 1, 2, 3, 4, 5, 6, 1, 2, 3, 1, 2, 3, 4, 5, 6, 1, 3, 5, 1, 2, 3, 4, 5, 6, 1, 2, 3, 4, 5, 6, 1, 2, 3, 4, 5, 6, 1, 2, 3, 5, 6, 1, 2, 3, 4, 6, 1, 2, 3, 4, 5, 6, 1, 2, 3, 4, 5, 6, 1, 2, 3, 4, 5, 6, 2, 2, 3, 1, 2, 3, 4, 5, 6, 1, 2, 3, 4, 5, 6, 2, 3, 1, 2, 3, 1, 2, 3, 4, 5, 6, 1, 2, 3, 4, 5, 6, 1, 2, 3, 4, 5, 6, 1, 2, 3, 4, 5, 6, 1, 1, 2, 3, 4, 5, 6, 1, 2, 3, 5, 1, 2, 3, 4, 5, 6, 1, 6, 1, 2, 3, 4, 5, 6, 1, 2, 3, 4, 5, 6, 1, 2, 3, 1, 2, 3, 4, 5, 6, 1, 2, 3, 4, 5, 6, 1, 2, 3, 4, 5, 6, 1, 2, 3, 4, 5, 6, 1, 2, 3, 4, 5, 6, 1, 1, 2, 3, 6, 1, 2, 3, 4, 5, 6, 1, 2, 3, 4, 5, 6, 1, 2, 3, 5, 1, 2, 1, 2, 1, 2, 3, 4, 5, 6, 1, 2, 3, 4, 5, 6, 1, 2, 3, 4, 5, 6, 1, 2, 3, 6, 1, 2, 6, 1, 2, 3, 4, 5, 6, 2, 2, 1, 2, 3, 4, 6, 2, 1, 2, 3, 4, 5, 6, 2, 2, 1, 2, 3, 4, 5, 6, 1, 2, 3, 6, 1, 2, 6, 1, 2, 3, 4, 5, 6, 1, 2, 3, 4, 5, 6, 1, 2, 3, 4, 5, 6, 2, 1, 2, 3, 4, 5, 6, 1, 2, 3, 4, 5, 6, 1, 2, 3, 4, 5, 6, 1, 2, 3, 4, 5, 6, 1, 2, 3, 4, 5, 6, 1, 2, 3, 4, 5, 6, 2, 1, 2, 3, 5, 1, 2, 3, 4, 5, 6, 5, 1, 2, 3, 4, 5, 6, 1, 2, 3, 4, 5, 6, 1, 3, 5, 1, 2, 3, 4, 5, 6, 1, 2, 3, 4, 5, 6, 1, 2, 3, 4, 5, 6, 1, 2, 3, 4, 5, 6, 4, 1, 2, 3, 4, 5, 1, 2, 3, 4, 5, 6, 1, 2, 3, 4, 5, 6, 1, 2, 3, 4, 5, 6, 1, 2, 3, 4, 5, 6, 1, 2, 3, 4, 5, 6, 6, 1, 6, 1, 3, 5, 1, 2, 3, 4, 5, 6, 1, 2, 3, 4, 5, 1, 2, 3, 4, 5, 6, 1, 3, 5, 1, 2, 3, 4, 5, 6, 1, 2, 3, 4, 5, 6, 3, 1, 4, 1, 2, 3, 4, 5, 6, 1, 2, 3, 4, 5, 6, 1, 2, 3, 5, 1, 2, 3, 4, 5, 6, 1, 2, 3, 4, 5, 6, 4, 5, 1, 2, 3, 4, 5, 6, 1, 2, 3, 4, 5, 6, 1, 2, 3, 4, 5, 6, 1, 6, 1, 2, 3, 4, 5, 6, 1, 2, 3, 4, 5, 6, 2, 1, 2, 3, 4, 5, 6, 1, 2, 3, 4, 5, 6, 1, 2, 1, 2, 3, 4, 5, 6, 1, 2, 3, 4, 5, 6, 1, 2, 3, 4, 5, 6, 1, 2, 3, 4, 5, 6, 1, 2, 3, 4, 5, 6, 1, 4, 1, 2, 3, 4, 5, 6, 1, 2, 3, 4, 5, 6, 2, 1, 2, 3, 5, 2, 2, 1, 2, 3, 4, 5, 6, 1, 2, 3, 4, 5, 6, 1, 2, 3, 4, 5, 6, 1, 2, 3, 4, 5, 6, 1, 3, 5, 1, 2, 3, 4, 5, 6, 1, 2, 3, 4, 5, 6, 1, 2, 3, 4, 5, 6, 1, 2, 3, 4, 5, 6, 1, 2, 3, 4, 5, 6, 1, 3, 5, 2, 4, 5, 1, 2, 3, 4, 5, 6, 1, 2, 3, 5, 1, 2, 3, 4, 5, 6, 2, 1, 2, 3, 4, 5, 6, 1, 2, 3, 4, 5, 6, 1, 2, 3, 4, 5, 6, 1, 2, 3, 4, 5, 6, 1, 2, 3, 4, 5, 6, 2, 1, 2, 3, 1, 3, 5], \"Freq\": [0.23817425966262817, 0.2131032943725586, 0.12535487115383148, 0.12535487115383148, 0.12535487115383148, 0.17549683153629303, 0.5199139714241028, 0.23061709105968475, 0.38171103596687317, 0.1590462625026703, 0.10338007658720016, 0.08747544884681702, 0.031809251755476, 0.3782435953617096, 0.29631277918815613, 0.29631277918815613, 0.29631277918815613, 0.2977055609226227, 0.2977055609226227, 0.2977055609226227, 0.2977055609226227, 0.2382325381040573, 0.1588216871023178, 0.2382325381040573, 0.0794108435511589, 0.0794108435511589, 0.2382325381040573, 0.20306354761123657, 0.46704617142677307, 0.10153177380561829, 0.08122541755437851, 0.12183813005685806, 0.06091906502842903, 0.3571946620941162, 0.14612509310245514, 0.12988896667957306, 0.12988896667957306, 0.08118060976266861, 0.14612509310245514, 0.2179262638092041, 0.10896313190460205, 0.2179262638092041, 0.10896313190460205, 0.2179262638092041, 0.10896313190460205, 0.139054536819458, 0.139054536819458, 0.41716358065605164, 0.139054536819458, 0.34377676248550415, 0.21820560097694397, 0.22643978893756866, 0.08851736783981323, 0.06999047845602036, 0.053522128611803055, 0.26060131192207336, 0.3525782525539398, 0.13796541094779968, 0.07664744555950165, 0.09197694063186646, 0.08175727725028992, 0.28997135162353516, 0.2588174045085907, 0.1725449413061142, 0.11023704707622528, 0.08387601375579834, 0.0862724706530571, 0.3382683992385864, 0.12501223385334015, 0.15442687273025513, 0.21325616538524628, 0.10295125097036362, 0.0661829486489296, 0.5550096035003662, 0.3043079972267151, 0.26607033610343933, 0.16251003742218018, 0.10037384182214737, 0.08603472262620926, 0.08125501871109009, 0.37258902192115784, 0.37258902192115784, 0.18060822784900665, 0.42571941018104553, 0.1419064700603485, 0.11610529571771622, 0.051602352410554886, 0.09030411392450333, 0.24826978147029877, 0.24826978147029877, 0.24826978147029877, 0.24826978147029877, 0.25302574038505554, 0.396634966135025, 0.13677068054676056, 0.0957394689321518, 0.06838534027338028, 0.054708268493413925, 0.47572144865989685, 0.18122722208499908, 0.1359204202890396, 0.0679602101445198, 0.0679602101445198, 0.04530680552124977, 0.17361831665039062, 0.4861312806606293, 0.13889464735984802, 0.06944732367992401, 0.06944732367992401, 0.06944732367992401, 0.5657017230987549, 0.560912549495697, 0.1823374480009079, 0.1215583011507988, 0.2431166023015976, 0.3646748960018158, 0.0607791505753994, 0.0607791505753994, 0.12467785179615021, 0.48485833406448364, 0.13853095471858978, 0.11775130778551102, 0.062338925898075104, 0.06926547735929489, 0.389157772064209, 0.2296030968427658, 0.12453049421310425, 0.08172313123941422, 0.10507260262966156, 0.0739399790763855, 0.35508009791374207, 0.47855496406555176, 0.2770581543445587, 0.10074841231107712, 0.02518710307776928, 0.02518710307776928, 0.07556130737066269, 0.16994225978851318, 0.27190762758255005, 0.1826879382133484, 0.1954336017370224, 0.07647401839494705, 0.10621391236782074, 0.24380776286125183, 0.28813645243644714, 0.1861804723739624, 0.11082170903682709, 0.10638883709907532, 0.06649302691221237, 0.37766537070274353, 0.14258794486522675, 0.27361470460891724, 0.08863575011491776, 0.0770745649933815, 0.042391009628772736, 0.2748982906341553, 0.5497965812683105, 0.20203404128551483, 0.2605946362018585, 0.23131433129310608, 0.11126512289047241, 0.1317613273859024, 0.061488620936870575, 0.15806566178798676, 0.15806566178798676, 0.3951641619205475, 0.15806566178798676, 0.07903283089399338, 0.07903283089399338, 0.46330761909484863, 0.2846726179122925, 0.2846726179122925, 0.25726082921028137, 0.12863041460514069, 0.12863041460514069, 0.25726082921028137, 0.12863041460514069, 0.3432217538356781, 0.21618512272834778, 0.18721185624599457, 0.09137722104787827, 0.09360592812299728, 0.0690900906920433, 0.347272127866745, 0.13627134263515472, 0.20807021856307983, 0.12015322595834732, 0.1186879426240921, 0.07033359259366989, 0.37255632877349854, 0.37255632877349854, 0.27134090662002563, 0.27134090662002563, 0.5426818132400513, 0.30925795435905457, 0.15462897717952728, 0.15462897717952728, 0.15462897717952728, 0.15462897717952728, 0.30925795435905457, 0.2520385980606079, 0.17642702162265778, 0.3024463355541229, 0.10081544518470764, 0.07561158388853073, 0.09241415560245514, 0.34188488125801086, 0.13986200094223022, 0.18648266792297363, 0.21756310760974884, 0.06216089054942131, 0.06216089054942131, 0.30902406573295593, 0.20601603388786316, 0.15451203286647797, 0.12876002490520477, 0.18026402592658997, 0.05150400847196579, 0.24285376071929932, 0.24285376071929932, 0.24285376071929932, 0.24285376071929932, 0.24285376071929932, 0.5264893174171448, 0.175496444106102, 0.175496444106102, 0.3131687343120575, 0.3131687343120575, 0.3131687343120575, 0.7126376032829285, 0.07918195426464081, 0.07918195426464081, 0.07918195426464081, 0.07918195426464081, 0.529643714427948, 0.17654789984226227, 0.10088451206684113, 0.07566338777542114, 0.10088451206684113, 0.02522112801671028, 0.29529905319213867, 0.22967703640460968, 0.1640550196170807, 0.0656220093369484, 0.19686603546142578, 0.0328110046684742, 0.21481944620609283, 0.10740972310304642, 0.26852428913116455, 0.10740972310304642, 0.26852428913116455, 0.10740972310304642, 0.48783355951309204, 0.14712440967559814, 0.11615084111690521, 0.09292067587375641, 0.11615084111690521, 0.03871694952249527, 0.3441667854785919, 0.30114591121673584, 0.11024092137813568, 0.10217451304197311, 0.07528647780418396, 0.06722006946802139, 0.2729954123497009, 0.3333815038204193, 0.14341694116592407, 0.0893210843205452, 0.09812738746404648, 0.06290216743946075, 0.2941052317619324, 0.35292625427246094, 0.12216678261756897, 0.10406800359487534, 0.0542963482439518, 0.07239513099193573, 0.3140507936477661, 0.3140507936477661, 0.3140507936477661, 0.2485153079032898, 0.1920345574617386, 0.25755223631858826, 0.07681382447481155, 0.14910918474197388, 0.07907305657863617, 0.21557725965976715, 0.39798876643180847, 0.14924579858779907, 0.09396957606077194, 0.07185908406972885, 0.07185908406972885, 0.5123036503791809, 0.13281947374343872, 0.1707678884267807, 0.09487105160951614, 0.03794841840863228, 0.05692262947559357, 0.6311447620391846, 0.1732587218284607, 0.1732587218284607, 0.1732587218284607, 0.3465174436569214, 0.19054155051708221, 0.26083841919898987, 0.17019245028495789, 0.18129195272922516, 0.0943458154797554, 0.10174548625946045, 0.27602246403694153, 0.301632821559906, 0.1792723387479782, 0.08821336925029755, 0.07967659085988998, 0.07398540526628494, 0.5947282314300537, 0.3127700090408325, 0.3127700090408325, 0.3127700090408325, 0.5220994353294373, 0.14917126297950745, 0.14917126297950745, 0.07458563148975372, 0.07458563148975372, 0.07458563148975372, 0.7024756073951721, 0.46599656343460083, 0.22438515722751617, 0.197986900806427, 0.184787780046463, 0.1055930107831955, 0.11879213899374008, 0.17158864438533783, 0.5882694721221924, 0.28099146485328674, 0.1605665534734726, 0.1605665534734726, 0.28099146485328674, 0.0802832767367363, 0.04014163836836815, 0.2772524058818817, 0.16635143756866455, 0.22180192172527313, 0.08317571878433228, 0.08317571878433228, 0.19407667219638824, 0.6769033670425415, 0.6931056380271912, 0.17701007425785065, 0.17701007425785065, 0.5310302376747131, 0.6798225045204163, 0.056651875376701355, 0.056651875376701355, 0.056651875376701355, 0.056651875376701355, 0.056651875376701355, 0.3993437588214874, 0.3993437588214874, 0.4054279327392578, 0.4054279327392578, 0.5128147602081299, 0.25640738010406494, 0.25640738010406494, 0.20265668630599976, 0.20265668630599976, 0.4053133726119995, 0.5307623147964478, 0.4007350206375122, 0.4007350206375122, 0.13544009625911713, 0.2031601369380951, 0.4063202738761902, 0.06772004812955856, 0.06772004812955856, 0.06772004812955856, 0.30343031883239746, 0.13871100544929504, 0.19939707219600677, 0.19939707219600677, 0.12137213349342346, 0.04334719106554985, 0.5575991868972778, 0.21908950805664062, 0.4096021056175232, 0.13335882127285004, 0.12383319437503815, 0.0762050449848175, 0.03810252249240875, 0.0942578837275505, 0.5655472874641418, 0.0942578837275505, 0.0942578837275505, 0.0942578837275505, 0.04712894186377525, 0.443546861410141, 0.2057691514492035, 0.11888884752988815, 0.09602560847997665, 0.06401707231998444, 0.06401707231998444, 0.24065010249614716, 0.12032505124807358, 0.24065010249614716, 0.12032505124807358, 0.24065010249614716, 0.12032505124807358, 0.28239139914512634, 0.2078714519739151, 0.22355985641479492, 0.10197467356920242, 0.1294293850660324, 0.05490943789482117, 0.3807350695133209, 0.3807350695133209, 0.28506603837013245, 0.21026889979839325, 0.19614636898040771, 0.13756398856639862, 0.08002771437168121, 0.09153497219085693, 0.21565957367420197, 0.21565957367420197, 0.21565957367420197, 0.43131914734840393, 0.21565957367420197, 0.1599845439195633, 0.21331271529197693, 0.18664862215518951, 0.26664090156555176, 0.10665635764598846, 0.05332817882299423, 0.1785486340522766, 0.1785486340522766, 0.3570972681045532, 0.1785486340522766, 0.0892743170261383, 0.0892743170261383, 0.4732666313648224, 0.09465333074331284, 0.1703759878873825, 0.13251465559005737, 0.07572266459465027, 0.0567919947206974, 0.27118608355522156, 0.1662108302116394, 0.2099505215883255, 0.18370671570301056, 0.052487630397081375, 0.11372320353984833, 0.29460063576698303, 0.2805720567703247, 0.15197652578353882, 0.1285955160856247, 0.07949541509151459, 0.06780491024255753, 0.4041682481765747, 0.4041682481765747, 0.3046828806400299, 0.39173513650894165, 0.11969684809446335, 0.06528919190168381, 0.06528919190168381, 0.06528919190168381, 0.5226543545722961, 0.30183538794517517, 0.35397058725357056, 0.12347810715436935, 0.06859894841909409, 0.09055060893297195, 0.06311102956533432, 0.26833727955818176, 0.24202969670295715, 0.17889150977134705, 0.15784545242786407, 0.08418423682451248, 0.073661208152771, 0.46689653396606445, 0.15563218295574188, 0.15563218295574188, 0.15563218295574188, 0.15563218295574188, 0.20053020119667053, 0.46790382266044617, 0.13368681073188782, 0.06684340536594391, 0.08355425298213959, 0.05013255029916763, 0.338098406791687, 0.1126994639635086, 0.1126994639635086, 0.0563497319817543, 0.1690492033958435, 0.1690492033958435, 0.16216745972633362, 0.16216745972633362, 0.40541863441467285, 0.16216745972633362, 0.08108372986316681, 0.08108372986316681, 0.33040347695350647, 0.11013449728488922, 0.22026899456977844, 0.11013449728488922, 0.22026899456977844, 0.3274292051792145, 0.16255350410938263, 0.27866315841674805, 0.09288771450519562, 0.06966578960418701, 0.06966578960418701, 0.19668546319007874, 0.21853940188884735, 0.37151697278022766, 0.08741576224565506, 0.10926970094442368, 0.04370788112282753, 0.43551409244537354, 0.13958784937858582, 0.20100650191307068, 0.10050325095653534, 0.055835142731666565, 0.06700216978788376, 0.2156057357788086, 0.14373715221881866, 0.14373715221881866, 0.28747430443763733, 0.07186857610940933, 0.07186857610940933, 0.2009754627943039, 0.4689427316188812, 0.13398364186286926, 0.06699182093143463, 0.06699182093143463, 0.06699182093143463, 0.185073122382164, 0.185073122382164, 0.370146244764328, 0.185073122382164, 0.21157774329185486, 0.17631478607654572, 0.21157774329185486, 0.246840700507164, 0.03526295721530914, 0.10578887164592743, 0.4017976224422455, 0.4022212326526642, 0.5608082413673401, 0.12839847803115845, 0.2567969560623169, 0.12839847803115845, 0.2567969560623169, 0.12839847803115845, 0.1631060242652893, 0.1631060242652893, 0.1631060242652893, 0.3262120485305786, 0.27457571029663086, 0.17926843464374542, 0.31088322401046753, 0.11686486005783081, 0.07034584134817123, 0.04765363410115242, 0.17981676757335663, 0.5394502878189087, 0.08990838378667831, 0.08990838378667831, 0.08990838378667831, 0.08990838378667831, 0.6213301420211792, 0.20711004734039307, 0.34399518370628357, 0.17199759185314178, 0.13759806752204895, 0.09173204749822617, 0.10319855064153671, 0.1490645706653595, 0.3094702363014221, 0.13754232227802277, 0.19026687741279602, 0.17192789912223816, 0.07794065028429031, 0.1123262271285057, 0.32498663663864136, 0.16249331831932068, 0.16249331831932068, 0.16249331831932068, 0.18536168336868286, 0.18536168336868286, 0.5560850501060486, 0.18536168336868286, 0.3628882169723511, 0.38676244020462036, 0.08594720810651779, 0.042973604053258896, 0.028649071231484413, 0.10027174651622772, 0.31957656145095825, 0.6391531229019165, 0.3141407370567322, 0.2823924720287323, 0.1320059448480606, 0.10694152861833572, 0.08020614832639694, 0.08521902561187744, 0.3139541745185852, 0.16005507111549377, 0.3047202229499817, 0.11080735176801682, 0.05540367588400841, 0.05540367588400841, 0.22307656705379486, 0.42864421010017395, 0.1335865557193756, 0.05706609785556793, 0.09208393096923828, 0.06614479422569275, 0.5534956455230713, 0.26747971773147583, 0.2473684698343277, 0.26144635677337646, 0.08446728438138962, 0.08848953247070312, 0.052289269864559174, 0.2638554871082306, 0.35443276166915894, 0.16146381199359894, 0.07876283675432205, 0.07876283675432205, 0.06301026791334152, 0.5336487889289856, 0.11758363246917725, 0.15376320481300354, 0.0994938388466835, 0.05426936596632004, 0.045224472880363464, 0.6423437595367432, 0.15731073915958405, 0.15731073915958405, 0.47193220257759094, 0.26629430055618286, 0.1065177246928215, 0.26629430055618286, 0.1065177246928215, 0.213035449385643, 0.1065177246928215, 0.3457326591014862, 0.14405527710914612, 0.26438379287719727, 0.10168607532978058, 0.05253780633211136, 0.08982270210981369, 0.1693134605884552, 0.1693134605884552, 0.3386269211769104, 0.1693134605884552, 0.1693134605884552, 0.29621362686157227, 0.18708229064941406, 0.2221602201461792, 0.15200436115264893, 0.07405340671539307, 0.07015585899353027, 0.21481600403785706, 0.21481600403785706, 0.21481600403785706, 0.21481600403785706, 0.49392732977867126, 0.3170853853225708, 0.6341707706451416, 0.20540791749954224, 0.10270395874977112, 0.513519823551178, 0.10270395874977112, 0.10270395874977112, 0.10270395874977112, 0.17465612292289734, 0.17465612292289734, 0.17465612292289734, 0.17465612292289734, 0.17465612292289734, 0.20970866084098816, 0.10485433042049408, 0.20970866084098816, 0.2621358335018158, 0.05242716521024704, 0.10485433042049408, 0.26337286829948425, 0.28747236728668213, 0.1514824479818344, 0.10500487685203552, 0.11189044266939163, 0.08090539276599884, 0.3995266556739807, 0.3995266556739807, 0.23425869643688202, 0.4133976995944977, 0.1377992331981659, 0.06889961659908295, 0.08267953991889954, 0.05511969327926636, 0.3737567961215973, 0.12272611260414124, 0.1673537939786911, 0.10599073022603989, 0.08925535529851913, 0.139461487531662, 0.2048053741455078, 0.3599609434604645, 0.13964003324508667, 0.15050092339515686, 0.07912934571504593, 0.06516534835100174, 0.19567415118217468, 0.1467556208372116, 0.24459269642829895, 0.19567415118217468, 0.17121487855911255, 0.0733778104186058, 0.23010650277137756, 0.20918773114681244, 0.18303926289081573, 0.1359720230102539, 0.08890478312969208, 0.15166109800338745, 0.33073875308036804, 0.21261776983737946, 0.20474304258823395, 0.0669352263212204, 0.0669352263212204, 0.11812098324298859, 0.26240938901901245, 0.15972745418548584, 0.18254566192626953, 0.148318350315094, 0.148318350315094, 0.09127283096313477, 0.42673638463020325, 0.21133612096309662, 0.1016039028763771, 0.10566806048154831, 0.10566806048154831, 0.04876987263560295, 0.296004980802536, 0.11562693864107132, 0.20350341498851776, 0.2173786461353302, 0.07862631976604462, 0.08787647634744644, 0.3357762098312378, 0.17588278651237488, 0.2758161723613739, 0.09993340075016022, 0.04796803370118141, 0.06395737826824188, 0.5226050615310669, 0.23398326337337494, 0.23398326337337494, 0.23398326337337494, 0.23398326337337494, 0.4013175666332245, 0.4013175666332245, 0.2354586273431778, 0.2354586273431778, 0.2354586273431778, 0.2354586273431778, 0.32566893100738525, 0.20354308187961578, 0.20842811465263367, 0.09281564503908157, 0.09607233107089996, 0.07327550649642944, 0.2785488963127136, 0.21094784140586853, 0.223164901137352, 0.11484033614397049, 0.0847049281001091, 0.08714833855628967, 0.4178429841995239, 0.20892149209976196, 0.20892149209976196, 0.5164220333099365, 0.1721406728029251, 0.1721406728029251, 0.3043728768825531, 0.1684921383857727, 0.20110352337360382, 0.18479782342910767, 0.07065799087285995, 0.07609321922063828, 0.23595213890075684, 0.23595213890075684, 0.11797606945037842, 0.11797606945037842, 0.23595213890075684, 0.11797606945037842, 0.3425862491130829, 0.22671149671077728, 0.23426854610443115, 0.06549443304538727, 0.07808951288461685, 0.05541836470365524, 0.3131119906902313, 0.26954859495162964, 0.14430378377437592, 0.0844041034579277, 0.09257224202156067, 0.09529495239257812, 0.24788114428520203, 0.5233046412467957, 0.055084697902202606, 0.08262704312801361, 0.055084697902202606, 0.055084697902202606, 0.16217778623104095, 0.34057334065437317, 0.17839555442333221, 0.09730666875839233, 0.16217778623104095, 0.04865333437919617, 0.40109729766845703, 0.2669749855995178, 0.2404981255531311, 0.2647685706615448, 0.10149462521076202, 0.06839855015277863, 0.05957293137907982, 0.4020186960697174, 0.4020186960697174, 0.5231192708015442, 0.1743730902671814, 0.0871865451335907, 0.0871865451335907, 0.0871865451335907, 0.19097068905830383, 0.4774267077445984, 0.14322800934314728, 0.04774267226457596, 0.09548534452915192, 0.04774267226457596, 0.2597350776195526, 0.19480131566524506, 0.35713574290275574, 0.09740065783262253, 0.06493376940488815, 0.06493376940488815, 0.2752727270126343, 0.13763636350631714, 0.13763636350631714, 0.2752727270126343, 0.13763636350631714, 0.13763636350631714, 0.4004473388195038, 0.4004473388195038, 0.32047319412231445, 0.24506773054599762, 0.1633784919977188, 0.06912166625261307, 0.0816892459988594, 0.1256757527589798, 0.21163606643676758, 0.21163606643676758, 0.21163606643676758, 0.21163606643676758, 0.21163606643676758, 0.22055327892303467, 0.22055327892303467, 0.44110655784606934, 0.11027663946151733, 0.11027663946151733, 0.37250491976737976, 0.45949265360832214, 0.18188250064849854, 0.14359144866466522, 0.12444592267274857, 0.0670093446969986, 0.028718290850520134, 0.49341174960136414, 0.1973647028207779, 0.13815529644489288, 0.05920941010117531, 0.03947294130921364, 0.07894588261842728, 0.16753578186035156, 0.08376789093017578, 0.4188394546508789, 0.08376789093017578, 0.08376789093017578, 0.08376789093017578, 0.27111440896987915, 0.10166789591312408, 0.23722510039806366, 0.06777860224246979, 0.23722510039806366, 0.06777860224246979, 0.37220391631126404, 0.20745791494846344, 0.18305110931396484, 0.0945764034986496, 0.0701695904135704, 0.07322043925523758, 0.1814117580652237, 0.1814117580652237, 0.5442352890968323, 0.1625903695821762, 0.1354919821023941, 0.2980823516845703, 0.2438855618238449, 0.0812951847910881, 0.0812951847910881, 0.3991609215736389, 0.3991609215736389, 0.3991609215736389, 0.25816184282302856, 0.21943755447864532, 0.3227022886276245, 0.08390259742736816, 0.06454046070575714, 0.04517832025885582, 0.30218157172203064, 0.2007644772529602, 0.2276710569858551, 0.10762631893157959, 0.07865000516176224, 0.08278947323560715, 0.37239640951156616, 0.1452610045671463, 0.2007243037223816, 0.14261990785598755, 0.06338662654161453, 0.07395105808973312, 0.27502724528312683, 0.13751362264156342, 0.13751362264156342, 0.13751362264156342, 0.27502724528312683, 0.2718314826488495, 0.13591574132442474, 0.13591574132442474, 0.13591574132442474, 0.2718314826488495, 0.21190251410007477, 0.10595125705003738, 0.21190251410007477, 0.31785377860069275, 0.05297562852501869, 0.10595125705003738, 0.2866896688938141, 0.1834813803434372, 0.1949489712715149, 0.1032082736492157, 0.0802731066942215, 0.1490786224603653, 0.19905053079128265, 0.4440357983112335, 0.15311579406261444, 0.07655789703130722, 0.07655789703130722, 0.04593473672866821, 0.4880543649196625, 0.2787162959575653, 0.5574325919151306, 0.2448117434978485, 0.24389825761318207, 0.22562873363494873, 0.12149239331483841, 0.09956895560026169, 0.06577032059431076, 0.32095542550086975, 0.22741983830928802, 0.20816251635551453, 0.08986751735210419, 0.06419108062982559, 0.08986751735210419, 0.3694887161254883, 0.3694887161254883, 0.2245483249425888, 0.2245483249425888, 0.4490966498851776, 0.06759364157915115, 0.2703745663166046, 0.4055618345737457, 0.06759364157915115, 0.06759364157915115, 0.06759364157915115, 0.3118678629398346, 0.26186373829841614, 0.172382652759552, 0.07500619441270828, 0.09869235754013062, 0.08158568292856216, 0.2977798283100128, 0.2905168831348419, 0.11983822286128998, 0.1416269838809967, 0.07262922078371048, 0.07626068592071533, 0.19317740201950073, 0.24147175252437592, 0.24147175252437592, 0.09658870100975037, 0.17707927525043488, 0.04829435050487518, 0.3489559292793274, 0.20004265010356903, 0.16432075202465057, 0.38579654693603516, 0.12145446240901947, 0.05001066252589226, 0.07144380360841751, 0.1383771300315857, 0.1383771300315857, 0.5535085201263428, 0.1383771300315857, 0.5127586722373962, 0.13147658109664917, 0.09203360229730606, 0.11832892149686813, 0.05259063094854355, 0.09203360229730606, 0.31052714586257935, 0.31052714586257935, 0.3783699870109558, 0.16334006190299988, 0.19021879136562347, 0.11165016144514084, 0.09097421169281006, 0.06409546732902527, 0.2947641909122467, 0.14527663588523865, 0.2905532717704773, 0.12001113593578339, 0.07579650729894638, 0.06948012858629227, 0.21981951594352722, 0.21981951594352722, 0.43963903188705444, 0.38312527537345886, 0.15459440648555756, 0.21172712743282318, 0.10418318957090378, 0.06049346551299095, 0.08737944811582565, 0.1613079160451889, 0.2150772213935852, 0.1613079160451889, 0.1075386106967926, 0.2150772213935852, 0.1613079160451889, 0.3047359883785248, 0.14646226167678833, 0.2574900984764099, 0.1157524362206459, 0.10394096374511719, 0.0708688348531723, 0.2843836843967438, 0.2488357275724411, 0.1688528060913086, 0.18070213496685028, 0.05628427118062973, 0.059246599674224854, 0.3032534122467041, 0.31571587920188904, 0.1370871663093567, 0.07892896980047226, 0.12047053128480911, 0.0456957183778286, 0.35667532682418823, 0.19561687111854553, 0.586850643157959, 0.19561687111854553, 0.19561687111854553, 0.17526772618293762, 0.17526772618293762, 0.4673806130886078, 0.11684515327215195, 0.058422576636075974, 0.058422576636075974, 0.23886573314666748, 0.38553768396377563, 0.15086257457733154, 0.08381254225969315, 0.06285940110683441, 0.07962191104888916, 0.17722168564796448, 0.35444337129592896, 0.17722168564796448, 0.17722168564796448, 0.3157632648944855, 0.631526529788971, 0.30568617582321167, 0.6113723516464233, 0.33585548400878906, 0.28317227959632874, 0.10207372158765793, 0.07573211938142776, 0.03951241075992584, 0.16463503241539001, 0.42304062843322754, 0.15585707128047943, 0.18554413318634033, 0.08163941651582718, 0.08163941651582718, 0.07421765476465225, 0.19680337607860565, 0.33269140124320984, 0.18743178248405457, 0.10777327418327332, 0.07731560617685318, 0.09371589124202728, 0.17086508870124817, 0.17086508870124817, 0.17086508870124817, 0.17086508870124817, 0.3156837821006775, 0.3156837821006775, 0.3156837821006775, 0.2051170915365219, 0.43953660130500793, 0.1465122103691101, 0.058604881167411804, 0.058604881167411804, 0.0879073217511177, 0.48945552110671997, 0.49922895431518555, 0.18092936277389526, 0.18092936277389526, 0.18092936277389526, 0.3618587255477905, 0.18092936277389526, 0.4664638042449951, 0.18448136746883392, 0.12298758327960968, 0.24597516655921936, 0.36896273493766785, 0.06149379163980484, 0.06149379163980484, 0.49395519495010376, 0.4764181673526764, 0.26127398014068604, 0.17418265342712402, 0.17418265342712402, 0.20321309566497803, 0.10160654783248901, 0.08709132671356201, 0.24421313405036926, 0.24421313405036926, 0.24421313405036926, 0.24421313405036926, 0.31017056107521057, 0.31017056107521057, 0.31017056107521057, 0.20443624258041382, 0.12266174703836441, 0.2862107455730438, 0.24532349407672882, 0.040887247771024704, 0.08177449554204941, 0.11546602845191956, 0.11546602845191956, 0.34639808535575867, 0.11546602845191956, 0.11546602845191956, 0.11546602845191956, 0.248531311750412, 0.3188703656196594, 0.19382315874099731, 0.07190214097499847, 0.10472702980041504, 0.06252360343933105, 0.48960351943969727, 0.1942749172449112, 0.20722657442092896, 0.20722657442092896, 0.11656495183706284, 0.16837158799171448, 0.10361328721046448, 0.22497864067554474, 0.3067890405654907, 0.18407343327999115, 0.09203671663999557, 0.14316822588443756, 0.051131509244441986, 0.43785908818244934, 0.13896127045154572, 0.2123747617006302, 0.07603541016578674, 0.05506012588739395, 0.08127923309803009, 0.28534650802612305, 0.20632746815681458, 0.20193752646446228, 0.11413859575986862, 0.11852854490280151, 0.07023914158344269, 0.24203717708587646, 0.12101858854293823, 0.12101858854293823, 0.12101858854293823, 0.12101858854293823, 0.24203717708587646, 0.32703331112861633, 0.18531887233257294, 0.17005731165409088, 0.12863309681415558, 0.09810999035835266, 0.09156932681798935, 0.6600622534751892, 0.29880818724632263, 0.29880818724632263, 0.29880818724632263, 0.29880818724632263, 0.24070589244365692, 0.08023529499769211, 0.24070589244365692, 0.08023529499769211, 0.24070589244365692, 0.08023529499769211, 0.40918824076652527, 0.17658261954784393, 0.17658261954784393, 0.22072826325893402, 0.2648739218711853, 0.04414565488696098, 0.08829130977392197, 0.43607932329177856, 0.19986969232559204, 0.21803966164588928, 0.05450991541147232, 0.05450991541147232, 0.0454249307513237, 0.393780916929245, 0.393780916929245, 0.393780916929245, 0.2358296662569046, 0.25883743166923523, 0.14955051243305206, 0.15530246496200562, 0.08052720129489899, 0.12079080194234848, 0.21540962159633636, 0.30574268102645874, 0.20151221752166748, 0.08338436484336853, 0.13202525675296783, 0.05558957904577255, 0.17418541014194489, 0.4180449843406677, 0.16257305443286896, 0.08515731245279312, 0.11225282400846481, 0.050320230424404144, 0.4778374135494232, 0.191134974360466, 0.095567487180233, 0.095567487180233, 0.095567487180233, 0.095567487180233, 0.5856884121894836, 0.4451492428779602, 0.14838308095932007, 0.14838308095932007, 0.14838308095932007, 0.14838308095932007, 0.5092779397964478, 0.16975931823253632, 0.16975931823253632, 0.05658643692731857, 0.05658643692731857, 0.028293218463659286, 0.4882417321205139, 0.13019779324531555, 0.19529668986797333, 0.08137362450361252, 0.06509889662265778, 0.04882417246699333, 0.27337774634361267, 0.24533900618553162, 0.18225184082984924, 0.06308717280626297, 0.11916466057300568, 0.12617434561252594, 0.29661625623703003, 0.17055435478687286, 0.18538516759872437, 0.08156947046518326, 0.14089272916316986, 0.12606191635131836, 0.48693227767944336, 0.2864307463169098, 0.11457230150699615, 0.02864307537674904, 0.02864307537674904, 0.05728615075349808, 0.42554134130477905, 0.5202268958091736, 0.412647545337677, 0.39876511693000793, 0.39876511693000793, 0.39876511693000793, 0.3990992605686188, 0.18858535587787628, 0.18858535587787628, 0.07894270867109299, 0.08332841098308563, 0.05701417848467827, 0.13928945362567902, 0.5571578145027161, 0.13928945362567902, 0.13928945362567902, 0.13928945362567902, 0.22579792141914368, 0.41054168343544006, 0.1436895877122879, 0.08210833370685577, 0.07184479385614395, 0.07184479385614395, 0.4006037712097168, 0.4006037712097168, 0.4006037712097168, 0.16269762814044952, 0.16269762814044952, 0.48809289932250977, 0.16269762814044952, 0.16269762814044952, 0.16269762814044952, 0.25307902693748474, 0.20976684987545013, 0.25732532143592834, 0.09256917238235474, 0.09256917238235474, 0.09426768869161606, 0.5600438714027405, 0.39212164282798767, 0.39212164282798767, 0.23284535109996796, 0.18627627193927765, 0.23284535109996796, 0.27941441535949707, 0.04656906798481941, 0.04656906798481941, 0.1659793108701706, 0.2489689737558365, 0.0829896554350853, 0.2489689737558365, 0.1659793108701706, 0.0829896554350853, 0.292148619890213, 0.292148619890213, 0.292148619890213, 0.292148619890213, 0.231702521443367, 0.24825270473957062, 0.18205198645591736, 0.09930108487606049, 0.18205198645591736, 0.04965054243803024, 0.40382158756256104, 0.12192950397729874, 0.28077346086502075, 0.09060816466808319, 0.05704958736896515, 0.04586339369416237, 0.31622079014778137, 0.31622079014778137, 0.24393510818481445, 0.2276727706193924, 0.3171156346797943, 0.10570520907640457, 0.04878702014684677, 0.0569181926548481, 0.21538116037845612, 0.38088458776474, 0.19270946085453033, 0.08161812275648117, 0.04987774416804314, 0.07708378881216049, 0.2751692831516266, 0.29204288125038147, 0.22065462172031403, 0.08436794579029083, 0.06230248138308525, 0.06619638204574585, 0.3142821192741394, 0.3142821192741394, 0.182909294962883, 0.17147746682167053, 0.4229777455329895, 0.11431831121444702, 0.06859098374843597, 0.05715915560722351, 0.40148138999938965, 0.23321346938610077, 0.14907948672771454, 0.09299017488956451, 0.0649455189704895, 0.05904138460755348, 0.49264204502105713, 0.1523628681898117, 0.22854429483413696, 0.1523628681898117, 0.22854429483413696, 0.07618143409490585, 0.22854429483413696, 0.2485472559928894, 0.2103092223405838, 0.1625116765499115, 0.1816306859254837, 0.1529521644115448, 0.0477975495159626, 0.24484685063362122, 0.48969370126724243, 0.1974550038576126, 0.3231081962585449, 0.21181537210941315, 0.10052254796028137, 0.0933423712849617, 0.07539191097021103, 0.21512389183044434, 0.36064887046813965, 0.12970705330371857, 0.15185216069221497, 0.09174401313066483, 0.053780972957611084, 0.26959294080734253, 0.17972862720489502, 0.13479647040367126, 0.13479647040367126, 0.17972862720489502, 0.08986431360244751, 0.3513753414154053, 0.19044005870819092, 0.18775780498981476, 0.1126546859741211, 0.08046763390302658, 0.07778538018465042, 0.31001725792884827, 0.290641188621521, 0.14091694355010986, 0.0792657732963562, 0.10216477513313293, 0.0792657732963562, 0.39391621947288513, 0.39391621947288513, 0.1884501874446869, 0.1884501874446869, 0.3769003748893738, 0.07066881656646729, 0.09422509372234344, 0.07066881656646729, 0.28763219714164734, 0.23533542454242706, 0.20918704569339752, 0.11185695976018906, 0.08861395716667175, 0.06682363897562027, 0.6347026228904724, 0.22905339300632477, 0.22905339300632477, 0.45810678601264954, 0.22905339300632477, 0.46870481967926025, 0.4708135724067688, 0.4747878313064575, 0.17584733664989471, 0.14067786931991577, 0.052754200994968414, 0.08792366832494736, 0.052754200994968414, 0.5779210925102234, 0.16647933423519135, 0.059456903487443924, 0.08561793714761734, 0.05707862600684166, 0.054700352251529694, 0.192263662815094, 0.1281757801771164, 0.192263662815094, 0.2563515603542328, 0.1281757801771164, 0.0640878900885582, 0.20777557790279388, 0.5099945664405823, 0.0755547508597374, 0.0944434404373169, 0.056666065007448196, 0.056666065007448196, 0.397470623254776, 0.397470623254776, 0.397470623254776, 0.24005675315856934, 0.22005201876163483, 0.27206429839134216, 0.09602269530296326, 0.08802080899477005, 0.08401986211538315, 0.5675451159477234, 0.15478502213954926, 0.10319001972675323, 0.10319001972675323, 0.05159500986337662, 0.05159500986337662, 0.3339824974536896, 0.25163066387176514, 0.20130452513694763, 0.07320164144039154, 0.07777674496173859, 0.061763886362314224, 0.15955018997192383, 0.23932528495788574, 0.23932528495788574, 0.07977509498596191, 0.07977509498596191, 0.23932528495788574, 0.37678322196006775, 0.19239993393421173, 0.18972772359848022, 0.12024996429681778, 0.06146109104156494, 0.05878886952996254, 0.39780277013778687, 0.39780277013778687, 0.39780277013778687, 0.2582108974456787, 0.2582108974456787, 0.2582108974456787, 0.21299903094768524, 0.2646351456642151, 0.2581806480884552, 0.1613629013299942, 0.0645451620221138, 0.04195435345172882, 0.2940696179866791, 0.2940696179866791, 0.2940696179866791, 0.2940696179866791, 0.27464166283607483, 0.27125102281570435, 0.1966570019721985, 0.08815658837556839, 0.12206296622753143, 0.04068765416741371, 0.47902196645736694, 0.23984798789024353, 0.26649776101112366, 0.22918806970119476, 0.11637069284915924, 0.07817267626523972, 0.07017774134874344, 0.2475190907716751, 0.12375954538583755, 0.2475190907716751, 0.06187977269291878, 0.3093988597393036, 0.12375954538583755, 0.31140702962875366, 0.20397840440273285, 0.19853898882865906, 0.12238704413175583, 0.05983366817235947, 0.10198920220136642, 0.22996029257774353, 0.11498014628887177, 0.2682870030403137, 0.03832671418786049, 0.2682870030403137, 0.07665342837572098, 0.3356460928916931, 0.2301078885793686, 0.14879156649112701, 0.1332203596830368, 0.08996699750423431, 0.062284842133522034, 0.47254449129104614, 0.5934423208236694, 0.14836058020591736, 0.14836058020591736, 0.3981819748878479, 0.3981819748878479, 0.3981819748878479], \"Term\": [\"abc\", \"abc\", \"abc\", \"abc\", \"abc\", \"abc\", \"accompany\", \"act\", \"act\", \"act\", \"act\", \"act\", \"act\", \"adjustment\", \"afc\", \"afc\", \"afc\", \"ahmad\", \"ahmad\", \"ahmad\", \"ahmad\", \"ahmadiyya\", \"ahmadiyya\", \"ahmadiyya\", \"ahmadiyya\", \"ahmadiyya\", \"ahmadiyya\", \"aid\", \"aid\", \"aid\", \"aid\", \"aid\", \"aid\", \"alchemy\", \"alchemy\", \"alchemy\", \"alchemy\", \"alchemy\", \"alchemy\", \"alexei\", \"alexei\", \"alexei\", \"alexei\", \"alexei\", \"alexei\", \"alleged\", \"alleged\", \"alleged\", \"alleged\", \"also\", \"also\", \"also\", \"also\", \"also\", \"also\", \"always\", \"always\", \"always\", \"always\", \"always\", \"always\", \"apr\", \"apr\", \"apr\", \"apr\", \"apr\", \"apr\", \"april\", \"april\", \"april\", \"april\", \"april\", \"april\", \"arrange\", \"article\", \"article\", \"article\", \"article\", \"article\", \"article\", \"asc\", \"asc\", \"assume\", \"assume\", \"assume\", \"assume\", \"assume\", \"assume\", \"athanasian\", \"athanasian\", \"athanasian\", \"athanasian\", \"atheist\", \"atheist\", \"atheist\", \"atheist\", \"atheist\", \"atheist\", \"athens\", \"athens\", \"athens\", \"athens\", \"athens\", \"athens\", \"atterlep\", \"atterlep\", \"atterlep\", \"atterlep\", \"atterlep\", \"atterlep\", \"attested\", \"attracts\", \"austria\", \"austria\", \"austria\", \"austria\", \"austria\", \"austria\", \"authority\", \"authority\", \"authority\", \"authority\", \"authority\", \"authority\", \"back\", \"back\", \"back\", \"back\", \"back\", \"back\", \"backbo\", \"baltimore\", \"baltimore\", \"baltimore\", \"baltimore\", \"baltimore\", \"baltimore\", \"belief\", \"belief\", \"belief\", \"belief\", \"belief\", \"belief\", \"believe\", \"believe\", \"believe\", \"believe\", \"believe\", \"believe\", \"best\", \"best\", \"best\", \"best\", \"best\", \"best\", \"bi\", \"bi\", \"bible\", \"bible\", \"bible\", \"bible\", \"bible\", \"bible\", \"bjorn\", \"bjorn\", \"bjorn\", \"bjorn\", \"bjorn\", \"bjorn\", \"blasphemy\", \"bonehead\", \"bonehead\", \"brook\", \"brook\", \"brook\", \"brook\", \"brook\", \"c\", \"c\", \"c\", \"c\", \"c\", \"c\", \"ca\", \"ca\", \"ca\", \"ca\", \"ca\", \"ca\", \"calculate\", \"calculate\", \"calculation\", \"calculation\", \"calculation\", \"caleb\", \"caleb\", \"caleb\", \"caleb\", \"caleb\", \"caleb\", \"called\", \"called\", \"called\", \"called\", \"called\", \"called\", \"canuck\", \"canuck\", \"canuck\", \"canuck\", \"canuck\", \"canuck\", \"carleton\", \"carleton\", \"carleton\", \"carleton\", \"carleton\", \"carleton\", \"cbnewsi\", \"cbnewsi\", \"cbnewsi\", \"cbnewsi\", \"cbnewsi\", \"cbnewsm\", \"cbnewsm\", \"cbnewsm\", \"ccohen\", \"ccohen\", \"ccohen\", \"cellar\", \"cellar\", \"cellar\", \"cellar\", \"cellar\", \"ceremonial\", \"ceremonial\", \"ceremonial\", \"ceremonial\", \"ceremonial\", \"ceremonial\", \"cf\", \"cf\", \"cf\", \"cf\", \"cf\", \"cf\", \"cgy\", \"cgy\", \"cgy\", \"cgy\", \"cgy\", \"cgy\", \"chi\", \"chi\", \"chi\", \"chi\", \"chi\", \"chi\", \"christ\", \"christ\", \"christ\", \"christ\", \"christ\", \"christ\", \"christian\", \"christian\", \"christian\", \"christian\", \"christian\", \"christian\", \"christianity\", \"christianity\", \"christianity\", \"christianity\", \"christianity\", \"christianity\", \"chu\", \"chu\", \"chu\", \"church\", \"church\", \"church\", \"church\", \"church\", \"church\", \"claim\", \"claim\", \"claim\", \"claim\", \"claim\", \"claim\", \"clarkson\", \"clarkson\", \"clarkson\", \"clarkson\", \"clarkson\", \"clarkson\", \"cliche\", \"coin\", \"coin\", \"coin\", \"coin\", \"com\", \"com\", \"com\", \"com\", \"com\", \"com\", \"come\", \"come\", \"come\", \"come\", \"come\", \"come\", \"commemorates\", \"commentating\", \"commentating\", \"commentating\", \"consistently\", \"consistently\", \"consistently\", \"consistently\", \"consistently\", \"consistently\", \"constellation\", \"consumed\", \"coverage\", \"coverage\", \"coverage\", \"coverage\", \"coverage\", \"coverage\", \"covet\", \"cray\", \"cray\", \"cray\", \"cray\", \"cray\", \"cray\", \"creed\", \"creed\", \"creed\", \"creed\", \"creed\", \"creed\", \"ctr\", \"cwxnf\", \"dab\", \"dab\", \"dab\", \"darling\", \"darling\", \"darling\", \"darling\", \"darling\", \"darling\", \"darrin\", \"darrin\", \"dawe\", \"dawe\", \"defenceman\", \"defenceman\", \"defenceman\", \"delarocq\", \"delarocq\", \"delarocq\", \"demolish\", \"derrell\", \"derrell\", \"designated\", \"designated\", \"designated\", \"designated\", \"designated\", \"designated\", \"det\", \"det\", \"det\", \"det\", \"det\", \"det\", \"devotional\", \"die\", \"die\", \"die\", \"die\", \"die\", \"die\", \"disease\", \"disease\", \"disease\", \"disease\", \"disease\", \"disease\", \"division\", \"division\", \"division\", \"division\", \"division\", \"division\", \"dmitri\", \"dmitri\", \"dmitri\", \"dmitri\", \"dmitri\", \"dmitri\", \"e\", \"e\", \"e\", \"e\", \"e\", \"e\", \"easton\", \"easton\", \"edu\", \"edu\", \"edu\", \"edu\", \"edu\", \"edu\", \"emma\", \"emma\", \"emma\", \"emma\", \"emma\", \"eos\", \"eos\", \"eos\", \"eos\", \"eos\", \"eos\", \"epa\", \"epa\", \"epa\", \"epa\", \"epa\", \"epa\", \"ericsson\", \"ericsson\", \"ericsson\", \"ericsson\", \"ericsson\", \"ericsson\", \"european\", \"european\", \"european\", \"european\", \"european\", \"european\", \"even\", \"even\", \"even\", \"even\", \"even\", \"even\", \"evgeny\", \"evgeny\", \"exists\", \"exists\", \"exists\", \"exists\", \"exists\", \"exists\", \"facthq\", \"faith\", \"faith\", \"faith\", \"faith\", \"faith\", \"faith\", \"fan\", \"fan\", \"fan\", \"fan\", \"fan\", \"fan\", \"fau\", \"fau\", \"fau\", \"fau\", \"fau\", \"fear\", \"fear\", \"fear\", \"fear\", \"fear\", \"fear\", \"ferguson\", \"ferguson\", \"ferguson\", \"ferguson\", \"ferguson\", \"ferguson\", \"ferreira\", \"ferreira\", \"ferreira\", \"ferreira\", \"ferreira\", \"ferreira\", \"filioque\", \"filioque\", \"filioque\", \"filioque\", \"filioque\", \"first\", \"first\", \"first\", \"first\", \"first\", \"first\", \"fisher\", \"fisher\", \"fisher\", \"fisher\", \"fisher\", \"fisher\", \"flyer\", \"flyer\", \"flyer\", \"flyer\", \"flyer\", \"flyer\", \"fmsalvat\", \"fmsalvat\", \"fmsalvat\", \"fmsalvat\", \"fmsalvat\", \"fmsalvat\", \"forgiveness\", \"forgiveness\", \"forgiveness\", \"forgiveness\", \"forgiveness\", \"forgiveness\", \"formeza\", \"formeza\", \"formeza\", \"formeza\", \"france\", \"france\", \"france\", \"france\", \"france\", \"france\", \"franjion\", \"franjione\", \"fret\", \"futon\", \"futon\", \"futon\", \"futon\", \"futon\", \"gak\", \"gak\", \"gak\", \"gak\", \"game\", \"game\", \"game\", \"game\", \"game\", \"game\", \"genetic\", \"genetic\", \"genetic\", \"genetic\", \"genetic\", \"genetic\", \"genie\", \"genie\", \"gerald\", \"gerald\", \"gerald\", \"gerald\", \"gerald\", \"gerald\", \"get\", \"get\", \"get\", \"get\", \"get\", \"get\", \"gilbert\", \"gilbert\", \"gilbert\", \"gilbert\", \"gjp\", \"gjp\", \"gjp\", \"gjp\", \"gm\", \"gm\", \"gm\", \"gm\", \"gm\", \"gm\", \"gnosis\", \"gnosis\", \"go\", \"go\", \"go\", \"go\", \"go\", \"go\", \"goal\", \"goal\", \"goal\", \"goal\", \"goal\", \"goal\", \"god\", \"god\", \"god\", \"god\", \"god\", \"god\", \"golly\", \"good\", \"good\", \"good\", \"good\", \"good\", \"good\", \"great\", \"great\", \"great\", \"great\", \"great\", \"great\", \"guy\", \"guy\", \"guy\", \"guy\", \"guy\", \"guy\", \"hatch\", \"helgesen\", \"helgesen\", \"helgesen\", \"hfd\", \"hfd\", \"hfd\", \"hfd\", \"hfd\", \"hfd\", \"hockey\", \"hockey\", \"hockey\", \"hockey\", \"hockey\", \"hockey\", \"holme\", \"holme\", \"holme\", \"holme\", \"holme\", \"host\", \"host\", \"host\", \"host\", \"host\", \"host\", \"hub\", \"hub\", \"hub\", \"hub\", \"impart\", \"irony\", \"irony\", \"irvin\", \"irvin\", \"irvin\", \"irvin\", \"irvin\", \"irvin\", \"islamic\", \"islamic\", \"islamic\", \"islamic\", \"islamic\", \"italy\", \"italy\", \"italy\", \"italy\", \"italy\", \"italy\", \"jesus\", \"jesus\", \"jesus\", \"jesus\", \"jesus\", \"jesus\", \"jozef\", \"jozef\", \"judge\", \"judge\", \"judge\", \"judge\", \"judge\", \"judge\", \"king\", \"king\", \"king\", \"king\", \"king\", \"king\", \"know\", \"know\", \"know\", \"know\", \"know\", \"know\", \"kulikauskas\", \"kulikauskas\", \"kulikauskas\", \"kulikauskas\", \"kulikauskas\", \"kulikauskas\", \"l\", \"l\", \"l\", \"l\", \"l\", \"l\", \"la\", \"la\", \"la\", \"la\", \"la\", \"la\", \"language\", \"language\", \"language\", \"language\", \"language\", \"language\", \"law\", \"law\", \"law\", \"law\", \"law\", \"law\", \"leaf\", \"leaf\", \"leaf\", \"leaf\", \"leaf\", \"leaf\", \"league\", \"league\", \"league\", \"league\", \"league\", \"league\", \"lemer\", \"ley\", \"ley\", \"ley\", \"ley\", \"liberating\", \"liberating\", \"lictor\", \"lictor\", \"lictor\", \"lictor\", \"like\", \"like\", \"like\", \"like\", \"like\", \"like\", \"line\", \"line\", \"line\", \"line\", \"line\", \"line\", \"lmc\", \"lmc\", \"lmc\", \"lmcdapi\", \"lmcdapi\", \"lmcdapi\", \"look\", \"look\", \"look\", \"look\", \"look\", \"look\", \"lyric\", \"lyric\", \"lyric\", \"lyric\", \"lyric\", \"lyric\", \"make\", \"make\", \"make\", \"make\", \"make\", \"make\", \"many\", \"many\", \"many\", \"many\", \"many\", \"many\", \"maria\", \"maria\", \"maria\", \"maria\", \"maria\", \"maria\", \"mass\", \"mass\", \"mass\", \"mass\", \"mass\", \"mass\", \"mathieu\", \"may\", \"may\", \"may\", \"may\", \"may\", \"may\", \"mcammond\", \"mcammond\", \"melrose\", \"melrose\", \"melrose\", \"melrose\", \"melrose\", \"mercy\", \"mercy\", \"mercy\", \"mercy\", \"mercy\", \"mercy\", \"miami\", \"miami\", \"miami\", \"miami\", \"miami\", \"miami\", \"michae\", \"michae\", \"michae\", \"michae\", \"michae\", \"michae\", \"michal\", \"michal\", \"mike\", \"mike\", \"mike\", \"mike\", \"mike\", \"mike\", \"mill\", \"mill\", \"mill\", \"mill\", \"mill\", \"mnhcc\", \"mnhcc\", \"mnhcc\", \"mnhcc\", \"mnhcc\", \"modified\", \"mon\", \"mon\", \"mon\", \"mon\", \"mon\", \"mon\", \"moncton\", \"moncton\", \"moncton\", \"moncton\", \"moncton\", \"moncton\", \"monophysitism\", \"monophysitism\", \"monophysitism\", \"monophysitism\", \"monophysitism\", \"monophysitism\", \"mtl\", \"mtl\", \"mtl\", \"mtl\", \"mtl\", \"mtl\", \"much\", \"much\", \"much\", \"much\", \"much\", \"much\", \"nagy\", \"nagy\", \"nagy\", \"ncsu\", \"ncsu\", \"ncsu\", \"ncsu\", \"ncsu\", \"ncsu\", \"neal\", \"neal\", \"neal\", \"net\", \"net\", \"net\", \"net\", \"net\", \"net\", \"new\", \"new\", \"new\", \"new\", \"new\", \"new\", \"nhl\", \"nhl\", \"nhl\", \"nhl\", \"nhl\", \"nhl\", \"nicene\", \"nicene\", \"nicene\", \"nicene\", \"nicene\", \"node\", \"node\", \"node\", \"node\", \"node\", \"norway\", \"norway\", \"norway\", \"norway\", \"norway\", \"norway\", \"ny\", \"ny\", \"ny\", \"ny\", \"ny\", \"ny\", \"oakland\", \"oakland\", \"oakland\", \"oakland\", \"oakland\", \"oakland\", \"occurrence\", \"octapus\", \"octapus\", \"one\", \"one\", \"one\", \"one\", \"one\", \"one\", \"organization\", \"organization\", \"organization\", \"organization\", \"organization\", \"organization\", \"packaging\", \"packaging\", \"pandelios\", \"pandelios\", \"pandelios\", \"pentecostal\", \"pentecostal\", \"pentecostal\", \"pentecostal\", \"pentecostal\", \"pentecostal\", \"people\", \"people\", \"people\", \"people\", \"people\", \"people\", \"period\", \"period\", \"period\", \"period\", \"period\", \"period\", \"phi\", \"phi\", \"phi\", \"phi\", \"phi\", \"phi\", \"piche\", \"pick\", \"pick\", \"pick\", \"pick\", \"pick\", \"pick\", \"pinetree\", \"pinetree\", \"pinetree\", \"pinetree\", \"pitt\", \"pitt\", \"pitt\", \"pitt\", \"pitt\", \"pitt\", \"pittsburgher\", \"pittsburgher\", \"play\", \"play\", \"play\", \"play\", \"play\", \"play\", \"player\", \"player\", \"player\", \"player\", \"player\", \"player\", \"playmaker\", \"playmaker\", \"playmaker\", \"playoff\", \"playoff\", \"playoff\", \"playoff\", \"playoff\", \"playoff\", \"plymouth\", \"plymouth\", \"plymouth\", \"plymouth\", \"plymouth\", \"plymouth\", \"point\", \"point\", \"point\", \"point\", \"point\", \"point\", \"posting\", \"posting\", \"posting\", \"posting\", \"posting\", \"posting\", \"power\", \"power\", \"power\", \"power\", \"power\", \"power\", \"ppdccinnbe\", \"pressing\", \"pressing\", \"pressing\", \"pressing\", \"private\", \"private\", \"private\", \"private\", \"private\", \"private\", \"problem\", \"problem\", \"problem\", \"problem\", \"problem\", \"problem\", \"procom\", \"procom\", \"procom\", \"procom\", \"prop\", \"prop\", \"proscribed\", \"proscribed\", \"pt\", \"pt\", \"pt\", \"pt\", \"pt\", \"pt\", \"puck\", \"puck\", \"puck\", \"puck\", \"puck\", \"puck\", \"question\", \"question\", \"question\", \"question\", \"question\", \"question\", \"rana\", \"rana\", \"rana\", \"rana\", \"reaped\", \"reaped\", \"reaped\", \"reasoning\", \"reasoning\", \"reasoning\", \"reasoning\", \"reasoning\", \"reasoning\", \"rebelling\", \"recycle\", \"relegation\", \"relegation\", \"relegation\", \"relegation\", \"relegation\", \"replicate\", \"republic\", \"republic\", \"republic\", \"republic\", \"republic\", \"republic\", \"retort\", \"rewarding\", \"richard\", \"richard\", \"richard\", \"richard\", \"richard\", \"richard\", \"rintintin\", \"rintintin\", \"rintintin\", \"rintintin\", \"ripping\", \"ripping\", \"ripping\", \"russia\", \"russia\", \"russia\", \"russia\", \"russia\", \"russia\", \"samuelson\", \"samuelson\", \"samuelson\", \"samuelson\", \"samuelson\", \"samuelson\", \"say\", \"say\", \"say\", \"say\", \"say\", \"say\", \"scandal\", \"scott\", \"scott\", \"scott\", \"scott\", \"scott\", \"scott\", \"scripture\", \"scripture\", \"scripture\", \"scripture\", \"scripture\", \"scripture\", \"season\", \"season\", \"season\", \"season\", \"season\", \"season\", \"second\", \"second\", \"second\", \"second\", \"second\", \"second\", \"sect\", \"sect\", \"sect\", \"sect\", \"sect\", \"sect\", \"see\", \"see\", \"see\", \"see\", \"see\", \"see\", \"segment\", \"semenov\", \"semenov\", \"semenov\", \"semenov\", \"sergei\", \"sergei\", \"sergei\", \"sergei\", \"sergei\", \"sergei\", \"sergio\", \"sgi\", \"sgi\", \"sgi\", \"sgi\", \"sgi\", \"sgi\", \"shark\", \"shark\", \"shark\", \"shark\", \"shark\", \"shark\", \"shaun\", \"shaun\", \"shaun\", \"shot\", \"shot\", \"shot\", \"shot\", \"shot\", \"shot\", \"show\", \"show\", \"show\", \"show\", \"show\", \"show\", \"sin\", \"sin\", \"sin\", \"sin\", \"sin\", \"sin\", \"skipjack\", \"skipjack\", \"skipjack\", \"skipjack\", \"skipjack\", \"skipjack\", \"skirmish\", \"slawren\", \"slawren\", \"slawren\", \"slawren\", \"slawren\", \"sm\", \"sm\", \"sm\", \"sm\", \"sm\", \"sm\", \"soderstrom\", \"soderstrom\", \"soderstrom\", \"soderstrom\", \"soderstrom\", \"soderstrom\", \"son\", \"son\", \"son\", \"son\", \"son\", \"son\", \"spirit\", \"spirit\", \"spirit\", \"spirit\", \"spirit\", \"spirit\", \"springfield\", \"springfield\", \"springfield\", \"springfield\", \"springfield\", \"springfield\", \"sproul\", \"startide\", \"steinbakken\", \"stephan\", \"stephan\", \"stephan\", \"still\", \"still\", \"still\", \"still\", \"still\", \"still\", \"storrs\", \"storrs\", \"storrs\", \"storrs\", \"storrs\", \"study\", \"study\", \"study\", \"study\", \"study\", \"study\", \"stumpel\", \"stumpel\", \"stumpel\", \"stuppid\", \"stuppid\", \"stuppid\", \"stuppid\", \"stuppid\", \"stuppid\", \"subject\", \"subject\", \"subject\", \"subject\", \"subject\", \"subject\", \"subset\", \"sunee\", \"sunee\", \"switzerland\", \"switzerland\", \"switzerland\", \"switzerland\", \"switzerland\", \"switzerland\", \"taber\", \"taber\", \"taber\", \"taber\", \"taber\", \"taber\", \"tatarinov\", \"tatarinov\", \"tatarinov\", \"tatarinov\", \"tb\", \"tb\", \"tb\", \"tb\", \"tb\", \"tb\", \"team\", \"team\", \"team\", \"team\", \"team\", \"team\", \"tfbbs\", \"tfbbs\", \"th\", \"th\", \"th\", \"th\", \"th\", \"th\", \"thing\", \"thing\", \"thing\", \"thing\", \"thing\", \"thing\", \"think\", \"think\", \"think\", \"think\", \"think\", \"think\", \"thrilled\", \"thrilled\", \"tie\", \"tie\", \"tie\", \"tie\", \"tie\", \"tie\", \"time\", \"time\", \"time\", \"time\", \"time\", \"time\", \"tiring\", \"tm\", \"tm\", \"tm\", \"tm\", \"tm\", \"tm\", \"tor\", \"tor\", \"tor\", \"tor\", \"tor\", \"tor\", \"transmitted\", \"transmitted\", \"true\", \"true\", \"true\", \"true\", \"true\", \"true\", \"truth\", \"truth\", \"truth\", \"truth\", \"truth\", \"truth\", \"turgeon\", \"turgeon\", \"turgeon\", \"turgeon\", \"turgeon\", \"turgeon\", \"two\", \"two\", \"two\", \"two\", \"two\", \"two\", \"u\", \"u\", \"u\", \"u\", \"u\", \"u\", \"ubvmsc\", \"ubvmsc\", \"ucs\", \"ucs\", \"ucs\", \"ucs\", \"ucs\", \"ucs\", \"university\", \"university\", \"university\", \"university\", \"university\", \"university\", \"unwisely\", \"upperdeck\", \"upperdeck\", \"upperdeck\", \"upperdeck\", \"usurping\", \"utmost\", \"uwo\", \"uwo\", \"uwo\", \"uwo\", \"uwo\", \"uwo\", \"v\", \"v\", \"v\", \"v\", \"v\", \"v\", \"valerie\", \"valerie\", \"valerie\", \"valerie\", \"valerie\", \"valerie\", \"vela\", \"vela\", \"vela\", \"vela\", \"vela\", \"vela\", \"vilgrain\", \"vilgrain\", \"vilgrain\", \"want\", \"want\", \"want\", \"want\", \"want\", \"want\", \"wash\", \"wash\", \"wash\", \"wash\", \"wash\", \"wash\", \"way\", \"way\", \"way\", \"way\", \"way\", \"way\", \"weaver\", \"weaver\", \"weaver\", \"weaver\", \"weaver\", \"weaver\", \"well\", \"well\", \"well\", \"well\", \"well\", \"well\", \"whitney\", \"whitney\", \"whitney\", \"wimsey\", \"wimsey\", \"wimsey\", \"win\", \"win\", \"win\", \"win\", \"win\", \"win\", \"woolley\", \"woolley\", \"woolley\", \"woolley\", \"word\", \"word\", \"word\", \"word\", \"word\", \"word\", \"worthiness\", \"would\", \"would\", \"would\", \"would\", \"would\", \"would\", \"wpg\", \"wpg\", \"wpg\", \"wpg\", \"wpg\", \"wpg\", \"writes\", \"writes\", \"writes\", \"writes\", \"writes\", \"writes\", \"wsh\", \"wsh\", \"wsh\", \"wsh\", \"wsh\", \"wsh\", \"year\", \"year\", \"year\", \"year\", \"year\", \"year\", \"yell\", \"yl\", \"yl\", \"yl\", \"yuri\", \"yuri\", \"yuri\"]}, \"R\": 30, \"lambda.step\": 0.01, \"plot.opts\": {\"xlab\": \"PC1\", \"ylab\": \"PC2\"}, \"topic.order\": [3, 6, 4, 5, 1, 2]};\n",
       "\n",
       "function LDAvis_load_lib(url, callback){\n",
       "  var s = document.createElement('script');\n",
       "  s.src = url;\n",
       "  s.async = true;\n",
       "  s.onreadystatechange = s.onload = callback;\n",
       "  s.onerror = function(){console.warn(\"failed to load library \" + url);};\n",
       "  document.getElementsByTagName(\"head\")[0].appendChild(s);\n",
       "}\n",
       "\n",
       "if(typeof(LDAvis) !== \"undefined\"){\n",
       "   // already loaded: just create the visualization\n",
       "   !function(LDAvis){\n",
       "       new LDAvis(\"#\" + \"ldavis_el98691403416291097128107961815\", ldavis_el98691403416291097128107961815_data);\n",
       "   }(LDAvis);\n",
       "}else if(typeof define === \"function\" && define.amd){\n",
       "   // require.js is available: use it to load d3/LDAvis\n",
       "   require.config({paths: {d3: \"https://cdnjs.cloudflare.com/ajax/libs/d3/3.5.5/d3.min\"}});\n",
       "   require([\"d3\"], function(d3){\n",
       "      window.d3 = d3;\n",
       "      LDAvis_load_lib(\"https://cdn.rawgit.com/bmabey/pyLDAvis/files/ldavis.v1.0.0.js\", function(){\n",
       "        new LDAvis(\"#\" + \"ldavis_el98691403416291097128107961815\", ldavis_el98691403416291097128107961815_data);\n",
       "      });\n",
       "    });\n",
       "}else{\n",
       "    // require.js not available: dynamically load d3 & LDAvis\n",
       "    LDAvis_load_lib(\"https://cdnjs.cloudflare.com/ajax/libs/d3/3.5.5/d3.min.js\", function(){\n",
       "         LDAvis_load_lib(\"https://cdn.rawgit.com/bmabey/pyLDAvis/files/ldavis.v1.0.0.js\", function(){\n",
       "                 new LDAvis(\"#\" + \"ldavis_el98691403416291097128107961815\", ldavis_el98691403416291097128107961815_data);\n",
       "            })\n",
       "         });\n",
       "}\n",
       "</script>"
      ],
      "text/plain": [
       "PreparedData(topic_coordinates=              x         y  topics  cluster       Freq\n",
       "topic                                                \n",
       "2     -0.005920  0.008588       1        1  28.634851\n",
       "5      0.013798  0.004095       2        1  24.655701\n",
       "3     -0.009332  0.002265       3        1  19.359034\n",
       "4     -0.003214 -0.008077       4        1  10.843018\n",
       "0      0.003296 -0.000551       5        1   8.820708\n",
       "1      0.001371 -0.006320       6        1   7.686685, topic_info=     Category         Freq          Term        Total  loglift  logprob\n",
       "28    Default  1911.000000           edu  1911.000000  30.0000  30.0000\n",
       "196   Default  1542.000000           god  1542.000000  29.0000  29.0000\n",
       "121   Default  1177.000000       subject  1177.000000  28.0000  28.0000\n",
       "57    Default  1227.000000          line  1227.000000  27.0000  27.0000\n",
       "78    Default  1094.000000           one  1094.000000  26.0000  26.0000\n",
       "577   Default   540.000000           com   540.000000  25.0000  25.0000\n",
       "447   Default  1125.000000         would  1125.000000  24.0000  24.0000\n",
       "172   Default   682.000000            ca   682.000000  23.0000  23.0000\n",
       "80    Default  1090.000000  organization  1090.000000  22.0000  22.0000\n",
       "263   Default   735.000000        writes   735.000000  21.0000  21.0000\n",
       "37    Default   436.000000           get   436.000000  20.0000  20.0000\n",
       "915   Default   644.000000          know   644.000000  19.0000  19.0000\n",
       "477   Default   881.000000          game   881.000000  18.0000  18.0000\n",
       "179   Default   442.000000        church   442.000000  17.0000  17.0000\n",
       "424   Default   580.000000         jesus   580.000000  16.0000  16.0000\n",
       "1590  Default   303.000000            pt   303.000000  15.0000  15.0000\n",
       "219   Default   759.000000        people   759.000000  14.0000  14.0000\n",
       "177   Default   794.000000     christian   794.000000  13.0000  13.0000\n",
       "705   Default   590.000000        hockey   590.000000  12.0000  12.0000\n",
       "123   Default   893.000000          team   893.000000  11.0000  11.0000\n",
       "243   Default   458.000000           see   458.000000  10.0000  10.0000\n",
       "255   Default   688.000000    university   688.000000   9.0000   9.0000\n",
       "39    Default   598.000000            go   598.000000   8.0000   8.0000\n",
       "153   Default   627.000000       article   627.000000   7.0000   7.0000\n",
       "202   Default   614.000000          like   614.000000   6.0000   6.0000\n",
       "772   Default   577.000000          year   577.000000   5.0000   5.0000\n",
       "253   Default   567.000000             u   567.000000   4.0000   4.0000\n",
       "103   Default   639.000000           say   639.000000   3.0000   3.0000\n",
       "637   Default   423.000000         point   423.000000   2.0000   2.0000\n",
       "85    Default   474.000000        player   474.000000   1.0000   1.0000\n",
       "...       ...          ...           ...          ...      ...      ...\n",
       "577    Topic6    54.587246           com   540.564514   0.2729  -5.7258\n",
       "496    Topic6    29.682552            la   253.976883   0.4190  -6.3351\n",
       "813    Topic6    21.008997          shot   173.854294   0.4524  -6.6807\n",
       "1999   Topic6     9.241755       alchemy    61.591064   0.6689  -7.5019\n",
       "705    Topic6    53.355438        hockey   590.051270   0.1624  -5.7486\n",
       "1455   Topic6    17.717360           son   142.659744   0.4798  -6.8511\n",
       "1458   Topic6    16.781643        spirit   134.854370   0.4818  -6.9053\n",
       "230    Topic6    40.125393      question   426.821960   0.2013  -6.0336\n",
       "219    Topic6    61.870899        people   759.937256   0.0575  -5.6006\n",
       "243    Topic6    41.765930           see   458.668884   0.1694  -5.9935\n",
       "39     Topic6    50.569321            go   598.457886   0.0947  -5.8023\n",
       "196    Topic6   101.575897           god  1542.071411  -0.1544  -5.1048\n",
       "205    Topic6    35.015041          many   367.280731   0.2153  -6.1698\n",
       "447    Topic6    78.893166         would  1125.713013  -0.0924  -5.3575\n",
       "153    Topic6    50.791744       article   627.653564   0.0514  -5.7979\n",
       "424    Topic6    46.800640         jesus   580.925415   0.0470  -5.8797\n",
       "78     Topic6    72.161552           one  1094.718750  -0.1537  -5.4467\n",
       "633    Topic6    40.176750           new   483.153198   0.0786  -6.0323\n",
       "150    Topic6    36.465698           apr   417.282593   0.1283  -6.1292\n",
       "253    Topic6    44.663666             u   567.710327   0.0232  -5.9265\n",
       "202    Topic6    45.030457          like   614.120605  -0.0472  -5.9183\n",
       "172    Topic6    47.524704            ca   682.461914  -0.0988  -5.8644\n",
       "383    Topic6    50.810108         think   770.434814  -0.1532  -5.7975\n",
       "255    Topic6    46.484028    university   688.379150  -0.1296  -5.8865\n",
       "177    Topic6    50.318104     christian   794.885132  -0.1942  -5.8073\n",
       "915    Topic6    42.027576          know   644.514343  -0.1645  -5.9873\n",
       "103    Topic6    40.117512           say   639.758423  -0.2036  -6.0338\n",
       "1169   Topic6    39.813042          time   677.490906  -0.2685  -6.0414\n",
       "477    Topic6    41.954754          game   881.359863  -0.4792  -5.9890\n",
       "123    Topic6    41.064075          team   893.959167  -0.5148  -6.0105\n",
       "\n",
       "[526 rows x 6 columns], token_table=       Topic      Freq        Term\n",
       "term                              \n",
       "4332       1  0.238174         abc\n",
       "4332       2  0.213103         abc\n",
       "4332       3  0.125355         abc\n",
       "4332       4  0.125355         abc\n",
       "4332       5  0.125355         abc\n",
       "4332       6  0.175497         abc\n",
       "8820       1  0.519914   accompany\n",
       "1894       1  0.230617         act\n",
       "1894       2  0.381711         act\n",
       "1894       3  0.159046         act\n",
       "1894       4  0.103380         act\n",
       "1894       5  0.087475         act\n",
       "1894       6  0.031809         act\n",
       "14287      3  0.378244  adjustment\n",
       "12964      2  0.296313         afc\n",
       "12964      3  0.296313         afc\n",
       "12964      4  0.296313         afc\n",
       "15576      1  0.297706       ahmad\n",
       "15576      2  0.297706       ahmad\n",
       "15576      3  0.297706       ahmad\n",
       "15576      6  0.297706       ahmad\n",
       "15578      1  0.238233   ahmadiyya\n",
       "15578      2  0.158822   ahmadiyya\n",
       "15578      3  0.238233   ahmadiyya\n",
       "15578      4  0.079411   ahmadiyya\n",
       "15578      5  0.079411   ahmadiyya\n",
       "15578      6  0.238233   ahmadiyya\n",
       "5911       1  0.203064         aid\n",
       "5911       2  0.467046         aid\n",
       "5911       3  0.101532         aid\n",
       "...      ...       ...         ...\n",
       "12065      2  0.123760         wpg\n",
       "12065      3  0.247519         wpg\n",
       "12065      4  0.061880         wpg\n",
       "12065      5  0.309399         wpg\n",
       "12065      6  0.123760         wpg\n",
       "263        1  0.311407      writes\n",
       "263        2  0.203978      writes\n",
       "263        3  0.198539      writes\n",
       "263        4  0.122387      writes\n",
       "263        5  0.059834      writes\n",
       "263        6  0.101989      writes\n",
       "12066      1  0.229960         wsh\n",
       "12066      2  0.114980         wsh\n",
       "12066      3  0.268287         wsh\n",
       "12066      4  0.038327         wsh\n",
       "12066      5  0.268287         wsh\n",
       "12066      6  0.076653         wsh\n",
       "772        1  0.335646        year\n",
       "772        2  0.230108        year\n",
       "772        3  0.148792        year\n",
       "772        4  0.133220        year\n",
       "772        5  0.089967        year\n",
       "772        6  0.062285        year\n",
       "1497       2  0.472544        yell\n",
       "15094      1  0.593442          yl\n",
       "15094      2  0.148361          yl\n",
       "15094      3  0.148361          yl\n",
       "14088      1  0.398182        yuri\n",
       "14088      3  0.398182        yuri\n",
       "14088      5  0.398182        yuri\n",
       "\n",
       "[1579 rows x 3 columns], R=30, lambda_step=0.01, plot_opts={'xlab': 'PC1', 'ylab': 'PC2'}, topic_order=[3, 6, 4, 5, 1, 2])"
      ]
     },
     "execution_count": 34,
     "metadata": {},
     "output_type": "execute_result"
    }
   ],
   "source": [
    "# run it... want to get this out to you, so no documentation\n",
    "# however, a good LDA will not have circles that overlap too much and are spaced out... but it will rarely be perfect\n",
    "# so don't over think it!\n",
    "pyLDAvis.enable_notebook()\n",
    "vis = pyLDAvis.gensim.prepare(optimal_model, corpus, dictionary=optimal_model.id2word)\n",
    "vis"
   ]
  },
  {
   "cell_type": "markdown",
   "metadata": {},
   "source": [
    "## Predict topic of new text"
   ]
  },
  {
   "cell_type": "markdown",
   "metadata": {},
   "source": [
    "👇 You can now use your LDA model to predict the topic of a new text. First, use your vectorizer to vectorize the example. Then, use your LDA model to predict the topic of the vectorized example."
   ]
  },
  {
   "cell_type": "code",
   "execution_count": null,
   "metadata": {},
   "outputs": [],
   "source": [
    "# skipping for now to try last challenge\n",
    "\n",
    "# first clean new text\n"
   ]
  },
  {
   "cell_type": "code",
   "execution_count": null,
   "metadata": {},
   "outputs": [],
   "source": []
  }
 ],
 "metadata": {
  "kernelspec": {
   "display_name": "Python 3",
   "language": "python",
   "name": "python3"
  },
  "language_info": {
   "codemirror_mode": {
    "name": "ipython",
    "version": 3
   },
   "file_extension": ".py",
   "mimetype": "text/x-python",
   "name": "python",
   "nbconvert_exporter": "python",
   "pygments_lexer": "ipython3",
   "version": "3.7.7"
  },
  "toc": {
   "base_numbering": 1,
   "nav_menu": {},
   "number_sections": false,
   "sideBar": true,
   "skip_h1_title": false,
   "title_cell": "Table of Contents",
   "title_sidebar": "Contents",
   "toc_cell": false,
   "toc_position": {},
   "toc_section_display": true,
   "toc_window_display": true
  }
 },
 "nbformat": 4,
 "nbformat_minor": 4
}
