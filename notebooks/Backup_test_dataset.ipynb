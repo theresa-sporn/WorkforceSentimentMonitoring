{
 "cells": [
  {
   "cell_type": "code",
   "execution_count": null,
   "metadata": {},
   "outputs": [],
   "source": [
    "# test in notebook"
   ]
  },
  {
   "cell_type": "code",
   "execution_count": 1,
   "metadata": {},
   "outputs": [],
   "source": [
    "path = 'http://s3.amazonaws.com/assets.datacamp.com/production/course_935/datasets/500_amzn.csv'"
   ]
  },
  {
   "cell_type": "code",
   "execution_count": 3,
   "metadata": {},
   "outputs": [],
   "source": [
    "import pandas as pd"
   ]
  },
  {
   "cell_type": "code",
   "execution_count": 5,
   "metadata": {},
   "outputs": [],
   "source": [
    "test_df = pd.read_csv(path)"
   ]
  },
  {
   "cell_type": "code",
   "execution_count": 7,
   "metadata": {},
   "outputs": [
    {
     "data": {
      "text/plain": [
       "Index(['pg_num', 'url', 'pros', 'cons'], dtype='object')"
      ]
     },
     "execution_count": 7,
     "metadata": {},
     "output_type": "execute_result"
    }
   ],
   "source": [
    "test_df.columns"
   ]
  },
  {
   "cell_type": "code",
   "execution_count": 8,
   "metadata": {},
   "outputs": [],
   "source": [
    "def get_test_df(df):\n",
    "    df = df.drop(columns=['pg_num', 'url'])\n",
    "    return df"
   ]
  },
  {
   "cell_type": "code",
   "execution_count": 9,
   "metadata": {},
   "outputs": [],
   "source": [
    "test = get_test_df(test_df)"
   ]
  },
  {
   "cell_type": "code",
   "execution_count": 10,
   "metadata": {},
   "outputs": [
    {
     "data": {
      "text/html": [
       "<div>\n",
       "<style scoped>\n",
       "    .dataframe tbody tr th:only-of-type {\n",
       "        vertical-align: middle;\n",
       "    }\n",
       "\n",
       "    .dataframe tbody tr th {\n",
       "        vertical-align: top;\n",
       "    }\n",
       "\n",
       "    .dataframe thead th {\n",
       "        text-align: right;\n",
       "    }\n",
       "</style>\n",
       "<table border=\"1\" class=\"dataframe\">\n",
       "  <thead>\n",
       "    <tr style=\"text-align: right;\">\n",
       "      <th></th>\n",
       "      <th>pros</th>\n",
       "      <th>cons</th>\n",
       "    </tr>\n",
       "  </thead>\n",
       "  <tbody>\n",
       "    <tr>\n",
       "      <th>0</th>\n",
       "      <td>You're surrounded by smart people and the proj...</td>\n",
       "      <td>Internal tools proliferation has created a mes...</td>\n",
       "    </tr>\n",
       "    <tr>\n",
       "      <th>1</th>\n",
       "      <td>Brand name is great. Have yet to meet somebody...</td>\n",
       "      <td>not the most stimulating work. Good brand name...</td>\n",
       "    </tr>\n",
       "    <tr>\n",
       "      <th>2</th>\n",
       "      <td>Good money.Interaction with some great minds i...</td>\n",
       "      <td>No proper growth plan for employees.Difficult ...</td>\n",
       "    </tr>\n",
       "    <tr>\n",
       "      <th>3</th>\n",
       "      <td>nice pay and overtime and different shifts</td>\n",
       "      <td>didn't last quite long enough</td>\n",
       "    </tr>\n",
       "    <tr>\n",
       "      <th>4</th>\n",
       "      <td>Opportunity for those not afraid to work!</td>\n",
       "      <td>Opportunity takes time up to two plus years!</td>\n",
       "    </tr>\n",
       "    <tr>\n",
       "      <th>...</th>\n",
       "      <td>...</td>\n",
       "      <td>...</td>\n",
       "    </tr>\n",
       "    <tr>\n",
       "      <th>495</th>\n",
       "      <td>Compensation is great. Learning on and designi...</td>\n",
       "      <td>The culture kind of sucks. Everyone's got cash...</td>\n",
       "    </tr>\n",
       "    <tr>\n",
       "      <th>496</th>\n",
       "      <td>Seattle downtown</td>\n",
       "      <td>Politics influence your rating and promotion</td>\n",
       "    </tr>\n",
       "    <tr>\n",
       "      <th>497</th>\n",
       "      <td>NaN</td>\n",
       "      <td>NaN</td>\n",
       "    </tr>\n",
       "    <tr>\n",
       "      <th>498</th>\n",
       "      <td>NaN</td>\n",
       "      <td>NaN</td>\n",
       "    </tr>\n",
       "    <tr>\n",
       "      <th>499</th>\n",
       "      <td>NaN</td>\n",
       "      <td>NaN</td>\n",
       "    </tr>\n",
       "  </tbody>\n",
       "</table>\n",
       "<p>500 rows × 2 columns</p>\n",
       "</div>"
      ],
      "text/plain": [
       "                                                  pros  \\\n",
       "0    You're surrounded by smart people and the proj...   \n",
       "1    Brand name is great. Have yet to meet somebody...   \n",
       "2    Good money.Interaction with some great minds i...   \n",
       "3           nice pay and overtime and different shifts   \n",
       "4            Opportunity for those not afraid to work!   \n",
       "..                                                 ...   \n",
       "495  Compensation is great. Learning on and designi...   \n",
       "496                                   Seattle downtown   \n",
       "497                                                NaN   \n",
       "498                                                NaN   \n",
       "499                                                NaN   \n",
       "\n",
       "                                                  cons  \n",
       "0    Internal tools proliferation has created a mes...  \n",
       "1    not the most stimulating work. Good brand name...  \n",
       "2    No proper growth plan for employees.Difficult ...  \n",
       "3                        didn't last quite long enough  \n",
       "4         Opportunity takes time up to two plus years!  \n",
       "..                                                 ...  \n",
       "495  The culture kind of sucks. Everyone's got cash...  \n",
       "496       Politics influence your rating and promotion  \n",
       "497                                                NaN  \n",
       "498                                                NaN  \n",
       "499                                                NaN  \n",
       "\n",
       "[500 rows x 2 columns]"
      ]
     },
     "execution_count": 10,
     "metadata": {},
     "output_type": "execute_result"
    }
   ],
   "source": [
    "test"
   ]
  },
  {
   "cell_type": "code",
   "execution_count": 11,
   "metadata": {},
   "outputs": [],
   "source": [
    "# test in package"
   ]
  },
  {
   "cell_type": "code",
   "execution_count": 1,
   "metadata": {},
   "outputs": [],
   "source": [
    "from test_data.backup_test_data import get_test_data"
   ]
  },
  {
   "cell_type": "code",
   "execution_count": 2,
   "metadata": {},
   "outputs": [],
   "source": [
    "test_data = get_test_data()"
   ]
  },
  {
   "cell_type": "code",
   "execution_count": 3,
   "metadata": {},
   "outputs": [
    {
     "data": {
      "text/html": [
       "<div>\n",
       "<style scoped>\n",
       "    .dataframe tbody tr th:only-of-type {\n",
       "        vertical-align: middle;\n",
       "    }\n",
       "\n",
       "    .dataframe tbody tr th {\n",
       "        vertical-align: top;\n",
       "    }\n",
       "\n",
       "    .dataframe thead th {\n",
       "        text-align: right;\n",
       "    }\n",
       "</style>\n",
       "<table border=\"1\" class=\"dataframe\">\n",
       "  <thead>\n",
       "    <tr style=\"text-align: right;\">\n",
       "      <th></th>\n",
       "      <th>positives</th>\n",
       "      <th>negatives</th>\n",
       "      <th>review</th>\n",
       "    </tr>\n",
       "  </thead>\n",
       "  <tbody>\n",
       "    <tr>\n",
       "      <th>0</th>\n",
       "      <td>You're surrounded by smart people and the proj...</td>\n",
       "      <td>Internal tools proliferation has created a mes...</td>\n",
       "      <td>You're surrounded by smart people and the proj...</td>\n",
       "    </tr>\n",
       "    <tr>\n",
       "      <th>1</th>\n",
       "      <td>Brand name is great. Have yet to meet somebody...</td>\n",
       "      <td>not the most stimulating work. Good brand name...</td>\n",
       "      <td>Brand name is great. Have yet to meet somebody...</td>\n",
       "    </tr>\n",
       "    <tr>\n",
       "      <th>2</th>\n",
       "      <td>Good money.Interaction with some great minds i...</td>\n",
       "      <td>No proper growth plan for employees.Difficult ...</td>\n",
       "      <td>Good money.Interaction with some great minds i...</td>\n",
       "    </tr>\n",
       "    <tr>\n",
       "      <th>3</th>\n",
       "      <td>nice pay and overtime and different shifts</td>\n",
       "      <td>didn't last quite long enough</td>\n",
       "      <td>nice pay and overtime and different shifts did...</td>\n",
       "    </tr>\n",
       "    <tr>\n",
       "      <th>4</th>\n",
       "      <td>Opportunity for those not afraid to work!</td>\n",
       "      <td>Opportunity takes time up to two plus years!</td>\n",
       "      <td>Opportunity for those not afraid to work! Oppo...</td>\n",
       "    </tr>\n",
       "    <tr>\n",
       "      <th>...</th>\n",
       "      <td>...</td>\n",
       "      <td>...</td>\n",
       "      <td>...</td>\n",
       "    </tr>\n",
       "    <tr>\n",
       "      <th>495</th>\n",
       "      <td>Compensation is great. Learning on and designi...</td>\n",
       "      <td>The culture kind of sucks. Everyone's got cash...</td>\n",
       "      <td>Compensation is great. Learning on and designi...</td>\n",
       "    </tr>\n",
       "    <tr>\n",
       "      <th>496</th>\n",
       "      <td>Seattle downtown</td>\n",
       "      <td>Politics influence your rating and promotion</td>\n",
       "      <td>Seattle downtown Politics influence your ratin...</td>\n",
       "    </tr>\n",
       "    <tr>\n",
       "      <th>497</th>\n",
       "      <td>NaN</td>\n",
       "      <td>NaN</td>\n",
       "      <td>nan nan</td>\n",
       "    </tr>\n",
       "    <tr>\n",
       "      <th>498</th>\n",
       "      <td>NaN</td>\n",
       "      <td>NaN</td>\n",
       "      <td>nan nan</td>\n",
       "    </tr>\n",
       "    <tr>\n",
       "      <th>499</th>\n",
       "      <td>NaN</td>\n",
       "      <td>NaN</td>\n",
       "      <td>nan nan</td>\n",
       "    </tr>\n",
       "  </tbody>\n",
       "</table>\n",
       "<p>500 rows × 3 columns</p>\n",
       "</div>"
      ],
      "text/plain": [
       "                                             positives  \\\n",
       "0    You're surrounded by smart people and the proj...   \n",
       "1    Brand name is great. Have yet to meet somebody...   \n",
       "2    Good money.Interaction with some great minds i...   \n",
       "3           nice pay and overtime and different shifts   \n",
       "4            Opportunity for those not afraid to work!   \n",
       "..                                                 ...   \n",
       "495  Compensation is great. Learning on and designi...   \n",
       "496                                   Seattle downtown   \n",
       "497                                                NaN   \n",
       "498                                                NaN   \n",
       "499                                                NaN   \n",
       "\n",
       "                                             negatives  \\\n",
       "0    Internal tools proliferation has created a mes...   \n",
       "1    not the most stimulating work. Good brand name...   \n",
       "2    No proper growth plan for employees.Difficult ...   \n",
       "3                        didn't last quite long enough   \n",
       "4         Opportunity takes time up to two plus years!   \n",
       "..                                                 ...   \n",
       "495  The culture kind of sucks. Everyone's got cash...   \n",
       "496       Politics influence your rating and promotion   \n",
       "497                                                NaN   \n",
       "498                                                NaN   \n",
       "499                                                NaN   \n",
       "\n",
       "                                                review  \n",
       "0    You're surrounded by smart people and the proj...  \n",
       "1    Brand name is great. Have yet to meet somebody...  \n",
       "2    Good money.Interaction with some great minds i...  \n",
       "3    nice pay and overtime and different shifts did...  \n",
       "4    Opportunity for those not afraid to work! Oppo...  \n",
       "..                                                 ...  \n",
       "495  Compensation is great. Learning on and designi...  \n",
       "496  Seattle downtown Politics influence your ratin...  \n",
       "497                                            nan nan  \n",
       "498                                            nan nan  \n",
       "499                                            nan nan  \n",
       "\n",
       "[500 rows x 3 columns]"
      ]
     },
     "execution_count": 3,
     "metadata": {},
     "output_type": "execute_result"
    }
   ],
   "source": [
    "test_data"
   ]
  },
  {
   "cell_type": "code",
   "execution_count": 4,
   "metadata": {},
   "outputs": [
    {
     "data": {
      "text/plain": [
       "pros    4\n",
       "cons    3\n",
       "dtype: int64"
      ]
     },
     "execution_count": 4,
     "metadata": {},
     "output_type": "execute_result"
    }
   ],
   "source": [
    "test_data.isnull().sum()"
   ]
  },
  {
   "cell_type": "code",
   "execution_count": null,
   "metadata": {},
   "outputs": [],
   "source": []
  }
 ],
 "metadata": {
  "kernelspec": {
   "display_name": "Python 3",
   "language": "python",
   "name": "python3"
  },
  "language_info": {
   "codemirror_mode": {
    "name": "ipython",
    "version": 3
   },
   "file_extension": ".py",
   "mimetype": "text/x-python",
   "name": "python",
   "nbconvert_exporter": "python",
   "pygments_lexer": "ipython3",
   "version": "3.7.7"
  },
  "toc": {
   "base_numbering": 1,
   "nav_menu": {},
   "number_sections": true,
   "sideBar": true,
   "skip_h1_title": false,
   "title_cell": "Table of Contents",
   "title_sidebar": "Contents",
   "toc_cell": false,
   "toc_position": {},
   "toc_section_display": true,
   "toc_window_display": false
  },
  "varInspector": {
   "cols": {
    "lenName": 16,
    "lenType": 16,
    "lenVar": 40
   },
   "kernels_config": {
    "python": {
     "delete_cmd_postfix": "",
     "delete_cmd_prefix": "del ",
     "library": "var_list.py",
     "varRefreshCmd": "print(var_dic_list())"
    },
    "r": {
     "delete_cmd_postfix": ") ",
     "delete_cmd_prefix": "rm(",
     "library": "var_list.r",
     "varRefreshCmd": "cat(var_dic_list()) "
    }
   },
   "types_to_exclude": [
    "module",
    "function",
    "builtin_function_or_method",
    "instance",
    "_Feature"
   ],
   "window_display": false
  }
 },
 "nbformat": 4,
 "nbformat_minor": 4
}
