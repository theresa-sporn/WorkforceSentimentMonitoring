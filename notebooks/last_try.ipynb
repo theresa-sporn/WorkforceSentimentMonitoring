{
 "cells": [
  {
   "cell_type": "code",
   "execution_count": 6,
   "metadata": {},
   "outputs": [],
   "source": [
    "%load_ext autoreload\n",
    "%autoreload 2"
   ]
  },
  {
   "cell_type": "code",
   "execution_count": 7,
   "metadata": {},
   "outputs": [],
   "source": [
    "import joblib\n",
    "import os"
   ]
  },
  {
   "cell_type": "code",
   "execution_count": 9,
   "metadata": {},
   "outputs": [
    {
     "name": "stdout",
     "output_type": "stream",
     "text": [
      "/Users/yunxizzy/code/theresa-sporn/WorkforceSentimentMonitoring\n"
     ]
    }
   ],
   "source": [
    "cd .."
   ]
  },
  {
   "cell_type": "code",
   "execution_count": 10,
   "metadata": {},
   "outputs": [
    {
     "name": "stdout",
     "output_type": "stream",
     "text": [
      "MANIFEST.in                            \u001b[1m\u001b[36mlexicon\u001b[m\u001b[m/\r\n",
      "Makefile                               \u001b[1m\u001b[36mnotebooks\u001b[m\u001b[m/\r\n",
      "Procfile                               \u001b[1m\u001b[36mraw_data\u001b[m\u001b[m/\r\n",
      "README.md                              requirements.txt\r\n",
      "\u001b[1m\u001b[36mWorkforceSentimentMonitoring\u001b[m\u001b[m/          \u001b[1m\u001b[36mscripts\u001b[m\u001b[m/\r\n",
      "\u001b[1m\u001b[36mWorkforceSentimentMonitoring.egg-info\u001b[m\u001b[m/ setup.py\r\n",
      "app.py                                 setup.sh\r\n",
      "\u001b[1m\u001b[36mbuild\u001b[m\u001b[m/                                 \u001b[1m\u001b[36mtest_data\u001b[m\u001b[m/\r\n",
      "\u001b[1m\u001b[36mdist\u001b[m\u001b[m/                                  \u001b[1m\u001b[36mtests\u001b[m\u001b[m/\r\n",
      "\u001b[1m\u001b[36mjoblib_files\u001b[m\u001b[m/\r\n"
     ]
    }
   ],
   "source": [
    "ls"
   ]
  },
  {
   "cell_type": "markdown",
   "metadata": {},
   "source": [
    "# Redo mnb feature extraction"
   ]
  },
  {
   "cell_type": "code",
   "execution_count": 11,
   "metadata": {},
   "outputs": [],
   "source": [
    "from sklearn.compose import ColumnTransformer\n",
    "from sklearn.pipeline import Pipeline"
   ]
  },
  {
   "cell_type": "code",
   "execution_count": 12,
   "metadata": {},
   "outputs": [],
   "source": [
    "# load train test data\n",
    "from WorkforceSentimentMonitoring.data import get_prepaired_data"
   ]
  },
  {
   "cell_type": "code",
   "execution_count": 13,
   "metadata": {},
   "outputs": [
    {
     "name": "stdout",
     "output_type": "stream",
     "text": [
      "Reading data...\n",
      "Merging data into a single DataFrame...\n",
      "Dropping initial text columns...\n",
      "Identifying entries in other languages...\n"
     ]
    },
    {
     "data": {
      "application/vnd.jupyter.widget-view+json": {
       "model_id": "b920c7e6fce14ad7b6dde771a083448e",
       "version_major": 2,
       "version_minor": 0
      },
      "text/plain": [
       "HBox(children=(HTML(value='Dask Apply'), FloatProgress(value=0.0, max=16.0), HTML(value='')))"
      ]
     },
     "metadata": {},
     "output_type": "display_data"
    },
    {
     "name": "stdout",
     "output_type": "stream",
     "text": [
      "\n",
      "Drop 436 entries? [y] / n\n",
      "y\n",
      "Dropping 436 entries...\n",
      "Splitting train and test...\n",
      "Encoding targets...\n",
      "Done!\n"
     ]
    }
   ],
   "source": [
    "X_train, X_test, y_train, y_test = get_prepaired_data()"
   ]
  },
  {
   "cell_type": "code",
   "execution_count": 14,
   "metadata": {},
   "outputs": [
    {
     "data": {
      "text/plain": [
       "'/Users/yunxizzy/code/theresa-sporn/WorkforceSentimentMonitoring/joblib_files'"
      ]
     },
     "execution_count": 14,
     "metadata": {},
     "output_type": "execute_result"
    }
   ],
   "source": [
    "os_path = os.getcwd()\n",
    "os_path_abs = '/'.join(os_path.split('/')[:-1])\n",
    "model_path = os.path.join(os_path_abs,'WorkforceSentimentMonitoring/joblib_files')\n",
    "model_path"
   ]
  },
  {
   "cell_type": "code",
   "execution_count": 15,
   "metadata": {},
   "outputs": [],
   "source": [
    "#model_nb_carrer = joblib.load(os.path.join(model_path, 'career-opportunities_nb.joblib'))\n",
    "#model_nb_carrer"
   ]
  },
  {
   "cell_type": "code",
   "execution_count": 16,
   "metadata": {},
   "outputs": [],
   "source": [
    "#fea_pipe = joblib.load(os.path.join(model_path, 'final_pipe.joblib'))\n",
    "#fea_pipe"
   ]
  },
  {
   "cell_type": "code",
   "execution_count": 91,
   "metadata": {},
   "outputs": [],
   "source": [
    "#last_pipe = Pipeline([\n",
    "#    ('mnb', MultiNBFeaturesExtractor()),\n",
    "#    ('feature_pipe', fea_pipe)\n",
    "#])"
   ]
  },
  {
   "cell_type": "code",
   "execution_count": 92,
   "metadata": {},
   "outputs": [
    {
     "data": {
      "text/plain": [
       "Pipeline(steps=[('mnb', MultiNBFeaturesExtractor()),\n",
       "                ('feature_pipe',\n",
       "                 Pipeline(steps=[('preprocessor', Preprocessor()),\n",
       "                                 ('emo_extractor', EmotionScoresExtractor()),\n",
       "                                 ('scaler', CustomMinMaxScaler()),\n",
       "                                 ('engineer', FeatureEngineer())]))])"
      ]
     },
     "execution_count": 92,
     "metadata": {},
     "output_type": "execute_result"
    }
   ],
   "source": [
    "#last_pipe"
   ]
  },
  {
   "cell_type": "code",
   "execution_count": 96,
   "metadata": {},
   "outputs": [
    {
     "data": {
      "text/plain": [
       "['joblib_files/last_pipe_test']"
      ]
     },
     "execution_count": 96,
     "metadata": {},
     "output_type": "execute_result"
    }
   ],
   "source": [
    "# export the final feature pipeline\n",
    "#joblib.dump(last_pipe, 'joblib_files/last_pipe_test')"
   ]
  },
  {
   "cell_type": "code",
   "execution_count": 17,
   "metadata": {},
   "outputs": [],
   "source": [
    "#feature_pipe = joblib.load(os.path.join(model_path, 'feature_pipeline.joblib'))\n",
    "#feature_pipe"
   ]
  },
  {
   "cell_type": "code",
   "execution_count": 18,
   "metadata": {},
   "outputs": [],
   "source": [
    "#X_train_fea = fea_pipe.fit_transform(X_train_cp)"
   ]
  },
  {
   "cell_type": "code",
   "execution_count": 19,
   "metadata": {
    "scrolled": true
   },
   "outputs": [],
   "source": [
    "#X_train_cp"
   ]
  },
  {
   "cell_type": "code",
   "execution_count": 20,
   "metadata": {
    "scrolled": true
   },
   "outputs": [],
   "source": [
    "#X_train_feature_final = fea_pipe.fit_transform(X_train_feature)"
   ]
  },
  {
   "cell_type": "code",
   "execution_count": 21,
   "metadata": {},
   "outputs": [],
   "source": [
    "#X_train_feature_final"
   ]
  },
  {
   "cell_type": "markdown",
   "metadata": {},
   "source": [
    "# Rerun GridSearch of clf"
   ]
  },
  {
   "cell_type": "code",
   "execution_count": 22,
   "metadata": {},
   "outputs": [],
   "source": [
    "#from WorkforceSentimentMonitoring.trainer import MultiNBFeaturesExtractor\n",
    "#from WorkforceSentimentMonitoring.feature_engineering import get_mnb_features"
   ]
  },
  {
   "cell_type": "code",
   "execution_count": 23,
   "metadata": {},
   "outputs": [],
   "source": [
    "#mnb = MultiNBFeaturesExtractor()"
   ]
  },
  {
   "cell_type": "code",
   "execution_count": 24,
   "metadata": {},
   "outputs": [],
   "source": [
    "X_train_cp = X_train.copy()\n",
    "X_test_cp = X_test.copy()"
   ]
  },
  {
   "cell_type": "code",
   "execution_count": 25,
   "metadata": {
    "scrolled": true
   },
   "outputs": [
    {
     "data": {
      "text/html": [
       "<div>\n",
       "<style scoped>\n",
       "    .dataframe tbody tr th:only-of-type {\n",
       "        vertical-align: middle;\n",
       "    }\n",
       "\n",
       "    .dataframe tbody tr th {\n",
       "        vertical-align: top;\n",
       "    }\n",
       "\n",
       "    .dataframe thead th {\n",
       "        text-align: right;\n",
       "    }\n",
       "</style>\n",
       "<table border=\"1\" class=\"dataframe\">\n",
       "  <thead>\n",
       "    <tr style=\"text-align: right;\">\n",
       "      <th></th>\n",
       "      <th>review</th>\n",
       "    </tr>\n",
       "  </thead>\n",
       "  <tbody>\n",
       "    <tr>\n",
       "      <th>0</th>\n",
       "      <td>Area Manager Starting pay/bonus 4 day work sch...</td>\n",
       "    </tr>\n",
       "    <tr>\n",
       "      <th>1</th>\n",
       "      <td>Great Company. Great people. Great people. Gre...</td>\n",
       "    </tr>\n",
       "    <tr>\n",
       "      <th>2</th>\n",
       "      <td>good and bad during holidays good money, alot ...</td>\n",
       "    </tr>\n",
       "    <tr>\n",
       "      <th>3</th>\n",
       "      <td>Amazon SDE 1 You get to learn a lot. You never...</td>\n",
       "    </tr>\n",
       "    <tr>\n",
       "      <th>4</th>\n",
       "      <td>Microsoft is a very good company and working w...</td>\n",
       "    </tr>\n",
       "    <tr>\n",
       "      <th>...</th>\n",
       "      <td>...</td>\n",
       "    </tr>\n",
       "    <tr>\n",
       "      <th>15709</th>\n",
       "      <td>Great culture to be a part of. The perks of th...</td>\n",
       "    </tr>\n",
       "    <tr>\n",
       "      <th>15710</th>\n",
       "      <td>worst company,management, full of lies, decept...</td>\n",
       "    </tr>\n",
       "    <tr>\n",
       "      <th>15711</th>\n",
       "      <td>Principal software engineer Tons of flexibilit...</td>\n",
       "    </tr>\n",
       "    <tr>\n",
       "      <th>15712</th>\n",
       "      <td>Finance Amazon Web Services (AWS) is the large...</td>\n",
       "    </tr>\n",
       "    <tr>\n",
       "      <th>15713</th>\n",
       "      <td>Best place for a geek to grow Plenty of opport...</td>\n",
       "    </tr>\n",
       "  </tbody>\n",
       "</table>\n",
       "<p>15714 rows × 1 columns</p>\n",
       "</div>"
      ],
      "text/plain": [
       "                                                  review\n",
       "0      Area Manager Starting pay/bonus 4 day work sch...\n",
       "1      Great Company. Great people. Great people. Gre...\n",
       "2      good and bad during holidays good money, alot ...\n",
       "3      Amazon SDE 1 You get to learn a lot. You never...\n",
       "4      Microsoft is a very good company and working w...\n",
       "...                                                  ...\n",
       "15709  Great culture to be a part of. The perks of th...\n",
       "15710  worst company,management, full of lies, decept...\n",
       "15711  Principal software engineer Tons of flexibilit...\n",
       "15712  Finance Amazon Web Services (AWS) is the large...\n",
       "15713  Best place for a geek to grow Plenty of opport...\n",
       "\n",
       "[15714 rows x 1 columns]"
      ]
     },
     "execution_count": 25,
     "metadata": {},
     "output_type": "execute_result"
    }
   ],
   "source": [
    "X_test_cp"
   ]
  },
  {
   "cell_type": "code",
   "execution_count": 26,
   "metadata": {
    "scrolled": true
   },
   "outputs": [
    {
     "data": {
      "text/html": [
       "<div>\n",
       "<style scoped>\n",
       "    .dataframe tbody tr th:only-of-type {\n",
       "        vertical-align: middle;\n",
       "    }\n",
       "\n",
       "    .dataframe tbody tr th {\n",
       "        vertical-align: top;\n",
       "    }\n",
       "\n",
       "    .dataframe thead th {\n",
       "        text-align: right;\n",
       "    }\n",
       "</style>\n",
       "<table border=\"1\" class=\"dataframe\">\n",
       "  <thead>\n",
       "    <tr style=\"text-align: right;\">\n",
       "      <th></th>\n",
       "      <th>review</th>\n",
       "    </tr>\n",
       "  </thead>\n",
       "  <tbody>\n",
       "    <tr>\n",
       "      <th>0</th>\n",
       "      <td>Software Development Engineer There is a steep...</td>\n",
       "    </tr>\n",
       "    <tr>\n",
       "      <th>1</th>\n",
       "      <td>Enjoy it... Global scale, consumer and busines...</td>\n",
       "    </tr>\n",
       "    <tr>\n",
       "      <th>2</th>\n",
       "      <td>good cultures good.. .... ...... ......... ......</td>\n",
       "    </tr>\n",
       "    <tr>\n",
       "      <th>3</th>\n",
       "      <td>Good company.. best technology company Great c...</td>\n",
       "    </tr>\n",
       "    <tr>\n",
       "      <th>4</th>\n",
       "      <td>MS SDE Good benefit. Good compensation. Flexib...</td>\n",
       "    </tr>\n",
       "    <tr>\n",
       "      <th>...</th>\n",
       "      <td>...</td>\n",
       "    </tr>\n",
       "    <tr>\n",
       "      <th>36660</th>\n",
       "      <td>work life balance work life balance, not push ...</td>\n",
       "    </tr>\n",
       "    <tr>\n",
       "      <th>36661</th>\n",
       "      <td>Good experience, would recommend if somebody w...</td>\n",
       "    </tr>\n",
       "    <tr>\n",
       "      <th>36662</th>\n",
       "      <td>Great company to work for - Excellent culture ...</td>\n",
       "    </tr>\n",
       "    <tr>\n",
       "      <th>36663</th>\n",
       "      <td>A culture that undervalues collaboration The c...</td>\n",
       "    </tr>\n",
       "    <tr>\n",
       "      <th>36664</th>\n",
       "      <td>Experiences here vary greatly with the work gr...</td>\n",
       "    </tr>\n",
       "  </tbody>\n",
       "</table>\n",
       "<p>36665 rows × 1 columns</p>\n",
       "</div>"
      ],
      "text/plain": [
       "                                                  review\n",
       "0      Software Development Engineer There is a steep...\n",
       "1      Enjoy it... Global scale, consumer and busines...\n",
       "2      good cultures good.. .... ...... ......... ......\n",
       "3      Good company.. best technology company Great c...\n",
       "4      MS SDE Good benefit. Good compensation. Flexib...\n",
       "...                                                  ...\n",
       "36660  work life balance work life balance, not push ...\n",
       "36661  Good experience, would recommend if somebody w...\n",
       "36662  Great company to work for - Excellent culture ...\n",
       "36663  A culture that undervalues collaboration The c...\n",
       "36664  Experiences here vary greatly with the work gr...\n",
       "\n",
       "[36665 rows x 1 columns]"
      ]
     },
     "execution_count": 26,
     "metadata": {},
     "output_type": "execute_result"
    }
   ],
   "source": [
    "X_train_cp"
   ]
  },
  {
   "cell_type": "code",
   "execution_count": 27,
   "metadata": {},
   "outputs": [
    {
     "data": {
      "text/plain": [
       "Pipeline(steps=[('mnb', MultiNBFeaturesExtractor()),\n",
       "                ('feature_pipe',\n",
       "                 Pipeline(steps=[('preprocessor', Preprocessor()),\n",
       "                                 ('emo_extractor', EmotionScoresExtractor()),\n",
       "                                 ('scaler', CustomMinMaxScaler()),\n",
       "                                 ('engineer', FeatureEngineer())]))])"
      ]
     },
     "execution_count": 27,
     "metadata": {},
     "output_type": "execute_result"
    }
   ],
   "source": [
    "test_pipe = joblib.load(os.path.join(model_path, 'last_pipe_test'))\n",
    "test_pipe"
   ]
  },
  {
   "cell_type": "code",
   "execution_count": 28,
   "metadata": {
    "scrolled": true
   },
   "outputs": [
    {
     "name": "stderr",
     "output_type": "stream",
     "text": [
      "100%|██████████| 15714/15714 [00:17<00:00, 922.37it/s]\n"
     ]
    }
   ],
   "source": [
    "X_test_cp_final = test_pipe.fit_transform(X_test_cp)"
   ]
  },
  {
   "cell_type": "code",
   "execution_count": 29,
   "metadata": {
    "scrolled": true
   },
   "outputs": [
    {
     "data": {
      "text/html": [
       "<div>\n",
       "<style scoped>\n",
       "    .dataframe tbody tr th:only-of-type {\n",
       "        vertical-align: middle;\n",
       "    }\n",
       "\n",
       "    .dataframe tbody tr th {\n",
       "        vertical-align: top;\n",
       "    }\n",
       "\n",
       "    .dataframe thead th {\n",
       "        text-align: right;\n",
       "    }\n",
       "</style>\n",
       "<table border=\"1\" class=\"dataframe\">\n",
       "  <thead>\n",
       "    <tr style=\"text-align: right;\">\n",
       "      <th></th>\n",
       "      <th>review</th>\n",
       "      <th>work-balance_nb</th>\n",
       "      <th>culture-values_nb</th>\n",
       "      <th>career-opportunities_nb</th>\n",
       "      <th>comp-benefits_nb</th>\n",
       "      <th>senior-mgmt_nb</th>\n",
       "      <th>overall_nb</th>\n",
       "      <th>length</th>\n",
       "      <th>anger_score</th>\n",
       "      <th>anticipation_score</th>\n",
       "      <th>disgust_score</th>\n",
       "      <th>fear_score</th>\n",
       "      <th>joy_score</th>\n",
       "      <th>sadness_score</th>\n",
       "      <th>surprise_score</th>\n",
       "      <th>trust_score</th>\n",
       "      <th>subjectivity_review</th>\n",
       "      <th>polarity_review</th>\n",
       "    </tr>\n",
       "  </thead>\n",
       "  <tbody>\n",
       "    <tr>\n",
       "      <th>0</th>\n",
       "      <td>area manager starting pay bonus day work sched...</td>\n",
       "      <td>0</td>\n",
       "      <td>1</td>\n",
       "      <td>0</td>\n",
       "      <td>1</td>\n",
       "      <td>0</td>\n",
       "      <td>0</td>\n",
       "      <td>0.009494</td>\n",
       "      <td>0.000000</td>\n",
       "      <td>0.289712</td>\n",
       "      <td>0.000000</td>\n",
       "      <td>0.000000</td>\n",
       "      <td>0.296431</td>\n",
       "      <td>0.000000</td>\n",
       "      <td>0.108735</td>\n",
       "      <td>0.141507</td>\n",
       "      <td>0.720000</td>\n",
       "      <td>0.200000</td>\n",
       "    </tr>\n",
       "    <tr>\n",
       "      <th>1</th>\n",
       "      <td>great company great people great people great ...</td>\n",
       "      <td>1</td>\n",
       "      <td>1</td>\n",
       "      <td>1</td>\n",
       "      <td>1</td>\n",
       "      <td>1</td>\n",
       "      <td>1</td>\n",
       "      <td>0.022416</td>\n",
       "      <td>0.000000</td>\n",
       "      <td>0.136232</td>\n",
       "      <td>0.000000</td>\n",
       "      <td>0.000000</td>\n",
       "      <td>0.123362</td>\n",
       "      <td>0.000000</td>\n",
       "      <td>0.091677</td>\n",
       "      <td>0.112359</td>\n",
       "      <td>0.644497</td>\n",
       "      <td>0.477738</td>\n",
       "    </tr>\n",
       "    <tr>\n",
       "      <th>2</th>\n",
       "      <td>good and bad during holiday good money alot pr...</td>\n",
       "      <td>0</td>\n",
       "      <td>1</td>\n",
       "      <td>0</td>\n",
       "      <td>1</td>\n",
       "      <td>0</td>\n",
       "      <td>1</td>\n",
       "      <td>0.003692</td>\n",
       "      <td>0.090290</td>\n",
       "      <td>0.473243</td>\n",
       "      <td>0.065064</td>\n",
       "      <td>0.180914</td>\n",
       "      <td>0.483331</td>\n",
       "      <td>0.249532</td>\n",
       "      <td>0.073659</td>\n",
       "      <td>0.306529</td>\n",
       "      <td>0.573333</td>\n",
       "      <td>0.257500</td>\n",
       "    </tr>\n",
       "    <tr>\n",
       "      <th>3</th>\n",
       "      <td>amazon sde you get to learn a lot you never fe...</td>\n",
       "      <td>1</td>\n",
       "      <td>1</td>\n",
       "      <td>1</td>\n",
       "      <td>1</td>\n",
       "      <td>1</td>\n",
       "      <td>1</td>\n",
       "      <td>0.007384</td>\n",
       "      <td>0.000000</td>\n",
       "      <td>0.036967</td>\n",
       "      <td>0.000000</td>\n",
       "      <td>0.148751</td>\n",
       "      <td>0.139880</td>\n",
       "      <td>0.239729</td>\n",
       "      <td>0.019550</td>\n",
       "      <td>0.105928</td>\n",
       "      <td>0.350000</td>\n",
       "      <td>-0.200000</td>\n",
       "    </tr>\n",
       "    <tr>\n",
       "      <th>4</th>\n",
       "      <td>microsoft is a very good company and working w...</td>\n",
       "      <td>0</td>\n",
       "      <td>0</td>\n",
       "      <td>1</td>\n",
       "      <td>1</td>\n",
       "      <td>0</td>\n",
       "      <td>0</td>\n",
       "      <td>0.012131</td>\n",
       "      <td>0.028827</td>\n",
       "      <td>0.245973</td>\n",
       "      <td>0.000000</td>\n",
       "      <td>0.000000</td>\n",
       "      <td>0.143752</td>\n",
       "      <td>0.000000</td>\n",
       "      <td>0.044974</td>\n",
       "      <td>0.077455</td>\n",
       "      <td>0.602667</td>\n",
       "      <td>0.438667</td>\n",
       "    </tr>\n",
       "    <tr>\n",
       "      <th>...</th>\n",
       "      <td>...</td>\n",
       "      <td>...</td>\n",
       "      <td>...</td>\n",
       "      <td>...</td>\n",
       "      <td>...</td>\n",
       "      <td>...</td>\n",
       "      <td>...</td>\n",
       "      <td>...</td>\n",
       "      <td>...</td>\n",
       "      <td>...</td>\n",
       "      <td>...</td>\n",
       "      <td>...</td>\n",
       "      <td>...</td>\n",
       "      <td>...</td>\n",
       "      <td>...</td>\n",
       "      <td>...</td>\n",
       "      <td>...</td>\n",
       "      <td>...</td>\n",
       "    </tr>\n",
       "    <tr>\n",
       "      <th>15709</th>\n",
       "      <td>great culture to be a part of the perk of the ...</td>\n",
       "      <td>0</td>\n",
       "      <td>1</td>\n",
       "      <td>1</td>\n",
       "      <td>1</td>\n",
       "      <td>1</td>\n",
       "      <td>1</td>\n",
       "      <td>0.043776</td>\n",
       "      <td>0.004265</td>\n",
       "      <td>0.217680</td>\n",
       "      <td>0.083319</td>\n",
       "      <td>0.021866</td>\n",
       "      <td>0.229260</td>\n",
       "      <td>0.132066</td>\n",
       "      <td>0.006602</td>\n",
       "      <td>0.103782</td>\n",
       "      <td>0.478333</td>\n",
       "      <td>0.216667</td>\n",
       "    </tr>\n",
       "    <tr>\n",
       "      <th>15710</th>\n",
       "      <td>worst company management full of lie deception...</td>\n",
       "      <td>0</td>\n",
       "      <td>1</td>\n",
       "      <td>1</td>\n",
       "      <td>1</td>\n",
       "      <td>0</td>\n",
       "      <td>0</td>\n",
       "      <td>0.044304</td>\n",
       "      <td>0.266431</td>\n",
       "      <td>0.085858</td>\n",
       "      <td>0.238238</td>\n",
       "      <td>0.009827</td>\n",
       "      <td>0.118652</td>\n",
       "      <td>0.402502</td>\n",
       "      <td>0.020210</td>\n",
       "      <td>0.553991</td>\n",
       "      <td>0.599048</td>\n",
       "      <td>0.122857</td>\n",
       "    </tr>\n",
       "    <tr>\n",
       "      <th>15711</th>\n",
       "      <td>principal software engineer ton of flexibility...</td>\n",
       "      <td>0</td>\n",
       "      <td>1</td>\n",
       "      <td>1</td>\n",
       "      <td>1</td>\n",
       "      <td>1</td>\n",
       "      <td>1</td>\n",
       "      <td>0.017932</td>\n",
       "      <td>0.068181</td>\n",
       "      <td>0.165156</td>\n",
       "      <td>0.049484</td>\n",
       "      <td>0.108473</td>\n",
       "      <td>0.124290</td>\n",
       "      <td>0.143985</td>\n",
       "      <td>0.010585</td>\n",
       "      <td>0.263335</td>\n",
       "      <td>0.479978</td>\n",
       "      <td>0.083874</td>\n",
       "    </tr>\n",
       "    <tr>\n",
       "      <th>15712</th>\n",
       "      <td>finance amazon web service aws is the largest ...</td>\n",
       "      <td>1</td>\n",
       "      <td>1</td>\n",
       "      <td>1</td>\n",
       "      <td>1</td>\n",
       "      <td>1</td>\n",
       "      <td>1</td>\n",
       "      <td>0.026371</td>\n",
       "      <td>0.254053</td>\n",
       "      <td>0.121358</td>\n",
       "      <td>0.204978</td>\n",
       "      <td>0.251341</td>\n",
       "      <td>0.027896</td>\n",
       "      <td>0.243507</td>\n",
       "      <td>0.010824</td>\n",
       "      <td>0.073337</td>\n",
       "      <td>0.515758</td>\n",
       "      <td>-0.074091</td>\n",
       "    </tr>\n",
       "    <tr>\n",
       "      <th>15713</th>\n",
       "      <td>best place for a geek to grow plenty of opport...</td>\n",
       "      <td>1</td>\n",
       "      <td>0</td>\n",
       "      <td>1</td>\n",
       "      <td>1</td>\n",
       "      <td>1</td>\n",
       "      <td>1</td>\n",
       "      <td>0.006593</td>\n",
       "      <td>0.173085</td>\n",
       "      <td>0.292006</td>\n",
       "      <td>0.014443</td>\n",
       "      <td>0.062786</td>\n",
       "      <td>0.164093</td>\n",
       "      <td>0.058059</td>\n",
       "      <td>0.018314</td>\n",
       "      <td>0.367051</td>\n",
       "      <td>0.460000</td>\n",
       "      <td>0.460000</td>\n",
       "    </tr>\n",
       "  </tbody>\n",
       "</table>\n",
       "<p>15714 rows × 18 columns</p>\n",
       "</div>"
      ],
      "text/plain": [
       "                                                  review  work-balance_nb  \\\n",
       "0      area manager starting pay bonus day work sched...                0   \n",
       "1      great company great people great people great ...                1   \n",
       "2      good and bad during holiday good money alot pr...                0   \n",
       "3      amazon sde you get to learn a lot you never fe...                1   \n",
       "4      microsoft is a very good company and working w...                0   \n",
       "...                                                  ...              ...   \n",
       "15709  great culture to be a part of the perk of the ...                0   \n",
       "15710  worst company management full of lie deception...                0   \n",
       "15711  principal software engineer ton of flexibility...                0   \n",
       "15712  finance amazon web service aws is the largest ...                1   \n",
       "15713  best place for a geek to grow plenty of opport...                1   \n",
       "\n",
       "       culture-values_nb  career-opportunities_nb  comp-benefits_nb  \\\n",
       "0                      1                        0                 1   \n",
       "1                      1                        1                 1   \n",
       "2                      1                        0                 1   \n",
       "3                      1                        1                 1   \n",
       "4                      0                        1                 1   \n",
       "...                  ...                      ...               ...   \n",
       "15709                  1                        1                 1   \n",
       "15710                  1                        1                 1   \n",
       "15711                  1                        1                 1   \n",
       "15712                  1                        1                 1   \n",
       "15713                  0                        1                 1   \n",
       "\n",
       "       senior-mgmt_nb  overall_nb    length  anger_score  anticipation_score  \\\n",
       "0                   0           0  0.009494     0.000000            0.289712   \n",
       "1                   1           1  0.022416     0.000000            0.136232   \n",
       "2                   0           1  0.003692     0.090290            0.473243   \n",
       "3                   1           1  0.007384     0.000000            0.036967   \n",
       "4                   0           0  0.012131     0.028827            0.245973   \n",
       "...               ...         ...       ...          ...                 ...   \n",
       "15709               1           1  0.043776     0.004265            0.217680   \n",
       "15710               0           0  0.044304     0.266431            0.085858   \n",
       "15711               1           1  0.017932     0.068181            0.165156   \n",
       "15712               1           1  0.026371     0.254053            0.121358   \n",
       "15713               1           1  0.006593     0.173085            0.292006   \n",
       "\n",
       "       disgust_score  fear_score  joy_score  sadness_score  surprise_score  \\\n",
       "0           0.000000    0.000000   0.296431       0.000000        0.108735   \n",
       "1           0.000000    0.000000   0.123362       0.000000        0.091677   \n",
       "2           0.065064    0.180914   0.483331       0.249532        0.073659   \n",
       "3           0.000000    0.148751   0.139880       0.239729        0.019550   \n",
       "4           0.000000    0.000000   0.143752       0.000000        0.044974   \n",
       "...              ...         ...        ...            ...             ...   \n",
       "15709       0.083319    0.021866   0.229260       0.132066        0.006602   \n",
       "15710       0.238238    0.009827   0.118652       0.402502        0.020210   \n",
       "15711       0.049484    0.108473   0.124290       0.143985        0.010585   \n",
       "15712       0.204978    0.251341   0.027896       0.243507        0.010824   \n",
       "15713       0.014443    0.062786   0.164093       0.058059        0.018314   \n",
       "\n",
       "       trust_score  subjectivity_review  polarity_review  \n",
       "0         0.141507             0.720000         0.200000  \n",
       "1         0.112359             0.644497         0.477738  \n",
       "2         0.306529             0.573333         0.257500  \n",
       "3         0.105928             0.350000        -0.200000  \n",
       "4         0.077455             0.602667         0.438667  \n",
       "...            ...                  ...              ...  \n",
       "15709     0.103782             0.478333         0.216667  \n",
       "15710     0.553991             0.599048         0.122857  \n",
       "15711     0.263335             0.479978         0.083874  \n",
       "15712     0.073337             0.515758        -0.074091  \n",
       "15713     0.367051             0.460000         0.460000  \n",
       "\n",
       "[15714 rows x 18 columns]"
      ]
     },
     "execution_count": 29,
     "metadata": {},
     "output_type": "execute_result"
    }
   ],
   "source": [
    "X_test_cp_final"
   ]
  },
  {
   "cell_type": "code",
   "execution_count": 30,
   "metadata": {
    "scrolled": true
   },
   "outputs": [
    {
     "data": {
      "text/html": [
       "<div>\n",
       "<style scoped>\n",
       "    .dataframe tbody tr th:only-of-type {\n",
       "        vertical-align: middle;\n",
       "    }\n",
       "\n",
       "    .dataframe tbody tr th {\n",
       "        vertical-align: top;\n",
       "    }\n",
       "\n",
       "    .dataframe thead th {\n",
       "        text-align: right;\n",
       "    }\n",
       "</style>\n",
       "<table border=\"1\" class=\"dataframe\">\n",
       "  <thead>\n",
       "    <tr style=\"text-align: right;\">\n",
       "      <th></th>\n",
       "      <th>work-balance</th>\n",
       "      <th>culture-values</th>\n",
       "      <th>career-opportunities</th>\n",
       "      <th>comp-benefits</th>\n",
       "      <th>senior-mgmt</th>\n",
       "      <th>overall</th>\n",
       "    </tr>\n",
       "  </thead>\n",
       "  <tbody>\n",
       "    <tr>\n",
       "      <th>0</th>\n",
       "      <td>0</td>\n",
       "      <td>0</td>\n",
       "      <td>0</td>\n",
       "      <td>0</td>\n",
       "      <td>0</td>\n",
       "      <td>0</td>\n",
       "    </tr>\n",
       "    <tr>\n",
       "      <th>1</th>\n",
       "      <td>1</td>\n",
       "      <td>1</td>\n",
       "      <td>1</td>\n",
       "      <td>1</td>\n",
       "      <td>1</td>\n",
       "      <td>1</td>\n",
       "    </tr>\n",
       "    <tr>\n",
       "      <th>2</th>\n",
       "      <td>1</td>\n",
       "      <td>0</td>\n",
       "      <td>0</td>\n",
       "      <td>0</td>\n",
       "      <td>0</td>\n",
       "      <td>0</td>\n",
       "    </tr>\n",
       "    <tr>\n",
       "      <th>3</th>\n",
       "      <td>0</td>\n",
       "      <td>1</td>\n",
       "      <td>1</td>\n",
       "      <td>1</td>\n",
       "      <td>1</td>\n",
       "      <td>1</td>\n",
       "    </tr>\n",
       "    <tr>\n",
       "      <th>4</th>\n",
       "      <td>1</td>\n",
       "      <td>1</td>\n",
       "      <td>1</td>\n",
       "      <td>1</td>\n",
       "      <td>0</td>\n",
       "      <td>0</td>\n",
       "    </tr>\n",
       "    <tr>\n",
       "      <th>...</th>\n",
       "      <td>...</td>\n",
       "      <td>...</td>\n",
       "      <td>...</td>\n",
       "      <td>...</td>\n",
       "      <td>...</td>\n",
       "      <td>...</td>\n",
       "    </tr>\n",
       "    <tr>\n",
       "      <th>15709</th>\n",
       "      <td>1</td>\n",
       "      <td>1</td>\n",
       "      <td>1</td>\n",
       "      <td>0</td>\n",
       "      <td>0</td>\n",
       "      <td>0</td>\n",
       "    </tr>\n",
       "    <tr>\n",
       "      <th>15710</th>\n",
       "      <td>0</td>\n",
       "      <td>0</td>\n",
       "      <td>0</td>\n",
       "      <td>0</td>\n",
       "      <td>0</td>\n",
       "      <td>1</td>\n",
       "    </tr>\n",
       "    <tr>\n",
       "      <th>15711</th>\n",
       "      <td>1</td>\n",
       "      <td>1</td>\n",
       "      <td>1</td>\n",
       "      <td>1</td>\n",
       "      <td>1</td>\n",
       "      <td>1</td>\n",
       "    </tr>\n",
       "    <tr>\n",
       "      <th>15712</th>\n",
       "      <td>0</td>\n",
       "      <td>0</td>\n",
       "      <td>0</td>\n",
       "      <td>0</td>\n",
       "      <td>0</td>\n",
       "      <td>0</td>\n",
       "    </tr>\n",
       "    <tr>\n",
       "      <th>15713</th>\n",
       "      <td>1</td>\n",
       "      <td>1</td>\n",
       "      <td>1</td>\n",
       "      <td>1</td>\n",
       "      <td>1</td>\n",
       "      <td>1</td>\n",
       "    </tr>\n",
       "  </tbody>\n",
       "</table>\n",
       "<p>15714 rows × 6 columns</p>\n",
       "</div>"
      ],
      "text/plain": [
       "       work-balance  culture-values  career-opportunities  comp-benefits  \\\n",
       "0                 0               0                     0              0   \n",
       "1                 1               1                     1              1   \n",
       "2                 1               0                     0              0   \n",
       "3                 0               1                     1              1   \n",
       "4                 1               1                     1              1   \n",
       "...             ...             ...                   ...            ...   \n",
       "15709             1               1                     1              0   \n",
       "15710             0               0                     0              0   \n",
       "15711             1               1                     1              1   \n",
       "15712             0               0                     0              0   \n",
       "15713             1               1                     1              1   \n",
       "\n",
       "       senior-mgmt  overall  \n",
       "0                0        0  \n",
       "1                1        1  \n",
       "2                0        0  \n",
       "3                1        1  \n",
       "4                0        0  \n",
       "...            ...      ...  \n",
       "15709            0        0  \n",
       "15710            0        1  \n",
       "15711            1        1  \n",
       "15712            0        0  \n",
       "15713            1        1  \n",
       "\n",
       "[15714 rows x 6 columns]"
      ]
     },
     "execution_count": 30,
     "metadata": {},
     "output_type": "execute_result"
    }
   ],
   "source": [
    "y_test"
   ]
  },
  {
   "cell_type": "code",
   "execution_count": 31,
   "metadata": {},
   "outputs": [
    {
     "name": "stderr",
     "output_type": "stream",
     "text": [
      "100%|██████████| 36664/36664 [00:37<00:00, 974.97it/s] \n"
     ]
    }
   ],
   "source": [
    "#X_train_final = fea_pipe.fit_transform(X_train_cp)"
   ]
  },
  {
   "cell_type": "code",
   "execution_count": null,
   "metadata": {},
   "outputs": [],
   "source": [
    "#X_test_fea = fea_pipe.fit_transform(X_train_cp)"
   ]
  },
  {
   "cell_type": "code",
   "execution_count": 78,
   "metadata": {
    "scrolled": true
   },
   "outputs": [],
   "source": [
    "#X_train_final"
   ]
  },
  {
   "cell_type": "code",
   "execution_count": 32,
   "metadata": {
    "scrolled": true
   },
   "outputs": [
    {
     "name": "stderr",
     "output_type": "stream",
     "text": [
      "100%|██████████| 36665/36665 [00:41<00:00, 884.06it/s]\n"
     ]
    },
    {
     "data": {
      "text/html": [
       "<div>\n",
       "<style scoped>\n",
       "    .dataframe tbody tr th:only-of-type {\n",
       "        vertical-align: middle;\n",
       "    }\n",
       "\n",
       "    .dataframe tbody tr th {\n",
       "        vertical-align: top;\n",
       "    }\n",
       "\n",
       "    .dataframe thead th {\n",
       "        text-align: right;\n",
       "    }\n",
       "</style>\n",
       "<table border=\"1\" class=\"dataframe\">\n",
       "  <thead>\n",
       "    <tr style=\"text-align: right;\">\n",
       "      <th></th>\n",
       "      <th>review</th>\n",
       "      <th>work-balance_nb</th>\n",
       "      <th>culture-values_nb</th>\n",
       "      <th>career-opportunities_nb</th>\n",
       "      <th>comp-benefits_nb</th>\n",
       "      <th>senior-mgmt_nb</th>\n",
       "      <th>overall_nb</th>\n",
       "      <th>length</th>\n",
       "      <th>anger_score</th>\n",
       "      <th>anticipation_score</th>\n",
       "      <th>disgust_score</th>\n",
       "      <th>fear_score</th>\n",
       "      <th>joy_score</th>\n",
       "      <th>sadness_score</th>\n",
       "      <th>surprise_score</th>\n",
       "      <th>trust_score</th>\n",
       "      <th>subjectivity_review</th>\n",
       "      <th>polarity_review</th>\n",
       "    </tr>\n",
       "  </thead>\n",
       "  <tbody>\n",
       "    <tr>\n",
       "      <th>0</th>\n",
       "      <td>software development engineer there is a steep...</td>\n",
       "      <td>1</td>\n",
       "      <td>1</td>\n",
       "      <td>1</td>\n",
       "      <td>1</td>\n",
       "      <td>1</td>\n",
       "      <td>1</td>\n",
       "      <td>0.009922</td>\n",
       "      <td>0.026778</td>\n",
       "      <td>0.000000</td>\n",
       "      <td>0.0</td>\n",
       "      <td>0.000000</td>\n",
       "      <td>0.000000</td>\n",
       "      <td>0.000000</td>\n",
       "      <td>0.000000</td>\n",
       "      <td>0.000000</td>\n",
       "      <td>0.337500</td>\n",
       "      <td>0.037500</td>\n",
       "    </tr>\n",
       "    <tr>\n",
       "      <th>1</th>\n",
       "      <td>enjoy it global scale consumer and business ma...</td>\n",
       "      <td>1</td>\n",
       "      <td>1</td>\n",
       "      <td>0</td>\n",
       "      <td>1</td>\n",
       "      <td>0</td>\n",
       "      <td>0</td>\n",
       "      <td>0.031924</td>\n",
       "      <td>0.013388</td>\n",
       "      <td>0.275789</td>\n",
       "      <td>0.0</td>\n",
       "      <td>0.000000</td>\n",
       "      <td>0.175445</td>\n",
       "      <td>0.035972</td>\n",
       "      <td>0.000000</td>\n",
       "      <td>0.160121</td>\n",
       "      <td>0.411616</td>\n",
       "      <td>0.170707</td>\n",
       "    </tr>\n",
       "    <tr>\n",
       "      <th>2</th>\n",
       "      <td>good culture good depends on manager need to r...</td>\n",
       "      <td>1</td>\n",
       "      <td>1</td>\n",
       "      <td>1</td>\n",
       "      <td>1</td>\n",
       "      <td>1</td>\n",
       "      <td>1</td>\n",
       "      <td>0.001726</td>\n",
       "      <td>0.000000</td>\n",
       "      <td>0.361279</td>\n",
       "      <td>0.0</td>\n",
       "      <td>0.000000</td>\n",
       "      <td>0.386108</td>\n",
       "      <td>0.000000</td>\n",
       "      <td>0.084905</td>\n",
       "      <td>0.457966</td>\n",
       "      <td>0.600000</td>\n",
       "      <td>0.700000</td>\n",
       "    </tr>\n",
       "    <tr>\n",
       "      <th>3</th>\n",
       "      <td>good company best technology company great com...</td>\n",
       "      <td>1</td>\n",
       "      <td>1</td>\n",
       "      <td>1</td>\n",
       "      <td>1</td>\n",
       "      <td>1</td>\n",
       "      <td>1</td>\n",
       "      <td>0.007334</td>\n",
       "      <td>0.000000</td>\n",
       "      <td>0.273934</td>\n",
       "      <td>0.0</td>\n",
       "      <td>0.055880</td>\n",
       "      <td>0.372400</td>\n",
       "      <td>0.092013</td>\n",
       "      <td>0.021954</td>\n",
       "      <td>0.331112</td>\n",
       "      <td>0.450000</td>\n",
       "      <td>0.428571</td>\n",
       "    </tr>\n",
       "    <tr>\n",
       "      <th>4</th>\n",
       "      <td>m sde good benefit good compensation flexible ...</td>\n",
       "      <td>0</td>\n",
       "      <td>1</td>\n",
       "      <td>0</td>\n",
       "      <td>1</td>\n",
       "      <td>0</td>\n",
       "      <td>1</td>\n",
       "      <td>0.008628</td>\n",
       "      <td>0.000000</td>\n",
       "      <td>0.376707</td>\n",
       "      <td>0.0</td>\n",
       "      <td>0.149652</td>\n",
       "      <td>0.133945</td>\n",
       "      <td>0.000000</td>\n",
       "      <td>0.131869</td>\n",
       "      <td>0.237575</td>\n",
       "      <td>0.466667</td>\n",
       "      <td>0.266667</td>\n",
       "    </tr>\n",
       "    <tr>\n",
       "      <th>...</th>\n",
       "      <td>...</td>\n",
       "      <td>...</td>\n",
       "      <td>...</td>\n",
       "      <td>...</td>\n",
       "      <td>...</td>\n",
       "      <td>...</td>\n",
       "      <td>...</td>\n",
       "      <td>...</td>\n",
       "      <td>...</td>\n",
       "      <td>...</td>\n",
       "      <td>...</td>\n",
       "      <td>...</td>\n",
       "      <td>...</td>\n",
       "      <td>...</td>\n",
       "      <td>...</td>\n",
       "      <td>...</td>\n",
       "      <td>...</td>\n",
       "      <td>...</td>\n",
       "    </tr>\n",
       "    <tr>\n",
       "      <th>36660</th>\n",
       "      <td>work life balance work life balance not push l...</td>\n",
       "      <td>1</td>\n",
       "      <td>1</td>\n",
       "      <td>1</td>\n",
       "      <td>1</td>\n",
       "      <td>1</td>\n",
       "      <td>1</td>\n",
       "      <td>0.003883</td>\n",
       "      <td>0.000000</td>\n",
       "      <td>0.216934</td>\n",
       "      <td>0.0</td>\n",
       "      <td>0.000000</td>\n",
       "      <td>0.355812</td>\n",
       "      <td>0.043387</td>\n",
       "      <td>0.000000</td>\n",
       "      <td>0.159332</td>\n",
       "      <td>0.337500</td>\n",
       "      <td>-0.062500</td>\n",
       "    </tr>\n",
       "    <tr>\n",
       "      <th>36661</th>\n",
       "      <td>good experience would recommend if somebody wa...</td>\n",
       "      <td>1</td>\n",
       "      <td>1</td>\n",
       "      <td>0</td>\n",
       "      <td>1</td>\n",
       "      <td>0</td>\n",
       "      <td>1</td>\n",
       "      <td>0.017256</td>\n",
       "      <td>0.000000</td>\n",
       "      <td>0.126755</td>\n",
       "      <td>0.0</td>\n",
       "      <td>0.000000</td>\n",
       "      <td>0.326193</td>\n",
       "      <td>0.000000</td>\n",
       "      <td>0.030130</td>\n",
       "      <td>0.321852</td>\n",
       "      <td>0.429167</td>\n",
       "      <td>0.379167</td>\n",
       "    </tr>\n",
       "    <tr>\n",
       "      <th>36662</th>\n",
       "      <td>great company to work for excellent culture in...</td>\n",
       "      <td>1</td>\n",
       "      <td>1</td>\n",
       "      <td>1</td>\n",
       "      <td>1</td>\n",
       "      <td>1</td>\n",
       "      <td>1</td>\n",
       "      <td>0.006903</td>\n",
       "      <td>0.000000</td>\n",
       "      <td>0.109808</td>\n",
       "      <td>0.0</td>\n",
       "      <td>0.111012</td>\n",
       "      <td>0.278275</td>\n",
       "      <td>0.000000</td>\n",
       "      <td>0.000000</td>\n",
       "      <td>0.430543</td>\n",
       "      <td>0.758333</td>\n",
       "      <td>0.454167</td>\n",
       "    </tr>\n",
       "    <tr>\n",
       "      <th>36663</th>\n",
       "      <td>a culture that undervalues collaboration the c...</td>\n",
       "      <td>1</td>\n",
       "      <td>1</td>\n",
       "      <td>0</td>\n",
       "      <td>1</td>\n",
       "      <td>0</td>\n",
       "      <td>1</td>\n",
       "      <td>0.036238</td>\n",
       "      <td>0.024768</td>\n",
       "      <td>0.223423</td>\n",
       "      <td>0.0</td>\n",
       "      <td>0.016652</td>\n",
       "      <td>0.140413</td>\n",
       "      <td>0.000000</td>\n",
       "      <td>0.011664</td>\n",
       "      <td>0.245654</td>\n",
       "      <td>0.484694</td>\n",
       "      <td>0.066327</td>\n",
       "    </tr>\n",
       "    <tr>\n",
       "      <th>36664</th>\n",
       "      <td>experience here vary greatly with the work gro...</td>\n",
       "      <td>1</td>\n",
       "      <td>1</td>\n",
       "      <td>1</td>\n",
       "      <td>1</td>\n",
       "      <td>1</td>\n",
       "      <td>1</td>\n",
       "      <td>0.022433</td>\n",
       "      <td>0.008257</td>\n",
       "      <td>0.150807</td>\n",
       "      <td>0.0</td>\n",
       "      <td>0.068712</td>\n",
       "      <td>0.241666</td>\n",
       "      <td>0.000000</td>\n",
       "      <td>0.120636</td>\n",
       "      <td>0.250769</td>\n",
       "      <td>0.630000</td>\n",
       "      <td>0.200000</td>\n",
       "    </tr>\n",
       "  </tbody>\n",
       "</table>\n",
       "<p>36665 rows × 18 columns</p>\n",
       "</div>"
      ],
      "text/plain": [
       "                                                  review  work-balance_nb  \\\n",
       "0      software development engineer there is a steep...                1   \n",
       "1      enjoy it global scale consumer and business ma...                1   \n",
       "2      good culture good depends on manager need to r...                1   \n",
       "3      good company best technology company great com...                1   \n",
       "4      m sde good benefit good compensation flexible ...                0   \n",
       "...                                                  ...              ...   \n",
       "36660  work life balance work life balance not push l...                1   \n",
       "36661  good experience would recommend if somebody wa...                1   \n",
       "36662  great company to work for excellent culture in...                1   \n",
       "36663  a culture that undervalues collaboration the c...                1   \n",
       "36664  experience here vary greatly with the work gro...                1   \n",
       "\n",
       "       culture-values_nb  career-opportunities_nb  comp-benefits_nb  \\\n",
       "0                      1                        1                 1   \n",
       "1                      1                        0                 1   \n",
       "2                      1                        1                 1   \n",
       "3                      1                        1                 1   \n",
       "4                      1                        0                 1   \n",
       "...                  ...                      ...               ...   \n",
       "36660                  1                        1                 1   \n",
       "36661                  1                        0                 1   \n",
       "36662                  1                        1                 1   \n",
       "36663                  1                        0                 1   \n",
       "36664                  1                        1                 1   \n",
       "\n",
       "       senior-mgmt_nb  overall_nb    length  anger_score  anticipation_score  \\\n",
       "0                   1           1  0.009922     0.026778            0.000000   \n",
       "1                   0           0  0.031924     0.013388            0.275789   \n",
       "2                   1           1  0.001726     0.000000            0.361279   \n",
       "3                   1           1  0.007334     0.000000            0.273934   \n",
       "4                   0           1  0.008628     0.000000            0.376707   \n",
       "...               ...         ...       ...          ...                 ...   \n",
       "36660               1           1  0.003883     0.000000            0.216934   \n",
       "36661               0           1  0.017256     0.000000            0.126755   \n",
       "36662               1           1  0.006903     0.000000            0.109808   \n",
       "36663               0           1  0.036238     0.024768            0.223423   \n",
       "36664               1           1  0.022433     0.008257            0.150807   \n",
       "\n",
       "       disgust_score  fear_score  joy_score  sadness_score  surprise_score  \\\n",
       "0                0.0    0.000000   0.000000       0.000000        0.000000   \n",
       "1                0.0    0.000000   0.175445       0.035972        0.000000   \n",
       "2                0.0    0.000000   0.386108       0.000000        0.084905   \n",
       "3                0.0    0.055880   0.372400       0.092013        0.021954   \n",
       "4                0.0    0.149652   0.133945       0.000000        0.131869   \n",
       "...              ...         ...        ...            ...             ...   \n",
       "36660            0.0    0.000000   0.355812       0.043387        0.000000   \n",
       "36661            0.0    0.000000   0.326193       0.000000        0.030130   \n",
       "36662            0.0    0.111012   0.278275       0.000000        0.000000   \n",
       "36663            0.0    0.016652   0.140413       0.000000        0.011664   \n",
       "36664            0.0    0.068712   0.241666       0.000000        0.120636   \n",
       "\n",
       "       trust_score  subjectivity_review  polarity_review  \n",
       "0         0.000000             0.337500         0.037500  \n",
       "1         0.160121             0.411616         0.170707  \n",
       "2         0.457966             0.600000         0.700000  \n",
       "3         0.331112             0.450000         0.428571  \n",
       "4         0.237575             0.466667         0.266667  \n",
       "...            ...                  ...              ...  \n",
       "36660     0.159332             0.337500        -0.062500  \n",
       "36661     0.321852             0.429167         0.379167  \n",
       "36662     0.430543             0.758333         0.454167  \n",
       "36663     0.245654             0.484694         0.066327  \n",
       "36664     0.250769             0.630000         0.200000  \n",
       "\n",
       "[36665 rows x 18 columns]"
      ]
     },
     "execution_count": 32,
     "metadata": {},
     "output_type": "execute_result"
    }
   ],
   "source": [
    "X_train_features = test_pipe.fit_transform(X_train_cp)\n",
    "X_train_features"
   ]
  },
  {
   "cell_type": "code",
   "execution_count": 31,
   "metadata": {
    "scrolled": true
   },
   "outputs": [
    {
     "data": {
      "text/html": [
       "<div>\n",
       "<style scoped>\n",
       "    .dataframe tbody tr th:only-of-type {\n",
       "        vertical-align: middle;\n",
       "    }\n",
       "\n",
       "    .dataframe tbody tr th {\n",
       "        vertical-align: top;\n",
       "    }\n",
       "\n",
       "    .dataframe thead th {\n",
       "        text-align: right;\n",
       "    }\n",
       "</style>\n",
       "<table border=\"1\" class=\"dataframe\">\n",
       "  <thead>\n",
       "    <tr style=\"text-align: right;\">\n",
       "      <th></th>\n",
       "      <th>work-balance</th>\n",
       "      <th>culture-values</th>\n",
       "      <th>career-opportunities</th>\n",
       "      <th>comp-benefits</th>\n",
       "      <th>senior-mgmt</th>\n",
       "      <th>overall</th>\n",
       "    </tr>\n",
       "  </thead>\n",
       "  <tbody>\n",
       "    <tr>\n",
       "      <th>0</th>\n",
       "      <td>1</td>\n",
       "      <td>1</td>\n",
       "      <td>1</td>\n",
       "      <td>0</td>\n",
       "      <td>1</td>\n",
       "      <td>1</td>\n",
       "    </tr>\n",
       "    <tr>\n",
       "      <th>1</th>\n",
       "      <td>0</td>\n",
       "      <td>1</td>\n",
       "      <td>0</td>\n",
       "      <td>0</td>\n",
       "      <td>0</td>\n",
       "      <td>0</td>\n",
       "    </tr>\n",
       "    <tr>\n",
       "      <th>2</th>\n",
       "      <td>0</td>\n",
       "      <td>0</td>\n",
       "      <td>0</td>\n",
       "      <td>1</td>\n",
       "      <td>0</td>\n",
       "      <td>0</td>\n",
       "    </tr>\n",
       "    <tr>\n",
       "      <th>3</th>\n",
       "      <td>1</td>\n",
       "      <td>1</td>\n",
       "      <td>1</td>\n",
       "      <td>1</td>\n",
       "      <td>1</td>\n",
       "      <td>1</td>\n",
       "    </tr>\n",
       "    <tr>\n",
       "      <th>4</th>\n",
       "      <td>1</td>\n",
       "      <td>1</td>\n",
       "      <td>1</td>\n",
       "      <td>1</td>\n",
       "      <td>1</td>\n",
       "      <td>1</td>\n",
       "    </tr>\n",
       "    <tr>\n",
       "      <th>...</th>\n",
       "      <td>...</td>\n",
       "      <td>...</td>\n",
       "      <td>...</td>\n",
       "      <td>...</td>\n",
       "      <td>...</td>\n",
       "      <td>...</td>\n",
       "    </tr>\n",
       "    <tr>\n",
       "      <th>36660</th>\n",
       "      <td>1</td>\n",
       "      <td>0</td>\n",
       "      <td>0</td>\n",
       "      <td>0</td>\n",
       "      <td>0</td>\n",
       "      <td>0</td>\n",
       "    </tr>\n",
       "    <tr>\n",
       "      <th>36661</th>\n",
       "      <td>0</td>\n",
       "      <td>0</td>\n",
       "      <td>0</td>\n",
       "      <td>0</td>\n",
       "      <td>0</td>\n",
       "      <td>0</td>\n",
       "    </tr>\n",
       "    <tr>\n",
       "      <th>36662</th>\n",
       "      <td>1</td>\n",
       "      <td>1</td>\n",
       "      <td>1</td>\n",
       "      <td>1</td>\n",
       "      <td>1</td>\n",
       "      <td>1</td>\n",
       "    </tr>\n",
       "    <tr>\n",
       "      <th>36663</th>\n",
       "      <td>0</td>\n",
       "      <td>0</td>\n",
       "      <td>0</td>\n",
       "      <td>1</td>\n",
       "      <td>0</td>\n",
       "      <td>0</td>\n",
       "    </tr>\n",
       "    <tr>\n",
       "      <th>36664</th>\n",
       "      <td>0</td>\n",
       "      <td>0</td>\n",
       "      <td>1</td>\n",
       "      <td>0</td>\n",
       "      <td>1</td>\n",
       "      <td>1</td>\n",
       "    </tr>\n",
       "  </tbody>\n",
       "</table>\n",
       "<p>36665 rows × 6 columns</p>\n",
       "</div>"
      ],
      "text/plain": [
       "       work-balance  culture-values  career-opportunities  comp-benefits  \\\n",
       "0                 1               1                     1              0   \n",
       "1                 0               1                     0              0   \n",
       "2                 0               0                     0              1   \n",
       "3                 1               1                     1              1   \n",
       "4                 1               1                     1              1   \n",
       "...             ...             ...                   ...            ...   \n",
       "36660             1               0                     0              0   \n",
       "36661             0               0                     0              0   \n",
       "36662             1               1                     1              1   \n",
       "36663             0               0                     0              1   \n",
       "36664             0               0                     1              0   \n",
       "\n",
       "       senior-mgmt  overall  \n",
       "0                1        1  \n",
       "1                0        0  \n",
       "2                0        0  \n",
       "3                1        1  \n",
       "4                1        1  \n",
       "...            ...      ...  \n",
       "36660            0        0  \n",
       "36661            0        0  \n",
       "36662            1        1  \n",
       "36663            0        0  \n",
       "36664            1        1  \n",
       "\n",
       "[36665 rows x 6 columns]"
      ]
     },
     "execution_count": 31,
     "metadata": {},
     "output_type": "execute_result"
    }
   ],
   "source": [
    "y_train"
   ]
  },
  {
   "cell_type": "markdown",
   "metadata": {},
   "source": [
    "## SGD"
   ]
  },
  {
   "cell_type": "code",
   "execution_count": 4,
   "metadata": {},
   "outputs": [],
   "source": [
    "# search with SGD\n",
    "from sklearn.linear_model import SGDClassifier\n",
    "from sklearn.model_selection import RandomizedSearchCV, GridSearchCV\n",
    "from scipy import stats"
   ]
  },
  {
   "cell_type": "code",
   "execution_count": 79,
   "metadata": {},
   "outputs": [],
   "source": [
    "sgd = SGDClassifier()\n",
    "param = {\n",
    "    'alpha': stats.loguniform(0.00001, 1),\n",
    "    'loss': ['hinge', 'log', 'modified_huber', 'squared_hinge', 'perceptron'],\n",
    "    'penalty': ['l1', 'l2']\n",
    "         }\n",
    "sgd_search = RandomizedSearchCV(sgd, param, scoring='accuracy', n_iter=50, cv=5, n_jobs=-1)"
   ]
  },
  {
   "cell_type": "code",
   "execution_count": 80,
   "metadata": {},
   "outputs": [
    {
     "data": {
      "text/plain": [
       "(0.6263739260875495,\n",
       " SGDClassifier(alpha=0.004100001072365785, loss='modified_huber'))"
      ]
     },
     "execution_count": 80,
     "metadata": {},
     "output_type": "execute_result"
    }
   ],
   "source": [
    "# final test\n",
    "sgd_final_balance = sgd_search.fit(X_train_features.drop(columns='review'), y_train['work-balance'])\n",
    "sgd_final_balance.best_score_, \\\n",
    "sgd_final_balance.best_estimator_"
   ]
  },
  {
   "cell_type": "code",
   "execution_count": 81,
   "metadata": {},
   "outputs": [
    {
     "data": {
      "text/plain": [
       "(0.7177144415655257,\n",
       " SGDClassifier(alpha=0.0020101660744982286, loss='modified_huber'))"
      ]
     },
     "execution_count": 81,
     "metadata": {},
     "output_type": "execute_result"
    }
   ],
   "source": [
    "# final test\n",
    "sgd_final_culture = sgd_search.fit(X_train_features.drop(columns='review'), y_train['culture-values'])\n",
    "sgd_final_culture.best_score_, \\\n",
    "sgd_final_culture.best_estimator_"
   ]
  },
  {
   "cell_type": "code",
   "execution_count": 82,
   "metadata": {},
   "outputs": [
    {
     "data": {
      "text/plain": [
       "(0.7261966453020593,\n",
       " SGDClassifier(alpha=0.00040303459296775224, loss='log', penalty='l1'))"
      ]
     },
     "execution_count": 82,
     "metadata": {},
     "output_type": "execute_result"
    }
   ],
   "source": [
    "# final test\n",
    "sgd_final_benefits = sgd_search.fit(X_train_features.drop(columns='review'), y_train['comp-benefits'])\n",
    "sgd_final_benefits.best_score_, \\\n",
    "sgd_final_benefits.best_estimator_"
   ]
  },
  {
   "cell_type": "code",
   "execution_count": 83,
   "metadata": {},
   "outputs": [
    {
     "data": {
      "text/plain": [
       "(0.6505386608482203,\n",
       " SGDClassifier(alpha=7.237929577095464e-05, loss='log', penalty='l1'))"
      ]
     },
     "execution_count": 83,
     "metadata": {},
     "output_type": "execute_result"
    }
   ],
   "source": [
    "# final test\n",
    "sgd_final_mgmt = sgd_search.fit(X_train_features.drop(columns='review'), y_train['senior-mgmt'])\n",
    "sgd_final_mgmt.best_score_, \\\n",
    "sgd_final_mgmt.best_estimator_"
   ]
  },
  {
   "cell_type": "code",
   "execution_count": 84,
   "metadata": {},
   "outputs": [
    {
     "data": {
      "text/plain": [
       "(0.6720032728760398, SGDClassifier(alpha=0.0010680626447393303, loss='log'))"
      ]
     },
     "execution_count": 84,
     "metadata": {},
     "output_type": "execute_result"
    }
   ],
   "source": [
    "# final test\n",
    "sgd_final_career = sgd_search.fit(X_train_features.drop(columns='review'), y_train['career-opportunities'])\n",
    "sgd_final_career.best_score_, \\\n",
    "sgd_final_career.best_estimator_"
   ]
  },
  {
   "cell_type": "code",
   "execution_count": 85,
   "metadata": {},
   "outputs": [
    {
     "data": {
      "text/plain": [
       "(0.6109368607663985,\n",
       " SGDClassifier(alpha=0.014961445147503962, loss='modified_huber'))"
      ]
     },
     "execution_count": 85,
     "metadata": {},
     "output_type": "execute_result"
    }
   ],
   "source": [
    "# final test\n",
    "sgd_final_overall = sgd_search.fit(X_train_features.drop(columns='review'), y_train['overall'])\n",
    "sgd_final_overall.best_score_, \\\n",
    "sgd_final_overall.best_estimator_"
   ]
  },
  {
   "cell_type": "markdown",
   "metadata": {},
   "source": [
    "## KNN"
   ]
  },
  {
   "cell_type": "code",
   "execution_count": 2,
   "metadata": {},
   "outputs": [],
   "source": [
    "from sklearn.neighbors import KNeighborsClassifier\n",
    "import numpy as np"
   ]
  },
  {
   "cell_type": "code",
   "execution_count": 36,
   "metadata": {},
   "outputs": [],
   "source": [
    "knn = KNeighborsClassifier()\n",
    "param = {\n",
    "    'n_neighbors': np.arange(2,31),\n",
    "    #'algorithm': ['auto', 'ball_tree', 'kd_tree', 'brute'],\n",
    "    'weights': ['distance', 'uniform'],\n",
    "    'p': [1,2]\n",
    "         }\n",
    "knn_search = GridSearchCV(knn, param, scoring='accuracy', cv=5, n_jobs=-1)"
   ]
  },
  {
   "cell_type": "code",
   "execution_count": 37,
   "metadata": {},
   "outputs": [
    {
     "data": {
      "text/plain": [
       "(0.6073094231555979, KNeighborsClassifier(n_neighbors=18, weights='distance'))"
      ]
     },
     "execution_count": 37,
     "metadata": {},
     "output_type": "execute_result"
    }
   ],
   "source": [
    "knn_balance = knn_search.fit(X_train_features.drop(columns='review'), y_train['work-balance'])\n",
    "knn_balance.best_score_, \\\n",
    "knn_balance.best_estimator_"
   ]
  },
  {
   "cell_type": "code",
   "execution_count": 38,
   "metadata": {},
   "outputs": [
    {
     "data": {
      "text/plain": [
       "(0.7075139779080868,\n",
       " KNeighborsClassifier(n_neighbors=19, p=1, weights='distance'))"
      ]
     },
     "execution_count": 38,
     "metadata": {},
     "output_type": "execute_result"
    }
   ],
   "source": [
    "knn_culture = knn_search.fit(X_train_features.drop(columns='review'), y_train['culture-values'])\n",
    "knn_culture.best_score_, \\\n",
    "knn_culture.best_estimator_"
   ]
  },
  {
   "cell_type": "code",
   "execution_count": 39,
   "metadata": {},
   "outputs": [
    {
     "data": {
      "text/plain": [
       "(0.7195690713214237,\n",
       " KNeighborsClassifier(n_neighbors=20, p=1, weights='distance'))"
      ]
     },
     "execution_count": 39,
     "metadata": {},
     "output_type": "execute_result"
    }
   ],
   "source": [
    "knn_benefits = knn_search.fit(X_train_features.drop(columns='review'), y_train['comp-benefits'])\n",
    "knn_benefits.best_score_, \\\n",
    "knn_benefits.best_estimator_"
   ]
  },
  {
   "cell_type": "code",
   "execution_count": 40,
   "metadata": {},
   "outputs": [
    {
     "data": {
      "text/plain": [
       "(0.637528978589936, KNeighborsClassifier(n_neighbors=20, weights='distance'))"
      ]
     },
     "execution_count": 40,
     "metadata": {},
     "output_type": "execute_result"
    }
   ],
   "source": [
    "knn_mgmt = knn_search.fit(X_train_features.drop(columns='review'), y_train['senior-mgmt'])\n",
    "knn_mgmt.best_score_, \\\n",
    "knn_mgmt.best_estimator_"
   ]
  },
  {
   "cell_type": "code",
   "execution_count": 41,
   "metadata": {},
   "outputs": [
    {
     "data": {
      "text/plain": [
       "(0.6584481112777854,\n",
       " KNeighborsClassifier(n_neighbors=20, p=1, weights='distance'))"
      ]
     },
     "execution_count": 41,
     "metadata": {},
     "output_type": "execute_result"
    }
   ],
   "source": [
    "knn_career = knn_search.fit(X_train_features.drop(columns='review'), y_train['career-opportunities'])\n",
    "knn_career.best_score_, \\\n",
    "knn_career.best_estimator_"
   ]
  },
  {
   "cell_type": "code",
   "execution_count": 42,
   "metadata": {},
   "outputs": [
    {
     "data": {
      "text/plain": [
       "(0.5878903586526661, KNeighborsClassifier(n_neighbors=19, p=1))"
      ]
     },
     "execution_count": 42,
     "metadata": {},
     "output_type": "execute_result"
    }
   ],
   "source": [
    "# first test\n",
    "knn_overall = knn_search.fit(X_train_features.drop(columns='review'), y_train['overall'])\n",
    "knn_overall.best_score_, \\\n",
    "knn_overall.best_estimator_"
   ]
  },
  {
   "cell_type": "markdown",
   "metadata": {},
   "source": [
    "## LinearSVC"
   ]
  },
  {
   "cell_type": "code",
   "execution_count": 58,
   "metadata": {},
   "outputs": [],
   "source": [
    "from sklearn.svm import LinearSVC"
   ]
  },
  {
   "cell_type": "code",
   "execution_count": 65,
   "metadata": {},
   "outputs": [],
   "source": [
    "svc = LinearSVC(max_iter=10000, class_weight='balanced')\n",
    "param = {\n",
    "    'penalty': ['l1', 'l2'],\n",
    "    'loss': ['hinge', 'squared_hinge'],\n",
    "    'C': stats.loguniform(0.001, 10),\n",
    "         }\n",
    "svc_search = RandomizedSearchCV(svc, param, scoring='accuracy', n_iter=50, cv=5, n_jobs=-1)"
   ]
  },
  {
   "cell_type": "code",
   "execution_count": 60,
   "metadata": {},
   "outputs": [
    {
     "data": {
      "text/plain": [
       "(0.625964816582572, LinearSVC(C=0.013338119571019068, class_weight='balanced'))"
      ]
     },
     "execution_count": 60,
     "metadata": {},
     "output_type": "execute_result"
    }
   ],
   "source": [
    "svc_balance = svc_search.fit(X_train_features.drop(columns='review'), y_train['work-balance'])\n",
    "svc_balance.best_score_, \\\n",
    "svc_balance.best_estimator_"
   ]
  },
  {
   "cell_type": "code",
   "execution_count": 68,
   "metadata": {},
   "outputs": [
    {
     "name": "stderr",
     "output_type": "stream",
     "text": [
      "/Users/yunxizzy/.pyenv/versions/3.7.7/envs/workforce/lib/python3.7/site-packages/sklearn/svm/_base.py:977: ConvergenceWarning: Liblinear failed to converge, increase the number of iterations.\n",
      "  \"the number of iterations.\", ConvergenceWarning)\n"
     ]
    },
    {
     "data": {
      "text/plain": [
       "(0.6774035183417428,\n",
       " LinearSVC(C=3.876288726388152, class_weight='balanced', loss='hinge',\n",
       "           max_iter=10000))"
      ]
     },
     "execution_count": 68,
     "metadata": {},
     "output_type": "execute_result"
    }
   ],
   "source": [
    "svc_culture = svc_search.fit(X_train_features.drop(columns='review'), y_train['culture-values'])\n",
    "svc_culture.best_score_, \\\n",
    "svc_culture.best_estimator_"
   ]
  },
  {
   "cell_type": "code",
   "execution_count": 67,
   "metadata": {},
   "outputs": [
    {
     "name": "stderr",
     "output_type": "stream",
     "text": [
      "/Users/yunxizzy/.pyenv/versions/3.7.7/envs/workforce/lib/python3.7/site-packages/sklearn/svm/_base.py:977: ConvergenceWarning: Liblinear failed to converge, increase the number of iterations.\n",
      "  \"the number of iterations.\", ConvergenceWarning)\n"
     ]
    },
    {
     "data": {
      "text/plain": [
       "(0.622528296740761,\n",
       " LinearSVC(C=2.960632197177683, class_weight='balanced', loss='hinge',\n",
       "           max_iter=10000))"
      ]
     },
     "execution_count": 67,
     "metadata": {},
     "output_type": "execute_result"
    }
   ],
   "source": [
    "svc_benefits = svc_search.fit(X_train_features.drop(columns='review'), y_train['comp-benefits'])\n",
    "svc_benefits.best_score_, \\\n",
    "svc_benefits.best_estimator_"
   ]
  },
  {
   "cell_type": "code",
   "execution_count": 66,
   "metadata": {},
   "outputs": [
    {
     "data": {
      "text/plain": [
       "(0.6520114550661394,\n",
       " LinearSVC(C=0.30585024080744033, class_weight='balanced', max_iter=10000))"
      ]
     },
     "execution_count": 66,
     "metadata": {},
     "output_type": "execute_result"
    }
   ],
   "source": [
    "svc_mgmt = svc_search.fit(X_train_features.drop(columns='review'), y_train['senior-mgmt'])\n",
    "svc_mgmt.best_score_, \\\n",
    "svc_mgmt.best_estimator_"
   ]
  },
  {
   "cell_type": "code",
   "execution_count": 69,
   "metadata": {},
   "outputs": [
    {
     "name": "stderr",
     "output_type": "stream",
     "text": [
      "/Users/yunxizzy/.pyenv/versions/3.7.7/envs/workforce/lib/python3.7/site-packages/sklearn/svm/_base.py:977: ConvergenceWarning: Liblinear failed to converge, increase the number of iterations.\n",
      "  \"the number of iterations.\", ConvergenceWarning)\n"
     ]
    },
    {
     "data": {
      "text/plain": [
       "(0.6524205645711167,\n",
       " LinearSVC(C=2.966712952982055, class_weight='balanced', loss='hinge',\n",
       "           max_iter=10000))"
      ]
     },
     "execution_count": 69,
     "metadata": {},
     "output_type": "execute_result"
    }
   ],
   "source": [
    "svc_career = svc_search.fit(X_train_features.drop(columns='review'), y_train['career-opportunities'])\n",
    "svc_career.best_score_, \\\n",
    "svc_career.best_estimator_"
   ]
  },
  {
   "cell_type": "code",
   "execution_count": 70,
   "metadata": {},
   "outputs": [
    {
     "name": "stderr",
     "output_type": "stream",
     "text": [
      "/Users/yunxizzy/.pyenv/versions/3.7.7/envs/workforce/lib/python3.7/site-packages/sklearn/svm/_base.py:977: ConvergenceWarning: Liblinear failed to converge, increase the number of iterations.\n",
      "  \"the number of iterations.\", ConvergenceWarning)\n"
     ]
    },
    {
     "data": {
      "text/plain": [
       "(0.6117550797763533,\n",
       " LinearSVC(C=1.6083892819008554, class_weight='balanced', loss='hinge',\n",
       "           max_iter=10000))"
      ]
     },
     "execution_count": 70,
     "metadata": {},
     "output_type": "execute_result"
    }
   ],
   "source": [
    "svc_overall = svc_search.fit(X_train_features.drop(columns='review'), y_train['overall'])\n",
    "svc_overall.best_score_, \\\n",
    "svc_overall.best_estimator_"
   ]
  },
  {
   "cell_type": "markdown",
   "metadata": {},
   "source": [
    "## RandomForest"
   ]
  },
  {
   "cell_type": "code",
   "execution_count": 47,
   "metadata": {},
   "outputs": [],
   "source": [
    "from sklearn.ensemble import RandomForestClassifier"
   ]
  },
  {
   "cell_type": "code",
   "execution_count": 49,
   "metadata": {},
   "outputs": [],
   "source": [
    "rf = RandomForestClassifier(class_weight='balanced')\n",
    "params = {\n",
    "    'min_samples_split': stats.loguniform(0.001, 1),\n",
    "    'max_depth': stats.uniform(1,10),\n",
    "    'min_samples_leaf': stats.loguniform(0.001, 1)\n",
    "         }\n",
    "rf_search = RandomizedSearchCV(rf, params, scoring='accuracy', n_iter=100, cv=5, n_jobs=-1)"
   ]
  },
  {
   "cell_type": "code",
   "execution_count": 50,
   "metadata": {},
   "outputs": [
    {
     "data": {
      "text/plain": [
       "(0.627710350470476,\n",
       " RandomForestClassifier(class_weight='balanced', max_depth=9.24390774030592,\n",
       "                        min_samples_leaf=0.006114187124374911,\n",
       "                        min_samples_split=0.0058556334671197))"
      ]
     },
     "execution_count": 50,
     "metadata": {},
     "output_type": "execute_result"
    }
   ],
   "source": [
    "rf_balance = rf_search.fit(X_train_features.drop(columns='review'), y_train['work-balance'])\n",
    "rf_balance.best_score_, \\\n",
    "rf_balance.best_estimator_"
   ]
  },
  {
   "cell_type": "code",
   "execution_count": 51,
   "metadata": {},
   "outputs": [
    {
     "data": {
      "text/plain": [
       "(0.6883676530751399,\n",
       " RandomForestClassifier(class_weight='balanced', max_depth=10.0912776724443,\n",
       "                        min_samples_leaf=0.0012451848774880762,\n",
       "                        min_samples_split=0.0026533215860276606))"
      ]
     },
     "execution_count": 51,
     "metadata": {},
     "output_type": "execute_result"
    }
   ],
   "source": [
    "rf_culture = rf_search.fit(X_train_features.drop(columns='review'), y_train['culture-values'])\n",
    "rf_culture.best_score_, \\\n",
    "rf_culture.best_estimator_"
   ]
  },
  {
   "cell_type": "markdown",
   "metadata": {},
   "source": [
    "## LogisticRegression"
   ]
  },
  {
   "cell_type": "code",
   "execution_count": 52,
   "metadata": {},
   "outputs": [],
   "source": [
    "from sklearn.linear_model import LogisticRegression"
   ]
  },
  {
   "cell_type": "code",
   "execution_count": 71,
   "metadata": {},
   "outputs": [],
   "source": [
    "log = LogisticRegression(class_weight='balanced', max_iter=10000)\n",
    "param = {\n",
    "    'C': stats.loguniform(0.001, 10),\n",
    "    'multi_class': ['multinomial', 'ovr', 'auto'],\n",
    "    'solver': ['newton-cg', 'lbfgs', 'liblinear', 'saga'],\n",
    "    'penalty': ['l1', 'l2']\n",
    "         }\n",
    "log_search = RandomizedSearchCV(log, param, scoring='accuracy', n_iter=100, cv=5, n_jobs=-1)"
   ]
  },
  {
   "cell_type": "code",
   "execution_count": 72,
   "metadata": {},
   "outputs": [
    {
     "data": {
      "text/plain": [
       "(0.626346652120551,\n",
       " LogisticRegression(C=0.15556403259433868, class_weight='balanced',\n",
       "                    max_iter=10000, solver='liblinear'))"
      ]
     },
     "execution_count": 72,
     "metadata": {},
     "output_type": "execute_result"
    }
   ],
   "source": [
    "log_balance = log_search.fit(X_train_features.drop(columns='review'), y_train['work-balance'])\n",
    "log_balance.best_score_, \\\n",
    "log_balance.best_estimator_"
   ]
  },
  {
   "cell_type": "code",
   "execution_count": 73,
   "metadata": {},
   "outputs": [
    {
     "data": {
      "text/plain": [
       "(0.6768580390017729,\n",
       " LogisticRegression(C=0.5817434529277754, class_weight='balanced',\n",
       "                    max_iter=10000, penalty='l1', solver='liblinear'))"
      ]
     },
     "execution_count": 73,
     "metadata": {},
     "output_type": "execute_result"
    }
   ],
   "source": [
    "log_culture = log_search.fit(X_train_features.drop(columns='review'), y_train['culture-values'])\n",
    "log_culture.best_score_, \\\n",
    "log_culture.best_estimator_"
   ]
  },
  {
   "cell_type": "code",
   "execution_count": 74,
   "metadata": {},
   "outputs": [
    {
     "data": {
      "text/plain": [
       "(0.7054138824492023,\n",
       " LogisticRegression(C=0.0018514638543103514, class_weight='balanced',\n",
       "                    max_iter=10000, penalty='l1', solver='liblinear'))"
      ]
     },
     "execution_count": 74,
     "metadata": {},
     "output_type": "execute_result"
    }
   ],
   "source": [
    "log_benefits = log_search.fit(X_train_features.drop(columns='review'), y_train['comp-benefits'])\n",
    "log_benefits.best_score_, \\\n",
    "log_benefits.best_estimator_"
   ]
  },
  {
   "cell_type": "code",
   "execution_count": 75,
   "metadata": {},
   "outputs": [
    {
     "data": {
      "text/plain": [
       "(0.6522569207691259,\n",
       " LogisticRegression(C=1.8235684348117236, class_weight='balanced',\n",
       "                    max_iter=10000, penalty='l1', solver='liblinear'))"
      ]
     },
     "execution_count": 75,
     "metadata": {},
     "output_type": "execute_result"
    }
   ],
   "source": [
    "log_mgmt = log_search.fit(X_train_features.drop(columns='review'), y_train['senior-mgmt'])\n",
    "log_mgmt.best_score_, \\\n",
    "log_mgmt.best_estimator_"
   ]
  },
  {
   "cell_type": "code",
   "execution_count": 56,
   "metadata": {},
   "outputs": [
    {
     "data": {
      "text/plain": [
       "(0.6485749352243284,\n",
       " LogisticRegression(C=0.3243754795775467, class_weight='balanced', max_iter=1000,\n",
       "                    multi_class='multinomial', penalty='l1', solver='saga'))"
      ]
     },
     "execution_count": 56,
     "metadata": {},
     "output_type": "execute_result"
    }
   ],
   "source": [
    "log_career = log_search.fit(X_train_features.drop(columns='review'), y_train['career-opportunities'])\n",
    "log_career.best_score_, \\\n",
    "log_career.best_estimator_"
   ]
  },
  {
   "cell_type": "code",
   "execution_count": 55,
   "metadata": {},
   "outputs": [
    {
     "data": {
      "text/plain": [
       "(0.6112641483703805,\n",
       " LogisticRegression(C=0.3215993377577178, class_weight='balanced', max_iter=1000))"
      ]
     },
     "execution_count": 55,
     "metadata": {},
     "output_type": "execute_result"
    }
   ],
   "source": [
    "log_overall = log_search.fit(X_train_features.drop(columns='review'), y_train['overall'])\n",
    "log_overall.best_score_, \\\n",
    "log_overall.best_estimator_"
   ]
  }
 ],
 "metadata": {
  "kernelspec": {
   "display_name": "Python 3",
   "language": "python",
   "name": "python3"
  },
  "language_info": {
   "codemirror_mode": {
    "name": "ipython",
    "version": 3
   },
   "file_extension": ".py",
   "mimetype": "text/x-python",
   "name": "python",
   "nbconvert_exporter": "python",
   "pygments_lexer": "ipython3",
   "version": "3.7.7"
  },
  "toc": {
   "base_numbering": 1,
   "nav_menu": {},
   "number_sections": true,
   "sideBar": true,
   "skip_h1_title": false,
   "title_cell": "Table of Contents",
   "title_sidebar": "Contents",
   "toc_cell": false,
   "toc_position": {
    "height": "calc(100% - 180px)",
    "left": "10px",
    "top": "150px",
    "width": "220px"
   },
   "toc_section_display": true,
   "toc_window_display": true
  },
  "varInspector": {
   "cols": {
    "lenName": 16,
    "lenType": 16,
    "lenVar": 40
   },
   "kernels_config": {
    "python": {
     "delete_cmd_postfix": "",
     "delete_cmd_prefix": "del ",
     "library": "var_list.py",
     "varRefreshCmd": "print(var_dic_list())"
    },
    "r": {
     "delete_cmd_postfix": ") ",
     "delete_cmd_prefix": "rm(",
     "library": "var_list.r",
     "varRefreshCmd": "cat(var_dic_list()) "
    }
   },
   "types_to_exclude": [
    "module",
    "function",
    "builtin_function_or_method",
    "instance",
    "_Feature"
   ],
   "window_display": false
  }
 },
 "nbformat": 4,
 "nbformat_minor": 4
}
