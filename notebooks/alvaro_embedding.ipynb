{
 "cells": [
  {
   "cell_type": "code",
   "execution_count": 3,
   "metadata": {},
   "outputs": [],
   "source": [
    "from WorkforceSentimentMonitoring.data import get_data, merge, drop_wrong_language\n",
    "from flair.embeddings import TransformerDocumentEmbeddings\n",
    "from flair.data import Sentence"
   ]
  },
  {
   "cell_type": "code",
   "execution_count": 4,
   "metadata": {},
   "outputs": [],
   "source": [
    "submission, train, test = get_data()"
   ]
  },
  {
   "cell_type": "code",
   "execution_count": 5,
   "metadata": {},
   "outputs": [],
   "source": [
    "df = merge(submission, train, test)"
   ]
  },
  {
   "cell_type": "code",
   "execution_count": 6,
   "metadata": {
    "scrolled": true
   },
   "outputs": [
    {
     "name": "stdout",
     "output_type": "stream",
     "text": [
      "Identifying entries in other languages...\n"
     ]
    },
    {
     "data": {
      "application/vnd.jupyter.widget-view+json": {
       "model_id": "79ee9ee939774a0fb5d580fb4361fe3d",
       "version_major": 2,
       "version_minor": 0
      },
      "text/plain": [
       "HBox(children=(HTML(value='Dask Apply'), FloatProgress(value=0.0, max=8.0), HTML(value='')))"
      ]
     },
     "metadata": {},
     "output_type": "display_data"
    },
    {
     "name": "stdout",
     "output_type": "stream",
     "text": [
      "\n",
      "Drop 432 entries? [y] / n\n",
      "\n",
      "Dropping 432 entries...\n"
     ]
    }
   ],
   "source": [
    "df = drop_wrong_language(df, \"review\")"
   ]
  },
  {
   "cell_type": "code",
   "execution_count": 10,
   "metadata": {},
   "outputs": [],
   "source": [
    "X = df[['review']]"
   ]
  },
  {
   "cell_type": "code",
   "execution_count": 11,
   "metadata": {},
   "outputs": [],
   "source": [
    "y = df.iloc[:, -7:-1]"
   ]
  },
  {
   "cell_type": "code",
   "execution_count": 12,
   "metadata": {},
   "outputs": [
    {
     "data": {
      "text/html": [
       "<div>\n",
       "<style scoped>\n",
       "    .dataframe tbody tr th:only-of-type {\n",
       "        vertical-align: middle;\n",
       "    }\n",
       "\n",
       "    .dataframe tbody tr th {\n",
       "        vertical-align: top;\n",
       "    }\n",
       "\n",
       "    .dataframe thead th {\n",
       "        text-align: right;\n",
       "    }\n",
       "</style>\n",
       "<table border=\"1\" class=\"dataframe\">\n",
       "  <thead>\n",
       "    <tr style=\"text-align: right;\">\n",
       "      <th></th>\n",
       "      <th>review</th>\n",
       "    </tr>\n",
       "  </thead>\n",
       "  <tbody>\n",
       "    <tr>\n",
       "      <th>0</th>\n",
       "      <td>Best Company to work for People are smart and ...</td>\n",
       "    </tr>\n",
       "    <tr>\n",
       "      <th>1</th>\n",
       "      <td>Moving at the speed of light, burn out is inev...</td>\n",
       "    </tr>\n",
       "    <tr>\n",
       "      <th>2</th>\n",
       "      <td>Great balance between big-company security and...</td>\n",
       "    </tr>\n",
       "    <tr>\n",
       "      <th>3</th>\n",
       "      <td>The best place I've worked and also the most d...</td>\n",
       "    </tr>\n",
       "    <tr>\n",
       "      <th>4</th>\n",
       "      <td>Execellent for engineers Impact driven. Best t...</td>\n",
       "    </tr>\n",
       "    <tr>\n",
       "      <th>...</th>\n",
       "      <td>...</td>\n",
       "    </tr>\n",
       "    <tr>\n",
       "      <th>52378</th>\n",
       "      <td>great place to grow! Great health benefits. Ma...</td>\n",
       "    </tr>\n",
       "    <tr>\n",
       "      <th>52379</th>\n",
       "      <td>An ocean of opportunities diverse set of peopl...</td>\n",
       "    </tr>\n",
       "    <tr>\n",
       "      <th>52380</th>\n",
       "      <td>Tech Gaint Equip its employees wid huge salari...</td>\n",
       "    </tr>\n",
       "    <tr>\n",
       "      <th>52381</th>\n",
       "      <td>Terrible They had great health benefits (no lo...</td>\n",
       "    </tr>\n",
       "    <tr>\n",
       "      <th>52382</th>\n",
       "      <td>Microsoft is a good place to work Very structu...</td>\n",
       "    </tr>\n",
       "  </tbody>\n",
       "</table>\n",
       "<p>52383 rows × 1 columns</p>\n",
       "</div>"
      ],
      "text/plain": [
       "                                                  review\n",
       "0      Best Company to work for People are smart and ...\n",
       "1      Moving at the speed of light, burn out is inev...\n",
       "2      Great balance between big-company security and...\n",
       "3      The best place I've worked and also the most d...\n",
       "4      Execellent for engineers Impact driven. Best t...\n",
       "...                                                  ...\n",
       "52378  great place to grow! Great health benefits. Ma...\n",
       "52379  An ocean of opportunities diverse set of peopl...\n",
       "52380  Tech Gaint Equip its employees wid huge salari...\n",
       "52381  Terrible They had great health benefits (no lo...\n",
       "52382  Microsoft is a good place to work Very structu...\n",
       "\n",
       "[52383 rows x 1 columns]"
      ]
     },
     "execution_count": 12,
     "metadata": {},
     "output_type": "execute_result"
    }
   ],
   "source": [
    "X"
   ]
  },
  {
   "cell_type": "code",
   "execution_count": 14,
   "metadata": {},
   "outputs": [],
   "source": [
    "from flair.embeddings import (FlairEmbeddings,\n",
    "                              DocumentPoolEmbeddings)\n",
    "from flair.data import Sentence\n",
    "import numpy as np\n",
    "import swifter"
   ]
  },
  {
   "cell_type": "code",
   "execution_count": 25,
   "metadata": {},
   "outputs": [],
   "source": [
    "from time import time\n",
    "def get_aprox_time(f):\n",
    "    def wrapper(*args, **kwargs):\n",
    "        t1 = time()\n",
    "        ret = f(*args, **kwargs)\n",
    "        t2 = time()\n",
    "        print('{:s} function took {:.3f} ms'\n",
    "              .format(f.__name__, (t2-t1)*1000.0))\n",
    "        \n",
    "        return ret\n",
    "    return wrapper"
   ]
  },
  {
   "cell_type": "code",
   "execution_count": 32,
   "metadata": {},
   "outputs": [],
   "source": [
    "embedder = DocumentPoolEmbeddings([FlairEmbeddings('news-forward-fast'), \n",
    "                                   FlairEmbeddings('news-backward-fast')])\n",
    "def embed(text, embedder):\n",
    "    sentence = Sentence(text)\n",
    "    embedder.embed(sentence)\n",
    "    return sentence.get_embedding().detach().numpy()"
   ]
  },
  {
   "cell_type": "code",
   "execution_count": 34,
   "metadata": {},
   "outputs": [],
   "source": [
    "X_tmp, y_tmp = (X.sample(100, random_state=21).reset_index(drop=True),\n",
    "               y.sample(100, random_state=21).reset_index(drop=True))"
   ]
  },
  {
   "cell_type": "code",
   "execution_count": 36,
   "metadata": {
    "scrolled": true
   },
   "outputs": [
    {
     "data": {
      "application/vnd.jupyter.widget-view+json": {
       "model_id": "0a263ecaabf94e778577503a21129d9a",
       "version_major": 2,
       "version_minor": 0
      },
      "text/plain": [
       "HBox(children=(HTML(value='Dask Apply'), FloatProgress(value=0.0, max=8.0), HTML(value='')))"
      ]
     },
     "metadata": {},
     "output_type": "display_data"
    },
    {
     "name": "stdout",
     "output_type": "stream",
     "text": [
      "\n"
     ]
    }
   ],
   "source": [
    "X_tmp['embedding'] = X_tmp.review.swifter.allow_dask_on_strings()\\\n",
    "                    .apply(lambda x: embed(x, embedder))\n"
   ]
  },
  {
   "cell_type": "code",
   "execution_count": 35,
   "metadata": {},
   "outputs": [],
   "source": [
    "import pickle"
   ]
  },
  {
   "cell_type": "code",
   "execution_count": 64,
   "metadata": {},
   "outputs": [
    {
     "name": "stdout",
     "output_type": "stream",
     "text": [
      "/Users/AlephPei/code/theresa-sporn/WorkforceSentimentMonitoring/notebooks/../pickle_files/tmp.p\n"
     ]
    }
   ],
   "source": [
    "path = os.path.split(os.path.abspath('__file__'))[0]\n",
    "file = os.path.join(path, '../pickle_files/tmp.p')\n",
    "print(file)\n",
    "with open(file, 'wb') as f:\n",
    "    pickle.dump(tmp, f)"
   ]
  },
  {
   "cell_type": "code",
   "execution_count": 43,
   "metadata": {},
   "outputs": [],
   "source": [
    "with open('X_tmp.p', 'rb') as f:\n",
    "    tmp = pickle.load(f)"
   ]
  },
  {
   "cell_type": "code",
   "execution_count": 60,
   "metadata": {},
   "outputs": [],
   "source": [
    "tmp = tmp.join(y_tmp)"
   ]
  },
  {
   "cell_type": "code",
   "execution_count": 51,
   "metadata": {},
   "outputs": [
    {
     "data": {
      "text/html": [
       "<div>\n",
       "<style scoped>\n",
       "    .dataframe tbody tr th:only-of-type {\n",
       "        vertical-align: middle;\n",
       "    }\n",
       "\n",
       "    .dataframe tbody tr th {\n",
       "        vertical-align: top;\n",
       "    }\n",
       "\n",
       "    .dataframe thead th {\n",
       "        text-align: right;\n",
       "    }\n",
       "</style>\n",
       "<table border=\"1\" class=\"dataframe\">\n",
       "  <thead>\n",
       "    <tr style=\"text-align: right;\">\n",
       "      <th></th>\n",
       "      <th>review</th>\n",
       "      <th>embedding</th>\n",
       "    </tr>\n",
       "  </thead>\n",
       "  <tbody>\n",
       "    <tr>\n",
       "      <th>0</th>\n",
       "      <td>need a more private work place Fast moving com...</td>\n",
       "      <td>[-0.0019184604, -0.0002658161, 0.0155798495, 0...</td>\n",
       "    </tr>\n",
       "    <tr>\n",
       "      <th>1</th>\n",
       "      <td>Interior desining Desining works for homes Hea...</td>\n",
       "      <td>[-0.002913112, -0.00019012531, 0.016669504, 0....</td>\n",
       "    </tr>\n",
       "    <tr>\n",
       "      <th>2</th>\n",
       "      <td>SDS Good place to work and Best work environme...</td>\n",
       "      <td>[-0.0034811785, -0.0001517861, 0.017679181, 0....</td>\n",
       "    </tr>\n",
       "    <tr>\n",
       "      <th>3</th>\n",
       "      <td>It's a great gig until you get too much tenure...</td>\n",
       "      <td>[-0.0021079723, -0.0003244538, 0.013680316, 0....</td>\n",
       "    </tr>\n",
       "    <tr>\n",
       "      <th>4</th>\n",
       "      <td>Apple teview Very family oriented environment....</td>\n",
       "      <td>[-0.0030830398, -0.00038642192, 0.007107712, 0...</td>\n",
       "    </tr>\n",
       "    <tr>\n",
       "      <th>...</th>\n",
       "      <td>...</td>\n",
       "      <td>...</td>\n",
       "    </tr>\n",
       "    <tr>\n",
       "      <th>95</th>\n",
       "      <td>solid lifetime career Started at the company a...</td>\n",
       "      <td>[-0.0059678135, -0.00027851257, 0.013338191, 0...</td>\n",
       "    </tr>\n",
       "    <tr>\n",
       "      <th>96</th>\n",
       "      <td>flexi hours but too much of groupism work life...</td>\n",
       "      <td>[-0.00019360258, -0.00023351694, 0.009127408, ...</td>\n",
       "    </tr>\n",
       "    <tr>\n",
       "      <th>97</th>\n",
       "      <td>Great company with plenty of opportunities Vas...</td>\n",
       "      <td>[-0.0030757017, -0.00030309433, 0.0139978435, ...</td>\n",
       "    </tr>\n",
       "    <tr>\n",
       "      <th>98</th>\n",
       "      <td>Keep up the good work. Amazing work culture an...</td>\n",
       "      <td>[0.0013644153, -0.00020327792, 0.0050299573, 0...</td>\n",
       "    </tr>\n",
       "    <tr>\n",
       "      <th>99</th>\n",
       "      <td>Learn at the cost of your life You learn a lot...</td>\n",
       "      <td>[0.0021182967, -0.00021618673, 0.004387693, 0....</td>\n",
       "    </tr>\n",
       "  </tbody>\n",
       "</table>\n",
       "<p>100 rows × 2 columns</p>\n",
       "</div>"
      ],
      "text/plain": [
       "                                               review                                          embedding\n",
       "0   need a more private work place Fast moving com...  [-0.0019184604, -0.0002658161, 0.0155798495, 0...\n",
       "1   Interior desining Desining works for homes Hea...  [-0.002913112, -0.00019012531, 0.016669504, 0....\n",
       "2   SDS Good place to work and Best work environme...  [-0.0034811785, -0.0001517861, 0.017679181, 0....\n",
       "3   It's a great gig until you get too much tenure...  [-0.0021079723, -0.0003244538, 0.013680316, 0....\n",
       "4   Apple teview Very family oriented environment....  [-0.0030830398, -0.00038642192, 0.007107712, 0...\n",
       "..                                                ...                                                ...\n",
       "95  solid lifetime career Started at the company a...  [-0.0059678135, -0.00027851257, 0.013338191, 0...\n",
       "96  flexi hours but too much of groupism work life...  [-0.00019360258, -0.00023351694, 0.009127408, ...\n",
       "97  Great company with plenty of opportunities Vas...  [-0.0030757017, -0.00030309433, 0.0139978435, ...\n",
       "98  Keep up the good work. Amazing work culture an...  [0.0013644153, -0.00020327792, 0.0050299573, 0...\n",
       "99  Learn at the cost of your life You learn a lot...  [0.0021182967, -0.00021618673, 0.004387693, 0....\n",
       "\n",
       "[100 rows x 2 columns]"
      ]
     },
     "execution_count": 51,
     "metadata": {},
     "output_type": "execute_result"
    }
   ],
   "source": [
    "tmp"
   ]
  },
  {
   "cell_type": "code",
   "execution_count": 52,
   "metadata": {},
   "outputs": [],
   "source": [
    "import os"
   ]
  },
  {
   "cell_type": "code",
   "execution_count": 59,
   "metadata": {},
   "outputs": [
    {
     "data": {
      "text/plain": [
       "'/Users/AlephPei/code/theresa-sporn/WorkforceSentimentMonitoring/notebooks'"
      ]
     },
     "execution_count": 59,
     "metadata": {},
     "output_type": "execute_result"
    }
   ],
   "source": [
    "os.path.split(os.path.abspath('__file__'))[0]"
   ]
  },
  {
   "cell_type": "code",
   "execution_count": null,
   "metadata": {},
   "outputs": [],
   "source": []
  }
 ],
 "metadata": {
  "kernelspec": {
   "display_name": "Python 3",
   "language": "python",
   "name": "python3"
  },
  "language_info": {
   "codemirror_mode": {
    "name": "ipython",
    "version": 3
   },
   "file_extension": ".py",
   "mimetype": "text/x-python",
   "name": "python",
   "nbconvert_exporter": "python",
   "pygments_lexer": "ipython3",
   "version": "3.7.7"
  },
  "toc": {
   "base_numbering": 1,
   "nav_menu": {},
   "number_sections": true,
   "sideBar": true,
   "skip_h1_title": false,
   "title_cell": "Table of Contents",
   "title_sidebar": "Contents",
   "toc_cell": false,
   "toc_position": {},
   "toc_section_display": true,
   "toc_window_display": false
  }
 },
 "nbformat": 4,
 "nbformat_minor": 4
}
