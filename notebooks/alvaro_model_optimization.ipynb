{
 "cells": [
  {
   "cell_type": "code",
   "execution_count": 20,
   "metadata": {},
   "outputs": [
    {
     "name": "stdout",
     "output_type": "stream",
     "text": [
      "The autoreload extension is already loaded. To reload it, use:\n",
      "  %reload_ext autoreload\n"
     ]
    }
   ],
   "source": [
    "%load_ext autoreload\n",
    "%autoreload 2"
   ]
  },
  {
   "cell_type": "code",
   "execution_count": 21,
   "metadata": {},
   "outputs": [],
   "source": [
    "from WorkforceSentimentMonitoring.feature_engineering import *\n",
    "from WorkforceSentimentMonitoring.data import *\n",
    "from WorkforceSentimentMonitoring.preprocessing import *"
   ]
  },
  {
   "cell_type": "code",
   "execution_count": 34,
   "metadata": {},
   "outputs": [],
   "source": [
    "X_train, X_test, y_train, y_test = get_prepaired_data()"
   ]
  },
  {
   "cell_type": "code",
   "execution_count": 35,
   "metadata": {},
   "outputs": [
    {
     "data": {
      "text/plain": [
       "(36970, 5)"
      ]
     },
     "execution_count": 35,
     "metadata": {},
     "output_type": "execute_result"
    }
   ],
   "source": [
    "X_train.shape"
   ]
  },
  {
   "cell_type": "code",
   "execution_count": 36,
   "metadata": {},
   "outputs": [
    {
     "name": "stderr",
     "output_type": "stream",
     "text": [
      "100%|██████████| 5/5 [00:00<00:00, 26.70it/s]\n",
      "100%|██████████| 5/5 [00:00<00:00, 58.66it/s]\n"
     ]
    }
   ],
   "source": [
    "X_train = get_lengths(X_train)\n",
    "X_test = get_lengths(X_test)"
   ]
  },
  {
   "cell_type": "code",
   "execution_count": 38,
   "metadata": {},
   "outputs": [],
   "source": [
    "text_columns = X_train.select_dtypes('object').columns\n",
    "X_train[text_columns] = X_train[text_columns].applymap(preprocessing)"
   ]
  },
  {
   "cell_type": "code",
   "execution_count": 46,
   "metadata": {},
   "outputs": [
    {
     "data": {
      "text/html": [
       "<div>\n",
       "<style scoped>\n",
       "    .dataframe tbody tr th:only-of-type {\n",
       "        vertical-align: middle;\n",
       "    }\n",
       "\n",
       "    .dataframe tbody tr th {\n",
       "        vertical-align: top;\n",
       "    }\n",
       "\n",
       "    .dataframe thead th {\n",
       "        text-align: right;\n",
       "    }\n",
       "</style>\n",
       "<table border=\"1\" class=\"dataframe\">\n",
       "  <thead>\n",
       "    <tr style=\"text-align: right;\">\n",
       "      <th></th>\n",
       "      <th>summary</th>\n",
       "      <th>positives</th>\n",
       "      <th>negatives</th>\n",
       "      <th>advice_to_mgmt</th>\n",
       "      <th>review</th>\n",
       "      <th>summary_length</th>\n",
       "      <th>positives_length</th>\n",
       "      <th>negatives_length</th>\n",
       "      <th>advice_to_mgmt_length</th>\n",
       "      <th>review_length</th>\n",
       "    </tr>\n",
       "  </thead>\n",
       "  <tbody>\n",
       "    <tr>\n",
       "      <th>0</th>\n",
       "      <td>goood company great experience</td>\n",
       "      <td>good company work great experience bucket</td>\n",
       "      <td>need clear growth compensation better</td>\n",
       "      <td>management good better</td>\n",
       "      <td>goood company great experience good company wo...</td>\n",
       "      <td>34</td>\n",
       "      <td>57</td>\n",
       "      <td>49</td>\n",
       "      <td>36</td>\n",
       "      <td>179</td>\n",
       "    </tr>\n",
       "    <tr>\n",
       "      <th>1</th>\n",
       "      <td>microsoft enterprise sale</td>\n",
       "      <td>working large brand recognizable customer move...</td>\n",
       "      <td>engineering disconnect field sale microsoft en...</td>\n",
       "      <td>sale manager microsoft buried number data take...</td>\n",
       "      <td>microsoft enterprise sale working large brand ...</td>\n",
       "      <td>26</td>\n",
       "      <td>312</td>\n",
       "      <td>254</td>\n",
       "      <td>173</td>\n",
       "      <td>768</td>\n",
       "    </tr>\n",
       "    <tr>\n",
       "      <th>2</th>\n",
       "      <td>amazon</td>\n",
       "      <td>great work environment leadership team great w...</td>\n",
       "      <td>work long hour lot time high associate manager...</td>\n",
       "      <td>fine job keep great work pushing company right...</td>\n",
       "      <td>amazon great work environment leadership team ...</td>\n",
       "      <td>6</td>\n",
       "      <td>154</td>\n",
       "      <td>131</td>\n",
       "      <td>101</td>\n",
       "      <td>395</td>\n",
       "    </tr>\n",
       "    <tr>\n",
       "      <th>3</th>\n",
       "      <td>great place start</td>\n",
       "      <td>raise every month free gatorade good staying wage</td>\n",
       "      <td>break room far break short</td>\n",
       "      <td>NaN</td>\n",
       "      <td>great place start raise every month free gator...</td>\n",
       "      <td>20</td>\n",
       "      <td>55</td>\n",
       "      <td>39</td>\n",
       "      <td>0</td>\n",
       "      <td>120</td>\n",
       "    </tr>\n",
       "    <tr>\n",
       "      <th>4</th>\n",
       "      <td>great place work</td>\n",
       "      <td>great place work friendly manager learn someth...</td>\n",
       "      <td>like long hour</td>\n",
       "      <td>NaN</td>\n",
       "      <td>great place work great place work friendly man...</td>\n",
       "      <td>19</td>\n",
       "      <td>119</td>\n",
       "      <td>37</td>\n",
       "      <td>0</td>\n",
       "      <td>181</td>\n",
       "    </tr>\n",
       "  </tbody>\n",
       "</table>\n",
       "</div>"
      ],
      "text/plain": [
       "                          summary  \\\n",
       "0  goood company great experience   \n",
       "1       microsoft enterprise sale   \n",
       "2                          amazon   \n",
       "3               great place start   \n",
       "4                great place work   \n",
       "\n",
       "                                           positives  \\\n",
       "0          good company work great experience bucket   \n",
       "1  working large brand recognizable customer move...   \n",
       "2  great work environment leadership team great w...   \n",
       "3  raise every month free gatorade good staying wage   \n",
       "4  great place work friendly manager learn someth...   \n",
       "\n",
       "                                           negatives  \\\n",
       "0              need clear growth compensation better   \n",
       "1  engineering disconnect field sale microsoft en...   \n",
       "2  work long hour lot time high associate manager...   \n",
       "3                         break room far break short   \n",
       "4                                     like long hour   \n",
       "\n",
       "                                      advice_to_mgmt  \\\n",
       "0                             management good better   \n",
       "1  sale manager microsoft buried number data take...   \n",
       "2  fine job keep great work pushing company right...   \n",
       "3                                                NaN   \n",
       "4                                                NaN   \n",
       "\n",
       "                                              review  summary_length  \\\n",
       "0  goood company great experience good company wo...              34   \n",
       "1  microsoft enterprise sale working large brand ...              26   \n",
       "2  amazon great work environment leadership team ...               6   \n",
       "3  great place start raise every month free gator...              20   \n",
       "4  great place work great place work friendly man...              19   \n",
       "\n",
       "   positives_length  negatives_length  advice_to_mgmt_length  review_length  \n",
       "0                57                49                     36            179  \n",
       "1               312               254                    173            768  \n",
       "2               154               131                    101            395  \n",
       "3                55                39                      0            120  \n",
       "4               119                37                      0            181  "
      ]
     },
     "execution_count": 46,
     "metadata": {},
     "output_type": "execute_result"
    }
   ],
   "source": [
    "X_train.head()"
   ]
  },
  {
   "cell_type": "code",
   "execution_count": 42,
   "metadata": {},
   "outputs": [],
   "source": [
    "from sklearn.feature_extraction.text import TfidfVectorizer"
   ]
  },
  {
   "cell_type": "code",
   "execution_count": 43,
   "metadata": {},
   "outputs": [
    {
     "data": {
      "text/html": [
       "<div>\n",
       "<style scoped>\n",
       "    .dataframe tbody tr th:only-of-type {\n",
       "        vertical-align: middle;\n",
       "    }\n",
       "\n",
       "    .dataframe tbody tr th {\n",
       "        vertical-align: top;\n",
       "    }\n",
       "\n",
       "    .dataframe thead th {\n",
       "        text-align: right;\n",
       "    }\n",
       "</style>\n",
       "<table border=\"1\" class=\"dataframe\">\n",
       "  <thead>\n",
       "    <tr style=\"text-align: right;\">\n",
       "      <th></th>\n",
       "      <th>work-balance</th>\n",
       "      <th>culture-values</th>\n",
       "      <th>career-opportunities</th>\n",
       "      <th>comp-benefits</th>\n",
       "      <th>senior-mgmt</th>\n",
       "      <th>overall</th>\n",
       "    </tr>\n",
       "  </thead>\n",
       "  <tbody>\n",
       "    <tr>\n",
       "      <th>0</th>\n",
       "      <td>3</td>\n",
       "      <td>3</td>\n",
       "      <td>4</td>\n",
       "      <td>3</td>\n",
       "      <td>3</td>\n",
       "      <td>4</td>\n",
       "    </tr>\n",
       "    <tr>\n",
       "      <th>1</th>\n",
       "      <td>4</td>\n",
       "      <td>3</td>\n",
       "      <td>2</td>\n",
       "      <td>3</td>\n",
       "      <td>5</td>\n",
       "      <td>5</td>\n",
       "    </tr>\n",
       "    <tr>\n",
       "      <th>2</th>\n",
       "      <td>3</td>\n",
       "      <td>4</td>\n",
       "      <td>5</td>\n",
       "      <td>5</td>\n",
       "      <td>5</td>\n",
       "      <td>3</td>\n",
       "    </tr>\n",
       "    <tr>\n",
       "      <th>3</th>\n",
       "      <td>2</td>\n",
       "      <td>5</td>\n",
       "      <td>5</td>\n",
       "      <td>5</td>\n",
       "      <td>5</td>\n",
       "      <td>5</td>\n",
       "    </tr>\n",
       "    <tr>\n",
       "      <th>4</th>\n",
       "      <td>4</td>\n",
       "      <td>5</td>\n",
       "      <td>5</td>\n",
       "      <td>4</td>\n",
       "      <td>5</td>\n",
       "      <td>5</td>\n",
       "    </tr>\n",
       "  </tbody>\n",
       "</table>\n",
       "</div>"
      ],
      "text/plain": [
       "   work-balance  culture-values  career-opportunities  comp-benefits  \\\n",
       "0             3               3                     4              3   \n",
       "1             4               3                     2              3   \n",
       "2             3               4                     5              5   \n",
       "3             2               5                     5              5   \n",
       "4             4               5                     5              4   \n",
       "\n",
       "   senior-mgmt  overall  \n",
       "0            3        4  \n",
       "1            5        5  \n",
       "2            5        3  \n",
       "3            5        5  \n",
       "4            5        5  "
      ]
     },
     "execution_count": 43,
     "metadata": {},
     "output_type": "execute_result"
    }
   ],
   "source": [
    "y_train.head()"
   ]
  },
  {
   "cell_type": "code",
   "execution_count": 94,
   "metadata": {},
   "outputs": [
    {
     "data": {
      "text/plain": [
       "0.4189342710305653"
      ]
     },
     "execution_count": 94,
     "metadata": {},
     "output_type": "execute_result"
    }
   ],
   "source": [
    "vectorizer = TfidfVectorizer()\n",
    "\n",
    "X = vectorizer.fit_transform(X_train['review'])\n",
    "y = y_train['overall']\n",
    "\n",
    "model = MultinomialNB()\n",
    "\n",
    "model.fit(X, y)\n",
    "\n",
    "model.score(X, y)"
   ]
  },
  {
   "cell_type": "code",
   "execution_count": 102,
   "metadata": {},
   "outputs": [
    {
     "data": {
      "text/plain": [
       "0.6065728969434677"
      ]
     },
     "execution_count": 102,
     "metadata": {},
     "output_type": "execute_result"
    }
   ],
   "source": [
    "vectorizer = TfidfVectorizer(stop_words='english', analyzer='word',\n",
    "                             ngram_range=(1, 3), decode_error='strict')\n",
    "\n",
    "X = vectorizer.fit_transform(X_train['review'])\n",
    "y = y_train['overall']\n",
    "\n",
    "model = MultinomialNB()\n",
    "\n",
    "model.fit(X, y)\n",
    "\n",
    "model.score(X, y)"
   ]
  },
  {
   "cell_type": "code",
   "execution_count": 110,
   "metadata": {},
   "outputs": [],
   "source": [
    "from sklearn.model_selection import cross_validate, GridSearchCV"
   ]
  },
  {
   "cell_type": "code",
   "execution_count": 106,
   "metadata": {},
   "outputs": [
    {
     "name": "stderr",
     "output_type": "stream",
     "text": [
      "[Parallel(n_jobs=-1)]: Using backend LokyBackend with 4 concurrent workers.\n",
      "[Parallel(n_jobs=-1)]: Done  10 out of  10 | elapsed:    3.3s finished\n"
     ]
    }
   ],
   "source": [
    "model = MultinomialNB()\n",
    "\n",
    "cv_results = cross_validate(model, X, y, n_jobs=-1, verbose=1, cv=10)"
   ]
  },
  {
   "cell_type": "code",
   "execution_count": 109,
   "metadata": {},
   "outputs": [
    {
     "data": {
      "text/plain": [
       "0.323776034622667"
      ]
     },
     "execution_count": 109,
     "metadata": {},
     "output_type": "execute_result"
    }
   ],
   "source": [
    "cv_results['test_score'].max()"
   ]
  },
  {
   "cell_type": "markdown",
   "metadata": {},
   "source": [
    "### Grid Search CV"
   ]
  },
  {
   "cell_type": "code",
   "execution_count": 111,
   "metadata": {},
   "outputs": [
    {
     "data": {
      "text/plain": [
       "GridSearchCV(cv=5, estimator=MultinomialNB(), n_jobs=-1,\n",
       "             param_grid={'alpha': [0.01, 0.1, 1, 1.1],\n",
       "                         'fit_prior': [True, False]},\n",
       "             scoring='accuracy')"
      ]
     },
     "execution_count": 111,
     "metadata": {},
     "output_type": "execute_result"
    }
   ],
   "source": [
    "model = MultinomialNB()\n",
    "grid = dict(alpha = [0.01, 0.1, 1, 1.1],\n",
    "            fit_prior = [True, False])\n",
    "grid_search = GridSearchCV(model, grid,\n",
    "                           scoring='accuracy',\n",
    "                           cv=5,\n",
    "                           n_jobs=-1)\n",
    "\n",
    "grid_search.fit(X, y)"
   ]
  },
  {
   "cell_type": "code",
   "execution_count": 112,
   "metadata": {},
   "outputs": [
    {
     "name": "stdout",
     "output_type": "stream",
     "text": [
      "0.320854747092237\n",
      "{'alpha': 0.1, 'fit_prior': False}\n",
      "MultinomialNB(alpha=0.1, fit_prior=False)\n"
     ]
    }
   ],
   "source": [
    "print(grid_search.best_score_)\n",
    "print(grid_search.best_params_)\n",
    "print(grid_search.best_estimator_)"
   ]
  },
  {
   "cell_type": "markdown",
   "metadata": {},
   "source": [
    "### Randomized Search CV"
   ]
  },
  {
   "cell_type": "code",
   "execution_count": 114,
   "metadata": {},
   "outputs": [],
   "source": [
    "from sklearn.model_selection import RandomizedSearchCV\n",
    "from scipy import stats"
   ]
  },
  {
   "cell_type": "code",
   "execution_count": 115,
   "metadata": {},
   "outputs": [
    {
     "data": {
      "text/plain": [
       "MultinomialNB(alpha=0.13311216080736882, fit_prior=False)"
      ]
     },
     "execution_count": 115,
     "metadata": {},
     "output_type": "execute_result"
    }
   ],
   "source": [
    "model = MultinomialNB()\n",
    "\n",
    "grid = dict(alpha = stats.loguniform(0.001, 1),\n",
    "            fit_prior = [True, False])\n",
    "\n",
    "grid_search = RandomizedSearchCV(model, grid, scoring = 'accuracy',\n",
    "                                n_iter = 100,\n",
    "                                cv = 5, n_jobs=-1)\n",
    "\n",
    "grid_search.fit(X, y)\n",
    "grid_search.best_estimator_"
   ]
  },
  {
   "cell_type": "code",
   "execution_count": 116,
   "metadata": {},
   "outputs": [
    {
     "data": {
      "text/plain": [
       "0.32326210440898023"
      ]
     },
     "execution_count": 116,
     "metadata": {},
     "output_type": "execute_result"
    }
   ],
   "source": [
    "grid_search.best_score_"
   ]
  },
  {
   "cell_type": "code",
   "execution_count": 117,
   "metadata": {},
   "outputs": [
    {
     "data": {
      "text/plain": [
       "(36970, 1610432)"
      ]
     },
     "execution_count": 117,
     "metadata": {},
     "output_type": "execute_result"
    }
   ],
   "source": [
    "X.shape"
   ]
  },
  {
   "cell_type": "code",
   "execution_count": 121,
   "metadata": {},
   "outputs": [
    {
     "name": "stdout",
     "output_type": "stream",
     "text": [
      "MultinomialNB(alpha=0.5917323016613896, fit_prior=False)\n",
      "0.3232080064917501\n"
     ]
    }
   ],
   "source": [
    "vectorizer = TfidfVectorizer(stop_words='english', analyzer='word',\n",
    "                             ngram_range=(1,2), decode_error='strict')\n",
    "\n",
    "X = vectorizer.fit_transform(X_train['review'])\n",
    "y = y_train['overall']\n",
    "\n",
    "model = MultinomialNB()\n",
    "\n",
    "grid_search = RandomizedSearchCV(model, grid, scoring = 'accuracy',\n",
    "                                n_iter = 100,\n",
    "                                cv = 5, n_jobs=-1)\n",
    "\n",
    "grid_search.fit(X, y)\n",
    "print(grid_search.best_estimator_)\n",
    "print(grid_search.best_score_)"
   ]
  },
  {
   "cell_type": "code",
   "execution_count": 120,
   "metadata": {},
   "outputs": [
    {
     "name": "stdout",
     "output_type": "stream",
     "text": [
      "MultinomialNB(alpha=0.5387829392842869, fit_prior=False)\n",
      "0.33356775764133084\n"
     ]
    }
   ],
   "source": [
    "vectorizer = TfidfVectorizer(stop_words='english', analyzer='word',\n",
    "                             ngram_range=(1,1), decode_error='strict')\n",
    "\n",
    "X = vectorizer.fit_transform(X_train['review'])\n",
    "y = y_train['overall']\n",
    "\n",
    "model = MultinomialNB()\n",
    "\n",
    "grid_search = RandomizedSearchCV(model, grid, scoring = 'accuracy',\n",
    "                                n_iter = 100,\n",
    "                                cv = 5, n_jobs=-1)\n",
    "\n",
    "grid_search.fit(X, y)\n",
    "print(grid_search.best_estimator_)\n",
    "print(grid_search.best_score_)"
   ]
  },
  {
   "cell_type": "markdown",
   "metadata": {},
   "source": [
    "### Pipeline"
   ]
  },
  {
   "cell_type": "code",
   "execution_count": 124,
   "metadata": {},
   "outputs": [],
   "source": [
    "from sklearn.pipeline import Pipeline, make_pipeline"
   ]
  },
  {
   "cell_type": "code",
   "execution_count": 125,
   "metadata": {},
   "outputs": [],
   "source": [
    "pipe = Pipeline([\n",
    "                ('vectorizer', TfidfVectorizer()),\n",
    "                ('classifier', MultinomialNB())\n",
    "                ])"
   ]
  },
  {
   "cell_type": "code",
   "execution_count": 128,
   "metadata": {},
   "outputs": [],
   "source": [
    "grid = dict(vectorizer__stop_words = [None, 'english'],\n",
    "            vectorizer__analyzer = ['word', 'char', 'char_wb'],\n",
    "            vectorizer__ngram_range=[(1, 1), (1, 2), (2, 2), (1, 3), (2, 3)],\n",
    "            vectorizer__decode_error=['strict', 'ignore'],\n",
    "            vectorizer__max_df = stats.loguniform(0.001, 1),\n",
    "            vectorizer__min_df = stats.loguniform(0.001, 1),\n",
    "            vectorizer__norm = ['l1', 'l2'],\n",
    "            classifier__alpha = stats.loguniform(0.001, 1))"
   ]
  },
  {
   "cell_type": "code",
   "execution_count": 129,
   "metadata": {},
   "outputs": [],
   "source": [
    "grid_search = RandomizedSearchCV(pipe, grid, scoring = 'accuracy',\n",
    "                                n_iter = 100,\n",
    "                                cv = 5, n_jobs=-1)"
   ]
  },
  {
   "cell_type": "code",
   "execution_count": 133,
   "metadata": {},
   "outputs": [],
   "source": [
    "X = X_train['review']\n",
    "y = y_train['overall']"
   ]
  },
  {
   "cell_type": "code",
   "execution_count": 135,
   "metadata": {},
   "outputs": [
    {
     "data": {
      "text/plain": [
       "RandomizedSearchCV(cv=5,\n",
       "                   estimator=Pipeline(steps=[('vectorizer', TfidfVectorizer()),\n",
       "                                             ('classifier', MultinomialNB())]),\n",
       "                   n_iter=100, n_jobs=-1,\n",
       "                   param_distributions={'classifier__alpha': <scipy.stats._distn_infrastructure.rv_frozen object at 0x196727a50>,\n",
       "                                        'vectorizer__analyzer': ['word', 'char',\n",
       "                                                                 'char_wb'],\n",
       "                                        'vectorizer__decode_error': ['strict',\n",
       "                                                                     'ignore'],\n",
       "                                        'vectorizer__max_df': <scipy.stats._distn_infrastructure.rv_frozen object at 0x12a7070d0>,\n",
       "                                        'vectorizer__min_df': <scipy.stats._distn_infrastructure.rv_frozen object at 0x196727550>,\n",
       "                                        'vectorizer__ngram_range': [(1, 1),\n",
       "                                                                    (1, 2),\n",
       "                                                                    (2, 2),\n",
       "                                                                    (1, 3),\n",
       "                                                                    (2, 3)],\n",
       "                                        'vectorizer__norm': ['l1', 'l2'],\n",
       "                                        'vectorizer__stop_words': [None,\n",
       "                                                                   'english']},\n",
       "                   scoring='accuracy')"
      ]
     },
     "execution_count": 135,
     "metadata": {},
     "output_type": "execute_result"
    }
   ],
   "source": [
    "grid_search.fit(X, y)"
   ]
  },
  {
   "cell_type": "code",
   "execution_count": 136,
   "metadata": {},
   "outputs": [
    {
     "data": {
      "text/plain": [
       "0.34822829321071136"
      ]
     },
     "execution_count": 136,
     "metadata": {},
     "output_type": "execute_result"
    }
   ],
   "source": [
    "grid_search.best_score_"
   ]
  },
  {
   "cell_type": "code",
   "execution_count": 138,
   "metadata": {},
   "outputs": [
    {
     "data": {
      "text/plain": [
       "{'classifier__alpha': 0.04415315594423126,\n",
       " 'vectorizer__analyzer': 'char_wb',\n",
       " 'vectorizer__decode_error': 'ignore',\n",
       " 'vectorizer__max_df': 0.6463494537363494,\n",
       " 'vectorizer__min_df': 0.0014347414252424023,\n",
       " 'vectorizer__ngram_range': (1, 3),\n",
       " 'vectorizer__norm': 'l2',\n",
       " 'vectorizer__stop_words': 'english'}"
      ]
     },
     "execution_count": 138,
     "metadata": {},
     "output_type": "execute_result"
    }
   ],
   "source": [
    "grid_search.best_params_"
   ]
  },
  {
   "cell_type": "code",
   "execution_count": 143,
   "metadata": {},
   "outputs": [],
   "source": [
    "pred_proba = grid_search.predict_proba(X)"
   ]
  },
  {
   "cell_type": "code",
   "execution_count": 152,
   "metadata": {},
   "outputs": [],
   "source": [
    "from sklearn.metrics import f1_score, classification_report"
   ]
  },
  {
   "cell_type": "code",
   "execution_count": 144,
   "metadata": {},
   "outputs": [],
   "source": [
    "best_model = grid_search.best_estimator_"
   ]
  },
  {
   "cell_type": "code",
   "execution_count": 149,
   "metadata": {},
   "outputs": [],
   "source": [
    "# selected feature\n",
    "X_test_selected_feature = X_test['review']\n",
    "# selected class\n",
    "y_true = y_test['overall']"
   ]
  },
  {
   "cell_type": "code",
   "execution_count": 150,
   "metadata": {},
   "outputs": [],
   "source": [
    "y_pred = best_model.predict(X_test_selected_feature)"
   ]
  },
  {
   "cell_type": "code",
   "execution_count": 151,
   "metadata": {},
   "outputs": [
    {
     "data": {
      "text/plain": [
       "0.31106476875663086"
      ]
     },
     "execution_count": 151,
     "metadata": {},
     "output_type": "execute_result"
    }
   ],
   "source": [
    "f1_score(y_true, y_pred, average='weighted')"
   ]
  },
  {
   "cell_type": "code",
   "execution_count": 154,
   "metadata": {},
   "outputs": [
    {
     "name": "stdout",
     "output_type": "stream",
     "text": [
      "              precision    recall  f1-score   support\n",
      "\n",
      "           1       0.36      0.29      0.32      1186\n",
      "           2       0.24      0.13      0.17      2065\n",
      "           3       0.31      0.45      0.37      4510\n",
      "           4       0.36      0.46      0.40      4861\n",
      "           5       0.48      0.11      0.18      3223\n",
      "\n",
      "    accuracy                           0.33     15845\n",
      "   macro avg       0.35      0.29      0.29     15845\n",
      "weighted avg       0.35      0.33      0.31     15845\n",
      "\n"
     ]
    }
   ],
   "source": [
    "print(classification_report(y_true, y_pred))"
   ]
  },
  {
   "cell_type": "code",
   "execution_count": 155,
   "metadata": {},
   "outputs": [],
   "source": [
    "from sklearn.svm import SVC"
   ]
  },
  {
   "cell_type": "code",
   "execution_count": 158,
   "metadata": {},
   "outputs": [],
   "source": [
    "svm_pipeline = Pipeline([('vectorizer', TfidfVectorizer(analyzer = 'char', ngram_range=(1,5))),\n",
    "                         ('classifier', SVC())])"
   ]
  },
  {
   "cell_type": "code",
   "execution_count": null,
   "metadata": {},
   "outputs": [],
   "source": [
    "svm_pipeline.fit(X, y)"
   ]
  },
  {
   "cell_type": "code",
   "execution_count": null,
   "metadata": {},
   "outputs": [],
   "source": [
    "y_pred = svm_pipeline.predict(X_test_selected_feature)\n",
    "print(classification_report(y_true, y_pred))"
   ]
  },
  {
   "cell_type": "code",
<<<<<<< HEAD
   "execution_count": 2,
   "metadata": {},
   "outputs": [
    {
     "ename": "NameError",
     "evalue": "name 'X' is not defined",
     "output_type": "error",
     "traceback": [
      "\u001b[0;31m---------------------------------------------------------------------------\u001b[0m",
      "\u001b[0;31mNameError\u001b[0m                                 Traceback (most recent call last)",
      "\u001b[0;32m<ipython-input-2-b5fec669aca1>\u001b[0m in \u001b[0;36m<module>\u001b[0;34m\u001b[0m\n\u001b[0;32m----> 1\u001b[0;31m \u001b[0mX\u001b[0m\u001b[0;34m\u001b[0m\u001b[0;34m\u001b[0m\u001b[0m\n\u001b[0m",
      "\u001b[0;31mNameError\u001b[0m: name 'X' is not defined"
     ]
    }
   ],
   "source": [
    "X"
   ]
  },
  {
   "cell_type": "code",
=======
>>>>>>> ef40e67d6d120ec254f2b54c7bf4186356739f88
   "execution_count": null,
   "metadata": {},
   "outputs": [],
   "source": []
  }
 ],
 "metadata": {
  "kernelspec": {
   "display_name": "Python 3",
   "language": "python",
   "name": "python3"
  },
  "language_info": {
   "codemirror_mode": {
    "name": "ipython",
    "version": 3
   },
   "file_extension": ".py",
   "mimetype": "text/x-python",
   "name": "python",
   "nbconvert_exporter": "python",
   "pygments_lexer": "ipython3",
   "version": "3.7.7"
  },
  "toc": {
   "base_numbering": 1,
   "nav_menu": {},
   "number_sections": true,
   "sideBar": true,
   "skip_h1_title": false,
   "title_cell": "Table of Contents",
   "title_sidebar": "Contents",
   "toc_cell": false,
   "toc_position": {},
   "toc_section_display": true,
   "toc_window_display": false
  }
 },
 "nbformat": 4,
 "nbformat_minor": 4
}
